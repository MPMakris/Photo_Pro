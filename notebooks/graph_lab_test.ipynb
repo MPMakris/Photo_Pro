{
 "cells": [
  {
   "cell_type": "code",
   "execution_count": 1,
   "metadata": {
    "collapsed": false
   },
   "outputs": [],
   "source": [
    "import graphlab as gl\n",
    "import pandas as pd"
   ]
  },
  {
   "cell_type": "code",
   "execution_count": 2,
   "metadata": {
    "collapsed": true
   },
   "outputs": [],
   "source": [
    "target_pd = pd.read_csv('../data/modeling/LANDSCAPE/target_data_LANDSCAPE_4979.csv', delimiter='|')"
   ]
  },
  {
   "cell_type": "code",
   "execution_count": 3,
   "metadata": {
    "collapsed": false
   },
   "outputs": [
    {
     "data": {
      "text/plain": [
       "(4979, 12)"
      ]
     },
     "execution_count": 3,
     "metadata": {},
     "output_type": "execute_result"
    }
   ],
   "source": [
    "target_pd.shape"
   ]
  },
  {
   "cell_type": "code",
   "execution_count": 4,
   "metadata": {
    "collapsed": false
   },
   "outputs": [
    {
     "data": {
      "text/plain": [
       "Index([u'owner', u'id', u'user_is_pro', u'user_can_buy_pro',\n",
       "       u'user_total_views', u'image_ncomments', u'image_nfavs', u'image_nsets',\n",
       "       u'image_npools', u'image_views', u'image_ntags', u'image_tags'],\n",
       "      dtype='object')"
      ]
     },
     "execution_count": 4,
     "metadata": {},
     "output_type": "execute_result"
    }
   ],
   "source": [
    "target_pd.columns"
   ]
  },
  {
   "cell_type": "code",
   "execution_count": 5,
   "metadata": {
    "collapsed": false
   },
   "outputs": [],
   "source": [
    "target_pd.drop('image_tags', axis=1, inplace=True)"
   ]
  },
  {
   "cell_type": "code",
   "execution_count": 6,
   "metadata": {
    "collapsed": false
   },
   "outputs": [
    {
     "name": "stdout",
     "output_type": "stream",
     "text": [
      "This non-commercial license of GraphLab Create for academic use is assigned to mpmakris@gmail.com and will expire on June 30, 2017.\n"
     ]
    },
    {
     "name": "stderr",
     "output_type": "stream",
     "text": [
      "[INFO] graphlab.cython.cy_server: GraphLab Create v2.1 started. Logging: /tmp/graphlab_server_1469921461.log\n"
     ]
    }
   ],
   "source": [
    "target_gl = gl.SFrame(data=target_pd)"
   ]
  },
  {
   "cell_type": "code",
   "execution_count": 7,
   "metadata": {
    "collapsed": false
   },
   "outputs": [
    {
     "data": {
      "text/html": [
       "<pre>Read 344 images in 5.00636 secs\tspeed: 68.7125 file/sec</pre>"
      ],
      "text/plain": [
       "Read 344 images in 5.00636 secs\tspeed: 68.7125 file/sec"
      ]
     },
     "metadata": {},
     "output_type": "display_data"
    },
    {
     "data": {
      "text/html": [
       "<pre>Read 681 images in 10.0144 secs\tspeed: 67.2924 file/sec</pre>"
      ],
      "text/plain": [
       "Read 681 images in 10.0144 secs\tspeed: 67.2924 file/sec"
      ]
     },
     "metadata": {},
     "output_type": "display_data"
    },
    {
     "data": {
      "text/html": [
       "<pre>Read 1016 images in 15.0349 secs\tspeed: 66.7257 file/sec</pre>"
      ],
      "text/plain": [
       "Read 1016 images in 15.0349 secs\tspeed: 66.7257 file/sec"
      ]
     },
     "metadata": {},
     "output_type": "display_data"
    },
    {
     "data": {
      "text/html": [
       "<pre>Read 1360 images in 20.0398 secs\tspeed: 68.7328 file/sec</pre>"
      ],
      "text/plain": [
       "Read 1360 images in 20.0398 secs\tspeed: 68.7328 file/sec"
      ]
     },
     "metadata": {},
     "output_type": "display_data"
    },
    {
     "data": {
      "text/html": [
       "<pre>Read 1699 images in 25.0455 secs\tspeed: 67.7224 file/sec</pre>"
      ],
      "text/plain": [
       "Read 1699 images in 25.0455 secs\tspeed: 67.7224 file/sec"
      ]
     },
     "metadata": {},
     "output_type": "display_data"
    },
    {
     "data": {
      "text/html": [
       "<pre>Read 2038 images in 30.0535 secs\tspeed: 67.6925 file/sec</pre>"
      ],
      "text/plain": [
       "Read 2038 images in 30.0535 secs\tspeed: 67.6925 file/sec"
      ]
     },
     "metadata": {},
     "output_type": "display_data"
    },
    {
     "data": {
      "text/html": [
       "<pre>Read 2384 images in 35.0606 secs\tspeed: 69.1018 file/sec</pre>"
      ],
      "text/plain": [
       "Read 2384 images in 35.0606 secs\tspeed: 69.1018 file/sec"
      ]
     },
     "metadata": {},
     "output_type": "display_data"
    },
    {
     "data": {
      "text/html": [
       "<pre>Read 2733 images in 40.0748 secs\tspeed: 69.6016 file/sec</pre>"
      ],
      "text/plain": [
       "Read 2733 images in 40.0748 secs\tspeed: 69.6016 file/sec"
      ]
     },
     "metadata": {},
     "output_type": "display_data"
    },
    {
     "data": {
      "text/html": [
       "<pre>Read 3070 images in 45.0775 secs\tspeed: 67.3645 file/sec</pre>"
      ],
      "text/plain": [
       "Read 3070 images in 45.0775 secs\tspeed: 67.3645 file/sec"
      ]
     },
     "metadata": {},
     "output_type": "display_data"
    },
    {
     "data": {
      "text/html": [
       "<pre>Read 3412 images in 50.0829 secs\tspeed: 68.3253 file/sec</pre>"
      ],
      "text/plain": [
       "Read 3412 images in 50.0829 secs\tspeed: 68.3253 file/sec"
      ]
     },
     "metadata": {},
     "output_type": "display_data"
    },
    {
     "data": {
      "text/html": [
       "<pre>Read 3758 images in 55.0848 secs\tspeed: 69.1736 file/sec</pre>"
      ],
      "text/plain": [
       "Read 3758 images in 55.0848 secs\tspeed: 69.1736 file/sec"
      ]
     },
     "metadata": {},
     "output_type": "display_data"
    },
    {
     "data": {
      "text/html": [
       "<pre>Read 4094 images in 60.0896 secs\tspeed: 67.1354 file/sec</pre>"
      ],
      "text/plain": [
       "Read 4094 images in 60.0896 secs\tspeed: 67.1354 file/sec"
      ]
     },
     "metadata": {},
     "output_type": "display_data"
    },
    {
     "data": {
      "text/html": [
       "<pre>Read 4437 images in 65.0944 secs\tspeed: 68.5346 file/sec</pre>"
      ],
      "text/plain": [
       "Read 4437 images in 65.0944 secs\tspeed: 68.5346 file/sec"
      ]
     },
     "metadata": {},
     "output_type": "display_data"
    },
    {
     "data": {
      "text/html": [
       "<pre>Read 4776 images in 70.095 secs\tspeed: 67.7921 file/sec</pre>"
      ],
      "text/plain": [
       "Read 4776 images in 70.095 secs\tspeed: 67.7921 file/sec"
      ]
     },
     "metadata": {},
     "output_type": "display_data"
    },
    {
     "data": {
      "text/html": [
       "<pre>Read 5123 images in 75.1046 secs\tspeed: 69.2673 file/sec</pre>"
      ],
      "text/plain": [
       "Read 5123 images in 75.1046 secs\tspeed: 69.2673 file/sec"
      ]
     },
     "metadata": {},
     "output_type": "display_data"
    },
    {
     "data": {
      "text/html": [
       "<pre>Read 5469 images in 80.1046 secs\tspeed: 69.1998 file/sec</pre>"
      ],
      "text/plain": [
       "Read 5469 images in 80.1046 secs\tspeed: 69.1998 file/sec"
      ]
     },
     "metadata": {},
     "output_type": "display_data"
    },
    {
     "data": {
      "text/html": [
       "<pre>Read 5814 images in 85.1147 secs\tspeed: 68.861 file/sec</pre>"
      ],
      "text/plain": [
       "Read 5814 images in 85.1147 secs\tspeed: 68.861 file/sec"
      ]
     },
     "metadata": {},
     "output_type": "display_data"
    },
    {
     "data": {
      "text/html": [
       "<pre>Read 6150 images in 90.1175 secs\tspeed: 67.1617 file/sec</pre>"
      ],
      "text/plain": [
       "Read 6150 images in 90.1175 secs\tspeed: 67.1617 file/sec"
      ]
     },
     "metadata": {},
     "output_type": "display_data"
    },
    {
     "data": {
      "text/html": [
       "<pre>Read 6491 images in 95.1257 secs\tspeed: 68.0886 file/sec</pre>"
      ],
      "text/plain": [
       "Read 6491 images in 95.1257 secs\tspeed: 68.0886 file/sec"
      ]
     },
     "metadata": {},
     "output_type": "display_data"
    },
    {
     "data": {
      "text/html": [
       "<pre>Read 6840 images in 100.154 secs\tspeed: 69.4095 file/sec</pre>"
      ],
      "text/plain": [
       "Read 6840 images in 100.154 secs\tspeed: 69.4095 file/sec"
      ]
     },
     "metadata": {},
     "output_type": "display_data"
    },
    {
     "data": {
      "text/html": [
       "<pre>Read 7187 images in 105.16 secs\tspeed: 69.319 file/sec</pre>"
      ],
      "text/plain": [
       "Read 7187 images in 105.16 secs\tspeed: 69.319 file/sec"
      ]
     },
     "metadata": {},
     "output_type": "display_data"
    },
    {
     "data": {
      "text/html": [
       "<pre>Read 7535 images in 110.177 secs\tspeed: 69.3607 file/sec</pre>"
      ],
      "text/plain": [
       "Read 7535 images in 110.177 secs\tspeed: 69.3607 file/sec"
      ]
     },
     "metadata": {},
     "output_type": "display_data"
    },
    {
     "data": {
      "text/html": [
       "<pre>Read 7881 images in 115.182 secs\tspeed: 69.1262 file/sec</pre>"
      ],
      "text/plain": [
       "Read 7881 images in 115.182 secs\tspeed: 69.1262 file/sec"
      ]
     },
     "metadata": {},
     "output_type": "display_data"
    },
    {
     "data": {
      "text/html": [
       "<pre>Read 8224 images in 120.211 secs\tspeed: 68.2032 file/sec</pre>"
      ],
      "text/plain": [
       "Read 8224 images in 120.211 secs\tspeed: 68.2032 file/sec"
      ]
     },
     "metadata": {},
     "output_type": "display_data"
    },
    {
     "data": {
      "text/html": [
       "<pre>Read 8568 images in 125.234 secs\tspeed: 68.4866 file/sec</pre>"
      ],
      "text/plain": [
       "Read 8568 images in 125.234 secs\tspeed: 68.4866 file/sec"
      ]
     },
     "metadata": {},
     "output_type": "display_data"
    },
    {
     "data": {
      "text/html": [
       "<pre>Read 8915 images in 130.274 secs\tspeed: 68.8539 file/sec</pre>"
      ],
      "text/plain": [
       "Read 8915 images in 130.274 secs\tspeed: 68.8539 file/sec"
      ]
     },
     "metadata": {},
     "output_type": "display_data"
    },
    {
     "data": {
      "text/html": [
       "<pre>Read 9254 images in 135.283 secs\tspeed: 67.6714 file/sec</pre>"
      ],
      "text/plain": [
       "Read 9254 images in 135.283 secs\tspeed: 67.6714 file/sec"
      ]
     },
     "metadata": {},
     "output_type": "display_data"
    },
    {
     "data": {
      "text/html": [
       "<pre>Read 9596 images in 140.289 secs\tspeed: 68.33 file/sec</pre>"
      ],
      "text/plain": [
       "Read 9596 images in 140.289 secs\tspeed: 68.33 file/sec"
      ]
     },
     "metadata": {},
     "output_type": "display_data"
    },
    {
     "data": {
      "text/html": [
       "<pre>Read 9948 images in 145.302 secs\tspeed: 70.2167 file/sec</pre>"
      ],
      "text/plain": [
       "Read 9948 images in 145.302 secs\tspeed: 70.2167 file/sec"
      ]
     },
     "metadata": {},
     "output_type": "display_data"
    },
    {
     "data": {
      "text/html": [
       "<pre>Read 10298 images in 150.311 secs\tspeed: 69.8683 file/sec</pre>"
      ],
      "text/plain": [
       "Read 10298 images in 150.311 secs\tspeed: 69.8683 file/sec"
      ]
     },
     "metadata": {},
     "output_type": "display_data"
    },
    {
     "data": {
      "text/html": [
       "<pre>Read 10638 images in 155.317 secs\tspeed: 67.9215 file/sec</pre>"
      ],
      "text/plain": [
       "Read 10638 images in 155.317 secs\tspeed: 67.9215 file/sec"
      ]
     },
     "metadata": {},
     "output_type": "display_data"
    },
    {
     "data": {
      "text/html": [
       "<pre>Read 10978 images in 160.328 secs\tspeed: 67.8515 file/sec</pre>"
      ],
      "text/plain": [
       "Read 10978 images in 160.328 secs\tspeed: 67.8515 file/sec"
      ]
     },
     "metadata": {},
     "output_type": "display_data"
    },
    {
     "data": {
      "text/html": [
       "<pre>Read 11317 images in 165.334 secs\tspeed: 67.7151 file/sec</pre>"
      ],
      "text/plain": [
       "Read 11317 images in 165.334 secs\tspeed: 67.7151 file/sec"
      ]
     },
     "metadata": {},
     "output_type": "display_data"
    },
    {
     "data": {
      "text/html": [
       "<pre>Read 11666 images in 170.337 secs\tspeed: 69.7532 file/sec</pre>"
      ],
      "text/plain": [
       "Read 11666 images in 170.337 secs\tspeed: 69.7532 file/sec"
      ]
     },
     "metadata": {},
     "output_type": "display_data"
    },
    {
     "data": {
      "text/html": [
       "<pre>Read 12007 images in 175.346 secs\tspeed: 68.085 file/sec</pre>"
      ],
      "text/plain": [
       "Read 12007 images in 175.346 secs\tspeed: 68.085 file/sec"
      ]
     },
     "metadata": {},
     "output_type": "display_data"
    },
    {
     "data": {
      "text/html": [
       "<pre>Read 12340 images in 180.358 secs\tspeed: 66.4343 file/sec</pre>"
      ],
      "text/plain": [
       "Read 12340 images in 180.358 secs\tspeed: 66.4343 file/sec"
      ]
     },
     "metadata": {},
     "output_type": "display_data"
    },
    {
     "data": {
      "text/html": [
       "<pre>Read 12660 images in 185.363 secs\tspeed: 63.9336 file/sec</pre>"
      ],
      "text/plain": [
       "Read 12660 images in 185.363 secs\tspeed: 63.9336 file/sec"
      ]
     },
     "metadata": {},
     "output_type": "display_data"
    },
    {
     "data": {
      "text/html": [
       "<pre>Read 12976 images in 190.368 secs\tspeed: 63.14 file/sec</pre>"
      ],
      "text/plain": [
       "Read 12976 images in 190.368 secs\tspeed: 63.14 file/sec"
      ]
     },
     "metadata": {},
     "output_type": "display_data"
    },
    {
     "data": {
      "text/html": [
       "<pre>Read 13325 images in 195.375 secs\tspeed: 69.706 file/sec</pre>"
      ],
      "text/plain": [
       "Read 13325 images in 195.375 secs\tspeed: 69.706 file/sec"
      ]
     },
     "metadata": {},
     "output_type": "display_data"
    },
    {
     "data": {
      "text/html": [
       "<pre>Read 13662 images in 200.377 secs\tspeed: 67.3655 file/sec</pre>"
      ],
      "text/plain": [
       "Read 13662 images in 200.377 secs\tspeed: 67.3655 file/sec"
      ]
     },
     "metadata": {},
     "output_type": "display_data"
    },
    {
     "data": {
      "text/html": [
       "<pre>Read 14004 images in 205.378 secs\tspeed: 68.3923 file/sec</pre>"
      ],
      "text/plain": [
       "Read 14004 images in 205.378 secs\tspeed: 68.3923 file/sec"
      ]
     },
     "metadata": {},
     "output_type": "display_data"
    },
    {
     "data": {
      "text/html": [
       "<pre>Read 14355 images in 210.383 secs\tspeed: 70.1332 file/sec</pre>"
      ],
      "text/plain": [
       "Read 14355 images in 210.383 secs\tspeed: 70.1332 file/sec"
      ]
     },
     "metadata": {},
     "output_type": "display_data"
    },
    {
     "data": {
      "text/html": [
       "<pre>Read 14699 images in 215.384 secs\tspeed: 68.7859 file/sec</pre>"
      ],
      "text/plain": [
       "Read 14699 images in 215.384 secs\tspeed: 68.7859 file/sec"
      ]
     },
     "metadata": {},
     "output_type": "display_data"
    },
    {
     "data": {
      "text/html": [
       "<pre>Read 15040 images in 220.389 secs\tspeed: 68.1298 file/sec</pre>"
      ],
      "text/plain": [
       "Read 15040 images in 220.389 secs\tspeed: 68.1298 file/sec"
      ]
     },
     "metadata": {},
     "output_type": "display_data"
    },
    {
     "data": {
      "text/html": [
       "<pre>Read 15379 images in 225.404 secs\tspeed: 67.6022 file/sec</pre>"
      ],
      "text/plain": [
       "Read 15379 images in 225.404 secs\tspeed: 67.6022 file/sec"
      ]
     },
     "metadata": {},
     "output_type": "display_data"
    },
    {
     "data": {
      "text/html": [
       "<pre>Read 15720 images in 230.421 secs\tspeed: 67.9611 file/sec</pre>"
      ],
      "text/plain": [
       "Read 15720 images in 230.421 secs\tspeed: 67.9611 file/sec"
      ]
     },
     "metadata": {},
     "output_type": "display_data"
    },
    {
     "data": {
      "text/html": [
       "<pre>Read 16064 images in 235.435 secs\tspeed: 68.6051 file/sec</pre>"
      ],
      "text/plain": [
       "Read 16064 images in 235.435 secs\tspeed: 68.6051 file/sec"
      ]
     },
     "metadata": {},
     "output_type": "display_data"
    },
    {
     "data": {
      "text/html": [
       "<pre>Read 16403 images in 240.436 secs\tspeed: 67.7928 file/sec</pre>"
      ],
      "text/plain": [
       "Read 16403 images in 240.436 secs\tspeed: 67.7928 file/sec"
      ]
     },
     "metadata": {},
     "output_type": "display_data"
    },
    {
     "data": {
      "text/html": [
       "<pre>Read 16736 images in 245.442 secs\tspeed: 66.519 file/sec</pre>"
      ],
      "text/plain": [
       "Read 16736 images in 245.442 secs\tspeed: 66.519 file/sec"
      ]
     },
     "metadata": {},
     "output_type": "display_data"
    },
    {
     "data": {
      "text/html": [
       "<pre>Read 17072 images in 250.457 secs\tspeed: 67.0026 file/sec</pre>"
      ],
      "text/plain": [
       "Read 17072 images in 250.457 secs\tspeed: 67.0026 file/sec"
      ]
     },
     "metadata": {},
     "output_type": "display_data"
    },
    {
     "data": {
      "text/html": [
       "<pre>Read 17408 images in 255.468 secs\tspeed: 67.0528 file/sec</pre>"
      ],
      "text/plain": [
       "Read 17408 images in 255.468 secs\tspeed: 67.0528 file/sec"
      ]
     },
     "metadata": {},
     "output_type": "display_data"
    },
    {
     "data": {
      "text/html": [
       "<pre>Read 17747 images in 260.473 secs\tspeed: 67.7344 file/sec</pre>"
      ],
      "text/plain": [
       "Read 17747 images in 260.473 secs\tspeed: 67.7344 file/sec"
      ]
     },
     "metadata": {},
     "output_type": "display_data"
    },
    {
     "data": {
      "text/html": [
       "<pre>Read 18082 images in 265.476 secs\tspeed: 66.9507 file/sec</pre>"
      ],
      "text/plain": [
       "Read 18082 images in 265.476 secs\tspeed: 66.9507 file/sec"
      ]
     },
     "metadata": {},
     "output_type": "display_data"
    },
    {
     "data": {
      "text/html": [
       "<pre>Read 18416 images in 270.478 secs\tspeed: 66.7777 file/sec</pre>"
      ],
      "text/plain": [
       "Read 18416 images in 270.478 secs\tspeed: 66.7777 file/sec"
      ]
     },
     "metadata": {},
     "output_type": "display_data"
    },
    {
     "data": {
      "text/html": [
       "<pre>Read 18752 images in 275.49 secs\tspeed: 67.0343 file/sec</pre>"
      ],
      "text/plain": [
       "Read 18752 images in 275.49 secs\tspeed: 67.0343 file/sec"
      ]
     },
     "metadata": {},
     "output_type": "display_data"
    },
    {
     "data": {
      "text/html": [
       "<pre>Read 19082 images in 280.492 secs\tspeed: 65.9729 file/sec</pre>"
      ],
      "text/plain": [
       "Read 19082 images in 280.492 secs\tspeed: 65.9729 file/sec"
      ]
     },
     "metadata": {},
     "output_type": "display_data"
    },
    {
     "data": {
      "text/html": [
       "<pre>Read 19424 images in 285.5 secs\tspeed: 68.2934 file/sec</pre>"
      ],
      "text/plain": [
       "Read 19424 images in 285.5 secs\tspeed: 68.2934 file/sec"
      ]
     },
     "metadata": {},
     "output_type": "display_data"
    },
    {
     "data": {
      "text/html": [
       "<pre>Read 19750 images in 290.506 secs\tspeed: 65.1273 file/sec</pre>"
      ],
      "text/plain": [
       "Read 19750 images in 290.506 secs\tspeed: 65.1273 file/sec"
      ]
     },
     "metadata": {},
     "output_type": "display_data"
    },
    {
     "data": {
      "text/html": [
       "<pre>Read 20080 images in 295.514 secs\tspeed: 65.8898 file/sec</pre>"
      ],
      "text/plain": [
       "Read 20080 images in 295.514 secs\tspeed: 65.8898 file/sec"
      ]
     },
     "metadata": {},
     "output_type": "display_data"
    },
    {
     "data": {
      "text/html": [
       "<pre>Read 20417 images in 300.524 secs\tspeed: 67.2727 file/sec</pre>"
      ],
      "text/plain": [
       "Read 20417 images in 300.524 secs\tspeed: 67.2727 file/sec"
      ]
     },
     "metadata": {},
     "output_type": "display_data"
    },
    {
     "data": {
      "text/html": [
       "<pre>Read 20768 images in 305.533 secs\tspeed: 70.0694 file/sec</pre>"
      ],
      "text/plain": [
       "Read 20768 images in 305.533 secs\tspeed: 70.0694 file/sec"
      ]
     },
     "metadata": {},
     "output_type": "display_data"
    },
    {
     "data": {
      "text/html": [
       "<pre>Read 21112 images in 310.567 secs\tspeed: 68.3277 file/sec</pre>"
      ],
      "text/plain": [
       "Read 21112 images in 310.567 secs\tspeed: 68.3277 file/sec"
      ]
     },
     "metadata": {},
     "output_type": "display_data"
    },
    {
     "data": {
      "text/html": [
       "<pre>Read 21455 images in 315.578 secs\tspeed: 68.4594 file/sec</pre>"
      ],
      "text/plain": [
       "Read 21455 images in 315.578 secs\tspeed: 68.4594 file/sec"
      ]
     },
     "metadata": {},
     "output_type": "display_data"
    },
    {
     "data": {
      "text/html": [
       "<pre>Read 21792 images in 320.599 secs\tspeed: 67.1143 file/sec</pre>"
      ],
      "text/plain": [
       "Read 21792 images in 320.599 secs\tspeed: 67.1143 file/sec"
      ]
     },
     "metadata": {},
     "output_type": "display_data"
    },
    {
     "data": {
      "text/html": [
       "<pre>Read 22140 images in 325.608 secs\tspeed: 69.4818 file/sec</pre>"
      ],
      "text/plain": [
       "Read 22140 images in 325.608 secs\tspeed: 69.4818 file/sec"
      ]
     },
     "metadata": {},
     "output_type": "display_data"
    },
    {
     "data": {
      "text/html": [
       "<pre>Read 22480 images in 330.625 secs\tspeed: 67.7586 file/sec</pre>"
      ],
      "text/plain": [
       "Read 22480 images in 330.625 secs\tspeed: 67.7586 file/sec"
      ]
     },
     "metadata": {},
     "output_type": "display_data"
    },
    {
     "data": {
      "text/html": [
       "<pre>Read 22803 images in 335.636 secs\tspeed: 64.4566 file/sec</pre>"
      ],
      "text/plain": [
       "Read 22803 images in 335.636 secs\tspeed: 64.4566 file/sec"
      ]
     },
     "metadata": {},
     "output_type": "display_data"
    },
    {
     "data": {
      "text/html": [
       "<pre>Read 23143 images in 340.643 secs\tspeed: 67.9109 file/sec</pre>"
      ],
      "text/plain": [
       "Read 23143 images in 340.643 secs\tspeed: 67.9109 file/sec"
      ]
     },
     "metadata": {},
     "output_type": "display_data"
    },
    {
     "data": {
      "text/html": [
       "<pre>Read 23484 images in 345.651 secs\tspeed: 68.0908 file/sec</pre>"
      ],
      "text/plain": [
       "Read 23484 images in 345.651 secs\tspeed: 68.0908 file/sec"
      ]
     },
     "metadata": {},
     "output_type": "display_data"
    },
    {
     "data": {
      "text/html": [
       "<pre>Read 23826 images in 350.655 secs\tspeed: 68.3438 file/sec</pre>"
      ],
      "text/plain": [
       "Read 23826 images in 350.655 secs\tspeed: 68.3438 file/sec"
      ]
     },
     "metadata": {},
     "output_type": "display_data"
    },
    {
     "data": {
      "text/html": [
       "<pre>Read 24168 images in 355.676 secs\tspeed: 68.118 file/sec</pre>"
      ],
      "text/plain": [
       "Read 24168 images in 355.676 secs\tspeed: 68.118 file/sec"
      ]
     },
     "metadata": {},
     "output_type": "display_data"
    },
    {
     "data": {
      "text/html": [
       "<pre>Read 24512 images in 360.711 secs\tspeed: 68.3138 file/sec</pre>"
      ],
      "text/plain": [
       "Read 24512 images in 360.711 secs\tspeed: 68.3138 file/sec"
      ]
     },
     "metadata": {},
     "output_type": "display_data"
    },
    {
     "data": {
      "text/html": [
       "<pre>Read 24855 images in 365.727 secs\tspeed: 68.3918 file/sec</pre>"
      ],
      "text/plain": [
       "Read 24855 images in 365.727 secs\tspeed: 68.3918 file/sec"
      ]
     },
     "metadata": {},
     "output_type": "display_data"
    },
    {
     "data": {
      "text/html": [
       "<pre>Read 25201 images in 370.735 secs\tspeed: 69.0824 file/sec</pre>"
      ],
      "text/plain": [
       "Read 25201 images in 370.735 secs\tspeed: 69.0824 file/sec"
      ]
     },
     "metadata": {},
     "output_type": "display_data"
    },
    {
     "data": {
      "text/html": [
       "<pre>Read 25569 images in 375.736 secs\tspeed: 73.5927 file/sec</pre>"
      ],
      "text/plain": [
       "Read 25569 images in 375.736 secs\tspeed: 73.5927 file/sec"
      ]
     },
     "metadata": {},
     "output_type": "display_data"
    },
    {
     "data": {
      "text/html": [
       "<pre>Read 25930 images in 380.74 secs\tspeed: 72.1425 file/sec</pre>"
      ],
      "text/plain": [
       "Read 25930 images in 380.74 secs\tspeed: 72.1425 file/sec"
      ]
     },
     "metadata": {},
     "output_type": "display_data"
    },
    {
     "data": {
      "text/html": [
       "<pre>Read 26307 images in 385.751 secs\tspeed: 75.2262 file/sec</pre>"
      ],
      "text/plain": [
       "Read 26307 images in 385.751 secs\tspeed: 75.2262 file/sec"
      ]
     },
     "metadata": {},
     "output_type": "display_data"
    },
    {
     "data": {
      "text/html": [
       "<pre>Read 26635 images in 390.762 secs\tspeed: 65.4618 file/sec</pre>"
      ],
      "text/plain": [
       "Read 26635 images in 390.762 secs\tspeed: 65.4618 file/sec"
      ]
     },
     "metadata": {},
     "output_type": "display_data"
    },
    {
     "data": {
      "text/html": [
       "<pre>Read 26981 images in 395.766 secs\tspeed: 69.1419 file/sec</pre>"
      ],
      "text/plain": [
       "Read 26981 images in 395.766 secs\tspeed: 69.1419 file/sec"
      ]
     },
     "metadata": {},
     "output_type": "display_data"
    },
    {
     "data": {
      "text/html": [
       "<pre>Read 27321 images in 400.772 secs\tspeed: 67.9184 file/sec</pre>"
      ],
      "text/plain": [
       "Read 27321 images in 400.772 secs\tspeed: 67.9184 file/sec"
      ]
     },
     "metadata": {},
     "output_type": "display_data"
    },
    {
     "data": {
      "text/html": [
       "<pre>Read 27658 images in 405.776 secs\tspeed: 67.3508 file/sec</pre>"
      ],
      "text/plain": [
       "Read 27658 images in 405.776 secs\tspeed: 67.3508 file/sec"
      ]
     },
     "metadata": {},
     "output_type": "display_data"
    },
    {
     "data": {
      "text/html": [
       "<pre>Read 27999 images in 410.785 secs\tspeed: 68.0758 file/sec</pre>"
      ],
      "text/plain": [
       "Read 27999 images in 410.785 secs\tspeed: 68.0758 file/sec"
      ]
     },
     "metadata": {},
     "output_type": "display_data"
    },
    {
     "data": {
      "text/html": [
       "<pre>Read 28342 images in 415.796 secs\tspeed: 68.4479 file/sec</pre>"
      ],
      "text/plain": [
       "Read 28342 images in 415.796 secs\tspeed: 68.4479 file/sec"
      ]
     },
     "metadata": {},
     "output_type": "display_data"
    },
    {
     "data": {
      "text/html": [
       "<pre>Read 28680 images in 420.82 secs\tspeed: 67.2744 file/sec</pre>"
      ],
      "text/plain": [
       "Read 28680 images in 420.82 secs\tspeed: 67.2744 file/sec"
      ]
     },
     "metadata": {},
     "output_type": "display_data"
    },
    {
     "data": {
      "text/html": [
       "<pre>Read 29017 images in 425.829 secs\tspeed: 67.2756 file/sec</pre>"
      ],
      "text/plain": [
       "Read 29017 images in 425.829 secs\tspeed: 67.2756 file/sec"
      ]
     },
     "metadata": {},
     "output_type": "display_data"
    },
    {
     "data": {
      "text/html": [
       "<pre>Read 29370 images in 430.832 secs\tspeed: 70.5646 file/sec</pre>"
      ],
      "text/plain": [
       "Read 29370 images in 430.832 secs\tspeed: 70.5646 file/sec"
      ]
     },
     "metadata": {},
     "output_type": "display_data"
    },
    {
     "data": {
      "text/html": [
       "<pre>Read 29712 images in 435.841 secs\tspeed: 68.268 file/sec</pre>"
      ],
      "text/plain": [
       "Read 29712 images in 435.841 secs\tspeed: 68.268 file/sec"
      ]
     },
     "metadata": {},
     "output_type": "display_data"
    },
    {
     "data": {
      "text/html": [
       "<pre>Read 30048 images in 440.848 secs\tspeed: 67.1145 file/sec</pre>"
      ],
      "text/plain": [
       "Read 30048 images in 440.848 secs\tspeed: 67.1145 file/sec"
      ]
     },
     "metadata": {},
     "output_type": "display_data"
    },
    {
     "data": {
      "text/html": [
       "<pre>Read 30384 images in 445.849 secs\tspeed: 67.1849 file/sec</pre>"
      ],
      "text/plain": [
       "Read 30384 images in 445.849 secs\tspeed: 67.1849 file/sec"
      ]
     },
     "metadata": {},
     "output_type": "display_data"
    },
    {
     "data": {
      "text/html": [
       "<pre>Read 30715 images in 450.852 secs\tspeed: 66.1616 file/sec</pre>"
      ],
      "text/plain": [
       "Read 30715 images in 450.852 secs\tspeed: 66.1616 file/sec"
      ]
     },
     "metadata": {},
     "output_type": "display_data"
    },
    {
     "data": {
      "text/html": [
       "<pre>Read 31043 images in 455.861 secs\tspeed: 65.4758 file/sec</pre>"
      ],
      "text/plain": [
       "Read 31043 images in 455.861 secs\tspeed: 65.4758 file/sec"
      ]
     },
     "metadata": {},
     "output_type": "display_data"
    },
    {
     "data": {
      "text/html": [
       "<pre>Read 31379 images in 460.866 secs\tspeed: 67.1352 file/sec</pre>"
      ],
      "text/plain": [
       "Read 31379 images in 460.866 secs\tspeed: 67.1352 file/sec"
      ]
     },
     "metadata": {},
     "output_type": "display_data"
    },
    {
     "data": {
      "text/html": [
       "<pre>Read 31723 images in 465.876 secs\tspeed: 68.6686 file/sec</pre>"
      ],
      "text/plain": [
       "Read 31723 images in 465.876 secs\tspeed: 68.6686 file/sec"
      ]
     },
     "metadata": {},
     "output_type": "display_data"
    },
    {
     "data": {
      "text/html": [
       "<pre>Read 32060 images in 470.884 secs\tspeed: 67.2945 file/sec</pre>"
      ],
      "text/plain": [
       "Read 32060 images in 470.884 secs\tspeed: 67.2945 file/sec"
      ]
     },
     "metadata": {},
     "output_type": "display_data"
    },
    {
     "data": {
      "text/html": [
       "<pre>Read 32395 images in 475.884 secs\tspeed: 66.9999 file/sec</pre>"
      ],
      "text/plain": [
       "Read 32395 images in 475.884 secs\tspeed: 66.9999 file/sec"
      ]
     },
     "metadata": {},
     "output_type": "display_data"
    },
    {
     "data": {
      "text/html": [
       "<pre>Read 32728 images in 480.899 secs\tspeed: 66.3916 file/sec</pre>"
      ],
      "text/plain": [
       "Read 32728 images in 480.899 secs\tspeed: 66.3916 file/sec"
      ]
     },
     "metadata": {},
     "output_type": "display_data"
    },
    {
     "data": {
      "text/html": [
       "<pre>Read 33072 images in 485.904 secs\tspeed: 68.7355 file/sec</pre>"
      ],
      "text/plain": [
       "Read 33072 images in 485.904 secs\tspeed: 68.7355 file/sec"
      ]
     },
     "metadata": {},
     "output_type": "display_data"
    },
    {
     "data": {
      "text/html": [
       "<pre>Read 33417 images in 490.908 secs\tspeed: 68.9402 file/sec</pre>"
      ],
      "text/plain": [
       "Read 33417 images in 490.908 secs\tspeed: 68.9402 file/sec"
      ]
     },
     "metadata": {},
     "output_type": "display_data"
    },
    {
     "data": {
      "text/html": [
       "<pre>Read 33756 images in 495.913 secs\tspeed: 67.7353 file/sec</pre>"
      ],
      "text/plain": [
       "Read 33756 images in 495.913 secs\tspeed: 67.7353 file/sec"
      ]
     },
     "metadata": {},
     "output_type": "display_data"
    },
    {
     "data": {
      "text/html": [
       "<pre>Read 34091 images in 500.914 secs\tspeed: 66.9847 file/sec</pre>"
      ],
      "text/plain": [
       "Read 34091 images in 500.914 secs\tspeed: 66.9847 file/sec"
      ]
     },
     "metadata": {},
     "output_type": "display_data"
    },
    {
     "data": {
      "text/html": [
       "<pre>Read 34435 images in 505.914 secs\tspeed: 68.799 file/sec</pre>"
      ],
      "text/plain": [
       "Read 34435 images in 505.914 secs\tspeed: 68.799 file/sec"
      ]
     },
     "metadata": {},
     "output_type": "display_data"
    },
    {
     "data": {
      "text/html": [
       "<pre>Read 34774 images in 510.916 secs\tspeed: 67.7757 file/sec</pre>"
      ],
      "text/plain": [
       "Read 34774 images in 510.916 secs\tspeed: 67.7757 file/sec"
      ]
     },
     "metadata": {},
     "output_type": "display_data"
    },
    {
     "data": {
      "text/html": [
       "<pre>Read 35101 images in 515.925 secs\tspeed: 65.2845 file/sec</pre>"
      ],
      "text/plain": [
       "Read 35101 images in 515.925 secs\tspeed: 65.2845 file/sec"
      ]
     },
     "metadata": {},
     "output_type": "display_data"
    },
    {
     "data": {
      "text/html": [
       "<pre>Read 35432 images in 520.938 secs\tspeed: 66.0246 file/sec</pre>"
      ],
      "text/plain": [
       "Read 35432 images in 520.938 secs\tspeed: 66.0246 file/sec"
      ]
     },
     "metadata": {},
     "output_type": "display_data"
    },
    {
     "data": {
      "text/html": [
       "<pre>Read 35775 images in 525.939 secs\tspeed: 68.588 file/sec</pre>"
      ],
      "text/plain": [
       "Read 35775 images in 525.939 secs\tspeed: 68.588 file/sec"
      ]
     },
     "metadata": {},
     "output_type": "display_data"
    },
    {
     "data": {
      "text/html": [
       "<pre>Read 36118 images in 530.959 secs\tspeed: 68.3264 file/sec</pre>"
      ],
      "text/plain": [
       "Read 36118 images in 530.959 secs\tspeed: 68.3264 file/sec"
      ]
     },
     "metadata": {},
     "output_type": "display_data"
    },
    {
     "data": {
      "text/html": [
       "<pre>Read 36476 images in 535.966 secs\tspeed: 71.5069 file/sec</pre>"
      ],
      "text/plain": [
       "Read 36476 images in 535.966 secs\tspeed: 71.5069 file/sec"
      ]
     },
     "metadata": {},
     "output_type": "display_data"
    },
    {
     "data": {
      "text/html": [
       "<pre>Read 36818 images in 540.975 secs\tspeed: 68.2785 file/sec</pre>"
      ],
      "text/plain": [
       "Read 36818 images in 540.975 secs\tspeed: 68.2785 file/sec"
      ]
     },
     "metadata": {},
     "output_type": "display_data"
    },
    {
     "data": {
      "text/html": [
       "<pre>Read 37157 images in 545.983 secs\tspeed: 67.6907 file/sec</pre>"
      ],
      "text/plain": [
       "Read 37157 images in 545.983 secs\tspeed: 67.6907 file/sec"
      ]
     },
     "metadata": {},
     "output_type": "display_data"
    },
    {
     "data": {
      "text/html": [
       "<pre>Read 37487 images in 550.99 secs\tspeed: 65.9001 file/sec</pre>"
      ],
      "text/plain": [
       "Read 37487 images in 550.99 secs\tspeed: 65.9001 file/sec"
      ]
     },
     "metadata": {},
     "output_type": "display_data"
    },
    {
     "data": {
      "text/html": [
       "<pre>Read 37826 images in 555.997 secs\tspeed: 67.7022 file/sec</pre>"
      ],
      "text/plain": [
       "Read 37826 images in 555.997 secs\tspeed: 67.7022 file/sec"
      ]
     },
     "metadata": {},
     "output_type": "display_data"
    },
    {
     "data": {
      "text/html": [
       "<pre>Read 38163 images in 561.012 secs\tspeed: 67.1994 file/sec</pre>"
      ],
      "text/plain": [
       "Read 38163 images in 561.012 secs\tspeed: 67.1994 file/sec"
      ]
     },
     "metadata": {},
     "output_type": "display_data"
    },
    {
     "data": {
      "text/html": [
       "<pre>Read 38504 images in 566.037 secs\tspeed: 67.8596 file/sec</pre>"
      ],
      "text/plain": [
       "Read 38504 images in 566.037 secs\tspeed: 67.8596 file/sec"
      ]
     },
     "metadata": {},
     "output_type": "display_data"
    },
    {
     "data": {
      "text/html": [
       "<pre>Read 38845 images in 571.048 secs\tspeed: 68.0611 file/sec</pre>"
      ],
      "text/plain": [
       "Read 38845 images in 571.048 secs\tspeed: 68.0611 file/sec"
      ]
     },
     "metadata": {},
     "output_type": "display_data"
    },
    {
     "data": {
      "text/html": [
       "<pre>Read 39186 images in 576.055 secs\tspeed: 68.0999 file/sec</pre>"
      ],
      "text/plain": [
       "Read 39186 images in 576.055 secs\tspeed: 68.0999 file/sec"
      ]
     },
     "metadata": {},
     "output_type": "display_data"
    },
    {
     "data": {
      "text/html": [
       "<pre>Read 39520 images in 581.064 secs\tspeed: 66.6737 file/sec</pre>"
      ],
      "text/plain": [
       "Read 39520 images in 581.064 secs\tspeed: 66.6737 file/sec"
      ]
     },
     "metadata": {},
     "output_type": "display_data"
    },
    {
     "data": {
      "text/html": [
       "<pre>Read 39864 images in 586.087 secs\tspeed: 68.486 file/sec</pre>"
      ],
      "text/plain": [
       "Read 39864 images in 586.087 secs\tspeed: 68.486 file/sec"
      ]
     },
     "metadata": {},
     "output_type": "display_data"
    },
    {
     "data": {
      "text/html": [
       "<pre>Read 40209 images in 591.089 secs\tspeed: 68.9703 file/sec</pre>"
      ],
      "text/plain": [
       "Read 40209 images in 591.089 secs\tspeed: 68.9703 file/sec"
      ]
     },
     "metadata": {},
     "output_type": "display_data"
    },
    {
     "data": {
      "text/html": [
       "<pre>Read 40551 images in 596.094 secs\tspeed: 68.3404 file/sec</pre>"
      ],
      "text/plain": [
       "Read 40551 images in 596.094 secs\tspeed: 68.3404 file/sec"
      ]
     },
     "metadata": {},
     "output_type": "display_data"
    },
    {
     "data": {
      "text/html": [
       "<pre>Read 40891 images in 601.095 secs\tspeed: 67.986 file/sec</pre>"
      ],
      "text/plain": [
       "Read 40891 images in 601.095 secs\tspeed: 67.986 file/sec"
      ]
     },
     "metadata": {},
     "output_type": "display_data"
    },
    {
     "data": {
      "text/html": [
       "<pre>Read 41232 images in 606.119 secs\tspeed: 67.8688 file/sec</pre>"
      ],
      "text/plain": [
       "Read 41232 images in 606.119 secs\tspeed: 67.8688 file/sec"
      ]
     },
     "metadata": {},
     "output_type": "display_data"
    },
    {
     "data": {
      "text/html": [
       "<pre>Read 41563 images in 611.14 secs\tspeed: 65.9266 file/sec</pre>"
      ],
      "text/plain": [
       "Read 41563 images in 611.14 secs\tspeed: 65.9266 file/sec"
      ]
     },
     "metadata": {},
     "output_type": "display_data"
    },
    {
     "data": {
      "text/html": [
       "<pre>Read 41899 images in 616.148 secs\tspeed: 67.0978 file/sec</pre>"
      ],
      "text/plain": [
       "Read 41899 images in 616.148 secs\tspeed: 67.0978 file/sec"
      ]
     },
     "metadata": {},
     "output_type": "display_data"
    },
    {
     "data": {
      "text/html": [
       "<pre>Read 42224 images in 621.16 secs\tspeed: 64.8366 file/sec</pre>"
      ],
      "text/plain": [
       "Read 42224 images in 621.16 secs\tspeed: 64.8366 file/sec"
      ]
     },
     "metadata": {},
     "output_type": "display_data"
    },
    {
     "data": {
      "text/html": [
       "<pre>Read 42567 images in 626.176 secs\tspeed: 68.3902 file/sec</pre>"
      ],
      "text/plain": [
       "Read 42567 images in 626.176 secs\tspeed: 68.3902 file/sec"
      ]
     },
     "metadata": {},
     "output_type": "display_data"
    },
    {
     "data": {
      "text/html": [
       "<pre>Read 42906 images in 631.189 secs\tspeed: 67.6173 file/sec</pre>"
      ],
      "text/plain": [
       "Read 42906 images in 631.189 secs\tspeed: 67.6173 file/sec"
      ]
     },
     "metadata": {},
     "output_type": "display_data"
    },
    {
     "data": {
      "text/html": [
       "<pre>Read 43232 images in 636.218 secs\tspeed: 64.8277 file/sec</pre>"
      ],
      "text/plain": [
       "Read 43232 images in 636.218 secs\tspeed: 64.8277 file/sec"
      ]
     },
     "metadata": {},
     "output_type": "display_data"
    },
    {
     "data": {
      "text/html": [
       "<pre>Read 43564 images in 641.221 secs\tspeed: 66.3616 file/sec</pre>"
      ],
      "text/plain": [
       "Read 43564 images in 641.221 secs\tspeed: 66.3616 file/sec"
      ]
     },
     "metadata": {},
     "output_type": "display_data"
    },
    {
     "data": {
      "text/html": [
       "<pre>Read 43904 images in 646.226 secs\tspeed: 67.9258 file/sec</pre>"
      ],
      "text/plain": [
       "Read 43904 images in 646.226 secs\tspeed: 67.9258 file/sec"
      ]
     },
     "metadata": {},
     "output_type": "display_data"
    }
   ],
   "source": [
    "images_raw = gl.image_analysis.load_images('../data/images/LANDSCAPE/')"
   ]
  },
  {
   "cell_type": "code",
   "execution_count": null,
   "metadata": {
    "collapsed": true
   },
   "outputs": [],
   "source": [
    "images = images_raw"
   ]
  },
  {
   "cell_type": "code",
   "execution_count": 8,
   "metadata": {
    "collapsed": false
   },
   "outputs": [
    {
     "data": {
      "text/html": [
       "<pre>Using default 16 lambda workers.</pre>"
      ],
      "text/plain": [
       "Using default 16 lambda workers."
      ]
     },
     "metadata": {},
     "output_type": "display_data"
    },
    {
     "data": {
      "text/html": [
       "<pre>To maximize the degree of parallelism, add the following code to the beginning of the program:</pre>"
      ],
      "text/plain": [
       "To maximize the degree of parallelism, add the following code to the beginning of the program:"
      ]
     },
     "metadata": {},
     "output_type": "display_data"
    },
    {
     "data": {
      "text/html": [
       "<pre>\"graphlab.set_runtime_config('GRAPHLAB_DEFAULT_NUM_PYLAMBDA_WORKERS', 40)\"</pre>"
      ],
      "text/plain": [
       "\"graphlab.set_runtime_config('GRAPHLAB_DEFAULT_NUM_PYLAMBDA_WORKERS', 40)\""
      ]
     },
     "metadata": {},
     "output_type": "display_data"
    },
    {
     "data": {
      "text/html": [
       "<pre>Note that increasing the degree of parallelism also increases the memory footprint.</pre>"
      ],
      "text/plain": [
       "Note that increasing the degree of parallelism also increases the memory footprint."
      ]
     },
     "metadata": {},
     "output_type": "display_data"
    }
   ],
   "source": [
    "images['filename'] = images['path'].apply(lambda x: x[x.find('/')+1:])"
   ]
  },
  {
   "cell_type": "code",
   "execution_count": 9,
   "metadata": {
    "collapsed": false
   },
   "outputs": [],
   "source": [
    "check = True\n",
    "while check:\n",
    "    images['filename'] = images['filename'].apply(lambda x: x[x.find('/')+1:])\n",
    "    if images[0]['filename'].find('/') < 0:\n",
    "        check = False"
   ]
  },
  {
   "cell_type": "code",
   "execution_count": 10,
   "metadata": {
    "collapsed": true
   },
   "outputs": [],
   "source": [
    "images['owner'] = images['filename'].apply(lambda x: x[:x.find('_')])\n",
    "images['id'] = images['filename'].apply(lambda x: x[x.find('_')+1:])\n",
    "images['id'] = images['id'].apply(lambda x: x[:x.find('.')])"
   ]
  },
  {
   "cell_type": "code",
   "execution_count": 13,
   "metadata": {
    "collapsed": true
   },
   "outputs": [],
   "source": [
    "images['id'] = images['id'].apply(lambda x: int(x))"
   ]
  },
  {
   "cell_type": "code",
   "execution_count": 14,
   "metadata": {
    "collapsed": false
   },
   "outputs": [],
   "source": [
    "images = images.join(target_gl, on=['owner', 'id'], how='inner')"
   ]
  },
  {
   "cell_type": "code",
   "execution_count": 15,
   "metadata": {
    "collapsed": true
   },
   "outputs": [],
   "source": [
    "images.save('LANDSCAPE_images_feature_and_target')"
   ]
  },
  {
   "cell_type": "code",
   "execution_count": 16,
   "metadata": {
    "collapsed": false
   },
   "outputs": [
    {
     "data": {
      "text/html": [
       "<div style=\"max-height:1000px;max-width:1500px;overflow:auto;\"><table frame=\"box\" rules=\"cols\">\n",
       "    <tr>\n",
       "        <th style=\"padding-left: 1em; padding-right: 1em; text-align: center\">path</th>\n",
       "        <th style=\"padding-left: 1em; padding-right: 1em; text-align: center\">image</th>\n",
       "        <th style=\"padding-left: 1em; padding-right: 1em; text-align: center\">filename</th>\n",
       "        <th style=\"padding-left: 1em; padding-right: 1em; text-align: center\">owner</th>\n",
       "        <th style=\"padding-left: 1em; padding-right: 1em; text-align: center\">id</th>\n",
       "        <th style=\"padding-left: 1em; padding-right: 1em; text-align: center\">user_is_pro</th>\n",
       "    </tr>\n",
       "    <tr>\n",
       "        <td style=\"padding-left: 1em; padding-right: 1em; text-align: center; vertical-align: top\">/home/ubuntu/efs/GIT/Phot<br>o_Pro/data/images/LAN ...</td>\n",
       "        <td style=\"padding-left: 1em; padding-right: 1em; text-align: center; vertical-align: top\">Height: 1601 Width: 1067</td>\n",
       "        <td style=\"padding-left: 1em; padding-right: 1em; text-align: center; vertical-align: top\">13342549@N08_7539228342.j<br>pg ...</td>\n",
       "        <td style=\"padding-left: 1em; padding-right: 1em; text-align: center; vertical-align: top\">13342549@N08</td>\n",
       "        <td style=\"padding-left: 1em; padding-right: 1em; text-align: center; vertical-align: top\">7539228342</td>\n",
       "        <td style=\"padding-left: 1em; padding-right: 1em; text-align: center; vertical-align: top\">0</td>\n",
       "    </tr>\n",
       "    <tr>\n",
       "        <td style=\"padding-left: 1em; padding-right: 1em; text-align: center; vertical-align: top\">/home/ubuntu/efs/GIT/Phot<br>o_Pro/data/images/LAN ...</td>\n",
       "        <td style=\"padding-left: 1em; padding-right: 1em; text-align: center; vertical-align: top\">Height: 1065 Width: 1600</td>\n",
       "        <td style=\"padding-left: 1em; padding-right: 1em; text-align: center; vertical-align: top\">35006702@N00_26600332142.<br>jpg ...</td>\n",
       "        <td style=\"padding-left: 1em; padding-right: 1em; text-align: center; vertical-align: top\">35006702@N00</td>\n",
       "        <td style=\"padding-left: 1em; padding-right: 1em; text-align: center; vertical-align: top\">26600332142</td>\n",
       "        <td style=\"padding-left: 1em; padding-right: 1em; text-align: center; vertical-align: top\">1</td>\n",
       "    </tr>\n",
       "    <tr>\n",
       "        <td style=\"padding-left: 1em; padding-right: 1em; text-align: center; vertical-align: top\">/home/ubuntu/efs/GIT/Phot<br>o_Pro/data/images/LAN ...</td>\n",
       "        <td style=\"padding-left: 1em; padding-right: 1em; text-align: center; vertical-align: top\">Height: 1066 Width: 1600</td>\n",
       "        <td style=\"padding-left: 1em; padding-right: 1em; text-align: center; vertical-align: top\">73199107@N05_25064238174.<br>jpg ...</td>\n",
       "        <td style=\"padding-left: 1em; padding-right: 1em; text-align: center; vertical-align: top\">73199107@N05</td>\n",
       "        <td style=\"padding-left: 1em; padding-right: 1em; text-align: center; vertical-align: top\">25064238174</td>\n",
       "        <td style=\"padding-left: 1em; padding-right: 1em; text-align: center; vertical-align: top\">0</td>\n",
       "    </tr>\n",
       "    <tr>\n",
       "        <td style=\"padding-left: 1em; padding-right: 1em; text-align: center; vertical-align: top\">/home/ubuntu/efs/GIT/Phot<br>o_Pro/data/images/LAN ...</td>\n",
       "        <td style=\"padding-left: 1em; padding-right: 1em; text-align: center; vertical-align: top\">Height: 1200 Width: 1600</td>\n",
       "        <td style=\"padding-left: 1em; padding-right: 1em; text-align: center; vertical-align: top\">48587703@N00_16424970432.<br>jpg ...</td>\n",
       "        <td style=\"padding-left: 1em; padding-right: 1em; text-align: center; vertical-align: top\">48587703@N00</td>\n",
       "        <td style=\"padding-left: 1em; padding-right: 1em; text-align: center; vertical-align: top\">16424970432</td>\n",
       "        <td style=\"padding-left: 1em; padding-right: 1em; text-align: center; vertical-align: top\">0</td>\n",
       "    </tr>\n",
       "    <tr>\n",
       "        <td style=\"padding-left: 1em; padding-right: 1em; text-align: center; vertical-align: top\">/home/ubuntu/efs/GIT/Phot<br>o_Pro/data/images/LAN ...</td>\n",
       "        <td style=\"padding-left: 1em; padding-right: 1em; text-align: center; vertical-align: top\">Height: 860 Width: 1600</td>\n",
       "        <td style=\"padding-left: 1em; padding-right: 1em; text-align: center; vertical-align: top\">128817646@N07_24454808223<br>.jpg ...</td>\n",
       "        <td style=\"padding-left: 1em; padding-right: 1em; text-align: center; vertical-align: top\">128817646@N07</td>\n",
       "        <td style=\"padding-left: 1em; padding-right: 1em; text-align: center; vertical-align: top\">24454808223</td>\n",
       "        <td style=\"padding-left: 1em; padding-right: 1em; text-align: center; vertical-align: top\">0</td>\n",
       "    </tr>\n",
       "    <tr>\n",
       "        <td style=\"padding-left: 1em; padding-right: 1em; text-align: center; vertical-align: top\">/home/ubuntu/efs/GIT/Phot<br>o_Pro/data/images/LAN ...</td>\n",
       "        <td style=\"padding-left: 1em; padding-right: 1em; text-align: center; vertical-align: top\">Height: 687 Width: 1024</td>\n",
       "        <td style=\"padding-left: 1em; padding-right: 1em; text-align: center; vertical-align: top\">8031838@N08_24751545659.j<br>pg ...</td>\n",
       "        <td style=\"padding-left: 1em; padding-right: 1em; text-align: center; vertical-align: top\">8031838@N08</td>\n",
       "        <td style=\"padding-left: 1em; padding-right: 1em; text-align: center; vertical-align: top\">24751545659</td>\n",
       "        <td style=\"padding-left: 1em; padding-right: 1em; text-align: center; vertical-align: top\">1</td>\n",
       "    </tr>\n",
       "    <tr>\n",
       "        <td style=\"padding-left: 1em; padding-right: 1em; text-align: center; vertical-align: top\">/home/ubuntu/efs/GIT/Phot<br>o_Pro/data/images/LAN ...</td>\n",
       "        <td style=\"padding-left: 1em; padding-right: 1em; text-align: center; vertical-align: top\">Height: 778 Width: 1600</td>\n",
       "        <td style=\"padding-left: 1em; padding-right: 1em; text-align: center; vertical-align: top\">52019166@N02_17426816153.<br>jpg ...</td>\n",
       "        <td style=\"padding-left: 1em; padding-right: 1em; text-align: center; vertical-align: top\">52019166@N02</td>\n",
       "        <td style=\"padding-left: 1em; padding-right: 1em; text-align: center; vertical-align: top\">17426816153</td>\n",
       "        <td style=\"padding-left: 1em; padding-right: 1em; text-align: center; vertical-align: top\">0</td>\n",
       "    </tr>\n",
       "    <tr>\n",
       "        <td style=\"padding-left: 1em; padding-right: 1em; text-align: center; vertical-align: top\">/home/ubuntu/efs/GIT/Phot<br>o_Pro/data/images/LAN ...</td>\n",
       "        <td style=\"padding-left: 1em; padding-right: 1em; text-align: center; vertical-align: top\">Height: 1067 Width: 1600</td>\n",
       "        <td style=\"padding-left: 1em; padding-right: 1em; text-align: center; vertical-align: top\">9477623@N03_24273987665.j<br>pg ...</td>\n",
       "        <td style=\"padding-left: 1em; padding-right: 1em; text-align: center; vertical-align: top\">9477623@N03</td>\n",
       "        <td style=\"padding-left: 1em; padding-right: 1em; text-align: center; vertical-align: top\">24273987665</td>\n",
       "        <td style=\"padding-left: 1em; padding-right: 1em; text-align: center; vertical-align: top\">1</td>\n",
       "    </tr>\n",
       "    <tr>\n",
       "        <td style=\"padding-left: 1em; padding-right: 1em; text-align: center; vertical-align: top\">/home/ubuntu/efs/GIT/Phot<br>o_Pro/data/images/LAN ...</td>\n",
       "        <td style=\"padding-left: 1em; padding-right: 1em; text-align: center; vertical-align: top\">Height: 1139 Width: 1600</td>\n",
       "        <td style=\"padding-left: 1em; padding-right: 1em; text-align: center; vertical-align: top\">89806999@N08_26907876823.<br>jpg ...</td>\n",
       "        <td style=\"padding-left: 1em; padding-right: 1em; text-align: center; vertical-align: top\">89806999@N08</td>\n",
       "        <td style=\"padding-left: 1em; padding-right: 1em; text-align: center; vertical-align: top\">26907876823</td>\n",
       "        <td style=\"padding-left: 1em; padding-right: 1em; text-align: center; vertical-align: top\">1</td>\n",
       "    </tr>\n",
       "    <tr>\n",
       "        <td style=\"padding-left: 1em; padding-right: 1em; text-align: center; vertical-align: top\">/home/ubuntu/efs/GIT/Phot<br>o_Pro/data/images/LAN ...</td>\n",
       "        <td style=\"padding-left: 1em; padding-right: 1em; text-align: center; vertical-align: top\">Height: 1202 Width: 1600</td>\n",
       "        <td style=\"padding-left: 1em; padding-right: 1em; text-align: center; vertical-align: top\">28527690@N07_26526226645.<br>jpg ...</td>\n",
       "        <td style=\"padding-left: 1em; padding-right: 1em; text-align: center; vertical-align: top\">28527690@N07</td>\n",
       "        <td style=\"padding-left: 1em; padding-right: 1em; text-align: center; vertical-align: top\">26526226645</td>\n",
       "        <td style=\"padding-left: 1em; padding-right: 1em; text-align: center; vertical-align: top\">1</td>\n",
       "    </tr>\n",
       "</table>\n",
       "<table frame=\"box\" rules=\"cols\">\n",
       "    <tr>\n",
       "        <th style=\"padding-left: 1em; padding-right: 1em; text-align: center\">user_can_buy_pro</th>\n",
       "        <th style=\"padding-left: 1em; padding-right: 1em; text-align: center\">user_total_views</th>\n",
       "        <th style=\"padding-left: 1em; padding-right: 1em; text-align: center\">image_ncomments</th>\n",
       "        <th style=\"padding-left: 1em; padding-right: 1em; text-align: center\">image_nfavs</th>\n",
       "        <th style=\"padding-left: 1em; padding-right: 1em; text-align: center\">image_nsets</th>\n",
       "        <th style=\"padding-left: 1em; padding-right: 1em; text-align: center\">image_npools</th>\n",
       "        <th style=\"padding-left: 1em; padding-right: 1em; text-align: center\">image_views</th>\n",
       "        <th style=\"padding-left: 1em; padding-right: 1em; text-align: center\">image_ntags</th>\n",
       "    </tr>\n",
       "    <tr>\n",
       "        <td style=\"padding-left: 1em; padding-right: 1em; text-align: center; vertical-align: top\">0</td>\n",
       "        <td style=\"padding-left: 1em; padding-right: 1em; text-align: center; vertical-align: top\">1271</td>\n",
       "        <td style=\"padding-left: 1em; padding-right: 1em; text-align: center; vertical-align: top\">0</td>\n",
       "        <td style=\"padding-left: 1em; padding-right: 1em; text-align: center; vertical-align: top\">0</td>\n",
       "        <td style=\"padding-left: 1em; padding-right: 1em; text-align: center; vertical-align: top\">1</td>\n",
       "        <td style=\"padding-left: 1em; padding-right: 1em; text-align: center; vertical-align: top\">0</td>\n",
       "        <td style=\"padding-left: 1em; padding-right: 1em; text-align: center; vertical-align: top\">51</td>\n",
       "        <td style=\"padding-left: 1em; padding-right: 1em; text-align: center; vertical-align: top\">6</td>\n",
       "    </tr>\n",
       "    <tr>\n",
       "        <td style=\"padding-left: 1em; padding-right: 1em; text-align: center; vertical-align: top\">0</td>\n",
       "        <td style=\"padding-left: 1em; padding-right: 1em; text-align: center; vertical-align: top\">844</td>\n",
       "        <td style=\"padding-left: 1em; padding-right: 1em; text-align: center; vertical-align: top\">0</td>\n",
       "        <td style=\"padding-left: 1em; padding-right: 1em; text-align: center; vertical-align: top\">5</td>\n",
       "        <td style=\"padding-left: 1em; padding-right: 1em; text-align: center; vertical-align: top\">0</td>\n",
       "        <td style=\"padding-left: 1em; padding-right: 1em; text-align: center; vertical-align: top\">0</td>\n",
       "        <td style=\"padding-left: 1em; padding-right: 1em; text-align: center; vertical-align: top\">33</td>\n",
       "        <td style=\"padding-left: 1em; padding-right: 1em; text-align: center; vertical-align: top\">7</td>\n",
       "    </tr>\n",
       "    <tr>\n",
       "        <td style=\"padding-left: 1em; padding-right: 1em; text-align: center; vertical-align: top\">0</td>\n",
       "        <td style=\"padding-left: 1em; padding-right: 1em; text-align: center; vertical-align: top\">2101</td>\n",
       "        <td style=\"padding-left: 1em; padding-right: 1em; text-align: center; vertical-align: top\">0</td>\n",
       "        <td style=\"padding-left: 1em; padding-right: 1em; text-align: center; vertical-align: top\">1</td>\n",
       "        <td style=\"padding-left: 1em; padding-right: 1em; text-align: center; vertical-align: top\">1</td>\n",
       "        <td style=\"padding-left: 1em; padding-right: 1em; text-align: center; vertical-align: top\">1</td>\n",
       "        <td style=\"padding-left: 1em; padding-right: 1em; text-align: center; vertical-align: top\">24</td>\n",
       "        <td style=\"padding-left: 1em; padding-right: 1em; text-align: center; vertical-align: top\">7</td>\n",
       "    </tr>\n",
       "    <tr>\n",
       "        <td style=\"padding-left: 1em; padding-right: 1em; text-align: center; vertical-align: top\">1</td>\n",
       "        <td style=\"padding-left: 1em; padding-right: 1em; text-align: center; vertical-align: top\">35062</td>\n",
       "        <td style=\"padding-left: 1em; padding-right: 1em; text-align: center; vertical-align: top\">0</td>\n",
       "        <td style=\"padding-left: 1em; padding-right: 1em; text-align: center; vertical-align: top\">0</td>\n",
       "        <td style=\"padding-left: 1em; padding-right: 1em; text-align: center; vertical-align: top\">1</td>\n",
       "        <td style=\"padding-left: 1em; padding-right: 1em; text-align: center; vertical-align: top\">0</td>\n",
       "        <td style=\"padding-left: 1em; padding-right: 1em; text-align: center; vertical-align: top\">9</td>\n",
       "        <td style=\"padding-left: 1em; padding-right: 1em; text-align: center; vertical-align: top\">4</td>\n",
       "    </tr>\n",
       "    <tr>\n",
       "        <td style=\"padding-left: 1em; padding-right: 1em; text-align: center; vertical-align: top\">0</td>\n",
       "        <td style=\"padding-left: 1em; padding-right: 1em; text-align: center; vertical-align: top\">143</td>\n",
       "        <td style=\"padding-left: 1em; padding-right: 1em; text-align: center; vertical-align: top\">2</td>\n",
       "        <td style=\"padding-left: 1em; padding-right: 1em; text-align: center; vertical-align: top\">7</td>\n",
       "        <td style=\"padding-left: 1em; padding-right: 1em; text-align: center; vertical-align: top\">1</td>\n",
       "        <td style=\"padding-left: 1em; padding-right: 1em; text-align: center; vertical-align: top\">8</td>\n",
       "        <td style=\"padding-left: 1em; padding-right: 1em; text-align: center; vertical-align: top\">573</td>\n",
       "        <td style=\"padding-left: 1em; padding-right: 1em; text-align: center; vertical-align: top\">6</td>\n",
       "    </tr>\n",
       "    <tr>\n",
       "        <td style=\"padding-left: 1em; padding-right: 1em; text-align: center; vertical-align: top\">0</td>\n",
       "        <td style=\"padding-left: 1em; padding-right: 1em; text-align: center; vertical-align: top\">1937</td>\n",
       "        <td style=\"padding-left: 1em; padding-right: 1em; text-align: center; vertical-align: top\">0</td>\n",
       "        <td style=\"padding-left: 1em; padding-right: 1em; text-align: center; vertical-align: top\">9</td>\n",
       "        <td style=\"padding-left: 1em; padding-right: 1em; text-align: center; vertical-align: top\">0</td>\n",
       "        <td style=\"padding-left: 1em; padding-right: 1em; text-align: center; vertical-align: top\">0</td>\n",
       "        <td style=\"padding-left: 1em; padding-right: 1em; text-align: center; vertical-align: top\">20802</td>\n",
       "        <td style=\"padding-left: 1em; padding-right: 1em; text-align: center; vertical-align: top\">2</td>\n",
       "    </tr>\n",
       "    <tr>\n",
       "        <td style=\"padding-left: 1em; padding-right: 1em; text-align: center; vertical-align: top\">0</td>\n",
       "        <td style=\"padding-left: 1em; padding-right: 1em; text-align: center; vertical-align: top\">95</td>\n",
       "        <td style=\"padding-left: 1em; padding-right: 1em; text-align: center; vertical-align: top\">0</td>\n",
       "        <td style=\"padding-left: 1em; padding-right: 1em; text-align: center; vertical-align: top\">2</td>\n",
       "        <td style=\"padding-left: 1em; padding-right: 1em; text-align: center; vertical-align: top\">0</td>\n",
       "        <td style=\"padding-left: 1em; padding-right: 1em; text-align: center; vertical-align: top\">0</td>\n",
       "        <td style=\"padding-left: 1em; padding-right: 1em; text-align: center; vertical-align: top\">24</td>\n",
       "        <td style=\"padding-left: 1em; padding-right: 1em; text-align: center; vertical-align: top\">3</td>\n",
       "    </tr>\n",
       "    <tr>\n",
       "        <td style=\"padding-left: 1em; padding-right: 1em; text-align: center; vertical-align: top\">0</td>\n",
       "        <td style=\"padding-left: 1em; padding-right: 1em; text-align: center; vertical-align: top\">730</td>\n",
       "        <td style=\"padding-left: 1em; padding-right: 1em; text-align: center; vertical-align: top\">0</td>\n",
       "        <td style=\"padding-left: 1em; padding-right: 1em; text-align: center; vertical-align: top\">0</td>\n",
       "        <td style=\"padding-left: 1em; padding-right: 1em; text-align: center; vertical-align: top\">1</td>\n",
       "        <td style=\"padding-left: 1em; padding-right: 1em; text-align: center; vertical-align: top\">0</td>\n",
       "        <td style=\"padding-left: 1em; padding-right: 1em; text-align: center; vertical-align: top\">10</td>\n",
       "        <td style=\"padding-left: 1em; padding-right: 1em; text-align: center; vertical-align: top\">5</td>\n",
       "    </tr>\n",
       "    <tr>\n",
       "        <td style=\"padding-left: 1em; padding-right: 1em; text-align: center; vertical-align: top\">0</td>\n",
       "        <td style=\"padding-left: 1em; padding-right: 1em; text-align: center; vertical-align: top\">1211</td>\n",
       "        <td style=\"padding-left: 1em; padding-right: 1em; text-align: center; vertical-align: top\">0</td>\n",
       "        <td style=\"padding-left: 1em; padding-right: 1em; text-align: center; vertical-align: top\">1</td>\n",
       "        <td style=\"padding-left: 1em; padding-right: 1em; text-align: center; vertical-align: top\">0</td>\n",
       "        <td style=\"padding-left: 1em; padding-right: 1em; text-align: center; vertical-align: top\">6</td>\n",
       "        <td style=\"padding-left: 1em; padding-right: 1em; text-align: center; vertical-align: top\">85</td>\n",
       "        <td style=\"padding-left: 1em; padding-right: 1em; text-align: center; vertical-align: top\">45</td>\n",
       "    </tr>\n",
       "    <tr>\n",
       "        <td style=\"padding-left: 1em; padding-right: 1em; text-align: center; vertical-align: top\">0</td>\n",
       "        <td style=\"padding-left: 1em; padding-right: 1em; text-align: center; vertical-align: top\">51188</td>\n",
       "        <td style=\"padding-left: 1em; padding-right: 1em; text-align: center; vertical-align: top\">0</td>\n",
       "        <td style=\"padding-left: 1em; padding-right: 1em; text-align: center; vertical-align: top\">0</td>\n",
       "        <td style=\"padding-left: 1em; padding-right: 1em; text-align: center; vertical-align: top\">2</td>\n",
       "        <td style=\"padding-left: 1em; padding-right: 1em; text-align: center; vertical-align: top\">0</td>\n",
       "        <td style=\"padding-left: 1em; padding-right: 1em; text-align: center; vertical-align: top\">42</td>\n",
       "        <td style=\"padding-left: 1em; padding-right: 1em; text-align: center; vertical-align: top\">10</td>\n",
       "    </tr>\n",
       "</table>\n",
       "[10 rows x 14 columns]<br/>\n",
       "</div>"
      ],
      "text/plain": [
       "Columns:\n",
       "\tpath\tstr\n",
       "\timage\tImage\n",
       "\tfilename\tstr\n",
       "\towner\tstr\n",
       "\tid\tint\n",
       "\tuser_is_pro\tint\n",
       "\tuser_can_buy_pro\tint\n",
       "\tuser_total_views\tint\n",
       "\timage_ncomments\tint\n",
       "\timage_nfavs\tint\n",
       "\timage_nsets\tint\n",
       "\timage_npools\tint\n",
       "\timage_views\tint\n",
       "\timage_ntags\tint\n",
       "\n",
       "Rows: 10\n",
       "\n",
       "Data:\n",
       "+-------------------------------+--------------------------+\n",
       "|              path             |          image           |\n",
       "+-------------------------------+--------------------------+\n",
       "| /home/ubuntu/efs/GIT/Photo... | Height: 1601 Width: 1067 |\n",
       "| /home/ubuntu/efs/GIT/Photo... | Height: 1065 Width: 1600 |\n",
       "| /home/ubuntu/efs/GIT/Photo... | Height: 1066 Width: 1600 |\n",
       "| /home/ubuntu/efs/GIT/Photo... | Height: 1200 Width: 1600 |\n",
       "| /home/ubuntu/efs/GIT/Photo... | Height: 860 Width: 1600  |\n",
       "| /home/ubuntu/efs/GIT/Photo... | Height: 687 Width: 1024  |\n",
       "| /home/ubuntu/efs/GIT/Photo... | Height: 778 Width: 1600  |\n",
       "| /home/ubuntu/efs/GIT/Photo... | Height: 1067 Width: 1600 |\n",
       "| /home/ubuntu/efs/GIT/Photo... | Height: 1139 Width: 1600 |\n",
       "| /home/ubuntu/efs/GIT/Photo... | Height: 1202 Width: 1600 |\n",
       "+-------------------------------+--------------------------+\n",
       "+-------------------------------+---------------+-------------+-------------+------------------+\n",
       "|            filename           |     owner     |      id     | user_is_pro | user_can_buy_pro |\n",
       "+-------------------------------+---------------+-------------+-------------+------------------+\n",
       "|  13342549@N08_7539228342.jpg  |  13342549@N08 |  7539228342 |      0      |        0         |\n",
       "|  35006702@N00_26600332142.jpg |  35006702@N00 | 26600332142 |      1      |        0         |\n",
       "|  73199107@N05_25064238174.jpg |  73199107@N05 | 25064238174 |      0      |        0         |\n",
       "|  48587703@N00_16424970432.jpg |  48587703@N00 | 16424970432 |      0      |        1         |\n",
       "| 128817646@N07_24454808223.jpg | 128817646@N07 | 24454808223 |      0      |        0         |\n",
       "|  8031838@N08_24751545659.jpg  |  8031838@N08  | 24751545659 |      1      |        0         |\n",
       "|  52019166@N02_17426816153.jpg |  52019166@N02 | 17426816153 |      0      |        0         |\n",
       "|  9477623@N03_24273987665.jpg  |  9477623@N03  | 24273987665 |      1      |        0         |\n",
       "|  89806999@N08_26907876823.jpg |  89806999@N08 | 26907876823 |      1      |        0         |\n",
       "|  28527690@N07_26526226645.jpg |  28527690@N07 | 26526226645 |      1      |        0         |\n",
       "+-------------------------------+---------------+-------------+-------------+------------------+\n",
       "+------------------+-----------------+-------------+-------------+--------------+\n",
       "| user_total_views | image_ncomments | image_nfavs | image_nsets | image_npools |\n",
       "+------------------+-----------------+-------------+-------------+--------------+\n",
       "|       1271       |        0        |      0      |      1      |      0       |\n",
       "|       844        |        0        |      5      |      0      |      0       |\n",
       "|       2101       |        0        |      1      |      1      |      1       |\n",
       "|      35062       |        0        |      0      |      1      |      0       |\n",
       "|       143        |        2        |      7      |      1      |      8       |\n",
       "|       1937       |        0        |      9      |      0      |      0       |\n",
       "|        95        |        0        |      2      |      0      |      0       |\n",
       "|       730        |        0        |      0      |      1      |      0       |\n",
       "|       1211       |        0        |      1      |      0      |      6       |\n",
       "|      51188       |        0        |      0      |      2      |      0       |\n",
       "+------------------+-----------------+-------------+-------------+--------------+\n",
       "+-------------+-------------+\n",
       "| image_views | image_ntags |\n",
       "+-------------+-------------+\n",
       "|      51     |      6      |\n",
       "|      33     |      7      |\n",
       "|      24     |      7      |\n",
       "|      9      |      4      |\n",
       "|     573     |      6      |\n",
       "|    20802    |      2      |\n",
       "|      24     |      3      |\n",
       "|      10     |      5      |\n",
       "|      85     |      45     |\n",
       "|      42     |      10     |\n",
       "+-------------+-------------+\n",
       "[10 rows x 14 columns]"
      ]
     },
     "execution_count": 16,
     "metadata": {},
     "output_type": "execute_result"
    }
   ],
   "source": [
    "images.head()"
   ]
  },
  {
   "cell_type": "code",
   "execution_count": 17,
   "metadata": {
    "collapsed": false
   },
   "outputs": [],
   "source": [
    "images['resized_image'] = gl.image_analysis.resize(images['image'], 800, 600, channels=3)"
   ]
  },
  {
   "cell_type": "code",
   "execution_count": 18,
   "metadata": {
    "collapsed": false
   },
   "outputs": [
    {
     "data": {
      "text/html": [
       "<pre>Downloading https://static.turi.com/products/graphlab-create/resources/models/python2.7/imagenet_model_iter45/dir_archive.ini to /var/tmp/graphlab-ubuntu/4470/262be342-3361-4d00-bbd1-a64b455334fa.ini</pre>"
      ],
      "text/plain": [
       "Downloading https://static.turi.com/products/graphlab-create/resources/models/python2.7/imagenet_model_iter45/dir_archive.ini to /var/tmp/graphlab-ubuntu/4470/262be342-3361-4d00-bbd1-a64b455334fa.ini"
      ]
     },
     "metadata": {},
     "output_type": "display_data"
    },
    {
     "data": {
      "text/html": [
       "<pre>Downloading https://static.turi.com/products/graphlab-create/resources/models/python2.7/imagenet_model_iter45/objects.bin to /var/tmp/graphlab-ubuntu/4470/8e1b67f8-4ac1-4339-ab65-ad051ba0af4b.bin</pre>"
      ],
      "text/plain": [
       "Downloading https://static.turi.com/products/graphlab-create/resources/models/python2.7/imagenet_model_iter45/objects.bin to /var/tmp/graphlab-ubuntu/4470/8e1b67f8-4ac1-4339-ab65-ad051ba0af4b.bin"
      ]
     },
     "metadata": {},
     "output_type": "display_data"
    }
   ],
   "source": [
    "extractor = gl.feature_engineering.DeepFeatureExtractor(features='resized_image', output_column_prefix='deep_')"
   ]
  },
  {
   "cell_type": "code",
   "execution_count": 19,
   "metadata": {
    "collapsed": false
   },
   "outputs": [],
   "source": [
    "extractor = extractor.fit(images)"
   ]
  },
  {
   "cell_type": "code",
   "execution_count": 20,
   "metadata": {
    "collapsed": true
   },
   "outputs": [],
   "source": [
    "extracted_model = extractor['model']"
   ]
  },
  {
   "cell_type": "code",
   "execution_count": 21,
   "metadata": {
    "collapsed": false
   },
   "outputs": [
    {
     "data": {
      "text/html": [
       "<pre>Images being resized.</pre>"
      ],
      "text/plain": [
       "Images being resized."
      ]
     },
     "metadata": {},
     "output_type": "display_data"
    }
   ],
   "source": [
    "images = extractor.transform(images)"
   ]
  },
  {
   "cell_type": "markdown",
   "metadata": {},
   "source": [
    "### Save Data, then Train-Test-Split"
   ]
  },
  {
   "cell_type": "code",
   "execution_count": 22,
   "metadata": {
    "collapsed": true
   },
   "outputs": [],
   "source": [
    "#images.save('./LANDSCAPE_images_ready_to_model.save')\n",
    "images = gl.load_sframe('./LANDSCAPE_images_ready_to_model.save')"
   ]
  },
  {
   "cell_type": "code",
   "execution_count": 23,
   "metadata": {
    "collapsed": true
   },
   "outputs": [],
   "source": [
    "images_train, images_test = images.random_split(0.8)"
   ]
  },
  {
   "cell_type": "markdown",
   "metadata": {},
   "source": [
    "### Make Models"
   ]
  },
  {
   "cell_type": "code",
   "execution_count": 25,
   "metadata": {
    "collapsed": false
   },
   "outputs": [
    {
     "data": {
      "text/html": [
       "<div style=\"max-height:1000px;max-width:1500px;overflow:auto;\"><table frame=\"box\" rules=\"cols\">\n",
       "    <tr>\n",
       "        <th style=\"padding-left: 1em; padding-right: 1em; text-align: center\">path</th>\n",
       "        <th style=\"padding-left: 1em; padding-right: 1em; text-align: center\">image</th>\n",
       "        <th style=\"padding-left: 1em; padding-right: 1em; text-align: center\">filename</th>\n",
       "        <th style=\"padding-left: 1em; padding-right: 1em; text-align: center\">owner</th>\n",
       "        <th style=\"padding-left: 1em; padding-right: 1em; text-align: center\">id</th>\n",
       "        <th style=\"padding-left: 1em; padding-right: 1em; text-align: center\">user_is_pro</th>\n",
       "    </tr>\n",
       "    <tr>\n",
       "        <td style=\"padding-left: 1em; padding-right: 1em; text-align: center; vertical-align: top\">/home/ubuntu/efs/GIT/Phot<br>o_Pro/data/images/LAN ...</td>\n",
       "        <td style=\"padding-left: 1em; padding-right: 1em; text-align: center; vertical-align: top\">Height: 1601 Width: 1067</td>\n",
       "        <td style=\"padding-left: 1em; padding-right: 1em; text-align: center; vertical-align: top\">13342549@N08_7539228342.j<br>pg ...</td>\n",
       "        <td style=\"padding-left: 1em; padding-right: 1em; text-align: center; vertical-align: top\">13342549@N08</td>\n",
       "        <td style=\"padding-left: 1em; padding-right: 1em; text-align: center; vertical-align: top\">7539228342</td>\n",
       "        <td style=\"padding-left: 1em; padding-right: 1em; text-align: center; vertical-align: top\">0</td>\n",
       "    </tr>\n",
       "    <tr>\n",
       "        <td style=\"padding-left: 1em; padding-right: 1em; text-align: center; vertical-align: top\">/home/ubuntu/efs/GIT/Phot<br>o_Pro/data/images/LAN ...</td>\n",
       "        <td style=\"padding-left: 1em; padding-right: 1em; text-align: center; vertical-align: top\">Height: 1065 Width: 1600</td>\n",
       "        <td style=\"padding-left: 1em; padding-right: 1em; text-align: center; vertical-align: top\">35006702@N00_26600332142.<br>jpg ...</td>\n",
       "        <td style=\"padding-left: 1em; padding-right: 1em; text-align: center; vertical-align: top\">35006702@N00</td>\n",
       "        <td style=\"padding-left: 1em; padding-right: 1em; text-align: center; vertical-align: top\">26600332142</td>\n",
       "        <td style=\"padding-left: 1em; padding-right: 1em; text-align: center; vertical-align: top\">1</td>\n",
       "    </tr>\n",
       "    <tr>\n",
       "        <td style=\"padding-left: 1em; padding-right: 1em; text-align: center; vertical-align: top\">/home/ubuntu/efs/GIT/Phot<br>o_Pro/data/images/LAN ...</td>\n",
       "        <td style=\"padding-left: 1em; padding-right: 1em; text-align: center; vertical-align: top\">Height: 1066 Width: 1600</td>\n",
       "        <td style=\"padding-left: 1em; padding-right: 1em; text-align: center; vertical-align: top\">73199107@N05_25064238174.<br>jpg ...</td>\n",
       "        <td style=\"padding-left: 1em; padding-right: 1em; text-align: center; vertical-align: top\">73199107@N05</td>\n",
       "        <td style=\"padding-left: 1em; padding-right: 1em; text-align: center; vertical-align: top\">25064238174</td>\n",
       "        <td style=\"padding-left: 1em; padding-right: 1em; text-align: center; vertical-align: top\">0</td>\n",
       "    </tr>\n",
       "    <tr>\n",
       "        <td style=\"padding-left: 1em; padding-right: 1em; text-align: center; vertical-align: top\">/home/ubuntu/efs/GIT/Phot<br>o_Pro/data/images/LAN ...</td>\n",
       "        <td style=\"padding-left: 1em; padding-right: 1em; text-align: center; vertical-align: top\">Height: 1200 Width: 1600</td>\n",
       "        <td style=\"padding-left: 1em; padding-right: 1em; text-align: center; vertical-align: top\">48587703@N00_16424970432.<br>jpg ...</td>\n",
       "        <td style=\"padding-left: 1em; padding-right: 1em; text-align: center; vertical-align: top\">48587703@N00</td>\n",
       "        <td style=\"padding-left: 1em; padding-right: 1em; text-align: center; vertical-align: top\">16424970432</td>\n",
       "        <td style=\"padding-left: 1em; padding-right: 1em; text-align: center; vertical-align: top\">0</td>\n",
       "    </tr>\n",
       "    <tr>\n",
       "        <td style=\"padding-left: 1em; padding-right: 1em; text-align: center; vertical-align: top\">/home/ubuntu/efs/GIT/Phot<br>o_Pro/data/images/LAN ...</td>\n",
       "        <td style=\"padding-left: 1em; padding-right: 1em; text-align: center; vertical-align: top\">Height: 860 Width: 1600</td>\n",
       "        <td style=\"padding-left: 1em; padding-right: 1em; text-align: center; vertical-align: top\">128817646@N07_24454808223<br>.jpg ...</td>\n",
       "        <td style=\"padding-left: 1em; padding-right: 1em; text-align: center; vertical-align: top\">128817646@N07</td>\n",
       "        <td style=\"padding-left: 1em; padding-right: 1em; text-align: center; vertical-align: top\">24454808223</td>\n",
       "        <td style=\"padding-left: 1em; padding-right: 1em; text-align: center; vertical-align: top\">0</td>\n",
       "    </tr>\n",
       "    <tr>\n",
       "        <td style=\"padding-left: 1em; padding-right: 1em; text-align: center; vertical-align: top\">/home/ubuntu/efs/GIT/Phot<br>o_Pro/data/images/LAN ...</td>\n",
       "        <td style=\"padding-left: 1em; padding-right: 1em; text-align: center; vertical-align: top\">Height: 1067 Width: 1600</td>\n",
       "        <td style=\"padding-left: 1em; padding-right: 1em; text-align: center; vertical-align: top\">9477623@N03_24273987665.j<br>pg ...</td>\n",
       "        <td style=\"padding-left: 1em; padding-right: 1em; text-align: center; vertical-align: top\">9477623@N03</td>\n",
       "        <td style=\"padding-left: 1em; padding-right: 1em; text-align: center; vertical-align: top\">24273987665</td>\n",
       "        <td style=\"padding-left: 1em; padding-right: 1em; text-align: center; vertical-align: top\">1</td>\n",
       "    </tr>\n",
       "    <tr>\n",
       "        <td style=\"padding-left: 1em; padding-right: 1em; text-align: center; vertical-align: top\">/home/ubuntu/efs/GIT/Phot<br>o_Pro/data/images/LAN ...</td>\n",
       "        <td style=\"padding-left: 1em; padding-right: 1em; text-align: center; vertical-align: top\">Height: 1139 Width: 1600</td>\n",
       "        <td style=\"padding-left: 1em; padding-right: 1em; text-align: center; vertical-align: top\">89806999@N08_26907876823.<br>jpg ...</td>\n",
       "        <td style=\"padding-left: 1em; padding-right: 1em; text-align: center; vertical-align: top\">89806999@N08</td>\n",
       "        <td style=\"padding-left: 1em; padding-right: 1em; text-align: center; vertical-align: top\">26907876823</td>\n",
       "        <td style=\"padding-left: 1em; padding-right: 1em; text-align: center; vertical-align: top\">1</td>\n",
       "    </tr>\n",
       "    <tr>\n",
       "        <td style=\"padding-left: 1em; padding-right: 1em; text-align: center; vertical-align: top\">/home/ubuntu/efs/GIT/Phot<br>o_Pro/data/images/LAN ...</td>\n",
       "        <td style=\"padding-left: 1em; padding-right: 1em; text-align: center; vertical-align: top\">Height: 1202 Width: 1600</td>\n",
       "        <td style=\"padding-left: 1em; padding-right: 1em; text-align: center; vertical-align: top\">28527690@N07_26526226645.<br>jpg ...</td>\n",
       "        <td style=\"padding-left: 1em; padding-right: 1em; text-align: center; vertical-align: top\">28527690@N07</td>\n",
       "        <td style=\"padding-left: 1em; padding-right: 1em; text-align: center; vertical-align: top\">26526226645</td>\n",
       "        <td style=\"padding-left: 1em; padding-right: 1em; text-align: center; vertical-align: top\">1</td>\n",
       "    </tr>\n",
       "    <tr>\n",
       "        <td style=\"padding-left: 1em; padding-right: 1em; text-align: center; vertical-align: top\">/home/ubuntu/efs/GIT/Phot<br>o_Pro/data/images/LAN ...</td>\n",
       "        <td style=\"padding-left: 1em; padding-right: 1em; text-align: center; vertical-align: top\">Height: 900 Width: 1600</td>\n",
       "        <td style=\"padding-left: 1em; padding-right: 1em; text-align: center; vertical-align: top\">64233859@N06_22241370296.<br>jpg ...</td>\n",
       "        <td style=\"padding-left: 1em; padding-right: 1em; text-align: center; vertical-align: top\">64233859@N06</td>\n",
       "        <td style=\"padding-left: 1em; padding-right: 1em; text-align: center; vertical-align: top\">22241370296</td>\n",
       "        <td style=\"padding-left: 1em; padding-right: 1em; text-align: center; vertical-align: top\">1</td>\n",
       "    </tr>\n",
       "    <tr>\n",
       "        <td style=\"padding-left: 1em; padding-right: 1em; text-align: center; vertical-align: top\">/home/ubuntu/efs/GIT/Phot<br>o_Pro/data/images/LAN ...</td>\n",
       "        <td style=\"padding-left: 1em; padding-right: 1em; text-align: center; vertical-align: top\">Height: 596 Width: 1024</td>\n",
       "        <td style=\"padding-left: 1em; padding-right: 1em; text-align: center; vertical-align: top\">86696434@N05_26683049506.<br>jpg ...</td>\n",
       "        <td style=\"padding-left: 1em; padding-right: 1em; text-align: center; vertical-align: top\">86696434@N05</td>\n",
       "        <td style=\"padding-left: 1em; padding-right: 1em; text-align: center; vertical-align: top\">26683049506</td>\n",
       "        <td style=\"padding-left: 1em; padding-right: 1em; text-align: center; vertical-align: top\">0</td>\n",
       "    </tr>\n",
       "</table>\n",
       "<table frame=\"box\" rules=\"cols\">\n",
       "    <tr>\n",
       "        <th style=\"padding-left: 1em; padding-right: 1em; text-align: center\">user_can_buy_pro</th>\n",
       "        <th style=\"padding-left: 1em; padding-right: 1em; text-align: center\">user_total_views</th>\n",
       "        <th style=\"padding-left: 1em; padding-right: 1em; text-align: center\">image_ncomments</th>\n",
       "        <th style=\"padding-left: 1em; padding-right: 1em; text-align: center\">image_nfavs</th>\n",
       "        <th style=\"padding-left: 1em; padding-right: 1em; text-align: center\">image_nsets</th>\n",
       "        <th style=\"padding-left: 1em; padding-right: 1em; text-align: center\">image_npools</th>\n",
       "        <th style=\"padding-left: 1em; padding-right: 1em; text-align: center\">image_views</th>\n",
       "        <th style=\"padding-left: 1em; padding-right: 1em; text-align: center\">image_ntags</th>\n",
       "    </tr>\n",
       "    <tr>\n",
       "        <td style=\"padding-left: 1em; padding-right: 1em; text-align: center; vertical-align: top\">0</td>\n",
       "        <td style=\"padding-left: 1em; padding-right: 1em; text-align: center; vertical-align: top\">1271</td>\n",
       "        <td style=\"padding-left: 1em; padding-right: 1em; text-align: center; vertical-align: top\">0</td>\n",
       "        <td style=\"padding-left: 1em; padding-right: 1em; text-align: center; vertical-align: top\">0</td>\n",
       "        <td style=\"padding-left: 1em; padding-right: 1em; text-align: center; vertical-align: top\">1</td>\n",
       "        <td style=\"padding-left: 1em; padding-right: 1em; text-align: center; vertical-align: top\">0</td>\n",
       "        <td style=\"padding-left: 1em; padding-right: 1em; text-align: center; vertical-align: top\">51</td>\n",
       "        <td style=\"padding-left: 1em; padding-right: 1em; text-align: center; vertical-align: top\">6</td>\n",
       "    </tr>\n",
       "    <tr>\n",
       "        <td style=\"padding-left: 1em; padding-right: 1em; text-align: center; vertical-align: top\">0</td>\n",
       "        <td style=\"padding-left: 1em; padding-right: 1em; text-align: center; vertical-align: top\">844</td>\n",
       "        <td style=\"padding-left: 1em; padding-right: 1em; text-align: center; vertical-align: top\">0</td>\n",
       "        <td style=\"padding-left: 1em; padding-right: 1em; text-align: center; vertical-align: top\">5</td>\n",
       "        <td style=\"padding-left: 1em; padding-right: 1em; text-align: center; vertical-align: top\">0</td>\n",
       "        <td style=\"padding-left: 1em; padding-right: 1em; text-align: center; vertical-align: top\">0</td>\n",
       "        <td style=\"padding-left: 1em; padding-right: 1em; text-align: center; vertical-align: top\">33</td>\n",
       "        <td style=\"padding-left: 1em; padding-right: 1em; text-align: center; vertical-align: top\">7</td>\n",
       "    </tr>\n",
       "    <tr>\n",
       "        <td style=\"padding-left: 1em; padding-right: 1em; text-align: center; vertical-align: top\">0</td>\n",
       "        <td style=\"padding-left: 1em; padding-right: 1em; text-align: center; vertical-align: top\">2101</td>\n",
       "        <td style=\"padding-left: 1em; padding-right: 1em; text-align: center; vertical-align: top\">0</td>\n",
       "        <td style=\"padding-left: 1em; padding-right: 1em; text-align: center; vertical-align: top\">1</td>\n",
       "        <td style=\"padding-left: 1em; padding-right: 1em; text-align: center; vertical-align: top\">1</td>\n",
       "        <td style=\"padding-left: 1em; padding-right: 1em; text-align: center; vertical-align: top\">1</td>\n",
       "        <td style=\"padding-left: 1em; padding-right: 1em; text-align: center; vertical-align: top\">24</td>\n",
       "        <td style=\"padding-left: 1em; padding-right: 1em; text-align: center; vertical-align: top\">7</td>\n",
       "    </tr>\n",
       "    <tr>\n",
       "        <td style=\"padding-left: 1em; padding-right: 1em; text-align: center; vertical-align: top\">1</td>\n",
       "        <td style=\"padding-left: 1em; padding-right: 1em; text-align: center; vertical-align: top\">35062</td>\n",
       "        <td style=\"padding-left: 1em; padding-right: 1em; text-align: center; vertical-align: top\">0</td>\n",
       "        <td style=\"padding-left: 1em; padding-right: 1em; text-align: center; vertical-align: top\">0</td>\n",
       "        <td style=\"padding-left: 1em; padding-right: 1em; text-align: center; vertical-align: top\">1</td>\n",
       "        <td style=\"padding-left: 1em; padding-right: 1em; text-align: center; vertical-align: top\">0</td>\n",
       "        <td style=\"padding-left: 1em; padding-right: 1em; text-align: center; vertical-align: top\">9</td>\n",
       "        <td style=\"padding-left: 1em; padding-right: 1em; text-align: center; vertical-align: top\">4</td>\n",
       "    </tr>\n",
       "    <tr>\n",
       "        <td style=\"padding-left: 1em; padding-right: 1em; text-align: center; vertical-align: top\">0</td>\n",
       "        <td style=\"padding-left: 1em; padding-right: 1em; text-align: center; vertical-align: top\">143</td>\n",
       "        <td style=\"padding-left: 1em; padding-right: 1em; text-align: center; vertical-align: top\">2</td>\n",
       "        <td style=\"padding-left: 1em; padding-right: 1em; text-align: center; vertical-align: top\">7</td>\n",
       "        <td style=\"padding-left: 1em; padding-right: 1em; text-align: center; vertical-align: top\">1</td>\n",
       "        <td style=\"padding-left: 1em; padding-right: 1em; text-align: center; vertical-align: top\">8</td>\n",
       "        <td style=\"padding-left: 1em; padding-right: 1em; text-align: center; vertical-align: top\">573</td>\n",
       "        <td style=\"padding-left: 1em; padding-right: 1em; text-align: center; vertical-align: top\">6</td>\n",
       "    </tr>\n",
       "    <tr>\n",
       "        <td style=\"padding-left: 1em; padding-right: 1em; text-align: center; vertical-align: top\">0</td>\n",
       "        <td style=\"padding-left: 1em; padding-right: 1em; text-align: center; vertical-align: top\">730</td>\n",
       "        <td style=\"padding-left: 1em; padding-right: 1em; text-align: center; vertical-align: top\">0</td>\n",
       "        <td style=\"padding-left: 1em; padding-right: 1em; text-align: center; vertical-align: top\">0</td>\n",
       "        <td style=\"padding-left: 1em; padding-right: 1em; text-align: center; vertical-align: top\">1</td>\n",
       "        <td style=\"padding-left: 1em; padding-right: 1em; text-align: center; vertical-align: top\">0</td>\n",
       "        <td style=\"padding-left: 1em; padding-right: 1em; text-align: center; vertical-align: top\">10</td>\n",
       "        <td style=\"padding-left: 1em; padding-right: 1em; text-align: center; vertical-align: top\">5</td>\n",
       "    </tr>\n",
       "    <tr>\n",
       "        <td style=\"padding-left: 1em; padding-right: 1em; text-align: center; vertical-align: top\">0</td>\n",
       "        <td style=\"padding-left: 1em; padding-right: 1em; text-align: center; vertical-align: top\">1211</td>\n",
       "        <td style=\"padding-left: 1em; padding-right: 1em; text-align: center; vertical-align: top\">0</td>\n",
       "        <td style=\"padding-left: 1em; padding-right: 1em; text-align: center; vertical-align: top\">1</td>\n",
       "        <td style=\"padding-left: 1em; padding-right: 1em; text-align: center; vertical-align: top\">0</td>\n",
       "        <td style=\"padding-left: 1em; padding-right: 1em; text-align: center; vertical-align: top\">6</td>\n",
       "        <td style=\"padding-left: 1em; padding-right: 1em; text-align: center; vertical-align: top\">85</td>\n",
       "        <td style=\"padding-left: 1em; padding-right: 1em; text-align: center; vertical-align: top\">45</td>\n",
       "    </tr>\n",
       "    <tr>\n",
       "        <td style=\"padding-left: 1em; padding-right: 1em; text-align: center; vertical-align: top\">0</td>\n",
       "        <td style=\"padding-left: 1em; padding-right: 1em; text-align: center; vertical-align: top\">51188</td>\n",
       "        <td style=\"padding-left: 1em; padding-right: 1em; text-align: center; vertical-align: top\">0</td>\n",
       "        <td style=\"padding-left: 1em; padding-right: 1em; text-align: center; vertical-align: top\">0</td>\n",
       "        <td style=\"padding-left: 1em; padding-right: 1em; text-align: center; vertical-align: top\">2</td>\n",
       "        <td style=\"padding-left: 1em; padding-right: 1em; text-align: center; vertical-align: top\">0</td>\n",
       "        <td style=\"padding-left: 1em; padding-right: 1em; text-align: center; vertical-align: top\">42</td>\n",
       "        <td style=\"padding-left: 1em; padding-right: 1em; text-align: center; vertical-align: top\">10</td>\n",
       "    </tr>\n",
       "    <tr>\n",
       "        <td style=\"padding-left: 1em; padding-right: 1em; text-align: center; vertical-align: top\">0</td>\n",
       "        <td style=\"padding-left: 1em; padding-right: 1em; text-align: center; vertical-align: top\">355</td>\n",
       "        <td style=\"padding-left: 1em; padding-right: 1em; text-align: center; vertical-align: top\">13</td>\n",
       "        <td style=\"padding-left: 1em; padding-right: 1em; text-align: center; vertical-align: top\">126</td>\n",
       "        <td style=\"padding-left: 1em; padding-right: 1em; text-align: center; vertical-align: top\">2</td>\n",
       "        <td style=\"padding-left: 1em; padding-right: 1em; text-align: center; vertical-align: top\">45</td>\n",
       "        <td style=\"padding-left: 1em; padding-right: 1em; text-align: center; vertical-align: top\">1870</td>\n",
       "        <td style=\"padding-left: 1em; padding-right: 1em; text-align: center; vertical-align: top\">16</td>\n",
       "    </tr>\n",
       "    <tr>\n",
       "        <td style=\"padding-left: 1em; padding-right: 1em; text-align: center; vertical-align: top\">0</td>\n",
       "        <td style=\"padding-left: 1em; padding-right: 1em; text-align: center; vertical-align: top\">3316</td>\n",
       "        <td style=\"padding-left: 1em; padding-right: 1em; text-align: center; vertical-align: top\">0</td>\n",
       "        <td style=\"padding-left: 1em; padding-right: 1em; text-align: center; vertical-align: top\">16</td>\n",
       "        <td style=\"padding-left: 1em; padding-right: 1em; text-align: center; vertical-align: top\">1</td>\n",
       "        <td style=\"padding-left: 1em; padding-right: 1em; text-align: center; vertical-align: top\">7</td>\n",
       "        <td style=\"padding-left: 1em; padding-right: 1em; text-align: center; vertical-align: top\">326</td>\n",
       "        <td style=\"padding-left: 1em; padding-right: 1em; text-align: center; vertical-align: top\">2</td>\n",
       "    </tr>\n",
       "</table>\n",
       "<table frame=\"box\" rules=\"cols\">\n",
       "    <tr>\n",
       "        <th style=\"padding-left: 1em; padding-right: 1em; text-align: center\">resized_image</th>\n",
       "        <th style=\"padding-left: 1em; padding-right: 1em; text-align: center\">deep_.resized_image</th>\n",
       "    </tr>\n",
       "    <tr>\n",
       "        <td style=\"padding-left: 1em; padding-right: 1em; text-align: center; vertical-align: top\">Height: 600 Width: 800</td>\n",
       "        <td style=\"padding-left: 1em; padding-right: 1em; text-align: center; vertical-align: top\">[0.0, 0.941487908363,<br>0.0, 0.0, 0.0, 0.0, 0.0, ...</td>\n",
       "    </tr>\n",
       "    <tr>\n",
       "        <td style=\"padding-left: 1em; padding-right: 1em; text-align: center; vertical-align: top\">Height: 600 Width: 800</td>\n",
       "        <td style=\"padding-left: 1em; padding-right: 1em; text-align: center; vertical-align: top\">[0.0, 0.0,<br>0.893800735474, 0.0, ...</td>\n",
       "    </tr>\n",
       "    <tr>\n",
       "        <td style=\"padding-left: 1em; padding-right: 1em; text-align: center; vertical-align: top\">Height: 600 Width: 800</td>\n",
       "        <td style=\"padding-left: 1em; padding-right: 1em; text-align: center; vertical-align: top\">[0.0, 0.0, 0.0, 0.0,<br>3.43029117584, 0.0, 0.0, ...</td>\n",
       "    </tr>\n",
       "    <tr>\n",
       "        <td style=\"padding-left: 1em; padding-right: 1em; text-align: center; vertical-align: top\">Height: 600 Width: 800</td>\n",
       "        <td style=\"padding-left: 1em; padding-right: 1em; text-align: center; vertical-align: top\">[0.0, 0.0,<br>0.130897581577, ...</td>\n",
       "    </tr>\n",
       "    <tr>\n",
       "        <td style=\"padding-left: 1em; padding-right: 1em; text-align: center; vertical-align: top\">Height: 600 Width: 800</td>\n",
       "        <td style=\"padding-left: 1em; padding-right: 1em; text-align: center; vertical-align: top\">[0.0, 0.0, 0.0,<br>1.4429898262, 0.0, 0.0, ...</td>\n",
       "    </tr>\n",
       "    <tr>\n",
       "        <td style=\"padding-left: 1em; padding-right: 1em; text-align: center; vertical-align: top\">Height: 600 Width: 800</td>\n",
       "        <td style=\"padding-left: 1em; padding-right: 1em; text-align: center; vertical-align: top\">[0.0, 0.0, 0.0,<br>0.401901721954, 0.0,  ...</td>\n",
       "    </tr>\n",
       "    <tr>\n",
       "        <td style=\"padding-left: 1em; padding-right: 1em; text-align: center; vertical-align: top\">Height: 600 Width: 800</td>\n",
       "        <td style=\"padding-left: 1em; padding-right: 1em; text-align: center; vertical-align: top\">[0.0, 0.0, 0.0, 0.0, 0.0,<br>0.0, 0.0, 0.0, 0.0, 0.0, ...</td>\n",
       "    </tr>\n",
       "    <tr>\n",
       "        <td style=\"padding-left: 1em; padding-right: 1em; text-align: center; vertical-align: top\">Height: 600 Width: 800</td>\n",
       "        <td style=\"padding-left: 1em; padding-right: 1em; text-align: center; vertical-align: top\">[0.0, 0.244087398052,<br>0.0, 0.926801741123,  ...</td>\n",
       "    </tr>\n",
       "    <tr>\n",
       "        <td style=\"padding-left: 1em; padding-right: 1em; text-align: center; vertical-align: top\">Height: 600 Width: 800</td>\n",
       "        <td style=\"padding-left: 1em; padding-right: 1em; text-align: center; vertical-align: top\">[0.0, 0.0,<br>0.257771253586, 0.0, ...</td>\n",
       "    </tr>\n",
       "    <tr>\n",
       "        <td style=\"padding-left: 1em; padding-right: 1em; text-align: center; vertical-align: top\">Height: 600 Width: 800</td>\n",
       "        <td style=\"padding-left: 1em; padding-right: 1em; text-align: center; vertical-align: top\">[0.0, 0.0, 0.0, 0.0, 0.0,<br>0.0, 0.0, 0.0, 0.0, 0.0, ...</td>\n",
       "    </tr>\n",
       "</table>\n",
       "[10 rows x 16 columns]<br/>\n",
       "</div>"
      ],
      "text/plain": [
       "Columns:\n",
       "\tpath\tstr\n",
       "\timage\tImage\n",
       "\tfilename\tstr\n",
       "\towner\tstr\n",
       "\tid\tint\n",
       "\tuser_is_pro\tint\n",
       "\tuser_can_buy_pro\tint\n",
       "\tuser_total_views\tint\n",
       "\timage_ncomments\tint\n",
       "\timage_nfavs\tint\n",
       "\timage_nsets\tint\n",
       "\timage_npools\tint\n",
       "\timage_views\tint\n",
       "\timage_ntags\tint\n",
       "\tresized_image\tImage\n",
       "\tdeep_.resized_image\tarray\n",
       "\n",
       "Rows: 10\n",
       "\n",
       "Data:\n",
       "+-------------------------------+--------------------------+\n",
       "|              path             |          image           |\n",
       "+-------------------------------+--------------------------+\n",
       "| /home/ubuntu/efs/GIT/Photo... | Height: 1601 Width: 1067 |\n",
       "| /home/ubuntu/efs/GIT/Photo... | Height: 1065 Width: 1600 |\n",
       "| /home/ubuntu/efs/GIT/Photo... | Height: 1066 Width: 1600 |\n",
       "| /home/ubuntu/efs/GIT/Photo... | Height: 1200 Width: 1600 |\n",
       "| /home/ubuntu/efs/GIT/Photo... | Height: 860 Width: 1600  |\n",
       "| /home/ubuntu/efs/GIT/Photo... | Height: 1067 Width: 1600 |\n",
       "| /home/ubuntu/efs/GIT/Photo... | Height: 1139 Width: 1600 |\n",
       "| /home/ubuntu/efs/GIT/Photo... | Height: 1202 Width: 1600 |\n",
       "| /home/ubuntu/efs/GIT/Photo... | Height: 900 Width: 1600  |\n",
       "| /home/ubuntu/efs/GIT/Photo... | Height: 596 Width: 1024  |\n",
       "+-------------------------------+--------------------------+\n",
       "+-------------------------------+---------------+-------------+-------------+------------------+\n",
       "|            filename           |     owner     |      id     | user_is_pro | user_can_buy_pro |\n",
       "+-------------------------------+---------------+-------------+-------------+------------------+\n",
       "|  13342549@N08_7539228342.jpg  |  13342549@N08 |  7539228342 |      0      |        0         |\n",
       "|  35006702@N00_26600332142.jpg |  35006702@N00 | 26600332142 |      1      |        0         |\n",
       "|  73199107@N05_25064238174.jpg |  73199107@N05 | 25064238174 |      0      |        0         |\n",
       "|  48587703@N00_16424970432.jpg |  48587703@N00 | 16424970432 |      0      |        1         |\n",
       "| 128817646@N07_24454808223.jpg | 128817646@N07 | 24454808223 |      0      |        0         |\n",
       "|  9477623@N03_24273987665.jpg  |  9477623@N03  | 24273987665 |      1      |        0         |\n",
       "|  89806999@N08_26907876823.jpg |  89806999@N08 | 26907876823 |      1      |        0         |\n",
       "|  28527690@N07_26526226645.jpg |  28527690@N07 | 26526226645 |      1      |        0         |\n",
       "|  64233859@N06_22241370296.jpg |  64233859@N06 | 22241370296 |      1      |        0         |\n",
       "|  86696434@N05_26683049506.jpg |  86696434@N05 | 26683049506 |      0      |        0         |\n",
       "+-------------------------------+---------------+-------------+-------------+------------------+\n",
       "+------------------+-----------------+-------------+-------------+--------------+\n",
       "| user_total_views | image_ncomments | image_nfavs | image_nsets | image_npools |\n",
       "+------------------+-----------------+-------------+-------------+--------------+\n",
       "|       1271       |        0        |      0      |      1      |      0       |\n",
       "|       844        |        0        |      5      |      0      |      0       |\n",
       "|       2101       |        0        |      1      |      1      |      1       |\n",
       "|      35062       |        0        |      0      |      1      |      0       |\n",
       "|       143        |        2        |      7      |      1      |      8       |\n",
       "|       730        |        0        |      0      |      1      |      0       |\n",
       "|       1211       |        0        |      1      |      0      |      6       |\n",
       "|      51188       |        0        |      0      |      2      |      0       |\n",
       "|       355        |        13       |     126     |      2      |      45      |\n",
       "|       3316       |        0        |      16     |      1      |      7       |\n",
       "+------------------+-----------------+-------------+-------------+--------------+\n",
       "+-------------+-------------+------------------------+\n",
       "| image_views | image_ntags |     resized_image      |\n",
       "+-------------+-------------+------------------------+\n",
       "|      51     |      6      | Height: 600 Width: 800 |\n",
       "|      33     |      7      | Height: 600 Width: 800 |\n",
       "|      24     |      7      | Height: 600 Width: 800 |\n",
       "|      9      |      4      | Height: 600 Width: 800 |\n",
       "|     573     |      6      | Height: 600 Width: 800 |\n",
       "|      10     |      5      | Height: 600 Width: 800 |\n",
       "|      85     |      45     | Height: 600 Width: 800 |\n",
       "|      42     |      10     | Height: 600 Width: 800 |\n",
       "|     1870    |      16     | Height: 600 Width: 800 |\n",
       "|     326     |      2      | Height: 600 Width: 800 |\n",
       "+-------------+-------------+------------------------+\n",
       "+-------------------------------+\n",
       "|      deep_.resized_image      |\n",
       "+-------------------------------+\n",
       "| [0.0, 0.941487908363, 0.0,... |\n",
       "| [0.0, 0.0, 0.893800735474,... |\n",
       "| [0.0, 0.0, 0.0, 0.0, 3.430... |\n",
       "| [0.0, 0.0, 0.130897581577,... |\n",
       "| [0.0, 0.0, 0.0, 1.44298982... |\n",
       "| [0.0, 0.0, 0.0, 0.40190172... |\n",
       "| [0.0, 0.0, 0.0, 0.0, 0.0, ... |\n",
       "| [0.0, 0.244087398052, 0.0,... |\n",
       "| [0.0, 0.0, 0.257771253586,... |\n",
       "| [0.0, 0.0, 0.0, 0.0, 0.0, ... |\n",
       "+-------------------------------+\n",
       "[10 rows x 16 columns]"
      ]
     },
     "execution_count": 25,
     "metadata": {},
     "output_type": "execute_result"
    }
   ],
   "source": [
    "images_train.head()"
   ]
  },
  {
   "cell_type": "code",
   "execution_count": 26,
   "metadata": {
    "collapsed": false
   },
   "outputs": [
    {
     "name": "stdout",
     "output_type": "stream",
     "text": [
      "PROGRESS: Creating a validation set from 5 percent of training data. This may take a while.\n",
      "          You can set ``validation_set=None`` to disable validation tracking.\n",
      "\n"
     ]
    },
    {
     "data": {
      "text/html": [
       "<pre>WARNING: The number of feature dimensions in this problem is very large in comparison with the number of examples. Unless an appropriate regularization value is set, this model may not provide accurate predictions for a validation/test set.</pre>"
      ],
      "text/plain": [
       "WARNING: The number of feature dimensions in this problem is very large in comparison with the number of examples. Unless an appropriate regularization value is set, this model may not provide accurate predictions for a validation/test set."
      ]
     },
     "metadata": {},
     "output_type": "display_data"
    },
    {
     "data": {
      "text/html": [
       "<pre>Linear regression:</pre>"
      ],
      "text/plain": [
       "Linear regression:"
      ]
     },
     "metadata": {},
     "output_type": "display_data"
    },
    {
     "data": {
      "text/html": [
       "<pre>--------------------------------------------------------</pre>"
      ],
      "text/plain": [
       "--------------------------------------------------------"
      ]
     },
     "metadata": {},
     "output_type": "display_data"
    },
    {
     "data": {
      "text/html": [
       "<pre>Number of examples          : 3780</pre>"
      ],
      "text/plain": [
       "Number of examples          : 3780"
      ]
     },
     "metadata": {},
     "output_type": "display_data"
    },
    {
     "data": {
      "text/html": [
       "<pre>Number of features          : 1</pre>"
      ],
      "text/plain": [
       "Number of features          : 1"
      ]
     },
     "metadata": {},
     "output_type": "display_data"
    },
    {
     "data": {
      "text/html": [
       "<pre>Number of unpacked features : 4096</pre>"
      ],
      "text/plain": [
       "Number of unpacked features : 4096"
      ]
     },
     "metadata": {},
     "output_type": "display_data"
    },
    {
     "data": {
      "text/html": [
       "<pre>Number of coefficients    : 4097</pre>"
      ],
      "text/plain": [
       "Number of coefficients    : 4097"
      ]
     },
     "metadata": {},
     "output_type": "display_data"
    },
    {
     "data": {
      "text/html": [
       "<pre>Starting L-BFGS</pre>"
      ],
      "text/plain": [
       "Starting L-BFGS"
      ]
     },
     "metadata": {},
     "output_type": "display_data"
    },
    {
     "data": {
      "text/html": [
       "<pre>--------------------------------------------------------</pre>"
      ],
      "text/plain": [
       "--------------------------------------------------------"
      ]
     },
     "metadata": {},
     "output_type": "display_data"
    },
    {
     "data": {
      "text/html": [
       "<pre>+-----------+----------+-----------+--------------+--------------------+----------------------+---------------+-----------------+</pre>"
      ],
      "text/plain": [
       "+-----------+----------+-----------+--------------+--------------------+----------------------+---------------+-----------------+"
      ]
     },
     "metadata": {},
     "output_type": "display_data"
    },
    {
     "data": {
      "text/html": [
       "<pre>| Iteration | Passes   | Step size | Elapsed Time | Training-max_error | Validation-max_error | Training-rmse | Validation-rmse |</pre>"
      ],
      "text/plain": [
       "| Iteration | Passes   | Step size | Elapsed Time | Training-max_error | Validation-max_error | Training-rmse | Validation-rmse |"
      ]
     },
     "metadata": {},
     "output_type": "display_data"
    },
    {
     "data": {
      "text/html": [
       "<pre>+-----------+----------+-----------+--------------+--------------------+----------------------+---------------+-----------------+</pre>"
      ],
      "text/plain": [
       "+-----------+----------+-----------+--------------+--------------------+----------------------+---------------+-----------------+"
      ]
     },
     "metadata": {},
     "output_type": "display_data"
    },
    {
     "data": {
      "text/html": [
       "<pre>| 1         | 6        | 0.000000  | 1.484570     | 48846.421050       | 16313.760408         | 2295.681076   | 1469.353911     |</pre>"
      ],
      "text/plain": [
       "| 1         | 6        | 0.000000  | 1.484570     | 48846.421050       | 16313.760408         | 2295.681076   | 1469.353911     |"
      ]
     },
     "metadata": {},
     "output_type": "display_data"
    },
    {
     "data": {
      "text/html": [
       "<pre>| 2         | 9        | 5.000000  | 1.830124     | 48534.440570       | 16039.109842         | 2265.929889   | 1446.869196     |</pre>"
      ],
      "text/plain": [
       "| 2         | 9        | 5.000000  | 1.830124     | 48534.440570       | 16039.109842         | 2265.929889   | 1446.869196     |"
      ]
     },
     "metadata": {},
     "output_type": "display_data"
    },
    {
     "data": {
      "text/html": [
       "<pre>| 3         | 10       | 5.000000  | 1.994955     | 46583.334069       | 13638.642935         | 2380.826565   | 1904.788019     |</pre>"
      ],
      "text/plain": [
       "| 3         | 10       | 5.000000  | 1.994955     | 46583.334069       | 13638.642935         | 2380.826565   | 1904.788019     |"
      ]
     },
     "metadata": {},
     "output_type": "display_data"
    },
    {
     "data": {
      "text/html": [
       "<pre>| 4         | 12       | 1.000000  | 2.243199     | 48041.184824       | 15559.575984         | 2249.237011   | 1647.541655     |</pre>"
      ],
      "text/plain": [
       "| 4         | 12       | 1.000000  | 2.243199     | 48041.184824       | 15559.575984         | 2249.237011   | 1647.541655     |"
      ]
     },
     "metadata": {},
     "output_type": "display_data"
    },
    {
     "data": {
      "text/html": [
       "<pre>| 5         | 13       | 1.000000  | 2.422997     | 47375.521729       | 15112.129112         | 2154.720862   | 1539.536134     |</pre>"
      ],
      "text/plain": [
       "| 5         | 13       | 1.000000  | 2.422997     | 47375.521729       | 15112.129112         | 2154.720862   | 1539.536134     |"
      ]
     },
     "metadata": {},
     "output_type": "display_data"
    },
    {
     "data": {
      "text/html": [
       "<pre>| 6         | 14       | 1.000000  | 2.600285     | 47312.046300       | 15098.103022         | 2146.493334   | 1526.627041     |</pre>"
      ],
      "text/plain": [
       "| 6         | 14       | 1.000000  | 2.600285     | 47312.046300       | 15098.103022         | 2146.493334   | 1526.627041     |"
      ]
     },
     "metadata": {},
     "output_type": "display_data"
    },
    {
     "data": {
      "text/html": [
       "<pre>| 10        | 18       | 1.000000  | 3.258500     | 41024.701261       | 13906.720159         | 1841.779074   | 1785.469245     |</pre>"
      ],
      "text/plain": [
       "| 10        | 18       | 1.000000  | 3.258500     | 41024.701261       | 13906.720159         | 1841.779074   | 1785.469245     |"
      ]
     },
     "metadata": {},
     "output_type": "display_data"
    },
    {
     "data": {
      "text/html": [
       "<pre>+-----------+----------+-----------+--------------+--------------------+----------------------+---------------+-----------------+</pre>"
      ],
      "text/plain": [
       "+-----------+----------+-----------+--------------+--------------------+----------------------+---------------+-----------------+"
      ]
     },
     "metadata": {},
     "output_type": "display_data"
    },
    {
     "data": {
      "text/html": [
       "<pre>TERMINATED: Iteration limit reached.</pre>"
      ],
      "text/plain": [
       "TERMINATED: Iteration limit reached."
      ]
     },
     "metadata": {},
     "output_type": "display_data"
    },
    {
     "data": {
      "text/html": [
       "<pre>This model may not be optimal. To improve it, consider increasing `max_iterations`.</pre>"
      ],
      "text/plain": [
       "This model may not be optimal. To improve it, consider increasing `max_iterations`."
      ]
     },
     "metadata": {},
     "output_type": "display_data"
    }
   ],
   "source": [
    "model_regression_imageviews = gl.linear_regression.create(images_train, target='image_views', features=['deep_.resized_image'])"
   ]
  },
  {
   "cell_type": "code",
   "execution_count": 30,
   "metadata": {
    "collapsed": false
   },
   "outputs": [
    {
     "name": "stdout",
     "output_type": "stream",
     "text": [
      "PROGRESS: Creating a validation set from 5 percent of training data. This may take a while.\n",
      "          You can set ``validation_set=None`` to disable validation tracking.\n",
      "\n",
      "PROGRESS: The following methods are available for this type of problem.\n",
      "PROGRESS: LogisticClassifier, SVMClassifier\n",
      "PROGRESS: The returned model will be chosen according to validation accuracy.\n"
     ]
    },
    {
     "data": {
      "text/html": [
       "<pre>WARNING: The number of feature dimensions in this problem is very large in comparison with the number of examples. Unless an appropriate regularization value is set, this model may not provide accurate predictions for a validation/test set.</pre>"
      ],
      "text/plain": [
       "WARNING: The number of feature dimensions in this problem is very large in comparison with the number of examples. Unless an appropriate regularization value is set, this model may not provide accurate predictions for a validation/test set."
      ]
     },
     "metadata": {},
     "output_type": "display_data"
    },
    {
     "data": {
      "text/html": [
       "<pre>Logistic regression:</pre>"
      ],
      "text/plain": [
       "Logistic regression:"
      ]
     },
     "metadata": {},
     "output_type": "display_data"
    },
    {
     "data": {
      "text/html": [
       "<pre>--------------------------------------------------------</pre>"
      ],
      "text/plain": [
       "--------------------------------------------------------"
      ]
     },
     "metadata": {},
     "output_type": "display_data"
    },
    {
     "data": {
      "text/html": [
       "<pre>Number of examples          : 3781</pre>"
      ],
      "text/plain": [
       "Number of examples          : 3781"
      ]
     },
     "metadata": {},
     "output_type": "display_data"
    },
    {
     "data": {
      "text/html": [
       "<pre>Number of classes           : 2</pre>"
      ],
      "text/plain": [
       "Number of classes           : 2"
      ]
     },
     "metadata": {},
     "output_type": "display_data"
    },
    {
     "data": {
      "text/html": [
       "<pre>Number of feature columns   : 1</pre>"
      ],
      "text/plain": [
       "Number of feature columns   : 1"
      ]
     },
     "metadata": {},
     "output_type": "display_data"
    },
    {
     "data": {
      "text/html": [
       "<pre>Number of unpacked features : 4096</pre>"
      ],
      "text/plain": [
       "Number of unpacked features : 4096"
      ]
     },
     "metadata": {},
     "output_type": "display_data"
    },
    {
     "data": {
      "text/html": [
       "<pre>Number of coefficients    : 4097</pre>"
      ],
      "text/plain": [
       "Number of coefficients    : 4097"
      ]
     },
     "metadata": {},
     "output_type": "display_data"
    },
    {
     "data": {
      "text/html": [
       "<pre>Starting L-BFGS</pre>"
      ],
      "text/plain": [
       "Starting L-BFGS"
      ]
     },
     "metadata": {},
     "output_type": "display_data"
    },
    {
     "data": {
      "text/html": [
       "<pre>--------------------------------------------------------</pre>"
      ],
      "text/plain": [
       "--------------------------------------------------------"
      ]
     },
     "metadata": {},
     "output_type": "display_data"
    },
    {
     "data": {
      "text/html": [
       "<pre>+-----------+----------+-----------+--------------+-------------------+---------------------+</pre>"
      ],
      "text/plain": [
       "+-----------+----------+-----------+--------------+-------------------+---------------------+"
      ]
     },
     "metadata": {},
     "output_type": "display_data"
    },
    {
     "data": {
      "text/html": [
       "<pre>| Iteration | Passes   | Step size | Elapsed Time | Training-accuracy | Validation-accuracy |</pre>"
      ],
      "text/plain": [
       "| Iteration | Passes   | Step size | Elapsed Time | Training-accuracy | Validation-accuracy |"
      ]
     },
     "metadata": {},
     "output_type": "display_data"
    },
    {
     "data": {
      "text/html": [
       "<pre>+-----------+----------+-----------+--------------+-------------------+---------------------+</pre>"
      ],
      "text/plain": [
       "+-----------+----------+-----------+--------------+-------------------+---------------------+"
      ]
     },
     "metadata": {},
     "output_type": "display_data"
    },
    {
     "data": {
      "text/html": [
       "<pre>| 1         | 6        | 0.000008  | 0.537149     | 0.592171          | 0.563725            |</pre>"
      ],
      "text/plain": [
       "| 1         | 6        | 0.000008  | 0.537149     | 0.592171          | 0.563725            |"
      ]
     },
     "metadata": {},
     "output_type": "display_data"
    },
    {
     "data": {
      "text/html": [
       "<pre>| 2         | 8        | 1.000000  | 0.797663     | 0.588204          | 0.602941            |</pre>"
      ],
      "text/plain": [
       "| 2         | 8        | 1.000000  | 0.797663     | 0.588204          | 0.602941            |"
      ]
     },
     "metadata": {},
     "output_type": "display_data"
    },
    {
     "data": {
      "text/html": [
       "<pre>| 3         | 9        | 1.000000  | 0.984292     | 0.597990          | 0.583333            |</pre>"
      ],
      "text/plain": [
       "| 3         | 9        | 1.000000  | 0.984292     | 0.597990          | 0.583333            |"
      ]
     },
     "metadata": {},
     "output_type": "display_data"
    },
    {
     "data": {
      "text/html": [
       "<pre>| 4         | 10       | 1.000000  | 1.155034     | 0.636604          | 0.583333            |</pre>"
      ],
      "text/plain": [
       "| 4         | 10       | 1.000000  | 1.155034     | 0.636604          | 0.583333            |"
      ]
     },
     "metadata": {},
     "output_type": "display_data"
    },
    {
     "data": {
      "text/html": [
       "<pre>| 5         | 11       | 1.000000  | 1.329098     | 0.658556          | 0.612745            |</pre>"
      ],
      "text/plain": [
       "| 5         | 11       | 1.000000  | 1.329098     | 0.658556          | 0.612745            |"
      ]
     },
     "metadata": {},
     "output_type": "display_data"
    },
    {
     "data": {
      "text/html": [
       "<pre>| 6         | 12       | 1.000000  | 1.498890     | 0.666755          | 0.642157            |</pre>"
      ],
      "text/plain": [
       "| 6         | 12       | 1.000000  | 1.498890     | 0.666755          | 0.642157            |"
      ]
     },
     "metadata": {},
     "output_type": "display_data"
    },
    {
     "data": {
      "text/html": [
       "<pre>| 10        | 16       | 1.000000  | 2.211302     | 0.738958          | 0.656863            |</pre>"
      ],
      "text/plain": [
       "| 10        | 16       | 1.000000  | 2.211302     | 0.738958          | 0.656863            |"
      ]
     },
     "metadata": {},
     "output_type": "display_data"
    },
    {
     "data": {
      "text/html": [
       "<pre>+-----------+----------+-----------+--------------+-------------------+---------------------+</pre>"
      ],
      "text/plain": [
       "+-----------+----------+-----------+--------------+-------------------+---------------------+"
      ]
     },
     "metadata": {},
     "output_type": "display_data"
    },
    {
     "data": {
      "text/html": [
       "<pre>TERMINATED: Iteration limit reached.</pre>"
      ],
      "text/plain": [
       "TERMINATED: Iteration limit reached."
      ]
     },
     "metadata": {},
     "output_type": "display_data"
    },
    {
     "data": {
      "text/html": [
       "<pre>This model may not be optimal. To improve it, consider increasing `max_iterations`.</pre>"
      ],
      "text/plain": [
       "This model may not be optimal. To improve it, consider increasing `max_iterations`."
      ]
     },
     "metadata": {},
     "output_type": "display_data"
    },
    {
     "data": {
      "text/html": [
       "<pre>WARNING: The number of feature dimensions in this problem is very large in comparison with the number of examples. Unless an appropriate regularization value is set, this model may not provide accurate predictions for a validation/test set.</pre>"
      ],
      "text/plain": [
       "WARNING: The number of feature dimensions in this problem is very large in comparison with the number of examples. Unless an appropriate regularization value is set, this model may not provide accurate predictions for a validation/test set."
      ]
     },
     "metadata": {},
     "output_type": "display_data"
    },
    {
     "data": {
      "text/html": [
       "<pre>SVM:</pre>"
      ],
      "text/plain": [
       "SVM:"
      ]
     },
     "metadata": {},
     "output_type": "display_data"
    },
    {
     "data": {
      "text/html": [
       "<pre>--------------------------------------------------------</pre>"
      ],
      "text/plain": [
       "--------------------------------------------------------"
      ]
     },
     "metadata": {},
     "output_type": "display_data"
    },
    {
     "data": {
      "text/html": [
       "<pre>Number of examples          : 3781</pre>"
      ],
      "text/plain": [
       "Number of examples          : 3781"
      ]
     },
     "metadata": {},
     "output_type": "display_data"
    },
    {
     "data": {
      "text/html": [
       "<pre>Number of classes           : 2</pre>"
      ],
      "text/plain": [
       "Number of classes           : 2"
      ]
     },
     "metadata": {},
     "output_type": "display_data"
    },
    {
     "data": {
      "text/html": [
       "<pre>Number of feature columns   : 1</pre>"
      ],
      "text/plain": [
       "Number of feature columns   : 1"
      ]
     },
     "metadata": {},
     "output_type": "display_data"
    },
    {
     "data": {
      "text/html": [
       "<pre>Number of unpacked features : 4096</pre>"
      ],
      "text/plain": [
       "Number of unpacked features : 4096"
      ]
     },
     "metadata": {},
     "output_type": "display_data"
    },
    {
     "data": {
      "text/html": [
       "<pre>Number of coefficients    : 4097</pre>"
      ],
      "text/plain": [
       "Number of coefficients    : 4097"
      ]
     },
     "metadata": {},
     "output_type": "display_data"
    },
    {
     "data": {
      "text/html": [
       "<pre>Starting L-BFGS</pre>"
      ],
      "text/plain": [
       "Starting L-BFGS"
      ]
     },
     "metadata": {},
     "output_type": "display_data"
    },
    {
     "data": {
      "text/html": [
       "<pre>--------------------------------------------------------</pre>"
      ],
      "text/plain": [
       "--------------------------------------------------------"
      ]
     },
     "metadata": {},
     "output_type": "display_data"
    },
    {
     "data": {
      "text/html": [
       "<pre>+-----------+----------+-----------+--------------+-------------------+---------------------+</pre>"
      ],
      "text/plain": [
       "+-----------+----------+-----------+--------------+-------------------+---------------------+"
      ]
     },
     "metadata": {},
     "output_type": "display_data"
    },
    {
     "data": {
      "text/html": [
       "<pre>| Iteration | Passes   | Step size | Elapsed Time | Training-accuracy | Validation-accuracy |</pre>"
      ],
      "text/plain": [
       "| Iteration | Passes   | Step size | Elapsed Time | Training-accuracy | Validation-accuracy |"
      ]
     },
     "metadata": {},
     "output_type": "display_data"
    },
    {
     "data": {
      "text/html": [
       "<pre>+-----------+----------+-----------+--------------+-------------------+---------------------+</pre>"
      ],
      "text/plain": [
       "+-----------+----------+-----------+--------------+-------------------+---------------------+"
      ]
     },
     "metadata": {},
     "output_type": "display_data"
    },
    {
     "data": {
      "text/html": [
       "<pre>| 1         | 8        | 0.000007  | 0.537794     | 0.592171          | 0.563725            |</pre>"
      ],
      "text/plain": [
       "| 1         | 8        | 0.000007  | 0.537794     | 0.592171          | 0.563725            |"
      ]
     },
     "metadata": {},
     "output_type": "display_data"
    },
    {
     "data": {
      "text/html": [
       "<pre>| 2         | 10       | 1.000000  | 0.780807     | 0.600899          | 0.588235            |</pre>"
      ],
      "text/plain": [
       "| 2         | 10       | 1.000000  | 0.780807     | 0.600899          | 0.588235            |"
      ]
     },
     "metadata": {},
     "output_type": "display_data"
    },
    {
     "data": {
      "text/html": [
       "<pre>| 3         | 11       | 1.000000  | 0.944228     | 0.605395          | 0.573529            |</pre>"
      ],
      "text/plain": [
       "| 3         | 11       | 1.000000  | 0.944228     | 0.605395          | 0.573529            |"
      ]
     },
     "metadata": {},
     "output_type": "display_data"
    },
    {
     "data": {
      "text/html": [
       "<pre>| 4         | 12       | 1.000000  | 1.098830     | 0.598783          | 0.568627            |</pre>"
      ],
      "text/plain": [
       "| 4         | 12       | 1.000000  | 1.098830     | 0.598783          | 0.568627            |"
      ]
     },
     "metadata": {},
     "output_type": "display_data"
    },
    {
     "data": {
      "text/html": [
       "<pre>| 5         | 13       | 1.000000  | 1.261879     | 0.601428          | 0.573529            |</pre>"
      ],
      "text/plain": [
       "| 5         | 13       | 1.000000  | 1.261879     | 0.601428          | 0.573529            |"
      ]
     },
     "metadata": {},
     "output_type": "display_data"
    },
    {
     "data": {
      "text/html": [
       "<pre>| 6         | 14       | 1.000000  | 1.426482     | 0.603544          | 0.573529            |</pre>"
      ],
      "text/plain": [
       "| 6         | 14       | 1.000000  | 1.426482     | 0.603544          | 0.573529            |"
      ]
     },
     "metadata": {},
     "output_type": "display_data"
    },
    {
     "data": {
      "text/html": [
       "<pre>| 10        | 18       | 1.000000  | 2.126899     | 0.695054          | 0.637255            |</pre>"
      ],
      "text/plain": [
       "| 10        | 18       | 1.000000  | 2.126899     | 0.695054          | 0.637255            |"
      ]
     },
     "metadata": {},
     "output_type": "display_data"
    },
    {
     "data": {
      "text/html": [
       "<pre>+-----------+----------+-----------+--------------+-------------------+---------------------+</pre>"
      ],
      "text/plain": [
       "+-----------+----------+-----------+--------------+-------------------+---------------------+"
      ]
     },
     "metadata": {},
     "output_type": "display_data"
    },
    {
     "data": {
      "text/html": [
       "<pre>TERMINATED: Iteration limit reached.</pre>"
      ],
      "text/plain": [
       "TERMINATED: Iteration limit reached."
      ]
     },
     "metadata": {},
     "output_type": "display_data"
    },
    {
     "data": {
      "text/html": [
       "<pre>This model may not be optimal. To improve it, consider increasing `max_iterations`.</pre>"
      ],
      "text/plain": [
       "This model may not be optimal. To improve it, consider increasing `max_iterations`."
      ]
     },
     "metadata": {},
     "output_type": "display_data"
    },
    {
     "name": "stdout",
     "output_type": "stream",
     "text": [
      "PROGRESS: Model selection based on validation accuracy:\n",
      "PROGRESS: ---------------------------------------------\n",
      "PROGRESS: LogisticClassifier              : 0.656863\n",
      "PROGRESS: SVMClassifier                   : 0.637255\n",
      "PROGRESS: ---------------------------------------------\n",
      "PROGRESS: Selecting LogisticClassifier based on validation set performance.\n"
     ]
    }
   ],
   "source": [
    "model_classifier_ispro = gl.classifier.create(images_train, target='user_is_pro', features=['deep_.resized_image'])"
   ]
  },
  {
   "cell_type": "code",
   "execution_count": 72,
   "metadata": {
    "collapsed": false
   },
   "outputs": [
    {
     "name": "stdout",
     "output_type": "stream",
     "text": [
      "PROGRESS: Creating a validation set from 5 percent of training data. This may take a while.\n",
      "          You can set ``validation_set=None`` to disable validation tracking.\n",
      "\n"
     ]
    },
    {
     "data": {
      "text/html": [
       "<pre>WARNING: The number of feature dimensions in this problem is very large in comparison with the number of examples. Unless an appropriate regularization value is set, this model may not provide accurate predictions for a validation/test set.</pre>"
      ],
      "text/plain": [
       "WARNING: The number of feature dimensions in this problem is very large in comparison with the number of examples. Unless an appropriate regularization value is set, this model may not provide accurate predictions for a validation/test set."
      ]
     },
     "metadata": {},
     "output_type": "display_data"
    },
    {
     "data": {
      "text/html": [
       "<pre>SVM:</pre>"
      ],
      "text/plain": [
       "SVM:"
      ]
     },
     "metadata": {},
     "output_type": "display_data"
    },
    {
     "data": {
      "text/html": [
       "<pre>--------------------------------------------------------</pre>"
      ],
      "text/plain": [
       "--------------------------------------------------------"
      ]
     },
     "metadata": {},
     "output_type": "display_data"
    },
    {
     "data": {
      "text/html": [
       "<pre>Number of examples          : 3781</pre>"
      ],
      "text/plain": [
       "Number of examples          : 3781"
      ]
     },
     "metadata": {},
     "output_type": "display_data"
    },
    {
     "data": {
      "text/html": [
       "<pre>Number of classes           : 2</pre>"
      ],
      "text/plain": [
       "Number of classes           : 2"
      ]
     },
     "metadata": {},
     "output_type": "display_data"
    },
    {
     "data": {
      "text/html": [
       "<pre>Number of feature columns   : 1</pre>"
      ],
      "text/plain": [
       "Number of feature columns   : 1"
      ]
     },
     "metadata": {},
     "output_type": "display_data"
    },
    {
     "data": {
      "text/html": [
       "<pre>Number of unpacked features : 4096</pre>"
      ],
      "text/plain": [
       "Number of unpacked features : 4096"
      ]
     },
     "metadata": {},
     "output_type": "display_data"
    },
    {
     "data": {
      "text/html": [
       "<pre>Number of coefficients    : 4097</pre>"
      ],
      "text/plain": [
       "Number of coefficients    : 4097"
      ]
     },
     "metadata": {},
     "output_type": "display_data"
    },
    {
     "data": {
      "text/html": [
       "<pre>Starting L-BFGS</pre>"
      ],
      "text/plain": [
       "Starting L-BFGS"
      ]
     },
     "metadata": {},
     "output_type": "display_data"
    },
    {
     "data": {
      "text/html": [
       "<pre>--------------------------------------------------------</pre>"
      ],
      "text/plain": [
       "--------------------------------------------------------"
      ]
     },
     "metadata": {},
     "output_type": "display_data"
    },
    {
     "data": {
      "text/html": [
       "<pre>+-----------+----------+-----------+--------------+-------------------+---------------------+</pre>"
      ],
      "text/plain": [
       "+-----------+----------+-----------+--------------+-------------------+---------------------+"
      ]
     },
     "metadata": {},
     "output_type": "display_data"
    },
    {
     "data": {
      "text/html": [
       "<pre>| Iteration | Passes   | Step size | Elapsed Time | Training-accuracy | Validation-accuracy |</pre>"
      ],
      "text/plain": [
       "| Iteration | Passes   | Step size | Elapsed Time | Training-accuracy | Validation-accuracy |"
      ]
     },
     "metadata": {},
     "output_type": "display_data"
    },
    {
     "data": {
      "text/html": [
       "<pre>+-----------+----------+-----------+--------------+-------------------+---------------------+</pre>"
      ],
      "text/plain": [
       "+-----------+----------+-----------+--------------+-------------------+---------------------+"
      ]
     },
     "metadata": {},
     "output_type": "display_data"
    },
    {
     "data": {
      "text/html": [
       "<pre>| 1         | 8        | 0.000007  | 0.529659     | 0.590056          | 0.607843            |</pre>"
      ],
      "text/plain": [
       "| 1         | 8        | 0.000007  | 0.529659     | 0.590056          | 0.607843            |"
      ]
     },
     "metadata": {},
     "output_type": "display_data"
    },
    {
     "data": {
      "text/html": [
       "<pre>| 2         | 10       | 1.000000  | 0.775061     | 0.600635          | 0.598039            |</pre>"
      ],
      "text/plain": [
       "| 2         | 10       | 1.000000  | 0.775061     | 0.600635          | 0.598039            |"
      ]
     },
     "metadata": {},
     "output_type": "display_data"
    },
    {
     "data": {
      "text/html": [
       "<pre>| 3         | 11       | 1.000000  | 0.941620     | 0.603544          | 0.602941            |</pre>"
      ],
      "text/plain": [
       "| 3         | 11       | 1.000000  | 0.941620     | 0.603544          | 0.602941            |"
      ]
     },
     "metadata": {},
     "output_type": "display_data"
    },
    {
     "data": {
      "text/html": [
       "<pre>| 4         | 12       | 1.000000  | 1.112474     | 0.606189          | 0.593137            |</pre>"
      ],
      "text/plain": [
       "| 4         | 12       | 1.000000  | 1.112474     | 0.606189          | 0.593137            |"
      ]
     },
     "metadata": {},
     "output_type": "display_data"
    },
    {
     "data": {
      "text/html": [
       "<pre>| 5         | 13       | 1.000000  | 1.277921     | 0.610685          | 0.602941            |</pre>"
      ],
      "text/plain": [
       "| 5         | 13       | 1.000000  | 1.277921     | 0.610685          | 0.602941            |"
      ]
     },
     "metadata": {},
     "output_type": "display_data"
    },
    {
     "data": {
      "text/html": [
       "<pre>| 6         | 14       | 1.000000  | 1.437829     | 0.629992          | 0.602941            |</pre>"
      ],
      "text/plain": [
       "| 6         | 14       | 1.000000  | 1.437829     | 0.629992          | 0.602941            |"
      ]
     },
     "metadata": {},
     "output_type": "display_data"
    },
    {
     "data": {
      "text/html": [
       "<pre>| 10        | 18       | 1.000000  | 2.100592     | 0.704311          | 0.578431            |</pre>"
      ],
      "text/plain": [
       "| 10        | 18       | 1.000000  | 2.100592     | 0.704311          | 0.578431            |"
      ]
     },
     "metadata": {},
     "output_type": "display_data"
    },
    {
     "data": {
      "text/html": [
       "<pre>| 11        | 19       | 1.000000  | 2.270375     | 0.716213          | 0.593137            |</pre>"
      ],
      "text/plain": [
       "| 11        | 19       | 1.000000  | 2.270375     | 0.716213          | 0.593137            |"
      ]
     },
     "metadata": {},
     "output_type": "display_data"
    },
    {
     "data": {
      "text/html": [
       "<pre>| 20        | 28       | 1.000000  | 3.825559     | 0.836816          | 0.553922            |</pre>"
      ],
      "text/plain": [
       "| 20        | 28       | 1.000000  | 3.825559     | 0.836816          | 0.553922            |"
      ]
     },
     "metadata": {},
     "output_type": "display_data"
    },
    {
     "data": {
      "text/html": [
       "<pre>| 30        | 38       | 1.000000  | 5.649670     | 0.899762          | 0.544118            |</pre>"
      ],
      "text/plain": [
       "| 30        | 38       | 1.000000  | 5.649670     | 0.899762          | 0.544118            |"
      ]
     },
     "metadata": {},
     "output_type": "display_data"
    },
    {
     "data": {
      "text/html": [
       "<pre>| 40        | 48       | 1.000000  | 7.407260     | 0.928855          | 0.568627            |</pre>"
      ],
      "text/plain": [
       "| 40        | 48       | 1.000000  | 7.407260     | 0.928855          | 0.568627            |"
      ]
     },
     "metadata": {},
     "output_type": "display_data"
    },
    {
     "data": {
      "text/html": [
       "<pre>| 50        | 59       | 1.000000  | 9.315504     | 0.954774          | 0.558824            |</pre>"
      ],
      "text/plain": [
       "| 50        | 59       | 1.000000  | 9.315504     | 0.954774          | 0.558824            |"
      ]
     },
     "metadata": {},
     "output_type": "display_data"
    },
    {
     "data": {
      "text/html": [
       "<pre>| 51        | 60       | 1.000000  | 9.484454     | 0.954509          | 0.568627            |</pre>"
      ],
      "text/plain": [
       "| 51        | 60       | 1.000000  | 9.484454     | 0.954509          | 0.568627            |"
      ]
     },
     "metadata": {},
     "output_type": "display_data"
    },
    {
     "data": {
      "text/html": [
       "<pre>| 60        | 69       | 1.000000  | 11.042513    | 0.968527          | 0.563725            |</pre>"
      ],
      "text/plain": [
       "| 60        | 69       | 1.000000  | 11.042513    | 0.968527          | 0.563725            |"
      ]
     },
     "metadata": {},
     "output_type": "display_data"
    },
    {
     "data": {
      "text/html": [
       "<pre>| 70        | 79       | 1.000000  | 12.793058    | 0.978577          | 0.563725            |</pre>"
      ],
      "text/plain": [
       "| 70        | 79       | 1.000000  | 12.793058    | 0.978577          | 0.563725            |"
      ]
     },
     "metadata": {},
     "output_type": "display_data"
    },
    {
     "data": {
      "text/html": [
       "<pre>| 80        | 89       | 1.000000  | 14.515671    | 0.987040          | 0.568627            |</pre>"
      ],
      "text/plain": [
       "| 80        | 89       | 1.000000  | 14.515671    | 0.987040          | 0.568627            |"
      ]
     },
     "metadata": {},
     "output_type": "display_data"
    },
    {
     "data": {
      "text/html": [
       "<pre>| 90        | 100      | 1.000000  | 16.315332    | 0.989685          | 0.578431            |</pre>"
      ],
      "text/plain": [
       "| 90        | 100      | 1.000000  | 16.315332    | 0.989685          | 0.578431            |"
      ]
     },
     "metadata": {},
     "output_type": "display_data"
    },
    {
     "data": {
      "text/html": [
       "<pre>| 100       | 110      | 1.000000  | 18.110026    | 0.991272          | 0.558824            |</pre>"
      ],
      "text/plain": [
       "| 100       | 110      | 1.000000  | 18.110026    | 0.991272          | 0.558824            |"
      ]
     },
     "metadata": {},
     "output_type": "display_data"
    },
    {
     "data": {
      "text/html": [
       "<pre>+-----------+----------+-----------+--------------+-------------------+---------------------+</pre>"
      ],
      "text/plain": [
       "+-----------+----------+-----------+--------------+-------------------+---------------------+"
      ]
     },
     "metadata": {},
     "output_type": "display_data"
    },
    {
     "data": {
      "text/html": [
       "<pre>TERMINATED: Iteration limit reached.</pre>"
      ],
      "text/plain": [
       "TERMINATED: Iteration limit reached."
      ]
     },
     "metadata": {},
     "output_type": "display_data"
    },
    {
     "data": {
      "text/html": [
       "<pre>This model may not be optimal. To improve it, consider increasing `max_iterations`.</pre>"
      ],
      "text/plain": [
       "This model may not be optimal. To improve it, consider increasing `max_iterations`."
      ]
     },
     "metadata": {},
     "output_type": "display_data"
    }
   ],
   "source": [
    "model_svmclassifier_ispro = graphlab.svm_classifier.create(images_train, target='user_is_pro',\n",
    "                                                           features=['deep_.resized_image'], penalty=0.1,\n",
    "                                                           solver='auto', feature_rescaling=True,\n",
    "                                                           convergence_threshold=0.01, lbfgs_memory_level=11,\n",
    "                                                           max_iterations=100, class_weights=None,\n",
    "                                                           validation_set='auto', verbose=True)"
   ]
  },
  {
   "cell_type": "code",
   "execution_count": 61,
   "metadata": {
    "collapsed": false
   },
   "outputs": [
    {
     "name": "stdout",
     "output_type": "stream",
     "text": [
      "PROGRESS: Creating a validation set from 5 percent of training data. This may take a while.\n",
      "          You can set ``validation_set=None`` to disable validation tracking.\n",
      "\n"
     ]
    },
    {
     "data": {
      "text/html": [
       "<pre>WARNING: The number of feature dimensions in this problem is very large in comparison with the number of examples. Unless an appropriate regularization value is set, this model may not provide accurate predictions for a validation/test set.</pre>"
      ],
      "text/plain": [
       "WARNING: The number of feature dimensions in this problem is very large in comparison with the number of examples. Unless an appropriate regularization value is set, this model may not provide accurate predictions for a validation/test set."
      ]
     },
     "metadata": {},
     "output_type": "display_data"
    },
    {
     "data": {
      "text/html": [
       "<pre>Logistic regression:</pre>"
      ],
      "text/plain": [
       "Logistic regression:"
      ]
     },
     "metadata": {},
     "output_type": "display_data"
    },
    {
     "data": {
      "text/html": [
       "<pre>--------------------------------------------------------</pre>"
      ],
      "text/plain": [
       "--------------------------------------------------------"
      ]
     },
     "metadata": {},
     "output_type": "display_data"
    },
    {
     "data": {
      "text/html": [
       "<pre>Number of examples          : 3793</pre>"
      ],
      "text/plain": [
       "Number of examples          : 3793"
      ]
     },
     "metadata": {},
     "output_type": "display_data"
    },
    {
     "data": {
      "text/html": [
       "<pre>Number of classes           : 2</pre>"
      ],
      "text/plain": [
       "Number of classes           : 2"
      ]
     },
     "metadata": {},
     "output_type": "display_data"
    },
    {
     "data": {
      "text/html": [
       "<pre>Number of feature columns   : 1</pre>"
      ],
      "text/plain": [
       "Number of feature columns   : 1"
      ]
     },
     "metadata": {},
     "output_type": "display_data"
    },
    {
     "data": {
      "text/html": [
       "<pre>Number of unpacked features : 4096</pre>"
      ],
      "text/plain": [
       "Number of unpacked features : 4096"
      ]
     },
     "metadata": {},
     "output_type": "display_data"
    },
    {
     "data": {
      "text/html": [
       "<pre>Number of coefficients    : 4097</pre>"
      ],
      "text/plain": [
       "Number of coefficients    : 4097"
      ]
     },
     "metadata": {},
     "output_type": "display_data"
    },
    {
     "data": {
      "text/html": [
       "<pre>Starting L-BFGS</pre>"
      ],
      "text/plain": [
       "Starting L-BFGS"
      ]
     },
     "metadata": {},
     "output_type": "display_data"
    },
    {
     "data": {
      "text/html": [
       "<pre>--------------------------------------------------------</pre>"
      ],
      "text/plain": [
       "--------------------------------------------------------"
      ]
     },
     "metadata": {},
     "output_type": "display_data"
    },
    {
     "data": {
      "text/html": [
       "<pre>+-----------+----------+-----------+--------------+-------------------+---------------------+</pre>"
      ],
      "text/plain": [
       "+-----------+----------+-----------+--------------+-------------------+---------------------+"
      ]
     },
     "metadata": {},
     "output_type": "display_data"
    },
    {
     "data": {
      "text/html": [
       "<pre>| Iteration | Passes   | Step size | Elapsed Time | Training-accuracy | Validation-accuracy |</pre>"
      ],
      "text/plain": [
       "| Iteration | Passes   | Step size | Elapsed Time | Training-accuracy | Validation-accuracy |"
      ]
     },
     "metadata": {},
     "output_type": "display_data"
    },
    {
     "data": {
      "text/html": [
       "<pre>+-----------+----------+-----------+--------------+-------------------+---------------------+</pre>"
      ],
      "text/plain": [
       "+-----------+----------+-----------+--------------+-------------------+---------------------+"
      ]
     },
     "metadata": {},
     "output_type": "display_data"
    },
    {
     "data": {
      "text/html": [
       "<pre>| 1         | 6        | 0.000009  | 0.514027     | 0.590034          | 0.598958            |</pre>"
      ],
      "text/plain": [
       "| 1         | 6        | 0.000009  | 0.514027     | 0.590034          | 0.598958            |"
      ]
     },
     "metadata": {},
     "output_type": "display_data"
    },
    {
     "data": {
      "text/html": [
       "<pre>| 2         | 8        | 1.000000  | 0.762563     | 0.591616          | 0.619792            |</pre>"
      ],
      "text/plain": [
       "| 2         | 8        | 1.000000  | 0.762563     | 0.591616          | 0.619792            |"
      ]
     },
     "metadata": {},
     "output_type": "display_data"
    },
    {
     "data": {
      "text/html": [
       "<pre>| 3         | 9        | 1.000000  | 0.943996     | 0.600053          | 0.630208            |</pre>"
      ],
      "text/plain": [
       "| 3         | 9        | 1.000000  | 0.943996     | 0.600053          | 0.630208            |"
      ]
     },
     "metadata": {},
     "output_type": "display_data"
    },
    {
     "data": {
      "text/html": [
       "<pre>| 4         | 10       | 1.000000  | 1.129645     | 0.653572          | 0.625000            |</pre>"
      ],
      "text/plain": [
       "| 4         | 10       | 1.000000  | 1.129645     | 0.653572          | 0.625000            |"
      ]
     },
     "metadata": {},
     "output_type": "display_data"
    },
    {
     "data": {
      "text/html": [
       "<pre>| 5         | 11       | 1.000000  | 1.307936     | 0.624308          | 0.609375            |</pre>"
      ],
      "text/plain": [
       "| 5         | 11       | 1.000000  | 1.307936     | 0.624308          | 0.609375            |"
      ]
     },
     "metadata": {},
     "output_type": "display_data"
    },
    {
     "data": {
      "text/html": [
       "<pre>| 6         | 13       | 1.000000  | 1.571134     | 0.662009          | 0.614583            |</pre>"
      ],
      "text/plain": [
       "| 6         | 13       | 1.000000  | 1.571134     | 0.662009          | 0.614583            |"
      ]
     },
     "metadata": {},
     "output_type": "display_data"
    },
    {
     "data": {
      "text/html": [
       "<pre>| 10        | 17       | 1.000000  | 2.285463     | 0.712365          | 0.687500            |</pre>"
      ],
      "text/plain": [
       "| 10        | 17       | 1.000000  | 2.285463     | 0.712365          | 0.687500            |"
      ]
     },
     "metadata": {},
     "output_type": "display_data"
    },
    {
     "data": {
      "text/html": [
       "<pre>| 11        | 18       | 1.000000  | 2.470136     | 0.744266          | 0.661458            |</pre>"
      ],
      "text/plain": [
       "| 11        | 18       | 1.000000  | 2.470136     | 0.744266          | 0.661458            |"
      ]
     },
     "metadata": {},
     "output_type": "display_data"
    },
    {
     "data": {
      "text/html": [
       "<pre>| 20        | 27       | 1.000000  | 4.074749     | 0.841814          | 0.588542            |</pre>"
      ],
      "text/plain": [
       "| 20        | 27       | 1.000000  | 4.074749     | 0.841814          | 0.588542            |"
      ]
     },
     "metadata": {},
     "output_type": "display_data"
    },
    {
     "data": {
      "text/html": [
       "<pre>| 30        | 38       | 1.000000  | 6.054256     | 0.916952          | 0.593750            |</pre>"
      ],
      "text/plain": [
       "| 30        | 38       | 1.000000  | 6.054256     | 0.916952          | 0.593750            |"
      ]
     },
     "metadata": {},
     "output_type": "display_data"
    },
    {
     "data": {
      "text/html": [
       "<pre>| 40        | 48       | 1.000000  | 7.935720     | 0.957026          | 0.562500            |</pre>"
      ],
      "text/plain": [
       "| 40        | 48       | 1.000000  | 7.935720     | 0.957026          | 0.562500            |"
      ]
     },
     "metadata": {},
     "output_type": "display_data"
    },
    {
     "data": {
      "text/html": [
       "<pre>| 50        | 59       | 1.000000  | 10.011008    | 0.985763          | 0.572917            |</pre>"
      ],
      "text/plain": [
       "| 50        | 59       | 1.000000  | 10.011008    | 0.985763          | 0.572917            |"
      ]
     },
     "metadata": {},
     "output_type": "display_data"
    },
    {
     "data": {
      "text/html": [
       "<pre>| 51        | 60       | 1.000000  | 10.193654    | 0.986291          | 0.557292            |</pre>"
      ],
      "text/plain": [
       "| 51        | 60       | 1.000000  | 10.193654    | 0.986291          | 0.557292            |"
      ]
     },
     "metadata": {},
     "output_type": "display_data"
    },
    {
     "data": {
      "text/html": [
       "<pre>| 60        | 70       | 1.000000  | 11.931721    | 0.998945          | 0.552083            |</pre>"
      ],
      "text/plain": [
       "| 60        | 70       | 1.000000  | 11.931721    | 0.998945          | 0.552083            |"
      ]
     },
     "metadata": {},
     "output_type": "display_data"
    },
    {
     "data": {
      "text/html": [
       "<pre>| 70        | 80       | 1.000000  | 13.836862    | 1.000000          | 0.536458            |</pre>"
      ],
      "text/plain": [
       "| 70        | 80       | 1.000000  | 13.836862    | 1.000000          | 0.536458            |"
      ]
     },
     "metadata": {},
     "output_type": "display_data"
    },
    {
     "data": {
      "text/html": [
       "<pre>| 80        | 96       | 1.000000  | 16.162824    | 1.000000          | 0.541667            |</pre>"
      ],
      "text/plain": [
       "| 80        | 96       | 1.000000  | 16.162824    | 1.000000          | 0.541667            |"
      ]
     },
     "metadata": {},
     "output_type": "display_data"
    },
    {
     "data": {
      "text/html": [
       "<pre>| 90        | 110      | 1.000000  | 18.267615    | 1.000000          | 0.526042            |</pre>"
      ],
      "text/plain": [
       "| 90        | 110      | 1.000000  | 18.267615    | 1.000000          | 0.526042            |"
      ]
     },
     "metadata": {},
     "output_type": "display_data"
    },
    {
     "data": {
      "text/html": [
       "<pre>| 100       | 124      | 1.000000  | 20.460531    | 1.000000          | 0.526042            |</pre>"
      ],
      "text/plain": [
       "| 100       | 124      | 1.000000  | 20.460531    | 1.000000          | 0.526042            |"
      ]
     },
     "metadata": {},
     "output_type": "display_data"
    },
    {
     "data": {
      "text/html": [
       "<pre>+-----------+----------+-----------+--------------+-------------------+---------------------+</pre>"
      ],
      "text/plain": [
       "+-----------+----------+-----------+--------------+-------------------+---------------------+"
      ]
     },
     "metadata": {},
     "output_type": "display_data"
    },
    {
     "data": {
      "text/html": [
       "<pre>TERMINATED: Iteration limit reached.</pre>"
      ],
      "text/plain": [
       "TERMINATED: Iteration limit reached."
      ]
     },
     "metadata": {},
     "output_type": "display_data"
    },
    {
     "data": {
      "text/html": [
       "<pre>This model may not be optimal. To improve it, consider increasing `max_iterations`.</pre>"
      ],
      "text/plain": [
       "This model may not be optimal. To improve it, consider increasing `max_iterations`."
      ]
     },
     "metadata": {},
     "output_type": "display_data"
    }
   ],
   "source": [
    "model_logitclassifier_ispro = graphlab.logistic_classifier.create(images_train, target='user_is_pro',\n",
    "                                                                  features=['deep_.resized_image'],\n",
    "                                                                  l2_penalty=0.01, l1_penalty=0.0, solver='auto',\n",
    "                                                                  feature_rescaling=True, convergence_threshold=0.01,\n",
    "                                                                  step_size=1.0, lbfgs_memory_level=11,\n",
    "                                                                  max_iterations=100, class_weights=None,\n",
    "                                                                  validation_set='auto', verbose=True)"
   ]
  },
  {
   "cell_type": "markdown",
   "metadata": {},
   "source": [
    "### Evaluate Models"
   ]
  },
  {
   "cell_type": "code",
   "execution_count": 36,
   "metadata": {
    "collapsed": false
   },
   "outputs": [
    {
     "data": {
      "text/plain": [
       "{'max_error': 35472.05024965469, 'rmse': 2710.0482875816465}"
      ]
     },
     "execution_count": 36,
     "metadata": {},
     "output_type": "execute_result"
    }
   ],
   "source": [
    "gl.linear_regression.LinearRegression.evaluate(model_regression_imageviews, dataset=images_test, metric='auto')"
   ]
  },
  {
   "cell_type": "code",
   "execution_count": 65,
   "metadata": {
    "collapsed": false
   },
   "outputs": [],
   "source": [
    "# images_test_predictions = model_classifier_ispro.classify(images_test)\n",
    "classifier_results = model_classifier_ispro.evaluate(images_test)\n",
    "svmclassifier_results = model_svmclassifier_ispro.evaluate(images_test)\n",
    "logitclassifier_results = model_logitclassifier_ispro.evaluate(images_test)"
   ]
  },
  {
   "cell_type": "code",
   "execution_count": 71,
   "metadata": {
    "collapsed": false
   },
   "outputs": [
    {
     "name": "stdout",
     "output_type": "stream",
     "text": [
      "SVM CLASSIFIER:\n",
      "Recall: 0.571129707113\n",
      "Precision: 0.565217391304\n",
      "Accuracy: 0.582494969819\n"
     ]
    }
   ],
   "source": [
    "print \"SVM CLASSIFIER:\"\n",
    "print \"Recall: {}\".format(svmclassifier_results['recall'])\n",
    "print \"Precision: {}\".format(svmclassifier_results['precision'])\n",
    "print \"Accuracy: {}\".format(svmclassifier_results['accuracy'])"
   ]
  },
  {
   "cell_type": "code",
   "execution_count": 74,
   "metadata": {
    "collapsed": false
   },
   "outputs": [
    {
     "data": {
      "application/javascript": [
       "$(\"head\").append($(\"<link/>\").attr({\n",
       "  rel:  \"stylesheet\",\n",
       "  type: \"text/css\",\n",
       "  href: \"//cdnjs.cloudflare.com/ajax/libs/font-awesome/4.1.0/css/font-awesome.min.css\"\n",
       "}));\n",
       "$(\"head\").append($(\"<link/>\").attr({\n",
       "  rel:  \"stylesheet\",\n",
       "  type: \"text/css\",\n",
       "  href: \"https://static.turi.com/products/graphlab-create/2.1/canvas/css/canvas.css\"\n",
       "}));\n",
       "\n",
       "            (function(){\n",
       "\n",
       "                var e = null;\n",
       "                if (typeof element == 'undefined') {\n",
       "                    var scripts = document.getElementsByTagName('script');\n",
       "                    var thisScriptTag = scripts[scripts.length-1];\n",
       "                    var parentDiv = thisScriptTag.parentNode;\n",
       "                    e = document.createElement('div');\n",
       "                    parentDiv.appendChild(e);\n",
       "                } else {\n",
       "                    e = element[0];\n",
       "                }\n",
       "\n",
       "                if (typeof requirejs !== 'undefined') {\n",
       "                    // disable load timeout; ipython_app.js is large and can take a while to load.\n",
       "                    requirejs.config({waitSeconds: 0});\n",
       "                }\n",
       "\n",
       "                require(['https://static.turi.com/products/graphlab-create/2.1/canvas/js/ipython_app.js'], function(IPythonApp){\n",
       "                    var app = new IPythonApp();\n",
       "                    app.attachView('sframe','Plots', {\"selected_variable\": {\"name\": [\"<SFrame>\"], \"descriptives\": {\"rows\": 100001, \"columns\": 5}, \"view_component\": \"Plots\", \"view_file\": \"sframe\", \"view_params\": {\"y\": \"tpr\", \"x\": \"fpr\", \"columns\": [\"threshold\", \"fpr\", \"tpr\", \"p\", \"n\"], \"view\": \"Scatter Plot\"}, \"view_components\": [\"Summary\", \"Table\", \"Bar Chart\", \"BoxWhisker Plot\", \"Line Chart\", \"Scatter Plot\", \"Heat Map\", \"Plots\"], \"type\": \"SFrame\", \"columns\": [{\"dtype\": \"float\", \"name\": \"threshold\"}, {\"dtype\": \"float\", \"name\": \"fpr\"}, {\"dtype\": \"float\", \"name\": \"tpr\"}, {\"dtype\": \"int\", \"name\": \"p\"}, {\"dtype\": \"int\", \"name\": \"n\"}], \"column_identifiers\": [\"threshold\", \"p\", \"fpr\", \"tpr\", \"n\"]}, \"complete\": 1, \"ipython\": true, \"progress\": 1.0, \"data\": [[0.023255813953488372, 0.1799163179916318], [0.001937984496124031, 0.012552301255230125], [0.8565891472868217, 0.9560669456066946], [0.6395348837209303, 0.8242677824267782], [0.9341085271317829, 0.9728033472803347], [0.0562015503875969, 0.2405857740585774], [0.9864341085271318, 0.997907949790795], [0.1298449612403101, 0.3305439330543933], [0.374031007751938, 0.5920502092050209], [0.003875968992248062, 0.06694560669456066], [0.3992248062015504, 0.6317991631799164], [0.14922480620155038, 0.3389121338912134], [0.3875968992248062, 0.6234309623430963], [0.01937984496124031, 0.16736401673640167], [0.23837209302325582, 0.4581589958158996], [0.9670542635658915, 0.9895397489539749], [0.16666666666666666, 0.3786610878661088], [0.3372093023255814, 0.5669456066945606], [0.023255813953488372, 0.18619246861924685], [0.023255813953488372, 0.19456066945606695], [0.5872093023255814, 0.8075313807531381], [0.2596899224806202, 0.4895397489539749], [0.5813953488372093, 0.801255230125523], [0.45348837209302323, 0.6924686192468619], [0.2596899224806202, 0.4874476987447699], [0.06201550387596899, 0.25313807531380755], [0.624031007751938, 0.8200836820083682], [0.013565891472868217, 0.100418410041841], [0.08914728682170543, 0.2803347280334728], [0.5775193798449613, 0.797071129707113], [0.7131782945736435, 0.8744769874476988], [0.5581395348837209, 0.7782426778242678], [0.015503875968992248, 0.12552301255230125], [0.003875968992248062, 0.06485355648535565], [0.03875968992248062, 0.2217573221757322], [0.7577519379844961, 0.899581589958159], [0.05426356589147287, 0.2405857740585774], [0.7093023255813954, 0.8723849372384938], [0.6162790697674418, 0.8200836820083682], [0.27906976744186046, 0.5209205020920502], [0.7790697674418605, 0.9121338912133892], [0.21511627906976744, 0.4309623430962343], [0.06201550387596899, 0.25313807531380755], [0.3992248062015504, 0.6276150627615062], [0.025193798449612403, 0.19874476987447698], [0.8255813953488372, 0.9330543933054394], [0.10852713178294573, 0.3075313807531381], [0.013565891472868217, 0.1108786610878661], [0.029069767441860465, 0.20502092050209206], [0.6414728682170543, 0.8242677824267782], [0.005813953488372093, 0.08158995815899582], [0.39728682170542634, 0.6255230125523012], [0.36627906976744184, 0.5857740585774058], [0.2596899224806202, 0.4916317991631799], [0.27906976744186046, 0.5209205020920502], [0.7131782945736435, 0.8744769874476988], [0.33527131782945735, 0.5669456066945606], [0.2558139534883721, 0.4790794979079498], [0.9651162790697675, 0.9895397489539749], [0.34108527131782945, 0.5732217573221757], [0.5310077519379846, 0.7573221757322176], [0.9205426356589147, 0.9707112970711297], [0.8817829457364341, 0.9644351464435147], [0.001937984496124031, 0.05230125523012552], [0.2596899224806202, 0.4874476987447699], [0.374031007751938, 0.5941422594142259], [0.5910852713178295, 0.8117154811715481], [0.8643410852713178, 0.9560669456066946], [0.001937984496124031, 0.02510460251046025], [0.20930232558139536, 0.42677824267782427], [0.1375968992248062, 0.33263598326359833], [0.7577519379844961, 0.899581589958159], [0.8217054263565892, 0.9330543933054394], [0.5155038759689923, 0.7405857740585774], [0.5406976744186046, 0.7677824267782427], [0.01744186046511628, 0.1589958158995816], [0.24224806201550386, 0.4602510460251046], [0.42054263565891475, 0.6569037656903766], [0.7790697674418605, 0.9121338912133892], [0.6918604651162791, 0.8661087866108786], [0.6414728682170543, 0.8242677824267782], [0.32558139534883723, 0.5481171548117155], [0.26356589147286824, 0.5062761506276151], [0.2693798449612403, 0.5083682008368201], [0.3062015503875969, 0.5292887029288703], [0.6143410852713178, 0.8200836820083682], [0.9786821705426356, 0.9937238493723849], [0.3875968992248062, 0.6192468619246861], [0.01744186046511628, 0.12552301255230125], [0.27906976744186046, 0.5188284518828452], [0.28294573643410853, 0.5209205020920502], [0.05232558139534884, 0.23430962343096234], [0.027131782945736434, 0.20292887029288703], [0.12790697674418605, 0.3284518828451883], [0.003875968992248062, 0.0794979079497908], [0.9224806201550387, 0.9728033472803347], [0.9244186046511628, 0.9728033472803347], [0.374031007751938, 0.5962343096234309], [0.023255813953488372, 0.1799163179916318], [0.05813953488372093, 0.25313807531380755], [1.0, 1.0], [0.15503875968992248, 0.35564853556485354], [0.9670542635658915, 0.9895397489539749], [0.03682170542635659, 0.2217573221757322], [0.5910852713178295, 0.8138075313807531], [0.7829457364341085, 0.9121338912133892], [0.9670542635658915, 0.9895397489539749], [0.6976744186046512, 0.8682008368200836], [0.003875968992248062, 0.060669456066945605], [0.2054263565891473, 0.41631799163179917], [0.8682170542635659, 0.9560669456066946], [0.01937984496124031, 0.16736401673640167], [0.9670542635658915, 0.9895397489539749], [0.75, 0.899581589958159], [0.03294573643410853, 0.2112970711297071], [0.5891472868217055, 0.8117154811715481], [0.9631782945736435, 0.9874476987447699], [0.5775193798449613, 0.797071129707113], [0.2054263565891473, 0.41841004184100417], [0.03875968992248062, 0.2280334728033473], [0.10077519379844961, 0.29916317991631797], [0.18410852713178294, 0.40376569037656906], [0.013565891472868217, 0.12133891213389121], [0.6162790697674418, 0.8200836820083682], [0.8856589147286822, 0.9665271966527197], [0.6686046511627907, 0.8493723849372385], [0.25387596899224807, 0.4790794979079498], [0.8488372093023255, 0.9476987447698745], [0.11627906976744186, 0.3158995815899582], [0.13953488372093023, 0.33263598326359833], [0.2596899224806202, 0.4874476987447699], [0.013565891472868217, 0.1108786610878661], [0.8488372093023255, 0.9435146443514645], [0.17635658914728683, 0.3891213389121339], [0.013565891472868217, 0.11715481171548117], [0.8604651162790697, 0.9560669456066946], [0.01744186046511628, 0.1297071129707113], [0.5775193798449613, 0.7949790794979079], [0.2558139534883721, 0.4790794979079498], [0.3875968992248062, 0.6171548117154811], [0.9593023255813954, 0.9874476987447699], [0.5891472868217055, 0.8117154811715481], [0.7073643410852714, 0.8702928870292888], [0.18992248062015504, 0.40585774058577406], [0.6065891472868217, 0.8158995815899581], [0.9205426356589147, 0.9707112970711297], [0.11046511627906977, 0.30962343096234307], [0.7325581395348837, 0.893305439330544], [0.46511627906976744, 0.702928870292887], [0.5736434108527132, 0.7887029288702929], [0.12790697674418605, 0.32426778242677823], [0.45348837209302323, 0.6903765690376569], [0.7829457364341085, 0.9121338912133892], [0.013565891472868217, 0.12552301255230125], [0.09496124031007752, 0.28661087866108786], [0.10271317829457365, 0.3075313807531381], [0.01744186046511628, 0.15690376569037656], [0.9593023255813954, 0.9874476987447699], [0.03682170542635659, 0.21548117154811716], [0.0562015503875969, 0.2405857740585774], [0.6705426356589147, 0.8514644351464435], [0.013565891472868217, 0.09414225941422594], [0.06201550387596899, 0.25313807531380755], [0.9883720930232558, 0.997907949790795], [0.9593023255813954, 0.9874476987447699], [0.3178294573643411, 0.5439330543933054], [0.8488372093023255, 0.9497907949790795], [0.5813953488372093, 0.805439330543933], [0.40891472868217055, 0.6443514644351465], [0.06976744186046512, 0.2594142259414226], [0.6298449612403101, 0.8221757322175732], [0.09689922480620156, 0.28870292887029286], [0.011627906976744186, 0.09205020920502092], [0.32170542635658916, 0.5460251046025104], [0.12790697674418605, 0.3263598326359833], [0.11046511627906977, 0.30962343096234307], [0.5310077519379846, 0.7594142259414226], [0.3682170542635659, 0.5878661087866108], [0.9767441860465116, 0.9937238493723849], [0.686046511627907, 0.8619246861924686], [0.01744186046511628, 0.1401673640167364], [0.3430232558139535, 0.5753138075313807], [0.4903100775193798, 0.7217573221757322], [0.9554263565891473, 0.9811715481171548], [0.025193798449612403, 0.200836820083682], [0.025193798449612403, 0.19874476987447698], [0.8817829457364341, 0.9602510460251046], [0.39728682170542634, 0.6255230125523012], [0.6647286821705426, 0.8451882845188284], [0.0562015503875969, 0.2405857740585774], [0.2596899224806202, 0.4874476987447699], [0.7810077519379846, 0.9121338912133892], [0.9612403100775194, 0.9874476987447699], [0.08527131782945736, 0.2803347280334728], [0.3391472868217054, 0.5690376569037657], [0.1744186046511628, 0.38702928870292885], [0.013565891472868217, 0.1108786610878661], [0.025193798449612403, 0.200836820083682], [0.013565891472868217, 0.09414225941422594], [0.2693798449612403, 0.5083682008368201], [0.14534883720930233, 0.3389121338912134], [0.4069767441860465, 0.6422594142259415], [0.8488372093023255, 0.9497907949790795], [0.8488372093023255, 0.9435146443514645], [0.16085271317829458, 0.37447698744769875], [0.3236434108527132, 0.5460251046025104], [0.08333333333333333, 0.27824267782426776], [0.4069767441860465, 0.6422594142259415], [0.013565891472868217, 0.1087866108786611], [0.9573643410852714, 0.9832635983263598], [0.9670542635658915, 0.9895397489539749], [0.06589147286821706, 0.2594142259414226], [0.6065891472868217, 0.8158995815899581], [0.1124031007751938, 0.30962343096234307], [0.40310077519379844, 0.6317991631799164], [0.013565891472868217, 0.09205020920502092], [0.7965116279069767, 0.9163179916317992], [0.18992248062015504, 0.41422594142259417], [0.3624031007751938, 0.5857740585774058], [0.8197674418604651, 0.9309623430962343], [0.03294573643410853, 0.2112970711297071], [0.06976744186046512, 0.2594142259414226], [0.01744186046511628, 0.1589958158995816], [0.6627906976744186, 0.8430962343096234], [1.0, 1.0], [0.8488372093023255, 0.9435146443514645], [0.03875968992248062, 0.2217573221757322], [0.9961240310077519, 1.0], [0.5968992248062015, 0.8138075313807531], [0.8817829457364341, 0.9665271966527197], [0.7771317829457365, 0.9079497907949791], [0.32558139534883723, 0.5543933054393305], [0.01744186046511628, 0.14853556485355648], [0.09496124031007752, 0.2824267782426778], [0.01744186046511628, 0.12552301255230125], [0.686046511627907, 0.8619246861924686], [0.6550387596899225, 0.8368200836820083], [0.501937984496124, 0.7301255230125523], [0.03682170542635659, 0.21548117154811716], [0.3372093023255814, 0.5669456066945606], [0.013565891472868217, 0.1108786610878661], [0.09689922480620156, 0.29707112970711297], [0.22093023255813954, 0.4330543933054393], [0.45348837209302323, 0.6903765690376569], [0.14534883720930233, 0.3389121338912134], [0.09302325581395349, 0.2803347280334728], [0.15310077519379844, 0.35355648535564854], [0.5658914728682171, 0.7824267782426778], [0.27906976744186046, 0.5209205020920502], [0.3313953488372093, 0.5585774058577406], [0.20736434108527133, 0.4225941422594142], [0.2441860465116279, 0.46234309623430964], [0.1124031007751938, 0.30962343096234307], [0.1298449612403101, 0.3305439330543933], [0.18992248062015504, 0.40794979079497906], [0.8604651162790697, 0.9560669456066946], [0.06976744186046512, 0.2594142259414226], [0.7984496124031008, 0.9225941422594143], [0.5445736434108527, 0.7698744769874477], [0.001937984496124031, 0.02092050209205021], [0.003875968992248062, 0.056485355648535567], [0.9573643410852714, 0.9832635983263598], [0.9593023255813954, 0.9874476987447699], [0.013565891472868217, 0.09414225941422594], [0.07945736434108527, 0.27405857740585776], [0.939922480620155, 0.9748953974895398], [0.07364341085271318, 0.26359832635983266], [0.6976744186046512, 0.8682008368200836], [0.6647286821705426, 0.8472803347280334], [0.7325581395348837, 0.893305439330544], [0.7596899224806202, 0.9016736401673641], [0.12790697674418605, 0.3284518828451883], [0.1375968992248062, 0.33263598326359833], [0.8953488372093024, 0.9686192468619247], [0.40310077519379844, 0.6317991631799164], [0.9670542635658915, 0.9895397489539749], [0.11434108527131782, 0.3138075313807531], [0.13178294573643412, 0.3305439330543933], [0.4321705426356589, 0.6673640167364017], [0.2596899224806202, 0.50418410041841], [0.12596899224806202, 0.32217573221757323], [0.07364341085271318, 0.26359832635983266], [0.2810077519379845, 0.5209205020920502], [0.9593023255813954, 0.9874476987447699], [0.35852713178294576, 0.5836820083682008], [0.18992248062015504, 0.40794979079497906], [0.15503875968992248, 0.3619246861924686], [0.01937984496124031, 0.17782426778242677], [0.8837209302325582, 0.9665271966527197], [0.1511627906976744, 0.3493723849372385], [0.09689922480620156, 0.28870292887029286], [0.15503875968992248, 0.35564853556485354], [0.3391472868217054, 0.5690376569037657], [0.2596899224806202, 0.502092050209205], [0.501937984496124, 0.7259414225941423], [0.8488372093023255, 0.9456066945606695], [0.6724806201550387, 0.8514644351464435], [0.8565891472868217, 0.9560669456066946], [0.03294573643410853, 0.2112970711297071], [0.7015503875968992, 0.8682008368200836], [0.11434108527131782, 0.3138075313807531], [0.25, 0.4707112970711297], [0.4903100775193798, 0.7217573221757322], [0.9593023255813954, 0.9874476987447699], [0.7965116279069767, 0.9184100418410042], [0.029069767441860465, 0.20502092050209206], [0.7965116279069767, 0.9142259414225942], [0.7325581395348837, 0.891213389121339], [0.2596899224806202, 0.4874476987447699], [0.029069767441860465, 0.20502092050209206], [0.8565891472868217, 0.9560669456066946], [0.17635658914728683, 0.38702928870292885], [0.05426356589147287, 0.2384937238493724], [0.16666666666666666, 0.3786610878661088], [0.023255813953488372, 0.17782426778242677], [0.7965116279069767, 0.9205020920502092], [0.5872093023255814, 0.8075313807531381], [0.01937984496124031, 0.1694560669456067], [0.09689922480620156, 0.28870292887029286], [0.20736434108527133, 0.42677824267782427], [0.8488372093023255, 0.9476987447698745], [0.18023255813953487, 0.3912133891213389], [0.013565891472868217, 0.09414225941422594], [0.9631782945736435, 0.9895397489539749], [0.26356589147286824, 0.5062761506276151], [0.9554263565891473, 0.9811715481171548], [0.01744186046511628, 0.1297071129707113], [0.9883720930232558, 0.997907949790795], [0.1375968992248062, 0.33263598326359833], [0.040697674418604654, 0.2280334728033473], [0.023255813953488372, 0.1799163179916318], [0.9069767441860465, 0.9686192468619247], [0.0562015503875969, 0.24476987447698745], [0.8682170542635659, 0.9560669456066946], [1.0, 1.0], [0.939922480620155, 0.9748953974895398], [0.9263565891472868, 0.9728033472803347], [0.7267441860465116, 0.8891213389121339], [0.4050387596899225, 0.6317991631799164], [0.3992248062015504, 0.6317991631799164], [0.27906976744186046, 0.5188284518828452], [0.01744186046511628, 0.14853556485355648], [0.12015503875968993, 0.32217573221757323], [0.6356589147286822, 0.8221757322175732], [0.7577519379844961, 0.899581589958159], [0.3682170542635659, 0.5878661087866108], [0.8817829457364341, 0.9602510460251046], [0.025193798449612403, 0.19874476987447698], [0.0562015503875969, 0.2405857740585774], [0.4806201550387597, 0.7092050209205021], [0.8546511627906976, 0.9518828451882845], [0.6007751937984496, 0.8158995815899581], [0.3624031007751938, 0.5857740585774058], [0.8565891472868217, 0.9560669456066946], [0.050387596899224806, 0.23430962343096234], [0.18992248062015504, 0.40376569037656906], [0.6356589147286822, 0.8221757322175732], [0.2616279069767442, 0.50418410041841], [0.01744186046511628, 0.12552301255230125], [0.1569767441860465, 0.36401673640167365], [0.05813953488372093, 0.25313807531380755], [0.13565891472868216, 0.33263598326359833], [0.5775193798449613, 0.7907949790794979], [0.07364341085271318, 0.26359832635983266], [0.01744186046511628, 0.14225941422594143], [0.8023255813953488, 0.9225941422594143], [0.6298449612403101, 0.8221757322175732], [0.023255813953488372, 0.18619246861924685], [0.7906976744186046, 0.9121338912133892], [0.023255813953488372, 0.1799163179916318], [0.01937984496124031, 0.16317991631799164], [0.9961240310077519, 1.0], [0.09689922480620156, 0.28870292887029286], [0.8992248062015504, 0.9686192468619247], [0.01937984496124031, 0.16736401673640167], [0.10465116279069768, 0.3075313807531381], [0.14534883720930233, 0.3389121338912134], [0.013565891472868217, 0.1108786610878661], [0.003875968992248062, 0.056485355648535567], [0.9709302325581395, 0.9916317991631799], [0.001937984496124031, 0.05230125523012552], [0.874031007751938, 0.9560669456066946], [0.2926356589147287, 0.5230125523012552], [0.03875968992248062, 0.22384937238493724], [0.8546511627906976, 0.9518828451882845], [0.9321705426356589, 0.9728033472803347], [0.9961240310077519, 1.0], [0.9961240310077519, 1.0], [0.5232558139534884, 0.7510460251046025], [0.47674418604651164, 0.7071129707112971], [0.6705426356589147, 0.8514644351464435], [0.42054263565891475, 0.6589958158995816], [0.01744186046511628, 0.13389121338912133], [0.03875968992248062, 0.22594142259414227], [0.8934108527131783, 0.9686192468619247], [0.9651162790697675, 0.9895397489539749], [0.003875968992248062, 0.056485355648535567], [0.7209302325581395, 0.8807531380753139], [0.07170542635658915, 0.2594142259414226], [0.25193798449612403, 0.47489539748953974], [0.5910852713178295, 0.8117154811715481], [0.2364341085271318, 0.4560669456066946], [0.07364341085271318, 0.26569037656903766], [0.01744186046511628, 0.14225941422594143], [0.001937984496124031, 0.04811715481171548], [0.2596899224806202, 0.4874476987447699], [0.09108527131782945, 0.2803347280334728], [1.0, 1.0], [0.03682170542635659, 0.2196652719665272], [0.7306201550387597, 0.8891213389121339], [0.013565891472868217, 0.1108786610878661], [1.0, 1.0], [0.8643410852713178, 0.9560669456066946], [0.6686046511627907, 0.8493723849372385], [0.003875968992248062, 0.07740585774058577], [0.4050387596899225, 0.6317991631799164], [0.08914728682170543, 0.2803347280334728], [0.001937984496124031, 0.04811715481171548], [0.1182170542635659, 0.3200836820083682], [0.75, 0.899581589958159], [0.35658914728682173, 0.5836820083682008], [0.5310077519379846, 0.7573221757322176], [0.17635658914728683, 0.3891213389121339], [0.05426356589147287, 0.23640167364016737], [0.8042635658914729, 0.9225941422594143], [0.01744186046511628, 0.13179916317991633], [0.01744186046511628, 0.16108786610878661], [0.39728682170542634, 0.6255230125523012], [0.9883720930232558, 0.997907949790795], [0.15891472868217055, 0.37447698744769875], [0.14534883720930233, 0.3389121338912134], [0.01937984496124031, 0.16317991631799164], [0.41472868217054265, 0.6506276150627615], [0.3875968992248062, 0.6234309623430963], [0.09496124031007752, 0.2824267782426778], [0.374031007751938, 0.602510460251046], [0.07364341085271318, 0.26359832635983266], [0.7461240310077519, 0.895397489539749], [0.39728682170542634, 0.6255230125523012], [0.1821705426356589, 0.40376569037656906], [0.025193798449612403, 0.19874476987447698], [0.10852713178294573, 0.3075313807531381], [0.01744186046511628, 0.1401673640167364], [0.17635658914728683, 0.38702928870292885], [0.2441860465116279, 0.4602510460251046], [0.09689922480620156, 0.29497907949790797], [0.5310077519379846, 0.7594142259414226], [0.4728682170542636, 0.7050209205020921], [0.6666666666666666, 0.8493723849372385], [0.6298449612403101, 0.8221757322175732], [0.24031007751937986, 0.4581589958158996], [0.18992248062015504, 0.40376569037656906], [0.013565891472868217, 0.11506276150627615], [0.35852713178294576, 0.5836820083682008], [0.9496124031007752, 0.9811715481171548], [0.20736434108527133, 0.4246861924686193], [0.689922480620155, 0.8661087866108786], [0.013565891472868217, 0.12133891213389121], [0.686046511627907, 0.8577405857740585], [0.03875968992248062, 0.22384937238493724], [0.013565891472868217, 0.1108786610878661], [0.4903100775193798, 0.7217573221757322], [0.13178294573643412, 0.3305439330543933], [0.9786821705426356, 0.9937238493723849], [0.42441860465116277, 0.6589958158995816], [0.998062015503876, 1.0], [0.8934108527131783, 0.9686192468619247], [0.9437984496124031, 0.9790794979079498], [0.39728682170542634, 0.6276150627615062], [0.35658914728682173, 0.5836820083682008], [0.09496124031007752, 0.28661087866108786], [0.10077519379844961, 0.3054393305439331], [0.2441860465116279, 0.46234309623430964], [0.9864341085271318, 0.997907949790795], [0.624031007751938, 0.8200836820083682], [0.4186046511627907, 0.6548117154811716], [0.34108527131782945, 0.5732217573221757], [0.029069767441860465, 0.2112970711297071], [0.15503875968992248, 0.35355648535564854], [0.10271317829457365, 0.3075313807531381], [0.013565891472868217, 0.09414225941422594], [0.009689922480620155, 0.08577405857740586], [0.35852713178294576, 0.5857740585774058], [0.25193798449612403, 0.47489539748953974], [0.6996124031007752, 0.8682008368200836], [0.8488372093023255, 0.9393305439330544], [0.09108527131782945, 0.2803347280334728], [0.013565891472868217, 0.1108786610878661], [0.23449612403100775, 0.45397489539748953], [0.14534883720930233, 0.3389121338912134], [0.18023255813953487, 0.3912133891213389], [0.8372093023255814, 0.9372384937238494], [0.35271317829457366, 0.5815899581589958], [0.3313953488372093, 0.5585774058577406], [0.3992248062015504, 0.6317991631799164], [0.003875968992248062, 0.07740585774058577], [0.04263565891472868, 0.2301255230125523], [0.4573643410852713, 0.696652719665272], [0.1821705426356589, 0.40376569037656906], [0.03682170542635659, 0.21548117154811716], [0.18992248062015504, 0.40794979079497906], [0.2771317829457364, 0.5146443514644351], [0.2771317829457364, 0.5146443514644351], [0.07364341085271318, 0.26359832635983266], [0.9321705426356589, 0.9728033472803347], [0.9321705426356589, 0.9728033472803347], [0.05426356589147287, 0.23640167364016737], [0.30426356589147285, 0.5292887029288703], [0.16666666666666666, 0.3786610878661088], [0.31007751937984496, 0.5334728033472803], [0.21705426356589147, 0.4309623430962343], [0.6356589147286822, 0.8242677824267782], [0.7093023255813954, 0.8744769874476988], [0.2596899224806202, 0.4895397489539749], [0.01937984496124031, 0.17364016736401675], [0.01744186046511628, 0.16317991631799164], [0.9321705426356589, 0.9728033472803347], [0.14922480620155038, 0.3389121338912134], [0.31007751937984496, 0.5334728033472803], [0.8042635658914729, 0.9225941422594143], [0.17635658914728683, 0.38702928870292885], [0.03294573643410853, 0.2112970711297071], [0.10077519379844961, 0.29916317991631797], [0.023255813953488372, 0.1799163179916318], [0.4573643410852713, 0.696652719665272], [0.10077519379844961, 0.3075313807531381], [0.7461240310077519, 0.897489539748954], [0.005813953488372093, 0.08158995815899582], [0.07364341085271318, 0.26359832635983266], [0.07364341085271318, 0.26359832635983266], [0.9670542635658915, 0.9895397489539749], [0.16666666666666666, 0.3786610878661088], [0.7325581395348837, 0.893305439330544], [0.09689922480620156, 0.28870292887029286], [0.12790697674418605, 0.3284518828451883], [0.6686046511627907, 0.8493723849372385], [0.15310077519379844, 0.35355648535564854], [0.6686046511627907, 0.8493723849372385], [1.0, 1.0], [0.07364341085271318, 0.26359832635983266], [0.9670542635658915, 0.9895397489539749], [0.003875968992248062, 0.06694560669456066], [0.6686046511627907, 0.8493723849372385], [0.6375968992248062, 0.8242677824267782], [0.8604651162790697, 0.9560669456066946], [0.013565891472868217, 0.12133891213389121], [0.8817829457364341, 0.9644351464435147], [0.8565891472868217, 0.9560669456066946], [0.023255813953488372, 0.18410041841004185], [0.6531007751937985, 0.8368200836820083], [0.03682170542635659, 0.2175732217573222], [0.029069767441860465, 0.20711297071129708], [0.027131782945736434, 0.20292887029288703], [0.023255813953488372, 0.17782426778242677], [0.8817829457364341, 0.9644351464435147], [0.06782945736434108, 0.2594142259414226], [0.2596899224806202, 0.4874476987447699], [0.6937984496124031, 0.8661087866108786], [0.01744186046511628, 0.13179916317991633], [0.4011627906976744, 0.6317991631799164], [0.2596899224806202, 0.4874476987447699], [0.09689922480620156, 0.28870292887029286], [0.0562015503875969, 0.2405857740585774], [0.9864341085271318, 0.997907949790795], [0.013565891472868217, 0.10669456066945607], [0.8410852713178295, 0.9372384937238494], [0.2596899224806202, 0.4874476987447699], [0.013565891472868217, 0.09414225941422594], [0.027131782945736434, 0.20292887029288703], [0.5445736434108527, 0.7677824267782427], [0.013565891472868217, 0.1108786610878661], [0.7616279069767442, 0.9037656903765691], [0.001937984496124031, 0.04811715481171548], [0.8410852713178295, 0.9372384937238494], [0.03875968992248062, 0.2280334728033473], [0.003875968992248062, 0.056485355648535567], [0.011627906976744186, 0.08786610878661087], [0.2596899224806202, 0.4916317991631799], [0.34108527131782945, 0.5732217573221757], [0.32751937984496127, 0.5564853556485355], [1.0, 1.0], [0.05813953488372093, 0.24686192468619247], [0.01744186046511628, 0.1589958158995816], [0.23837209302325582, 0.4581589958158996], [0.2771317829457364, 0.5188284518828452], [0.01937984496124031, 0.16736401673640167], [0.7965116279069767, 0.9205020920502092], [0.8817829457364341, 0.9602510460251046], [0.8837209302325582, 0.9665271966527197], [0.39728682170542634, 0.6255230125523012], [0.45348837209302323, 0.6903765690376569], [0.2558139534883721, 0.4790794979079498], [1.0, 1.0], [0.01744186046511628, 0.1589958158995816], [0.8023255813953488, 0.9225941422594143], [0.810077519379845, 0.9225941422594143], [0.21511627906976744, 0.4309623430962343], [0.0562015503875969, 0.2405857740585774], [0.01744186046511628, 0.1589958158995816], [0.040697674418604654, 0.2280334728033473], [0.10077519379844961, 0.3075313807531381], [0.12790697674418605, 0.32426778242677823], [0.18992248062015504, 0.40376569037656906], [0.7965116279069767, 0.9205020920502092], [0.7945736434108527, 0.9142259414225942], [0.5155038759689923, 0.7405857740585774], [0.050387596899224806, 0.23430962343096234], [0.6434108527131783, 0.8284518828451883], [0.40310077519379844, 0.6317991631799164], [0.563953488372093, 0.7803347280334728], [0.2771317829457364, 0.5146443514644351], [0.21705426356589147, 0.4309623430962343], [0.07945736434108527, 0.27405857740585776], [0.029069767441860465, 0.20502092050209206], [0.5290697674418605, 0.7531380753138075], [0.22286821705426357, 0.4456066945606695], [0.023255813953488372, 0.1799163179916318], [0.9961240310077519, 1.0], [0.562015503875969, 0.7803347280334728], [0.5949612403100775, 0.8138075313807531], [0.9321705426356589, 0.9728033472803347], [0.9127906976744186, 0.9686192468619247], [0.39341085271317827, 0.6255230125523012], [0.9670542635658915, 0.9895397489539749], [0.24031007751937986, 0.4602510460251046], [0.01744186046511628, 0.14225941422594143], [0.2558139534883721, 0.4790794979079498], [0.5096899224806202, 0.7384937238493724], [0.45348837209302323, 0.6882845188284519], [0.11434108527131782, 0.3138075313807531], [0.21511627906976744, 0.42887029288702927], [0.9670542635658915, 0.9895397489539749], [0.5949612403100775, 0.8138075313807531], [0.01744186046511628, 0.13389121338912133], [0.3507751937984496, 0.5815899581589958], [0.011627906976744186, 0.0899581589958159], [0.8042635658914729, 0.9225941422594143], [0.1937984496124031, 0.41631799163179917], [0.3682170542635659, 0.5878661087866108], [0.34689922480620156, 0.5774058577405857], [0.31007751937984496, 0.5334728033472803], [0.998062015503876, 1.0], [0.060077519379844964, 0.25313807531380755], [0.013565891472868217, 0.11715481171548117], [1.0, 1.0], [0.8856589147286822, 0.9665271966527197], [0.18992248062015504, 0.40376569037656906], [0.7441860465116279, 0.893305439330544], [0.8391472868217055, 0.9372384937238494], [0.013565891472868217, 0.11506276150627615], [0.5368217054263565, 0.7635983263598326], [0.01744186046511628, 0.13389121338912133], [0.09496124031007752, 0.2803347280334728], [0.8410852713178295, 0.9372384937238494], [0.32558139534883723, 0.5543933054393305], [0.22093023255813954, 0.4330543933054393], [0.26356589147286824, 0.5062761506276151], [0.3992248062015504, 0.6317991631799164], [0.5232558139534884, 0.7510460251046025], [0.15310077519379844, 0.35355648535564854], [0.10852713178294573, 0.30962343096234307], [0.013565891472868217, 0.12133891213389121], [0.6007751937984496, 0.8158995815899581], [0.01937984496124031, 0.16736401673640167], [0.7034883720930233, 0.8702928870292888], [1.0, 1.0], [1.0, 1.0], [0.8546511627906976, 0.9539748953974896], [0.09689922480620156, 0.28870292887029286], [0.1569767441860465, 0.36401673640167365], [0.0872093023255814, 0.2803347280334728], [0.10077519379844961, 0.303347280334728], [0.03875968992248062, 0.2280334728033473], [0.8217054263565892, 0.9330543933054394], [0.25, 0.4707112970711297], [0.9864341085271318, 0.997907949790795], [0.013565891472868217, 0.12133891213389121], [0.6453488372093024, 0.8326359832635983], [0.027131782945736434, 0.20292887029288703], [0.12015503875968993, 0.32217573221757323], [0.25193798449612403, 0.47489539748953974], [0.7131782945736435, 0.8744769874476988], [0.01744186046511628, 0.1589958158995816], [0.9496124031007752, 0.9811715481171548], [0.11046511627906977, 0.30962343096234307], [0.10077519379844961, 0.3054393305439331], [0.32558139534883723, 0.5543933054393305], [1.0, 1.0], [0.9321705426356589, 0.9728033472803347], [0.2596899224806202, 0.4895397489539749], [0.7965116279069767, 0.9142259414225942], [0.009689922480620155, 0.08577405857740586], [0.7325581395348837, 0.893305439330544], [1.0, 1.0], [0.39728682170542634, 0.6255230125523012], [0.5251937984496124, 0.7510460251046025], [0.9050387596899225, 0.9686192468619247], [0.03875968992248062, 0.22594142259414227], [0.7868217054263565, 0.9121338912133892], [0.01744186046511628, 0.16317991631799164], [0.07364341085271318, 0.2615062761506276], [0.8236434108527132, 0.9330543933054394], [0.39728682170542634, 0.6255230125523012], [0.1182170542635659, 0.3200836820083682], [0.06782945736434108, 0.2594142259414226], [0.10852713178294573, 0.30962343096234307], [0.39728682170542634, 0.6255230125523012], [0.1182170542635659, 0.3200836820083682], [0.07364341085271318, 0.26359832635983266], [0.06201550387596899, 0.25313807531380755], [0.01937984496124031, 0.16736401673640167], [0.7732558139534884, 0.9079497907949791], [0.4069767441860465, 0.6359832635983264], [0.26356589147286824, 0.5062761506276151], [0.939922480620155, 0.9748953974895398], [0.22093023255813954, 0.4351464435146444], [0.7693798449612403, 0.9058577405857741], [0.013565891472868217, 0.1108786610878661], [0.998062015503876, 1.0], [0.03682170542635659, 0.2175732217573222], [0.023255813953488372, 0.17782426778242677], [0.09689922480620156, 0.29497907949790797], [0.8798449612403101, 0.9581589958158996], [0.45348837209302323, 0.6903765690376569], [0.9321705426356589, 0.9728033472803347], [0.013565891472868217, 0.11715481171548117], [0.2596899224806202, 0.5], [0.47093023255813954, 0.7050209205020921], [0.013565891472868217, 0.12133891213389121], [0.20736434108527133, 0.42677824267782427], [0.01744186046511628, 0.14225941422594143], [0.09496124031007752, 0.28661087866108786], [0.7325581395348837, 0.891213389121339], [0.01744186046511628, 0.16317991631799164], [0.6976744186046512, 0.8682008368200836], [0.7577519379844961, 0.899581589958159], [0.013565891472868217, 0.12133891213389121], [0.6937984496124031, 0.8682008368200836], [0.2189922480620155, 0.4330543933054393], [0.10852713178294573, 0.3075313807531381], [0.9302325581395349, 0.9728033472803347], [0.013565891472868217, 0.12133891213389121], [0.07364341085271318, 0.26359832635983266], [0.10077519379844961, 0.3075313807531381], [0.0562015503875969, 0.2405857740585774], [0.12015503875968993, 0.32217573221757323], [0.47093023255813954, 0.7050209205020921], [0.023255813953488372, 0.19246861924686193], [0.01744186046511628, 0.16317991631799164], [0.9341085271317829, 0.9728033472803347], [0.23062015503875968, 0.45397489539748953], [0.011627906976744186, 0.08786610878661087], [0.20736434108527133, 0.42677824267782427], [0.15503875968992248, 0.35355648535564854], [0.7984496124031008, 0.9225941422594143], [0.9670542635658915, 0.9895397489539749], [0.03682170542635659, 0.21548117154811716], [0.813953488372093, 0.9246861924686193], [0.32170542635658916, 0.5460251046025104], [0.3391472868217054, 0.5690376569037657], [0.003875968992248062, 0.060669456066945605], [0.9050387596899225, 0.9686192468619247], [0.6569767441860465, 0.8430962343096234], [0.562015503875969, 0.7803347280334728], [0.6356589147286822, 0.8242677824267782], [0.686046511627907, 0.8640167364016736], [0.09496124031007752, 0.28661087866108786], [0.35271317829457366, 0.5836820083682008], [0.939922480620155, 0.9748953974895398], [0.4903100775193798, 0.7217573221757322], [0.7984496124031008, 0.9205020920502092], [0.8817829457364341, 0.9665271966527197], [0.2596899224806202, 0.497907949790795], [0.9457364341085271, 0.9811715481171548], [0.06201550387596899, 0.25313807531380755], [0.03682170542635659, 0.2175732217573222], [0.4127906976744186, 0.6506276150627615], [0.16472868217054262, 0.3786610878661088], [0.7906976744186046, 0.9142259414225942], [0.8585271317829457, 0.9560669456066946], [0.013565891472868217, 0.1192468619246862], [0.7209302325581395, 0.8828451882845189], [0.04263565891472868, 0.2280334728033473], [0.027131782945736434, 0.20292887029288703], [0.26356589147286824, 0.5062761506276151], [0.5755813953488372, 0.7887029288702929], [0.2596899224806202, 0.4811715481171548], [0.16472868217054262, 0.3786610878661088], [0.6356589147286822, 0.8221757322175732], [0.12596899224806202, 0.32217573221757323], [0.6143410852713178, 0.8200836820083682], [0.013565891472868217, 0.1108786610878661], [0.1182170542635659, 0.3158995815899582], [0.09689922480620156, 0.29916317991631797], [0.9089147286821705, 0.9686192468619247], [0.15503875968992248, 0.3619246861924686], [0.023255813953488372, 0.19246861924686193], [0.3391472868217054, 0.5669456066945606], [0.05813953488372093, 0.24686192468619247], [0.8410852713178295, 0.9372384937238494], [0.9883720930232558, 1.0], [0.9670542635658915, 0.9895397489539749], [0.686046511627907, 0.8619246861924686], [0.005813953488372093, 0.08158995815899582], [0.07364341085271318, 0.2594142259414226], [0.812015503875969, 0.9225941422594143], [0.45348837209302323, 0.6924686192468619], [0.01744186046511628, 0.12552301255230125], [0.6627906976744186, 0.8430962343096234], [0.06782945736434108, 0.2594142259414226], [0.10852713178294573, 0.3075313807531381], [0.1182170542635659, 0.3158995815899582], [0.4728682170542636, 0.7050209205020921], [0.998062015503876, 1.0], [0.47093023255813954, 0.7050209205020921], [1.0, 1.0], [0.4883720930232558, 0.7154811715481172], [0.7984496124031008, 0.9225941422594143], [0.627906976744186, 0.8221757322175732], [0.939922480620155, 0.9748953974895398], [0.5988372093023255, 0.8138075313807531], [0.3062015503875969, 0.5292887029288703], [0.07751937984496124, 0.2719665271966527], [0.4844961240310077, 0.7092050209205021], [0.12015503875968993, 0.32217573221757323], [1.0, 1.0], [1.0, 1.0], [0.01744186046511628, 0.15690376569037656], [0.2596899224806202, 0.50418410041841], [0.26356589147286824, 0.5062761506276151], [0.9864341085271318, 0.997907949790795], [0.34108527131782945, 0.5732217573221757], [0.9515503875968992, 0.9811715481171548], [0.01744186046511628, 0.13598326359832635], [0.2771317829457364, 0.5188284518828452], [0.27906976744186046, 0.5209205020920502], [0.6104651162790697, 0.8200836820083682], [0.7189922480620154, 0.8765690376569037], [0.2364341085271318, 0.4581589958158996], [0.4166666666666667, 0.6506276150627615], [0.01744186046511628, 0.12552301255230125], [0.39728682170542634, 0.6255230125523012], [0.7868217054263565, 0.9121338912133892], [0.686046511627907, 0.8577405857740585], [0.025193798449612403, 0.19874476987447698], [0.7945736434108527, 0.9142259414225942], [0.02131782945736434, 0.17782426778242677], [0.8565891472868217, 0.9560669456066946], [0.0562015503875969, 0.2405857740585774], [0.12790697674418605, 0.3284518828451883], [0.3333333333333333, 0.5606694560669456], [0.029069767441860465, 0.2112970711297071], [0.46511627906976744, 0.702928870292887], [0.6550387596899225, 0.8368200836820083], [0.7945736434108527, 0.9142259414225942], [0.5290697674418605, 0.7531380753138075], [0.3701550387596899, 0.5878661087866108], [0.5542635658914729, 0.7782426778242678], [0.8798449612403101, 0.9581589958158996], [0.01937984496124031, 0.17782426778242677], [0.810077519379845, 0.9225941422594143], [0.023255813953488372, 0.18619246861924685], [0.38372093023255816, 0.6108786610878661], [0.7538759689922481, 0.899581589958159], [0.1298449612403101, 0.3305439330543933], [0.09689922480620156, 0.28870292887029286], [0.22093023255813954, 0.4351464435146444], [0.8604651162790697, 0.9560669456066946], [0.01744186046511628, 0.1589958158995816], [0.5038759689922481, 0.7301255230125523], [0.9670542635658915, 0.9895397489539749], [0.013565891472868217, 0.1108786610878661], [0.0, 0.0020920502092050207], [0.12790697674418605, 0.32426778242677823], [0.03682170542635659, 0.2196652719665272], [0.8856589147286822, 0.9665271966527197], [0.4476744186046512, 0.6841004184100419], [0.044573643410852716, 0.23221757322175732], [0.16666666666666666, 0.38284518828451886], [0.023255813953488372, 0.1799163179916318], [0.01744186046511628, 0.1506276150627615], [0.8217054263565892, 0.9309623430962343], [0.6065891472868217, 0.8158995815899581], [0.04263565891472868, 0.2280334728033473], [0.6957364341085271, 0.8682008368200836], [0.7073643410852714, 0.8723849372384938], [0.031007751937984496, 0.2112970711297071], [0.5697674418604651, 0.7845188284518828], [1.0, 1.0], [0.10077519379844961, 0.29916317991631797], [0.01744186046511628, 0.14853556485355648], [0.1511627906976744, 0.3493723849372385], [0.01937984496124031, 0.17782426778242677], [0.3333333333333333, 0.5606694560669456], [0.025193798449612403, 0.19874476987447698], [0.06976744186046512, 0.2594142259414226], [0.03488372093023256, 0.2112970711297071], [0.5775193798449613, 0.7907949790794979], [0.09689922480620156, 0.28870292887029286], [0.15310077519379844, 0.35355648535564854], [0.3875968992248062, 0.6192468619246861], [0.01744186046511628, 0.14225941422594143], [0.013565891472868217, 0.12133891213389121], [0.6976744186046512, 0.8682008368200836], [0.7131782945736435, 0.8765690376569037], [0.01744186046511628, 0.14853556485355648], [0.18992248062015504, 0.40794979079497906], [0.2441860465116279, 0.4602510460251046], [1.0, 1.0], [0.15503875968992248, 0.3619246861924686], [0.6007751937984496, 0.8138075313807531], [0.1569767441860465, 0.36401673640167365], [0.7228682170542635, 0.8870292887029289], [0.7131782945736435, 0.8765690376569037], [0.10077519379844961, 0.303347280334728], [0.563953488372093, 0.7803347280334728], [0.6414728682170543, 0.8263598326359832], [0.7596899224806202, 0.9016736401673641], [0.02131782945736434, 0.17782426778242677], [0.007751937984496124, 0.08577405857740586], [0.22093023255813954, 0.4351464435146444], [0.14147286821705427, 0.3389121338912134], [0.17248062015503876, 0.38702928870292885], [0.029069767441860465, 0.20711297071129708], [0.22093023255813954, 0.4330543933054393], [0.07364341085271318, 0.26359832635983266], [0.8391472868217055, 0.9372384937238494], [0.21511627906976744, 0.42887029288702927], [0.01937984496124031, 0.16736401673640167], [0.01937984496124031, 0.17782426778242677], [0.013565891472868217, 0.09205020920502092], [0.013565891472868217, 0.12133891213389121], [0.10077519379844961, 0.301255230125523], [0.5968992248062015, 0.8138075313807531], [0.1298449612403101, 0.3305439330543933], [0.2131782945736434, 0.42677824267782427], [0.1511627906976744, 0.3514644351464435], [0.5310077519379846, 0.7573221757322176], [0.10077519379844961, 0.3054393305439331], [0.25387596899224807, 0.4790794979079498], [0.1511627906976744, 0.34518828451882844], [0.7189922480620154, 0.8765690376569037], [0.8934108527131783, 0.9686192468619247], [0.9321705426356589, 0.9728033472803347], [0.23837209302325582, 0.4581589958158996], [0.7093023255813954, 0.8723849372384938], [0.9418604651162791, 0.9769874476987448], [0.9903100775193798, 1.0], [0.7616279069767442, 0.9058577405857741], [0.029069767441860465, 0.20711297071129708], [0.6569767441860465, 0.8410041841004184], [0.7829457364341085, 0.9121338912133892], [0.813953488372093, 0.9246861924686193], [0.6414728682170543, 0.8242677824267782], [0.27906976744186046, 0.5209205020920502], [0.10852713178294573, 0.30962343096234307], [0.07751937984496124, 0.2698744769874477], [0.8585271317829457, 0.9560669456066946], [0.07364341085271318, 0.26359832635983266], [0.9670542635658915, 0.9895397489539749], [0.013565891472868217, 0.12133891213389121], [0.9437984496124031, 0.9790794979079498], [0.013565891472868217, 0.11297071129707113], [0.005813953488372093, 0.08158995815899582], [0.03875968992248062, 0.2217573221757322], [0.17248062015503876, 0.38702928870292885], [0.7829457364341085, 0.9121338912133892], [0.001937984496124031, 0.029288702928870293], [0.22286821705426357, 0.4456066945606695], [0.18023255813953487, 0.3912133891213389], [0.07364341085271318, 0.26359832635983266], [0.01744186046511628, 0.12552301255230125], [0.10852713178294573, 0.30962343096234307], [0.0872093023255814, 0.2803347280334728], [0.8430232558139535, 0.9372384937238494], [0.4069767441860465, 0.6422594142259415], [0.6162790697674418, 0.8200836820083682], [0.11434108527131782, 0.3117154811715481], [0.025193798449612403, 0.19874476987447698], [0.2596899224806202, 0.4895397489539749], [0.07364341085271318, 0.26359832635983266], [0.023255813953488372, 0.1799163179916318], [0.8837209302325582, 0.9665271966527197], [1.0, 1.0], [0.025193798449612403, 0.20292887029288703], [0.9089147286821705, 0.9686192468619247], [0.2054263565891473, 0.41631799163179917], [0.013565891472868217, 0.12133891213389121], [0.7965116279069767, 0.9205020920502092], [0.1182170542635659, 0.3200836820083682], [0.4476744186046512, 0.6841004184100419], [0.6027131782945736, 0.8158995815899581], [0.9709302325581395, 0.9916317991631799], [0.01937984496124031, 0.17154811715481172], [0.03682170542635659, 0.2175732217573222], [0.4108527131782946, 0.6485355648535565], [0.37790697674418605, 0.606694560669456], [0.023255813953488372, 0.1799163179916318], [0.9089147286821705, 0.9686192468619247], [0.03682170542635659, 0.2175732217573222]], \"columns\": [{\"dtype\": \"float\", \"name\": \"threshold\"}, {\"dtype\": \"float\", \"name\": \"fpr\"}, {\"dtype\": \"float\", \"name\": \"tpr\"}, {\"dtype\": \"int\", \"name\": \"p\"}, {\"dtype\": \"int\", \"name\": \"n\"}]}, e);\n",
       "                });\n",
       "            })();\n",
       "        "
      ]
     },
     "metadata": {},
     "output_type": "display_data"
    },
    {
     "data": {
      "application/javascript": [
       "$(\"head\").append($(\"<link/>\").attr({\n",
       "  rel:  \"stylesheet\",\n",
       "  type: \"text/css\",\n",
       "  href: \"//cdnjs.cloudflare.com/ajax/libs/font-awesome/4.1.0/css/font-awesome.min.css\"\n",
       "}));\n",
       "$(\"head\").append($(\"<link/>\").attr({\n",
       "  rel:  \"stylesheet\",\n",
       "  type: \"text/css\",\n",
       "  href: \"https://static.turi.com/products/graphlab-create/2.1/canvas/css/canvas.css\"\n",
       "}));\n",
       "\n",
       "            (function(){\n",
       "\n",
       "                var e = null;\n",
       "                if (typeof element == 'undefined') {\n",
       "                    var scripts = document.getElementsByTagName('script');\n",
       "                    var thisScriptTag = scripts[scripts.length-1];\n",
       "                    var parentDiv = thisScriptTag.parentNode;\n",
       "                    e = document.createElement('div');\n",
       "                    parentDiv.appendChild(e);\n",
       "                } else {\n",
       "                    e = element[0];\n",
       "                }\n",
       "\n",
       "                if (typeof requirejs !== 'undefined') {\n",
       "                    // disable load timeout; ipython_app.js is large and can take a while to load.\n",
       "                    requirejs.config({waitSeconds: 0});\n",
       "                }\n",
       "\n",
       "                require(['https://static.turi.com/products/graphlab-create/2.1/canvas/js/ipython_app.js'], function(IPythonApp){\n",
       "                    var app = new IPythonApp();\n",
       "                    app.attachView('sframe','Plots', {\"selected_variable\": {\"name\": [\"<SFrame>\"], \"descriptives\": {\"rows\": 100001, \"columns\": 5}, \"view_component\": \"Plots\", \"view_file\": \"sframe\", \"view_params\": {\"y\": \"tpr\", \"x\": \"fpr\", \"columns\": [\"threshold\", \"fpr\", \"tpr\", \"p\", \"n\"], \"view\": \"Scatter Plot\"}, \"view_components\": [\"Summary\", \"Table\", \"Bar Chart\", \"BoxWhisker Plot\", \"Line Chart\", \"Scatter Plot\", \"Heat Map\", \"Plots\"], \"type\": \"SFrame\", \"columns\": [{\"dtype\": \"float\", \"name\": \"threshold\"}, {\"dtype\": \"float\", \"name\": \"fpr\"}, {\"dtype\": \"float\", \"name\": \"tpr\"}, {\"dtype\": \"int\", \"name\": \"p\"}, {\"dtype\": \"int\", \"name\": \"n\"}], \"column_identifiers\": [\"threshold\", \"p\", \"fpr\", \"tpr\", \"n\"]}, \"complete\": 1, \"ipython\": true, \"progress\": 1.0, \"data\": [[0.40891472868217055, 0.6234309623430963], [0.36046511627906974, 0.5669456066945606], [0.34108527131782945, 0.5418410041841004], [0.34108527131782945, 0.5376569037656904], [0.3372093023255814, 0.5376569037656904], [0.4069767441860465, 0.6192468619246861], [0.3875968992248062, 0.5857740585774058], [0.4166666666666667, 0.6255230125523012], [0.3430232558139535, 0.5481171548117155], [0.42829457364341084, 0.6443514644351465], [0.3875968992248062, 0.5899581589958159], [0.3875968992248062, 0.5878661087866108], [0.3682170542635659, 0.5690376569037657], [0.34689922480620156, 0.5502092050209205], [0.32945736434108525, 0.5355648535564853], [0.4069767441860465, 0.6129707112970711], [0.3817829457364341, 0.5753138075313807], [0.38953488372093026, 0.5941422594142259], [0.3546511627906977, 0.5564853556485355], [0.41472868217054265, 0.6255230125523012], [0.40891472868217055, 0.6192468619246861], [0.32751937984496127, 0.5355648535564853], [0.43992248062015504, 0.6548117154811716], [0.4748062015503876, 0.6820083682008368], [0.4069767441860465, 0.6150627615062761], [0.40891472868217055, 0.6213389121338913], [0.4050387596899225, 0.604602510460251], [0.4263565891472868, 0.6401673640167364], [0.4418604651162791, 0.6569037656903766], [0.38953488372093026, 0.5920502092050209], [0.35658914728682173, 0.5606694560669456], [0.39341085271317827, 0.5983263598326359], [0.3817829457364341, 0.5753138075313807], [0.3817829457364341, 0.5753138075313807], [0.4127906976744186, 0.6234309623430963], [0.42054263565891475, 0.6338912133891214], [0.3856589147286822, 0.5794979079497908], [0.37209302325581395, 0.5732217573221757], [0.4050387596899225, 0.606694560669456], [0.42829457364341084, 0.6422594142259415], [0.3817829457364341, 0.5774058577405857], [0.36046511627906974, 0.5669456066945606], [0.4050387596899225, 0.606694560669456], [0.36627906976744184, 0.5690376569037657], [0.28294573643410853, 0.4790794979079498], [0.42054263565891475, 0.6297071129707112], [0.37209302325581395, 0.5732217573221757], [0.35658914728682173, 0.5606694560669456], [0.3313953488372093, 0.5376569037656904], [0.4127906976744186, 0.6234309623430963], [0.4263565891472868, 0.6380753138075314], [0.40891472868217055, 0.6192468619246861], [0.3430232558139535, 0.5481171548117155], [0.42054263565891475, 0.6297071129707112], [0.41472868217054265, 0.6255230125523012], [0.40310077519379844, 0.600418410041841], [0.4050387596899225, 0.6108786610878661], [0.3953488372093023, 0.5983263598326359], [0.38372093023255816, 0.5794979079497908], [0.4050387596899225, 0.6129707112970711], [0.3875968992248062, 0.5899581589958159], [0.40891472868217055, 0.6234309623430963], [0.4263565891472868, 0.6380753138075314], [0.34108527131782945, 0.5418410041841004], [0.3875968992248062, 0.5899581589958159], [0.374031007751938, 0.5732217573221757], [0.375968992248062, 0.5753138075313807], [0.40891472868217055, 0.6234309623430963], [0.5852713178294574, 0.7280334728033473], [0.34108527131782945, 0.5418410041841004], [0.3875968992248062, 0.5878661087866108], [0.35852713178294576, 0.5627615062761506], [0.3313953488372093, 0.5376569037656904], [0.39341085271317827, 0.5983263598326359], [0.36046511627906974, 0.5669456066945606], [0.3875968992248062, 0.5857740585774058], [0.38953488372093026, 0.5941422594142259], [0.37209302325581395, 0.5732217573221757], [0.3817829457364341, 0.5753138075313807], [0.4050387596899225, 0.6129707112970711], [0.3817829457364341, 0.5753138075313807], [0.38372093023255816, 0.5794979079497908], [0.3333333333333333, 0.5376569037656904], [0.4321705426356589, 0.6464435146443515], [0.3856589147286822, 0.5815899581589958], [0.31976744186046513, 0.5209205020920502], [0.4069767441860465, 0.6129707112970711], [0.4437984496124031, 0.6610878661087866], [0.43410852713178294, 0.6464435146443515], [0.43410852713178294, 0.6464435146443515], [0.3546511627906977, 0.5585774058577406], [0.45542635658914726, 0.6610878661087866], [0.40310077519379844, 0.600418410041841], [0.374031007751938, 0.5732217573221757], [0.5697674418604651, 0.7217573221757322], [0.43410852713178294, 0.6464435146443515], [0.374031007751938, 0.5732217573221757], [0.4418604651162791, 0.6589958158995816], [0.40891472868217055, 0.6192468619246861], [0.38953488372093026, 0.5920502092050209], [0.4263565891472868, 0.6380753138075314], [0.3798449612403101, 0.5753138075313807], [0.3856589147286822, 0.5794979079497908], [0.45155038759689925, 0.6610878661087866], [0.4069767441860465, 0.6150627615062761], [0.42054263565891475, 0.6297071129707112], [0.41472868217054265, 0.6255230125523012], [0.35852713178294576, 0.5627615062761506], [0.3798449612403101, 0.5753138075313807], [0.40310077519379844, 0.600418410041841], [0.4069767441860465, 0.6129707112970711], [0.40891472868217055, 0.6192468619246861], [0.4050387596899225, 0.604602510460251], [0.34108527131782945, 0.5376569037656904], [0.41472868217054265, 0.6255230125523012], [0.32751937984496127, 0.5334728033472803], [0.32751937984496127, 0.5334728033472803], [0.375968992248062, 0.5753138075313807], [0.3817829457364341, 0.5753138075313807], [0.40310077519379844, 0.602510460251046], [0.3817829457364341, 0.5794979079497908], [0.40310077519379844, 0.600418410041841], [0.4728682170542636, 0.6757322175732218], [0.46705426356589147, 0.6715481171548117], [0.43992248062015504, 0.6527196652719666], [0.43410852713178294, 0.6464435146443515], [0.42441860465116277, 0.6338912133891214], [0.3875968992248062, 0.5899581589958159], [0.4011627906976744, 0.600418410041841], [0.375968992248062, 0.5753138075313807], [0.43410852713178294, 0.6464435146443515], [0.37209302325581395, 0.5732217573221757], [0.35658914728682173, 0.5585774058577406], [0.3682170542635659, 0.5690376569037657], [0.3236434108527132, 0.5292887029288703], [0.3817829457364341, 0.5774058577405857], [0.3701550387596899, 0.5690376569037657], [0.4883720930232558, 0.6882845188284519], [0.4050387596899225, 0.6129707112970711], [0.42248062015503873, 0.6338912133891214], [0.4050387596899225, 0.604602510460251], [0.3798449612403101, 0.5753138075313807], [0.3313953488372093, 0.5376569037656904], [0.46705426356589147, 0.6694560669456067], [0.3313953488372093, 0.5355648535564853], [0.38372093023255816, 0.5794979079497908], [0.3313953488372093, 0.5376569037656904], [0.38953488372093026, 0.5941422594142259], [0.35658914728682173, 0.5585774058577406], [0.375968992248062, 0.5753138075313807], [0.4437984496124031, 0.6610878661087866], [0.3817829457364341, 0.5774058577405857], [0.43992248062015504, 0.6506276150627615], [0.40891472868217055, 0.6213389121338913], [0.4728682170542636, 0.6778242677824268], [0.35658914728682173, 0.5627615062761506], [0.40891472868217055, 0.6192468619246861], [0.3313953488372093, 0.5376569037656904], [0.41472868217054265, 0.6255230125523012], [0.3817829457364341, 0.5774058577405857], [0.4011627906976744, 0.600418410041841], [0.41472868217054265, 0.6255230125523012], [0.39147286821705424, 0.5962343096234309], [0.4011627906976744, 0.600418410041841], [0.3875968992248062, 0.5878661087866108], [0.40891472868217055, 0.6234309623430963], [0.437984496124031, 0.6485355648535565], [0.36046511627906974, 0.5669456066945606], [0.4263565891472868, 0.6380753138075314], [0.34689922480620156, 0.5502092050209205], [0.313953488372093, 0.5125523012552301], [0.3817829457364341, 0.5753138075313807], [0.34689922480620156, 0.5502092050209205], [0.374031007751938, 0.5732217573221757], [0.35658914728682173, 0.5585774058577406], [0.36046511627906974, 0.5669456066945606], [0.35658914728682173, 0.5627615062761506], [0.4127906976744186, 0.6234309623430963], [0.40310077519379844, 0.600418410041841], [0.34108527131782945, 0.5376569037656904], [0.31976744186046513, 0.5188284518828452], [0.4108527131782946, 0.6234309623430963], [0.375968992248062, 0.5753138075313807], [0.375968992248062, 0.5753138075313807], [0.35658914728682173, 0.5627615062761506], [0.4263565891472868, 0.6401673640167364], [0.38953488372093026, 0.5920502092050209], [0.3817829457364341, 0.5753138075313807], [0.41472868217054265, 0.6255230125523012], [0.40891472868217055, 0.6192468619246861], [0.4748062015503876, 0.6799163179916318], [0.3430232558139535, 0.5481171548117155], [0.3875968992248062, 0.5857740585774058], [0.35852713178294576, 0.5627615062761506], [0.39728682170542634, 0.5983263598326359], [0.4050387596899225, 0.604602510460251], [0.34108527131782945, 0.5376569037656904], [0.3875968992248062, 0.5878661087866108], [0.3856589147286822, 0.5794979079497908], [0.4011627906976744, 0.600418410041841], [0.374031007751938, 0.5732217573221757], [0.38953488372093026, 0.5920502092050209], [0.4108527131782946, 0.6234309623430963], [0.38953488372093026, 0.5920502092050209], [0.3798449612403101, 0.5753138075313807], [0.34108527131782945, 0.5418410041841004], [0.38953488372093026, 0.5941422594142259], [0.4321705426356589, 0.6464435146443515], [0.375968992248062, 0.5753138075313807], [0.38953488372093026, 0.5920502092050209], [0.4166666666666667, 0.6276150627615062], [0.38372093023255816, 0.5794979079497908], [0.42054263565891475, 0.6297071129707112], [0.3817829457364341, 0.5774058577405857], [0.35658914728682173, 0.5606694560669456], [0.43023255813953487, 0.6443514644351465], [0.39147286821705424, 0.5962343096234309], [0.34108527131782945, 0.5376569037656904], [0.39147286821705424, 0.5941422594142259], [0.375968992248062, 0.5753138075313807], [0.4844961240310077, 0.6861924686192469], [0.4069767441860465, 0.6192468619246861], [0.39147286821705424, 0.5941422594142259], [0.32751937984496127, 0.5334728033472803], [0.3817829457364341, 0.5774058577405857], [0.35852713178294576, 0.5627615062761506], [0.42441860465116277, 0.6338912133891214], [0.375968992248062, 0.5753138075313807], [0.3856589147286822, 0.5815899581589958], [0.40891472868217055, 0.6234309623430963], [0.5445736434108527, 0.7092050209205021], [0.4437984496124031, 0.6589958158995816], [0.37209302325581395, 0.5732217573221757], [0.38953488372093026, 0.5920502092050209], [0.3817829457364341, 0.5753138075313807], [0.44573643410852715, 0.6610878661087866], [0.3798449612403101, 0.5753138075313807], [0.32945736434108525, 0.5355648535564853], [0.39147286821705424, 0.5941422594142259], [0.41472868217054265, 0.6255230125523012], [0.4263565891472868, 0.6380753138075314], [0.3875968992248062, 0.5899581589958159], [0.4263565891472868, 0.6401673640167364], [0.35852713178294576, 0.5627615062761506], [0.3875968992248062, 0.5815899581589958], [0.3875968992248062, 0.5857740585774058], [0.39147286821705424, 0.5941422594142259], [0.374031007751938, 0.5732217573221757], [0.45542635658914726, 0.6610878661087866], [0.43410852713178294, 0.6485355648535565], [0.4127906976744186, 0.6234309623430963], [0.34108527131782945, 0.5376569037656904], [0.3953488372093023, 0.5983263598326359], [0.3624031007751938, 0.5690376569037657], [0.39341085271317827, 0.5983263598326359], [0.3430232558139535, 0.5481171548117155], [0.41472868217054265, 0.6255230125523012], [0.3701550387596899, 0.5732217573221757], [0.41472868217054265, 0.6255230125523012], [0.33527131782945735, 0.5376569037656904], [0.43992248062015504, 0.6569037656903766], [0.3875968992248062, 0.5899581589958159], [0.41472868217054265, 0.6255230125523012], [0.3817829457364341, 0.5794979079497908], [0.3546511627906977, 0.5585774058577406], [0.4127906976744186, 0.6234309623430963], [0.36046511627906974, 0.5669456066945606], [0.38953488372093026, 0.5941422594142259], [0.31976744186046513, 0.5271966527196653], [0.40891472868217055, 0.6192468619246861], [0.3701550387596899, 0.5711297071129707], [0.3817829457364341, 0.5753138075313807], [0.40310077519379844, 0.602510460251046], [0.375968992248062, 0.5753138075313807], [0.46705426356589147, 0.6715481171548117], [0.3875968992248062, 0.5899581589958159], [0.38953488372093026, 0.5941422594142259], [0.3856589147286822, 0.5794979079497908], [0.39728682170542634, 0.5983263598326359], [0.42829457364341084, 0.6443514644351465], [0.3856589147286822, 0.5794979079497908], [0.4263565891472868, 0.6380753138075314], [0.48255813953488375, 0.6820083682008368], [0.40891472868217055, 0.6234309623430963], [0.437984496124031, 0.6485355648535565], [0.40891472868217055, 0.6234309623430963], [0.32558139534883723, 0.5292887029288703], [0.3817829457364341, 0.5753138075313807], [0.3236434108527132, 0.5292887029288703], [0.374031007751938, 0.5732217573221757], [0.39341085271317827, 0.5983263598326359], [0.3817829457364341, 0.5774058577405857], [0.41472868217054265, 0.6234309623430963], [0.4263565891472868, 0.6422594142259415], [0.4108527131782946, 0.6234309623430963], [0.46511627906976744, 0.6631799163179917], [0.35852713178294576, 0.5627615062761506], [0.4786821705426357, 0.6820083682008368], [0.4263565891472868, 0.6380753138075314], [0.4050387596899225, 0.604602510460251], [0.41472868217054265, 0.6255230125523012], [0.40310077519379844, 0.600418410041841], [0.4069767441860465, 0.6192468619246861], [0.3953488372093023, 0.5983263598326359], [0.4166666666666667, 0.6276150627615062], [0.3546511627906977, 0.5543933054393305], [0.42054263565891475, 0.6338912133891214], [0.374031007751938, 0.5732217573221757], [0.29844961240310075, 0.50418410041841], [0.31589147286821706, 0.5146443514644351], [0.374031007751938, 0.5732217573221757], [0.4011627906976744, 0.600418410041841], [0.3856589147286822, 0.5794979079497908], [0.4069767441860465, 0.6192468619246861], [0.39147286821705424, 0.5962343096234309], [0.3701550387596899, 0.5732217573221757], [0.35658914728682173, 0.5627615062761506], [0.4108527131782946, 0.6234309623430963], [0.35658914728682173, 0.5585774058577406], [0.4127906976744186, 0.6234309623430963], [0.41472868217054265, 0.6255230125523012], [0.3817829457364341, 0.5753138075313807], [0.38953488372093026, 0.5941422594142259], [0.4011627906976744, 0.600418410041841], [0.43410852713178294, 0.6464435146443515], [0.40891472868217055, 0.6234309623430963], [0.4166666666666667, 0.6276150627615062], [0.4108527131782946, 0.6234309623430963], [0.43410852713178294, 0.6464435146443515], [0.3856589147286822, 0.5794979079497908], [0.4263565891472868, 0.6380753138075314], [0.3546511627906977, 0.5585774058577406], [0.4050387596899225, 0.6129707112970711], [0.3817829457364341, 0.5753138075313807], [0.39147286821705424, 0.5962343096234309], [0.34689922480620156, 0.5523012552301255], [0.4069767441860465, 0.6192468619246861], [0.3817829457364341, 0.5774058577405857], [0.34108527131782945, 0.5376569037656904], [0.374031007751938, 0.5732217573221757], [0.42441860465116277, 0.6338912133891214], [0.375968992248062, 0.5753138075313807], [0.4748062015503876, 0.6820083682008368], [0.3546511627906977, 0.5585774058577406], [0.41472868217054265, 0.6255230125523012], [0.4844961240310077, 0.6882845188284519], [0.3701550387596899, 0.5690376569037657], [0.437984496124031, 0.6485355648535565], [0.41472868217054265, 0.6255230125523012], [0.41472868217054265, 0.6255230125523012], [0.4166666666666667, 0.6276150627615062], [0.38372093023255816, 0.5794979079497908], [0.3798449612403101, 0.5753138075313807], [0.374031007751938, 0.5753138075313807], [0.4069767441860465, 0.6129707112970711], [0.34689922480620156, 0.5523012552301255], [0.3798449612403101, 0.5753138075313807], [0.34108527131782945, 0.5376569037656904], [0.3875968992248062, 0.5899581589958159], [0.43410852713178294, 0.6485355648535565], [0.40891472868217055, 0.6192468619246861], [0.4050387596899225, 0.604602510460251], [0.32751937984496127, 0.5313807531380753], [0.4263565891472868, 0.6380753138075314], [0.3856589147286822, 0.5794979079497908], [0.4263565891472868, 0.6380753138075314], [0.40891472868217055, 0.6234309623430963], [0.3856589147286822, 0.5794979079497908], [0.4263565891472868, 0.6401673640167364], [0.42829457364341084, 0.6422594142259415], [0.3817829457364341, 0.5774058577405857], [0.35658914728682173, 0.5585774058577406], [0.38372093023255816, 0.5794979079497908], [0.3875968992248062, 0.5899581589958159], [0.3430232558139535, 0.5481171548117155], [0.29457364341085274, 0.5], [0.4069767441860465, 0.6192468619246861], [0.35658914728682173, 0.5585774058577406], [0.3875968992248062, 0.5899581589958159], [0.313953488372093, 0.5125523012552301], [0.5310077519379846, 0.7092050209205021], [0.3817829457364341, 0.5774058577405857], [0.35658914728682173, 0.5606694560669456], [0.2596899224806202, 0.4686192468619247], [0.48255813953488375, 0.6820083682008368], [0.38953488372093026, 0.5941422594142259], [0.3817829457364341, 0.5753138075313807], [0.3236434108527132, 0.5292887029288703], [0.4108527131782946, 0.6234309623430963], [0.41472868217054265, 0.6255230125523012], [0.35658914728682173, 0.5606694560669456], [0.3875968992248062, 0.5899581589958159], [0.39147286821705424, 0.5962343096234309], [0.3798449612403101, 0.5753138075313807], [0.4069767441860465, 0.6129707112970711], [0.41472868217054265, 0.6255230125523012], [0.42248062015503873, 0.6338912133891214], [0.3875968992248062, 0.5899581589958159], [0.374031007751938, 0.5732217573221757], [0.375968992248062, 0.5753138075313807], [0.41472868217054265, 0.6255230125523012], [0.39341085271317827, 0.5983263598326359], [0.3875968992248062, 0.5899581589958159], [0.42829457364341084, 0.6443514644351465], [0.3701550387596899, 0.5711297071129707], [0.39147286821705424, 0.5941422594142259], [0.36046511627906974, 0.5669456066945606], [0.4050387596899225, 0.604602510460251], [0.3875968992248062, 0.5899581589958159], [0.41472868217054265, 0.6255230125523012], [0.41472868217054265, 0.6255230125523012], [0.3817829457364341, 0.5774058577405857], [0.4050387596899225, 0.6129707112970711], [0.3856589147286822, 0.5794979079497908], [0.40310077519379844, 0.600418410041841], [0.33527131782945735, 0.5376569037656904], [0.3817829457364341, 0.5794979079497908], [0.3875968992248062, 0.5899581589958159], [0.38372093023255816, 0.5794979079497908], [0.3817829457364341, 0.5753138075313807], [0.38953488372093026, 0.5920502092050209], [0.4941860465116279, 0.6882845188284519], [0.35852713178294576, 0.5627615062761506], [0.41472868217054265, 0.6255230125523012], [0.43992248062015504, 0.6506276150627615], [0.41472868217054265, 0.6255230125523012], [0.375968992248062, 0.5753138075313807], [0.46124031007751937, 0.6610878661087866], [0.4050387596899225, 0.6108786610878661], [0.4050387596899225, 0.6129707112970711], [0.32751937984496127, 0.5355648535564853], [0.39147286821705424, 0.5962343096234309], [0.3875968992248062, 0.5836820083682008], [0.4050387596899225, 0.604602510460251], [0.39147286821705424, 0.5941422594142259], [0.34108527131782945, 0.5418410041841004], [0.4069767441860465, 0.6129707112970711], [0.3875968992248062, 0.5899581589958159], [0.36046511627906974, 0.5669456066945606], [0.4263565891472868, 0.6380753138075314], [0.4069767441860465, 0.6150627615062761], [0.41472868217054265, 0.6255230125523012], [0.3313953488372093, 0.5355648535564853], [0.375968992248062, 0.5753138075313807], [0.40891472868217055, 0.6213389121338913], [0.3875968992248062, 0.5899581589958159], [0.40310077519379844, 0.600418410041841], [0.3624031007751938, 0.5690376569037657], [0.4050387596899225, 0.6129707112970711], [0.4263565891472868, 0.6401673640167364], [0.3624031007751938, 0.5690376569037657], [0.42441860465116277, 0.6359832635983264], [0.40891472868217055, 0.6192468619246861], [0.43410852713178294, 0.6464435146443515], [0.5193798449612403, 0.7092050209205021], [0.35658914728682173, 0.5627615062761506], [0.34108527131782945, 0.5376569037656904], [0.33527131782945735, 0.5376569037656904], [0.4050387596899225, 0.6129707112970711], [0.41472868217054265, 0.6255230125523012], [0.374031007751938, 0.5753138075313807], [0.4166666666666667, 0.6276150627615062], [0.3856589147286822, 0.5794979079497908], [0.3798449612403101, 0.5753138075313807], [0.40310077519379844, 0.600418410041841], [0.37790697674418605, 0.5753138075313807], [0.44573643410852715, 0.6610878661087866], [0.3546511627906977, 0.5543933054393305], [0.374031007751938, 0.5732217573221757], [0.39147286821705424, 0.5962343096234309], [0.42441860465116277, 0.6359832635983264], [0.3701550387596899, 0.5711297071129707], [0.40891472868217055, 0.6234309623430963], [0.35658914728682173, 0.5585774058577406], [0.4263565891472868, 0.6401673640167364], [0.3701550387596899, 0.5732217573221757], [0.3701550387596899, 0.5690376569037657], [0.3817829457364341, 0.5774058577405857], [0.4127906976744186, 0.6234309623430963], [0.4050387596899225, 0.604602510460251], [0.374031007751938, 0.5753138075313807], [0.4069767441860465, 0.6192468619246861], [0.34108527131782945, 0.5439330543933054], [0.4263565891472868, 0.6401673640167364], [0.4050387596899225, 0.6129707112970711], [0.45542635658914726, 0.6610878661087866], [0.3856589147286822, 0.5794979079497908], [0.33527131782945735, 0.5376569037656904], [0.3875968992248062, 0.5899581589958159], [0.4069767441860465, 0.6129707112970711], [0.39728682170542634, 0.5983263598326359], [0.42054263565891475, 0.6338912133891214], [0.38372093023255816, 0.5794979079497908], [0.3817829457364341, 0.5753138075313807], [0.32751937984496127, 0.5334728033472803], [0.46511627906976744, 0.6673640167364017], [0.4069767441860465, 0.6129707112970711], [0.40310077519379844, 0.602510460251046], [0.4050387596899225, 0.604602510460251], [0.42054263565891475, 0.6297071129707112], [0.3817829457364341, 0.5753138075313807], [0.4437984496124031, 0.6589958158995816], [0.43992248062015504, 0.6548117154811716], [0.4748062015503876, 0.6799163179916318], [0.35852713178294576, 0.5627615062761506], [0.3875968992248062, 0.5899581589958159], [0.35658914728682173, 0.5606694560669456], [0.39147286821705424, 0.5941422594142259], [0.36046511627906974, 0.5669456066945606], [0.4050387596899225, 0.604602510460251], [0.40891472868217055, 0.6234309623430963], [0.4050387596899225, 0.6129707112970711], [0.4166666666666667, 0.6276150627615062], [0.375968992248062, 0.5753138075313807], [0.3313953488372093, 0.5355648535564853], [0.41472868217054265, 0.6255230125523012], [0.4728682170542636, 0.6757322175732218], [0.3953488372093023, 0.5983263598326359], [0.374031007751938, 0.5732217573221757], [0.35658914728682173, 0.5585774058577406], [0.43410852713178294, 0.6464435146443515], [0.41472868217054265, 0.6255230125523012], [0.3313953488372093, 0.5355648535564853], [0.4069767441860465, 0.6150627615062761], [0.4127906976744186, 0.6234309623430963], [0.3817829457364341, 0.5753138075313807], [0.34689922480620156, 0.5502092050209205], [0.3817829457364341, 0.5774058577405857], [0.38953488372093026, 0.5941422594142259], [0.38953488372093026, 0.5941422594142259], [0.3817829457364341, 0.5774058577405857], [0.4127906976744186, 0.6234309623430963], [0.3817829457364341, 0.5753138075313807], [0.3817829457364341, 0.5774058577405857], [0.3817829457364341, 0.5753138075313807], [0.3798449612403101, 0.5753138075313807], [0.3817829457364341, 0.5753138075313807], [0.40891472868217055, 0.6234309623430963], [0.31589147286821706, 0.5146443514644351], [0.38953488372093026, 0.5920502092050209], [0.31589147286821706, 0.5146443514644351], [0.39147286821705424, 0.5941422594142259], [0.41472868217054265, 0.6255230125523012], [0.374031007751938, 0.5753138075313807], [0.3313953488372093, 0.5355648535564853], [0.4069767441860465, 0.6150627615062761], [0.3875968992248062, 0.5899581589958159], [0.41472868217054265, 0.6255230125523012], [0.3875968992248062, 0.5899581589958159], [0.42829457364341084, 0.6422594142259415], [0.37209302325581395, 0.5732217573221757], [0.4728682170542636, 0.6757322175732218], [0.34689922480620156, 0.5523012552301255], [0.4069767441860465, 0.6192468619246861], [0.3798449612403101, 0.5753138075313807], [0.4263565891472868, 0.6380753138075314], [0.34108527131782945, 0.5439330543933054], [0.4050387596899225, 0.6129707112970711], [0.40891472868217055, 0.6234309623430963], [0.4069767441860465, 0.6192468619246861], [0.374031007751938, 0.5732217573221757], [0.42248062015503873, 0.6338912133891214], [0.39147286821705424, 0.5962343096234309], [0.41472868217054265, 0.6255230125523012], [0.35852713178294576, 0.5627615062761506], [0.36046511627906974, 0.5669456066945606], [0.41472868217054265, 0.6255230125523012], [0.3875968992248062, 0.5878661087866108], [0.49224806201550386, 0.6882845188284519], [0.4050387596899225, 0.604602510460251], [0.40891472868217055, 0.6234309623430963], [0.38953488372093026, 0.5941422594142259], [0.36046511627906974, 0.5669456066945606], [0.4069767441860465, 0.6150627615062761], [0.40891472868217055, 0.6234309623430963], [0.38953488372093026, 0.5941422594142259], [0.4069767441860465, 0.6129707112970711], [0.3875968992248062, 0.5899581589958159], [0.39147286821705424, 0.5962343096234309], [0.3682170542635659, 0.5690376569037657], [0.41472868217054265, 0.6255230125523012], [0.3817829457364341, 0.5753138075313807], [0.38953488372093026, 0.5920502092050209], [0.4186046511627907, 0.6297071129707112], [0.4069767441860465, 0.6192468619246861], [0.41472868217054265, 0.6255230125523012], [0.34108527131782945, 0.5376569037656904], [0.36046511627906974, 0.5669456066945606], [0.3875968992248062, 0.5878661087866108], [0.43410852713178294, 0.6464435146443515], [0.35852713178294576, 0.5627615062761506], [0.4263565891472868, 0.6422594142259415], [0.38953488372093026, 0.5941422594142259], [0.4127906976744186, 0.6234309623430963], [0.375968992248062, 0.5753138075313807], [0.43992248062015504, 0.6548117154811716], [0.32945736434108525, 0.5355648535564853], [0.374031007751938, 0.5732217573221757], [0.374031007751938, 0.5732217573221757], [0.41472868217054265, 0.6255230125523012], [0.4050387596899225, 0.604602510460251], [0.4263565891472868, 0.6380753138075314], [0.35658914728682173, 0.5606694560669456], [0.4748062015503876, 0.6799163179916318], [0.3682170542635659, 0.5690376569037657], [0.39341085271317827, 0.5983263598326359], [0.4186046511627907, 0.6297071129707112], [0.4263565891472868, 0.6380753138075314], [0.36046511627906974, 0.5669456066945606], [0.3546511627906977, 0.5543933054393305], [0.34108527131782945, 0.5460251046025104], [0.39341085271317827, 0.5983263598326359], [0.3798449612403101, 0.5753138075313807], [0.42054263565891475, 0.6338912133891214], [0.41472868217054265, 0.6255230125523012], [0.41472868217054265, 0.6255230125523012], [0.45348837209302323, 0.6610878661087866], [0.43410852713178294, 0.6485355648535565], [0.41472868217054265, 0.6255230125523012], [0.39147286821705424, 0.5941422594142259], [0.35658914728682173, 0.5606694560669456], [0.4050387596899225, 0.608786610878661], [0.34108527131782945, 0.5418410041841004], [0.4050387596899225, 0.606694560669456], [0.374031007751938, 0.5732217573221757], [0.43992248062015504, 0.6548117154811716], [0.4050387596899225, 0.604602510460251], [0.41472868217054265, 0.6255230125523012], [0.3817829457364341, 0.5774058577405857], [0.41472868217054265, 0.6255230125523012], [0.3817829457364341, 0.5753138075313807], [0.3875968992248062, 0.5899581589958159], [0.43023255813953487, 0.6443514644351465], [0.35852713178294576, 0.5627615062761506], [0.32751937984496127, 0.5355648535564853], [0.4437984496124031, 0.6589958158995816], [0.3817829457364341, 0.5753138075313807], [0.4263565891472868, 0.6401673640167364], [0.40891472868217055, 0.6213389121338913], [0.3875968992248062, 0.5899581589958159], [0.3817829457364341, 0.5794979079497908], [0.35658914728682173, 0.5585774058577406], [0.46705426356589147, 0.6715481171548117], [0.4050387596899225, 0.604602510460251], [0.3817829457364341, 0.5774058577405857], [0.38953488372093026, 0.5941422594142259], [0.28294573643410853, 0.4811715481171548], [0.42829457364341084, 0.6422594142259415], [0.374031007751938, 0.5732217573221757], [0.4437984496124031, 0.6589958158995816], [0.3430232558139535, 0.5481171548117155], [0.38953488372093026, 0.5941422594142259], [0.4069767441860465, 0.6192468619246861], [0.35658914728682173, 0.5606694560669456], [0.4069767441860465, 0.6150627615062761], [0.3875968992248062, 0.5878661087866108], [0.40891472868217055, 0.6234309623430963], [0.28294573643410853, 0.4811715481171548], [0.34108527131782945, 0.5376569037656904], [0.4321705426356589, 0.6464435146443515], [0.4069767441860465, 0.6171548117154811], [0.28488372093023256, 0.4811715481171548], [0.3875968992248062, 0.5899581589958159], [0.45155038759689925, 0.6610878661087866], [0.4573643410852713, 0.6610878661087866], [0.4050387596899225, 0.604602510460251], [0.42441860465116277, 0.6359832635983264], [0.375968992248062, 0.5753138075313807], [0.3624031007751938, 0.5690376569037657], [0.3798449612403101, 0.5753138075313807], [0.375968992248062, 0.5753138075313807], [0.42054263565891475, 0.6297071129707112], [0.36046511627906974, 0.5669456066945606], [0.4050387596899225, 0.604602510460251], [0.437984496124031, 0.6485355648535565], [0.39341085271317827, 0.5983263598326359], [0.35658914728682173, 0.5585774058577406], [0.39341085271317827, 0.5983263598326359], [0.32751937984496127, 0.5313807531380753], [0.38953488372093026, 0.5941422594142259], [0.4108527131782946, 0.6234309623430963], [0.3875968992248062, 0.5899581589958159], [0.3875968992248062, 0.5857740585774058], [0.42829457364341084, 0.6422594142259415], [0.32751937984496127, 0.5334728033472803], [0.4050387596899225, 0.604602510460251], [0.45155038759689925, 0.6610878661087866], [0.3817829457364341, 0.5794979079497908], [0.375968992248062, 0.5753138075313807], [0.437984496124031, 0.6485355648535565], [0.3817829457364341, 0.5753138075313807], [0.4127906976744186, 0.6234309623430963], [0.42829457364341084, 0.6443514644351465], [0.41472868217054265, 0.6255230125523012], [0.4011627906976744, 0.600418410041841], [0.39147286821705424, 0.5941422594142259], [0.39147286821705424, 0.5941422594142259], [0.41472868217054265, 0.6255230125523012], [0.38953488372093026, 0.5941422594142259], [0.3856589147286822, 0.5815899581589958], [0.41472868217054265, 0.6255230125523012], [0.4050387596899225, 0.6129707112970711], [0.4050387596899225, 0.6108786610878661], [0.4166666666666667, 0.6276150627615062], [0.38372093023255816, 0.5794979079497908], [0.3817829457364341, 0.5753138075313807], [0.3507751937984496, 0.5523012552301255], [0.34108527131782945, 0.5481171548117155], [0.33527131782945735, 0.5376569037656904], [0.4069767441860465, 0.6150627615062761], [0.46705426356589147, 0.6673640167364017], [0.35658914728682173, 0.5585774058577406], [0.4844961240310077, 0.6841004184100419], [0.437984496124031, 0.6485355648535565], [0.3817829457364341, 0.5753138075313807], [0.32751937984496127, 0.5355648535564853], [0.39147286821705424, 0.5962343096234309], [0.40891472868217055, 0.6213389121338913], [0.3875968992248062, 0.5899581589958159], [0.3856589147286822, 0.5794979079497908], [0.3333333333333333, 0.5376569037656904], [0.3875968992248062, 0.5878661087866108], [0.3798449612403101, 0.5753138075313807], [0.5038759689922481, 0.700836820083682], [0.39728682170542634, 0.5983263598326359], [0.3817829457364341, 0.5753138075313807], [0.4806201550387597, 0.6820083682008368], [0.41472868217054265, 0.6255230125523012], [0.3817829457364341, 0.5753138075313807], [0.3953488372093023, 0.5983263598326359], [0.42441860465116277, 0.6359832635983264], [0.4883720930232558, 0.6882845188284519], [0.34108527131782945, 0.5418410041841004], [0.374031007751938, 0.5732217573221757], [0.42441860465116277, 0.6338912133891214], [0.37209302325581395, 0.5732217573221757], [0.4050387596899225, 0.6129707112970711], [0.40310077519379844, 0.600418410041841], [0.39341085271317827, 0.5983263598326359], [0.40891472868217055, 0.6192468619246861], [0.40891472868217055, 0.6192468619246861], [0.4127906976744186, 0.6234309623430963], [0.3817829457364341, 0.5753138075313807], [0.3817829457364341, 0.5753138075313807], [0.39147286821705424, 0.5941422594142259], [0.4050387596899225, 0.604602510460251], [0.4050387596899225, 0.604602510460251], [0.3798449612403101, 0.5753138075313807], [0.4050387596899225, 0.604602510460251], [0.43410852713178294, 0.6464435146443515], [0.3817829457364341, 0.5774058577405857], [0.35658914728682173, 0.5585774058577406], [0.43023255813953487, 0.6443514644351465], [0.5038759689922481, 0.698744769874477], [0.39147286821705424, 0.5941422594142259], [0.39147286821705424, 0.5962343096234309], [0.40891472868217055, 0.6234309623430963], [0.3856589147286822, 0.5794979079497908], [0.40891472868217055, 0.6213389121338913], [0.3875968992248062, 0.5899581589958159], [0.3236434108527132, 0.5292887029288703], [0.43023255813953487, 0.6464435146443515], [0.46511627906976744, 0.6652719665271967], [0.35658914728682173, 0.5627615062761506], [0.3546511627906977, 0.5543933054393305], [0.4108527131782946, 0.6234309623430963], [0.4011627906976744, 0.600418410041841], [0.3391472868217054, 0.5376569037656904], [0.5038759689922481, 0.698744769874477], [0.3953488372093023, 0.5983263598326359], [0.4069767441860465, 0.6192468619246861], [0.37209302325581395, 0.5732217573221757], [0.39341085271317827, 0.5983263598326359], [0.4496124031007752, 0.6610878661087866], [0.3817829457364341, 0.5753138075313807], [0.3953488372093023, 0.5983263598326359], [0.39147286821705424, 0.5962343096234309], [0.3856589147286822, 0.5794979079497908], [0.4011627906976744, 0.600418410041841], [0.4263565891472868, 0.6380753138075314], [0.3817829457364341, 0.5753138075313807], [0.39147286821705424, 0.5941422594142259], [0.42829457364341084, 0.6422594142259415], [0.3817829457364341, 0.5774058577405857], [0.38953488372093026, 0.5941422594142259], [0.43410852713178294, 0.6485355648535565], [0.3817829457364341, 0.5774058577405857], [0.40891472868217055, 0.6192468619246861], [0.43023255813953487, 0.6443514644351465], [0.33527131782945735, 0.5376569037656904], [0.3875968992248062, 0.5815899581589958], [0.40891472868217055, 0.6192468619246861], [0.34689922480620156, 0.5523012552301255], [0.35658914728682173, 0.5627615062761506], [0.4437984496124031, 0.6589958158995816], [0.4069767441860465, 0.6150627615062761], [0.3953488372093023, 0.5983263598326359], [0.374031007751938, 0.5732217573221757], [0.34689922480620156, 0.5502092050209205], [0.4050387596899225, 0.6129707112970711], [0.45348837209302323, 0.6610878661087866], [0.3856589147286822, 0.5794979079497908], [0.48255813953488375, 0.6820083682008368], [0.40891472868217055, 0.6213389121338913], [0.374031007751938, 0.5732217573221757], [0.38953488372093026, 0.5941422594142259], [0.40891472868217055, 0.6234309623430963], [0.38953488372093026, 0.5941422594142259], [0.35658914728682173, 0.5627615062761506], [0.32751937984496127, 0.5334728033472803], [0.437984496124031, 0.6485355648535565], [0.40310077519379844, 0.600418410041841], [0.39341085271317827, 0.5983263598326359], [0.35658914728682173, 0.5627615062761506], [0.4108527131782946, 0.6234309623430963], [0.36046511627906974, 0.5648535564853556], [0.32945736434108525, 0.5355648535564853], [0.4050387596899225, 0.604602510460251], [0.44573643410852715, 0.6610878661087866], [0.39147286821705424, 0.5962343096234309], [0.40891472868217055, 0.6234309623430963], [0.36046511627906974, 0.5648535564853556], [0.34108527131782945, 0.5376569037656904], [0.42441860465116277, 0.6338912133891214], [0.3798449612403101, 0.5753138075313807], [0.3817829457364341, 0.5753138075313807], [0.39147286821705424, 0.5962343096234309], [0.375968992248062, 0.5753138075313807], [0.374031007751938, 0.5732217573221757], [0.39147286821705424, 0.5962343096234309], [0.38953488372093026, 0.5941422594142259], [0.4108527131782946, 0.6234309623430963], [0.3313953488372093, 0.5376569037656904], [0.35658914728682173, 0.5585774058577406], [0.40891472868217055, 0.6234309623430963], [0.40891472868217055, 0.6213389121338913], [0.4050387596899225, 0.6108786610878661], [0.40891472868217055, 0.6192468619246861], [0.4069767441860465, 0.6150627615062761], [0.41472868217054265, 0.6255230125523012], [0.39147286821705424, 0.5941422594142259], [0.4011627906976744, 0.600418410041841], [0.375968992248062, 0.5753138075313807], [0.35658914728682173, 0.5627615062761506], [0.4011627906976744, 0.600418410041841], [0.4127906976744186, 0.6234309623430963], [0.4748062015503876, 0.6820083682008368], [0.39147286821705424, 0.5962343096234309], [0.46511627906976744, 0.6652719665271967], [0.40310077519379844, 0.602510460251046], [0.3817829457364341, 0.5794979079497908], [0.40310077519379844, 0.600418410041841], [0.37790697674418605, 0.5753138075313807], [0.3817829457364341, 0.5794979079497908], [0.4069767441860465, 0.6192468619246861], [0.34108527131782945, 0.5418410041841004], [0.41472868217054265, 0.6255230125523012], [0.43992248062015504, 0.6527196652719666], [0.4166666666666667, 0.6276150627615062], [0.374031007751938, 0.5732217573221757], [0.3817829457364341, 0.5753138075313807], [0.37209302325581395, 0.5732217573221757], [0.42829457364341084, 0.6422594142259415], [0.38953488372093026, 0.5941422594142259], [0.45348837209302323, 0.6610878661087866], [0.4050387596899225, 0.6129707112970711], [0.45348837209302323, 0.6610878661087866], [0.42829457364341084, 0.6422594142259415], [0.3817829457364341, 0.5774058577405857], [0.39147286821705424, 0.5962343096234309], [0.32751937984496127, 0.5334728033472803], [0.4166666666666667, 0.6276150627615062], [0.3817829457364341, 0.5774058577405857], [0.36046511627906974, 0.5669456066945606], [0.39341085271317827, 0.5983263598326359], [0.39147286821705424, 0.5941422594142259], [0.38372093023255816, 0.5794979079497908], [0.3488372093023256, 0.5523012552301255], [0.4166666666666667, 0.6276150627615062], [0.40891472868217055, 0.6213389121338913], [0.3333333333333333, 0.5376569037656904], [0.3624031007751938, 0.5690376569037657], [0.39147286821705424, 0.5941422594142259], [0.36046511627906974, 0.5669456066945606], [0.42441860465116277, 0.6338912133891214], [0.38953488372093026, 0.5920502092050209], [0.4050387596899225, 0.604602510460251], [0.44573643410852715, 0.6610878661087866], [0.3856589147286822, 0.5815899581589958], [0.4437984496124031, 0.6610878661087866], [0.4069767441860465, 0.6192468619246861], [0.374031007751938, 0.5753138075313807], [0.4108527131782946, 0.6234309623430963], [0.3372093023255814, 0.5376569037656904], [0.3817829457364341, 0.5753138075313807], [0.35852713178294576, 0.5627615062761506], [0.43410852713178294, 0.6464435146443515], [0.43992248062015504, 0.6506276150627615], [0.3817829457364341, 0.5774058577405857], [0.35658914728682173, 0.5627615062761506], [0.4069767441860465, 0.6192468619246861], [0.3546511627906977, 0.5543933054393305], [0.39341085271317827, 0.5983263598326359], [0.3817829457364341, 0.5753138075313807], [0.35658914728682173, 0.5627615062761506], [0.4263565891472868, 0.6401673640167364], [0.3856589147286822, 0.5815899581589958], [0.4069767441860465, 0.6150627615062761], [0.4263565891472868, 0.6380753138075314], [0.34108527131782945, 0.5376569037656904], [0.38953488372093026, 0.5941422594142259], [0.4050387596899225, 0.6129707112970711], [0.375968992248062, 0.5753138075313807], [0.4050387596899225, 0.604602510460251], [0.43992248062015504, 0.6548117154811716], [0.3798449612403101, 0.5753138075313807], [0.3875968992248062, 0.5899581589958159], [0.38953488372093026, 0.5920502092050209], [0.3953488372093023, 0.5983263598326359], [0.437984496124031, 0.6485355648535565], [0.4186046511627907, 0.6276150627615062], [0.3817829457364341, 0.5794979079497908], [0.34108527131782945, 0.5418410041841004], [0.39147286821705424, 0.5941422594142259], [0.4748062015503876, 0.6799163179916318], [0.4321705426356589, 0.6464435146443515], [0.3856589147286822, 0.5794979079497908], [0.374031007751938, 0.5732217573221757], [0.4127906976744186, 0.6234309623430963], [0.43992248062015504, 0.6506276150627615], [0.35658914728682173, 0.5627615062761506], [0.40891472868217055, 0.6192468619246861], [0.29457364341085274, 0.5], [0.3875968992248062, 0.5899581589958159], [0.4069767441860465, 0.6192468619246861], [0.4050387596899225, 0.604602510460251], [0.4573643410852713, 0.6610878661087866], [0.375968992248062, 0.5753138075313807], [0.41472868217054265, 0.6255230125523012], [0.3817829457364341, 0.5794979079497908], [0.4166666666666667, 0.6255230125523012], [0.40891472868217055, 0.6234309623430963], [0.4069767441860465, 0.6129707112970711], [0.32751937984496127, 0.5334728033472803], [0.3817829457364341, 0.5753138075313807], [0.375968992248062, 0.5753138075313807], [0.3817829457364341, 0.5753138075313807], [0.38953488372093026, 0.5941422594142259], [0.4011627906976744, 0.600418410041841], [0.38953488372093026, 0.5941422594142259], [0.41472868217054265, 0.6255230125523012], [0.4263565891472868, 0.6380753138075314], [0.41472868217054265, 0.6255230125523012], [0.3817829457364341, 0.5794979079497908], [0.4186046511627907, 0.6297071129707112], [0.38953488372093026, 0.5941422594142259], [0.38953488372093026, 0.5941422594142259], [0.4127906976744186, 0.6234309623430963], [0.41472868217054265, 0.6255230125523012], [0.3856589147286822, 0.5794979079497908], [0.40891472868217055, 0.6234309623430963], [0.3798449612403101, 0.5753138075313807], [0.4186046511627907, 0.6276150627615062], [0.39147286821705424, 0.5941422594142259], [0.4108527131782946, 0.6234309623430963], [0.4321705426356589, 0.6464435146443515], [0.35658914728682173, 0.5585774058577406], [0.28875968992248063, 0.4874476987447699], [0.34689922480620156, 0.5523012552301255], [0.375968992248062, 0.5753138075313807], [0.38953488372093026, 0.5920502092050209], [0.3817829457364341, 0.5774058577405857], [0.46511627906976744, 0.6673640167364017], [0.38953488372093026, 0.5941422594142259], [0.437984496124031, 0.6485355648535565], [0.374031007751938, 0.5732217573221757], [0.41472868217054265, 0.6255230125523012], [0.3798449612403101, 0.5753138075313807], [0.4263565891472868, 0.6380753138075314], [0.32945736434108525, 0.5355648535564853], [0.43992248062015504, 0.6548117154811716], [0.374031007751938, 0.5732217573221757], [0.36046511627906974, 0.5669456066945606], [0.43410852713178294, 0.6464435146443515], [0.3817829457364341, 0.5774058577405857], [0.43023255813953487, 0.6443514644351465], [0.34108527131782945, 0.5460251046025104], [0.38953488372093026, 0.5941422594142259], [0.3817829457364341, 0.5753138075313807], [0.45155038759689925, 0.6610878661087866], [0.3624031007751938, 0.5669456066945606], [0.38953488372093026, 0.5941422594142259], [0.39147286821705424, 0.5941422594142259], [0.375968992248062, 0.5753138075313807], [0.39341085271317827, 0.5983263598326359], [0.4069767441860465, 0.6192468619246861], [0.41472868217054265, 0.6255230125523012], [0.38953488372093026, 0.5920502092050209], [0.31589147286821706, 0.5146443514644351], [0.39341085271317827, 0.5983263598326359]], \"columns\": [{\"dtype\": \"float\", \"name\": \"threshold\"}, {\"dtype\": \"float\", \"name\": \"fpr\"}, {\"dtype\": \"float\", \"name\": \"tpr\"}, {\"dtype\": \"int\", \"name\": \"p\"}, {\"dtype\": \"int\", \"name\": \"n\"}]}, e);\n",
       "                });\n",
       "            })();\n",
       "        "
      ]
     },
     "metadata": {},
     "output_type": "display_data"
    }
   ],
   "source": [
    "gl.canvas.set_target('ipynb')\n",
    "classifier_results['roc_curve'].show(view='Scatter Plot', x='fpr', y='tpr')\n",
    "#svmclassifier_results['roc_curve'].show(view='Scatter Plot', x='fpr', y='tpr')\n",
    "logitclassifier_results['roc_curve'].show(view='Scatter Plot', x='fpr', y='tpr')\n",
    "#classifier_results['roc_curve'].show(view='Scatter Plot', x='threshold', y='tpr')"
   ]
  },
  {
   "cell_type": "markdown",
   "metadata": {},
   "source": [
    "### Summaries:"
   ]
  },
  {
   "cell_type": "code",
   "execution_count": 64,
   "metadata": {
    "collapsed": false
   },
   "outputs": [
    {
     "name": "stdout",
     "output_type": "stream",
     "text": [
      "Class                          : LogisticClassifier\n",
      "\n",
      "Schema\n",
      "------\n",
      "Number of coefficients         : 4097\n",
      "Number of examples             : 3781\n",
      "Number of classes              : 2\n",
      "Number of feature columns      : 1\n",
      "Number of unpacked features    : 4096\n",
      "\n",
      "Hyperparameters\n",
      "---------------\n",
      "L1 penalty                     : 0\n",
      "L2 penalty                     : 0.01\n",
      "\n",
      "Training Summary\n",
      "----------------\n",
      "Solver                         : lbfgs\n",
      "Solver iterations              : 10\n",
      "Solver status                  : TERMINATED: Iteration limit reached.\n",
      "Training time (sec)            : 2.3102\n",
      "\n",
      "Settings\n",
      "--------\n",
      "Log-likelihood                 : 1947.4746\n",
      "\n",
      "Highest Positive Coefficients\n",
      "-----------------------------\n",
      "deep_.resized_image[3080]      : 0.1554\n",
      "deep_.resized_image[2069]      : 0.1106\n",
      "deep_.resized_image[3285]      : 0.0943\n",
      "deep_.resized_image[882]       : 0.0872\n",
      "deep_.resized_image[1949]      : 0.0867\n",
      "\n",
      "Lowest Negative Coefficients\n",
      "----------------------------\n",
      "deep_.resized_image[2545]      : -0.1239\n",
      "deep_.resized_image[2497]      : -0.1108\n",
      "deep_.resized_image[2031]      : -0.1063\n",
      "deep_.resized_image[3489]      : -0.1021\n",
      "deep_.resized_image[1254]      : -0.091\n",
      "\n",
      "Class                          : SVMClassifier\n",
      "\n",
      "Schema\n",
      "------\n",
      "Number of coefficients         : 4097\n",
      "Number of examples             : 3821\n",
      "Number of classes              : 2\n",
      "Number of feature columns      : 1\n",
      "Number of unpacked features    : 4096\n",
      "\n",
      "Hyperparameters\n",
      "---------------\n",
      "Mis-classification penalty     : 1.0\n",
      "\n",
      "Training Summary\n",
      "----------------\n",
      "Solver                         : lbfgs\n",
      "Solver iterations              : 100\n",
      "Solver status                  : TERMINATED: Iteration limit reached.\n",
      "Training time (sec)            : 20.2748\n",
      "\n",
      "Settings\n",
      "--------\n",
      "Train Loss                     : 25.8452\n",
      "\n",
      "Highest Positive Coefficients\n",
      "-----------------------------\n",
      "deep_.resized_image[520]       : 2.2772\n",
      "deep_.resized_image[797]       : 1.6934\n",
      "deep_.resized_image[3080]      : 1.6759\n",
      "deep_.resized_image[350]       : 1.4723\n",
      "deep_.resized_image[1288]      : 1.4038\n",
      "\n",
      "Lowest Negative Coefficients\n",
      "----------------------------\n",
      "deep_.resized_image[833]       : -1.6795\n",
      "deep_.resized_image[2545]      : -1.652\n",
      "deep_.resized_image[99]        : -1.4382\n",
      "deep_.resized_image[110]       : -1.4277\n",
      "deep_.resized_image[2506]      : -1.3819\n",
      "\n",
      "Class                          : LogisticClassifier\n",
      "\n",
      "Schema\n",
      "------\n",
      "Number of coefficients         : 4097\n",
      "Number of examples             : 3793\n",
      "Number of classes              : 2\n",
      "Number of feature columns      : 1\n",
      "Number of unpacked features    : 4096\n",
      "\n",
      "Hyperparameters\n",
      "---------------\n",
      "L1 penalty                     : 0.0\n",
      "L2 penalty                     : 0.01\n",
      "\n",
      "Training Summary\n",
      "----------------\n",
      "Solver                         : lbfgs\n",
      "Solver iterations              : 100\n",
      "Solver status                  : TERMINATED: Iteration limit reached.\n",
      "Training time (sec)            : 20.571\n",
      "\n",
      "Settings\n",
      "--------\n",
      "Log-likelihood                 : 5.2124\n",
      "\n",
      "Highest Positive Coefficients\n",
      "-----------------------------\n",
      "deep_.resized_image[520]       : 8.371\n",
      "deep_.resized_image[3080]      : 7.5607\n",
      "deep_.resized_image[797]       : 5.7386\n",
      "deep_.resized_image[502]       : 5.1081\n",
      "deep_.resized_image[1002]      : 5.0345\n",
      "\n",
      "Lowest Negative Coefficients\n",
      "----------------------------\n",
      "deep_.resized_image[2031]      : -5.7558\n",
      "deep_.resized_image[2506]      : -5.4797\n",
      "deep_.resized_image[110]       : -5.2035\n",
      "deep_.resized_image[833]       : -5.0835\n",
      "deep_.resized_image[3639]      : -4.3537\n",
      "\n"
     ]
    }
   ],
   "source": [
    "model_classifier_ispro.summary()\n",
    "model_svmclassifier_ispro.summary()\n",
    "model_logitclassifier_ispro.summary()"
   ]
  },
  {
   "cell_type": "code",
   "execution_count": null,
   "metadata": {
    "collapsed": true
   },
   "outputs": [],
   "source": []
  },
  {
   "cell_type": "markdown",
   "metadata": {},
   "source": [
    "### Save Models"
   ]
  },
  {
   "cell_type": "code",
   "execution_count": 73,
   "metadata": {
    "collapsed": true
   },
   "outputs": [],
   "source": [
    "model_classifier_ispro.save('model_classifier_ispro')\n",
    "model_svmclassifier_ispro.save('model_svmclassifier_ispro')\n",
    "model_logitclassifier_ispro.save('model_logitclassifier_ispro')"
   ]
  },
  {
   "cell_type": "markdown",
   "metadata": {},
   "source": [
    "### Neural Net Model"
   ]
  },
  {
   "cell_type": "code",
   "execution_count": 86,
   "metadata": {
    "collapsed": false
   },
   "outputs": [
    {
     "data": {
      "text/plain": [
       "layer[0]: FullConnectionLayer\n",
       "  init_sigma = 0.01\n",
       "  init_random = gaussian\n",
       "  init_bias = 0\n",
       "  num_hidden_units = 10\n",
       "layer[1]: SigmoidLayer\n",
       "layer[2]: FullConnectionLayer\n",
       "  init_sigma = 0.01\n",
       "  init_random = gaussian\n",
       "  init_bias = 0\n",
       "  num_hidden_units = 2\n",
       "layer[3]: SoftmaxLayer"
      ]
     },
     "execution_count": 86,
     "metadata": {},
     "output_type": "execute_result"
    }
   ],
   "source": [
    "network = gl.deeplearning.create(images_train, target='user_is_pro', features=['deep_.resized_image'])\n",
    "network.layers"
   ]
  },
  {
   "cell_type": "code",
   "execution_count": 137,
   "metadata": {
    "collapsed": false
   },
   "outputs": [
    {
     "data": {
      "text/plain": [
       "True"
      ]
     },
     "execution_count": 137,
     "metadata": {},
     "output_type": "execute_result"
    }
   ],
   "source": [
    "cust_network_layers = list()\n",
    "#cust_network_layers.append(gl.deeplearning.layers.FlattenLayer())\n",
    "cust_network_layers.append(gl.deeplearning.layers.FullConnectionLayer(100, init_sigma=0.5))\n",
    "cust_network_layers.append(gl.deeplearning.layers.RectifiedLinearLayer())\n",
    "cust_network_layers.append(gl.deeplearning.layers.DropoutLayer(0.5))\n",
    "cust_network_layers.append(gl.deeplearning.layers.FullConnectionLayer(200, init_sigma=.1))\n",
    "cust_network_layers.append(gl.deeplearning.layers.TanhLayer())\n",
    "cust_network_layers.append(gl.deeplearning.layers.FullConnectionLayer(150, init_sigma=.1))\n",
    "cust_network_layers.append(gl.deeplearning.layers.TanhLayer())\n",
    "cust_network_layers.append(gl.deeplearning.layers.FullConnectionLayer(2, init_sigma=0.5))\n",
    "cust_network_layers.append(gl.deeplearning.layers.SoftmaxLayer())\n",
    "\n",
    "custom_network = gl.deeplearning.NeuralNet()\n",
    "#custom_network.params['max_iterations'] = 20\n",
    "custom_network.layers = cust_network_layers\n",
    "custom_network.verify(input_shape=[1, 1, 4096], output_shape=2)"
   ]
  },
  {
   "cell_type": "code",
   "execution_count": 138,
   "metadata": {
    "collapsed": false
   },
   "outputs": [
    {
     "name": "stdout",
     "output_type": "stream",
     "text": [
      "Using network:\n",
      "\n",
      "### network layers ###\n",
      "layer[0]: FullConnectionLayer\n",
      "  init_sigma = 0.5\n",
      "  init_random = gaussian\n",
      "  init_bias = 0\n",
      "  num_hidden_units = 100\n",
      "layer[1]: RectifiedLinearLayer\n",
      "layer[2]: DropoutLayer\n",
      "  threshold = 0.5\n",
      "layer[3]: FullConnectionLayer\n",
      "  init_sigma = 0.1\n",
      "  init_random = gaussian\n",
      "  init_bias = 0\n",
      "  num_hidden_units = 200\n",
      "layer[4]: TanhLayer\n",
      "layer[5]: FullConnectionLayer\n",
      "  init_sigma = 0.1\n",
      "  init_random = gaussian\n",
      "  init_bias = 0\n",
      "  num_hidden_units = 150\n",
      "layer[6]: TanhLayer\n",
      "layer[7]: FullConnectionLayer\n",
      "  init_sigma = 0.5\n",
      "  init_random = gaussian\n",
      "  init_bias = 0\n",
      "  num_hidden_units = 2\n",
      "layer[8]: SoftmaxLayer\n",
      "### end network layers ###\n",
      "\n",
      "### network parameters ###\n",
      "model_checkpoint_interval = 5\n",
      "learning_rate = 0.001\n",
      "batch_size = 1000\n",
      "momentum = 0.9\n",
      "model_checkpoint_path = neural_network_model\n",
      "### end network parameters ###\n",
      "\n"
     ]
    },
    {
     "data": {
      "text/html": [
       "<pre>For Nvidia GPU CUDA support, please go to https://turi.com/download/install-graphlab-create-gpu.html</pre>"
      ],
      "text/plain": [
       "For Nvidia GPU CUDA support, please go to https://turi.com/download/install-graphlab-create-gpu.html"
      ]
     },
     "metadata": {},
     "output_type": "display_data"
    },
    {
     "data": {
      "text/html": [
       "<pre>Creating neuralnet using cpu</pre>"
      ],
      "text/plain": [
       "Creating neuralnet using cpu"
      ]
     },
     "metadata": {},
     "output_type": "display_data"
    },
    {
     "data": {
      "text/html": [
       "<pre>Training with batch size = 1000</pre>"
      ],
      "text/plain": [
       "Training with batch size = 1000"
      ]
     },
     "metadata": {},
     "output_type": "display_data"
    },
    {
     "data": {
      "text/html": [
       "<pre>+-----------+----------+--------------+-------------------+---------------------+-----------------+</pre>"
      ],
      "text/plain": [
       "+-----------+----------+--------------+-------------------+---------------------+-----------------+"
      ]
     },
     "metadata": {},
     "output_type": "display_data"
    },
    {
     "data": {
      "text/html": [
       "<pre>| Iteration | Examples | Elapsed Time | Training-accuracy | Validation-accuracy | Examples/second |</pre>"
      ],
      "text/plain": [
       "| Iteration | Examples | Elapsed Time | Training-accuracy | Validation-accuracy | Examples/second |"
      ]
     },
     "metadata": {},
     "output_type": "display_data"
    },
    {
     "data": {
      "text/html": [
       "<pre>+-----------+----------+--------------+-------------------+---------------------+-----------------+</pre>"
      ],
      "text/plain": [
       "+-----------+----------+--------------+-------------------+---------------------+-----------------+"
      ]
     },
     "metadata": {},
     "output_type": "display_data"
    },
    {
     "data": {
      "text/html": [
       "<pre>| 1         | 4000     | 3.254604     | 0.498250          | 0.493964            | 1229.034912     |</pre>"
      ],
      "text/plain": [
       "| 1         | 4000     | 3.254604     | 0.498250          | 0.493964            | 1229.034912     |"
      ]
     },
     "metadata": {},
     "output_type": "display_data"
    },
    {
     "data": {
      "text/html": [
       "<pre>| 2         | 4000     | 6.439754     | 0.515000          | 0.497988            | 1255.885864     |</pre>"
      ],
      "text/plain": [
       "| 2         | 4000     | 6.439754     | 0.515000          | 0.497988            | 1255.885864     |"
      ]
     },
     "metadata": {},
     "output_type": "display_data"
    },
    {
     "data": {
      "text/html": [
       "<pre>| 3         | 4000     | 9.616006     | 0.530000          | 0.507042            | 1259.399658     |</pre>"
      ],
      "text/plain": [
       "| 3         | 4000     | 9.616006     | 0.530000          | 0.507042            | 1259.399658     |"
      ]
     },
     "metadata": {},
     "output_type": "display_data"
    },
    {
     "data": {
      "text/html": [
       "<pre>| 4         | 4000     | 12.854912    | 0.504500          | 0.510060            | 1235.021240     |</pre>"
      ],
      "text/plain": [
       "| 4         | 4000     | 12.854912    | 0.504500          | 0.510060            | 1235.021240     |"
      ]
     },
     "metadata": {},
     "output_type": "display_data"
    },
    {
     "data": {
      "text/html": [
       "<pre>| 5         | 4000     | 16.084923    | 0.508000          | 0.481891            | 1238.426147     |</pre>"
      ],
      "text/plain": [
       "| 5         | 4000     | 16.084923    | 0.508000          | 0.481891            | 1238.426147     |"
      ]
     },
     "metadata": {},
     "output_type": "display_data"
    },
    {
     "data": {
      "text/html": [
       "<pre>Checkpointing model into neural_network_model</pre>"
      ],
      "text/plain": [
       "Checkpointing model into neural_network_model"
      ]
     },
     "metadata": {},
     "output_type": "display_data"
    },
    {
     "data": {
      "text/html": [
       "<pre>| 6         | 4000     | 19.493807    | 0.510250          | 0.504024            | 1173.443237     |</pre>"
      ],
      "text/plain": [
       "| 6         | 4000     | 19.493807    | 0.510250          | 0.504024            | 1173.443237     |"
      ]
     },
     "metadata": {},
     "output_type": "display_data"
    },
    {
     "data": {
      "text/html": [
       "<pre>| 7         | 4000     | 22.730681    | 0.521500          | 0.520121            | 1235.798828     |</pre>"
      ],
      "text/plain": [
       "| 7         | 4000     | 22.730681    | 0.521500          | 0.520121            | 1235.798828     |"
      ]
     },
     "metadata": {},
     "output_type": "display_data"
    },
    {
     "data": {
      "text/html": [
       "<pre>| 8         | 4000     | 25.948048    | 0.527000          | 0.521127            | 1243.291138     |</pre>"
      ],
      "text/plain": [
       "| 8         | 4000     | 25.948048    | 0.527000          | 0.521127            | 1243.291138     |"
      ]
     },
     "metadata": {},
     "output_type": "display_data"
    },
    {
     "data": {
      "text/html": [
       "<pre>| 9         | 4000     | 29.172579    | 0.521500          | 0.517103            | 1240.533447     |</pre>"
      ],
      "text/plain": [
       "| 9         | 4000     | 29.172579    | 0.521500          | 0.517103            | 1240.533447     |"
      ]
     },
     "metadata": {},
     "output_type": "display_data"
    },
    {
     "data": {
      "text/html": [
       "<pre>| 10        | 4000     | 32.356852    | 0.517000          | 0.514085            | 1256.214233     |</pre>"
      ],
      "text/plain": [
       "| 10        | 4000     | 32.356852    | 0.517000          | 0.514085            | 1256.214233     |"
      ]
     },
     "metadata": {},
     "output_type": "display_data"
    },
    {
     "data": {
      "text/html": [
       "<pre>Checkpointing model into neural_network_model</pre>"
      ],
      "text/plain": [
       "Checkpointing model into neural_network_model"
      ]
     },
     "metadata": {},
     "output_type": "display_data"
    },
    {
     "data": {
      "text/html": [
       "<pre>| 11        | 4000     | 35.807372    | 0.507500          | 0.520121            | 1159.281006     |</pre>"
      ],
      "text/plain": [
       "| 11        | 4000     | 35.807372    | 0.507500          | 0.520121            | 1159.281006     |"
      ]
     },
     "metadata": {},
     "output_type": "display_data"
    },
    {
     "data": {
      "text/html": [
       "<pre>| 12        | 4000     | 39.019281    | 0.521000          | 0.513078            | 1245.429443     |</pre>"
      ],
      "text/plain": [
       "| 12        | 4000     | 39.019281    | 0.521000          | 0.513078            | 1245.429443     |"
      ]
     },
     "metadata": {},
     "output_type": "display_data"
    },
    {
     "data": {
      "text/html": [
       "<pre>| 13        | 4000     | 42.247407    | 0.543250          | 0.518109            | 1239.147949     |</pre>"
      ],
      "text/plain": [
       "| 13        | 4000     | 42.247407    | 0.543250          | 0.518109            | 1239.147949     |"
      ]
     },
     "metadata": {},
     "output_type": "display_data"
    },
    {
     "data": {
      "text/html": [
       "<pre>| 14        | 4000     | 45.503820    | 0.530500          | 0.512072            | 1228.395264     |</pre>"
      ],
      "text/plain": [
       "| 14        | 4000     | 45.503820    | 0.530500          | 0.512072            | 1228.395264     |"
      ]
     },
     "metadata": {},
     "output_type": "display_data"
    },
    {
     "data": {
      "text/html": [
       "<pre>| 15        | 4000     | 48.714299    | 0.527500          | 0.517103            | 1245.977295     |</pre>"
      ],
      "text/plain": [
       "| 15        | 4000     | 48.714299    | 0.527500          | 0.517103            | 1245.977295     |"
      ]
     },
     "metadata": {},
     "output_type": "display_data"
    },
    {
     "data": {
      "text/html": [
       "<pre>Checkpointing model into neural_network_model</pre>"
      ],
      "text/plain": [
       "Checkpointing model into neural_network_model"
      ]
     },
     "metadata": {},
     "output_type": "display_data"
    },
    {
     "data": {
      "text/html": [
       "<pre>| 16        | 4000     | 52.094412    | 0.520750          | 0.518109            | 1183.426636     |</pre>"
      ],
      "text/plain": [
       "| 16        | 4000     | 52.094412    | 0.520750          | 0.518109            | 1183.426636     |"
      ]
     },
     "metadata": {},
     "output_type": "display_data"
    },
    {
     "data": {
      "text/html": [
       "<pre>| 17        | 4000     | 55.268844    | 0.527000          | 0.517103            | 1260.109497     |</pre>"
      ],
      "text/plain": [
       "| 17        | 4000     | 55.268844    | 0.527000          | 0.517103            | 1260.109497     |"
      ]
     },
     "metadata": {},
     "output_type": "display_data"
    },
    {
     "data": {
      "text/html": [
       "<pre>| 18        | 4000     | 58.460191    | 0.530750          | 0.519115            | 1253.432007     |</pre>"
      ],
      "text/plain": [
       "| 18        | 4000     | 58.460191    | 0.530750          | 0.519115            | 1253.432007     |"
      ]
     },
     "metadata": {},
     "output_type": "display_data"
    },
    {
     "data": {
      "text/html": [
       "<pre>| 19        | 4000     | 61.655045    | 0.516500          | 0.511066            | 1252.057617     |</pre>"
      ],
      "text/plain": [
       "| 19        | 4000     | 61.655045    | 0.516500          | 0.511066            | 1252.057617     |"
      ]
     },
     "metadata": {},
     "output_type": "display_data"
    },
    {
     "data": {
      "text/html": [
       "<pre>| 20        | 4000     | 64.848604    | 0.513500          | 0.520121            | 1252.563232     |</pre>"
      ],
      "text/plain": [
       "| 20        | 4000     | 64.848604    | 0.513500          | 0.520121            | 1252.563232     |"
      ]
     },
     "metadata": {},
     "output_type": "display_data"
    },
    {
     "data": {
      "text/html": [
       "<pre>Checkpointing model into neural_network_model</pre>"
      ],
      "text/plain": [
       "Checkpointing model into neural_network_model"
      ]
     },
     "metadata": {},
     "output_type": "display_data"
    },
    {
     "data": {
      "text/html": [
       "<pre>| 21        | 4000     | 68.188708    | 0.525500          | 0.523139            | 1197.617920     |</pre>"
      ],
      "text/plain": [
       "| 21        | 4000     | 68.188708    | 0.525500          | 0.523139            | 1197.617920     |"
      ]
     },
     "metadata": {},
     "output_type": "display_data"
    },
    {
     "data": {
      "text/html": [
       "<pre>| 22        | 4000     | 71.385483    | 0.524000          | 0.524145            | 1251.315308     |</pre>"
      ],
      "text/plain": [
       "| 22        | 4000     | 71.385483    | 0.524000          | 0.524145            | 1251.315308     |"
      ]
     },
     "metadata": {},
     "output_type": "display_data"
    },
    {
     "data": {
      "text/html": [
       "<pre>| 23        | 4000     | 74.585601    | 0.542250          | 0.515091            | 1250.013672     |</pre>"
      ],
      "text/plain": [
       "| 23        | 4000     | 74.585601    | 0.542250          | 0.515091            | 1250.013672     |"
      ]
     },
     "metadata": {},
     "output_type": "display_data"
    },
    {
     "data": {
      "text/html": [
       "<pre>| 24        | 4000     | 77.830490    | 0.525750          | 0.511066            | 1232.770630     |</pre>"
      ],
      "text/plain": [
       "| 24        | 4000     | 77.830490    | 0.525750          | 0.511066            | 1232.770630     |"
      ]
     },
     "metadata": {},
     "output_type": "display_data"
    },
    {
     "data": {
      "text/html": [
       "<pre>| 25        | 4000     | 81.021057    | 0.531750          | 0.520121            | 1253.755371     |</pre>"
      ],
      "text/plain": [
       "| 25        | 4000     | 81.021057    | 0.531750          | 0.520121            | 1253.755371     |"
      ]
     },
     "metadata": {},
     "output_type": "display_data"
    },
    {
     "data": {
      "text/html": [
       "<pre>Checkpointing model into neural_network_model</pre>"
      ],
      "text/plain": [
       "Checkpointing model into neural_network_model"
      ]
     },
     "metadata": {},
     "output_type": "display_data"
    },
    {
     "data": {
      "text/html": [
       "<pre>| 26        | 4000     | 84.403624    | 0.524000          | 0.521127            | 1182.592163     |</pre>"
      ],
      "text/plain": [
       "| 26        | 4000     | 84.403624    | 0.524000          | 0.521127            | 1182.592163     |"
      ]
     },
     "metadata": {},
     "output_type": "display_data"
    },
    {
     "data": {
      "text/html": [
       "<pre>| 27        | 4000     | 87.618599    | 0.537000          | 0.521127            | 1244.236450     |</pre>"
      ],
      "text/plain": [
       "| 27        | 4000     | 87.618599    | 0.537000          | 0.521127            | 1244.236450     |"
      ]
     },
     "metadata": {},
     "output_type": "display_data"
    },
    {
     "data": {
      "text/html": [
       "<pre>| 28        | 4000     | 90.826088    | 0.543250          | 0.517103            | 1247.142822     |</pre>"
      ],
      "text/plain": [
       "| 28        | 4000     | 90.826088    | 0.543250          | 0.517103            | 1247.142822     |"
      ]
     },
     "metadata": {},
     "output_type": "display_data"
    },
    {
     "data": {
      "text/html": [
       "<pre>| 29        | 4000     | 94.026916    | 0.514750          | 0.515091            | 1249.732910     |</pre>"
      ],
      "text/plain": [
       "| 29        | 4000     | 94.026916    | 0.514750          | 0.515091            | 1249.732910     |"
      ]
     },
     "metadata": {},
     "output_type": "display_data"
    },
    {
     "data": {
      "text/html": [
       "<pre>| 30        | 4000     | 97.217947    | 0.522250          | 0.520121            | 1253.560181     |</pre>"
      ],
      "text/plain": [
       "| 30        | 4000     | 97.217947    | 0.522250          | 0.520121            | 1253.560181     |"
      ]
     },
     "metadata": {},
     "output_type": "display_data"
    },
    {
     "data": {
      "text/html": [
       "<pre>Checkpointing model into neural_network_model</pre>"
      ],
      "text/plain": [
       "Checkpointing model into neural_network_model"
      ]
     },
     "metadata": {},
     "output_type": "display_data"
    },
    {
     "data": {
      "text/html": [
       "<pre>| 31        | 4000     | 100.599048   | 0.534250          | 0.520121            | 1183.100952     |</pre>"
      ],
      "text/plain": [
       "| 31        | 4000     | 100.599048   | 0.534250          | 0.520121            | 1183.100952     |"
      ]
     },
     "metadata": {},
     "output_type": "display_data"
    },
    {
     "data": {
      "text/html": [
       "<pre>| 32        | 4000     | 103.804979   | 0.515500          | 0.521127            | 1247.755249     |</pre>"
      ],
      "text/plain": [
       "| 32        | 4000     | 103.804979   | 0.515500          | 0.521127            | 1247.755249     |"
      ]
     },
     "metadata": {},
     "output_type": "display_data"
    },
    {
     "data": {
      "text/html": [
       "<pre>| 33        | 4000     | 107.043454   | 0.515000          | 0.527163            | 1235.203979     |</pre>"
      ],
      "text/plain": [
       "| 33        | 4000     | 107.043454   | 0.515000          | 0.527163            | 1235.203979     |"
      ]
     },
     "metadata": {},
     "output_type": "display_data"
    },
    {
     "data": {
      "text/html": [
       "<pre>| 34        | 4000     | 110.256059   | 0.533000          | 0.521127            | 1245.144165     |</pre>"
      ],
      "text/plain": [
       "| 34        | 4000     | 110.256059   | 0.533000          | 0.521127            | 1245.144165     |"
      ]
     },
     "metadata": {},
     "output_type": "display_data"
    },
    {
     "data": {
      "text/html": [
       "<pre>| 35        | 4000     | 113.447887   | 0.534750          | 0.521127            | 1253.255371     |</pre>"
      ],
      "text/plain": [
       "| 35        | 4000     | 113.447887   | 0.534750          | 0.521127            | 1253.255371     |"
      ]
     },
     "metadata": {},
     "output_type": "display_data"
    },
    {
     "data": {
      "text/html": [
       "<pre>Checkpointing model into neural_network_model</pre>"
      ],
      "text/plain": [
       "Checkpointing model into neural_network_model"
      ]
     },
     "metadata": {},
     "output_type": "display_data"
    },
    {
     "data": {
      "text/html": [
       "<pre>| 36        | 4000     | 116.826101   | 0.526750          | 0.530181            | 1184.094360     |</pre>"
      ],
      "text/plain": [
       "| 36        | 4000     | 116.826101   | 0.526750          | 0.530181            | 1184.094360     |"
      ]
     },
     "metadata": {},
     "output_type": "display_data"
    },
    {
     "data": {
      "text/html": [
       "<pre>| 37        | 4000     | 120.045494   | 0.518750          | 0.534205            | 1242.525635     |</pre>"
      ],
      "text/plain": [
       "| 37        | 4000     | 120.045494   | 0.518750          | 0.534205            | 1242.525635     |"
      ]
     },
     "metadata": {},
     "output_type": "display_data"
    },
    {
     "data": {
      "text/html": [
       "<pre>| 38        | 4000     | 123.237207   | 0.526750          | 0.528169            | 1253.298828     |</pre>"
      ],
      "text/plain": [
       "| 38        | 4000     | 123.237207   | 0.526750          | 0.528169            | 1253.298828     |"
      ]
     },
     "metadata": {},
     "output_type": "display_data"
    },
    {
     "data": {
      "text/html": [
       "<pre>| 39        | 4000     | 126.413214   | 0.529000          | 0.529175            | 1259.481445     |</pre>"
      ],
      "text/plain": [
       "| 39        | 4000     | 126.413214   | 0.529000          | 0.529175            | 1259.481445     |"
      ]
     },
     "metadata": {},
     "output_type": "display_data"
    },
    {
     "data": {
      "text/html": [
       "<pre>| 40        | 4000     | 129.594654   | 0.522250          | 0.527163            | 1257.335449     |</pre>"
      ],
      "text/plain": [
       "| 40        | 4000     | 129.594654   | 0.522250          | 0.527163            | 1257.335449     |"
      ]
     },
     "metadata": {},
     "output_type": "display_data"
    },
    {
     "data": {
      "text/html": [
       "<pre>Checkpointing model into neural_network_model</pre>"
      ],
      "text/plain": [
       "Checkpointing model into neural_network_model"
      ]
     },
     "metadata": {},
     "output_type": "display_data"
    },
    {
     "data": {
      "text/html": [
       "<pre>| 41        | 4000     | 132.943589   | 0.530500          | 0.528169            | 1194.465210     |</pre>"
      ],
      "text/plain": [
       "| 41        | 4000     | 132.943589   | 0.530500          | 0.528169            | 1194.465210     |"
      ]
     },
     "metadata": {},
     "output_type": "display_data"
    },
    {
     "data": {
      "text/html": [
       "<pre>| 42        | 4000     | 136.114829   | 0.542250          | 0.528169            | 1261.391602     |</pre>"
      ],
      "text/plain": [
       "| 42        | 4000     | 136.114829   | 0.542250          | 0.528169            | 1261.391602     |"
      ]
     },
     "metadata": {},
     "output_type": "display_data"
    },
    {
     "data": {
      "text/html": [
       "<pre>| 43        | 4000     | 139.293688   | 0.533250          | 0.523139            | 1258.351440     |</pre>"
      ],
      "text/plain": [
       "| 43        | 4000     | 139.293688   | 0.533250          | 0.523139            | 1258.351440     |"
      ]
     },
     "metadata": {},
     "output_type": "display_data"
    },
    {
     "data": {
      "text/html": [
       "<pre>| 44        | 4000     | 142.531238   | 0.518750          | 0.520121            | 1235.544434     |</pre>"
      ],
      "text/plain": [
       "| 44        | 4000     | 142.531238   | 0.518750          | 0.520121            | 1235.544434     |"
      ]
     },
     "metadata": {},
     "output_type": "display_data"
    },
    {
     "data": {
      "text/html": [
       "<pre>| 45        | 4000     | 145.736171   | 0.537250          | 0.525151            | 1248.123291     |</pre>"
      ],
      "text/plain": [
       "| 45        | 4000     | 145.736171   | 0.537250          | 0.525151            | 1248.123291     |"
      ]
     },
     "metadata": {},
     "output_type": "display_data"
    },
    {
     "data": {
      "text/html": [
       "<pre>Checkpointing model into neural_network_model</pre>"
      ],
      "text/plain": [
       "Checkpointing model into neural_network_model"
      ]
     },
     "metadata": {},
     "output_type": "display_data"
    },
    {
     "data": {
      "text/html": [
       "<pre>| 46        | 4000     | 149.099084   | 0.536750          | 0.528169            | 1189.495117     |</pre>"
      ],
      "text/plain": [
       "| 46        | 4000     | 149.099084   | 0.536750          | 0.528169            | 1189.495117     |"
      ]
     },
     "metadata": {},
     "output_type": "display_data"
    },
    {
     "name": "stderr",
     "output_type": "stream",
     "text": [
      "[ERROR] graphlab.toolkits._main: Toolkit error: NN Iteration Cancelling.\n"
     ]
    },
    {
     "ename": "ToolkitError",
     "evalue": "NN Iteration Cancelling.",
     "output_type": "error",
     "traceback": [
      "\u001b[1;31m---------------------------------------------------------------------------\u001b[0m",
      "\u001b[1;31mToolkitError\u001b[0m                              Traceback (most recent call last)",
      "\u001b[1;32m<ipython-input-138-ab9e44cdfb00>\u001b[0m in \u001b[0;36m<module>\u001b[1;34m()\u001b[0m\n\u001b[0;32m      4\u001b[0m                                                                  \u001b[0mvalidation_set\u001b[0m\u001b[1;33m=\u001b[0m\u001b[0mimages_test\u001b[0m\u001b[1;33m,\u001b[0m \u001b[0mbatch_size\u001b[0m\u001b[1;33m=\u001b[0m\u001b[1;36m1000\u001b[0m\u001b[1;33m,\u001b[0m\u001b[1;33m\u001b[0m\u001b[0m\n\u001b[0;32m      5\u001b[0m                                                                  \u001b[0mmodel_checkpoint_path\u001b[0m\u001b[1;33m=\u001b[0m\u001b[1;34m'neural_network_model'\u001b[0m\u001b[1;33m,\u001b[0m\u001b[1;33m\u001b[0m\u001b[0m\n\u001b[1;32m----> 6\u001b[1;33m                                                                  \u001b[0mmodel_checkpoint_interval\u001b[0m\u001b[1;33m=\u001b[0m\u001b[1;36m5\u001b[0m\u001b[1;33m\u001b[0m\u001b[0m\n\u001b[0m\u001b[0;32m      7\u001b[0m                                                                  )\n",
      "\u001b[1;32m/home/ubuntu/anaconda2/lib/python2.7/site-packages/graphlab/toolkits/classifier/neuralnet_classifier.pyc\u001b[0m in \u001b[0;36mcreate\u001b[1;34m(dataset, target, features, max_iterations, network, validation_set, verbose, class_weights, **kwargs)\u001b[0m\n\u001b[0;32m    971\u001b[0m                        \u001b[0mmax_iterations\u001b[0m\u001b[1;33m=\u001b[0m\u001b[0mmax_iterations\u001b[0m\u001b[1;33m,\u001b[0m\u001b[1;33m\u001b[0m\u001b[0m\n\u001b[0;32m    972\u001b[0m                        \u001b[0mclass_weights\u001b[0m\u001b[1;33m=\u001b[0m\u001b[0mclass_weights\u001b[0m\u001b[1;33m,\u001b[0m\u001b[1;33m\u001b[0m\u001b[0m\n\u001b[1;32m--> 973\u001b[1;33m                        **(_network.params))\n\u001b[0m\u001b[0;32m    974\u001b[0m \u001b[1;33m\u001b[0m\u001b[0m\n\u001b[0;32m    975\u001b[0m     \u001b[1;32mreturn\u001b[0m \u001b[0mNeuralNetClassifier\u001b[0m\u001b[1;33m(\u001b[0m\u001b[0mmodel\u001b[0m\u001b[1;33m.\u001b[0m\u001b[0m__proxy__\u001b[0m\u001b[1;33m)\u001b[0m\u001b[1;33m\u001b[0m\u001b[0m\n",
      "\u001b[1;32m/home/ubuntu/anaconda2/lib/python2.7/site-packages/graphlab/toolkits/_supervised_learning.pyc\u001b[0m in \u001b[0;36mcreate\u001b[1;34m(dataset, target, model_name, features, validation_set, verbose, distributed, **kwargs)\u001b[0m\n\u001b[0;32m    434\u001b[0m \u001b[1;33m\u001b[0m\u001b[0m\n\u001b[0;32m    435\u001b[0m     ret = _graphlab.toolkits._main.run(\"supervised_learning_train\",\n\u001b[1;32m--> 436\u001b[1;33m                                        options, verbose)\n\u001b[0m\u001b[0;32m    437\u001b[0m     \u001b[0mmodel\u001b[0m \u001b[1;33m=\u001b[0m \u001b[0mSupervisedLearningModel\u001b[0m\u001b[1;33m(\u001b[0m\u001b[0mret\u001b[0m\u001b[1;33m[\u001b[0m\u001b[1;34m'model'\u001b[0m\u001b[1;33m]\u001b[0m\u001b[1;33m,\u001b[0m \u001b[0mmodel_name\u001b[0m\u001b[1;33m)\u001b[0m\u001b[1;33m\u001b[0m\u001b[0m\n\u001b[0;32m    438\u001b[0m \u001b[1;33m\u001b[0m\u001b[0m\n",
      "\u001b[1;32m/home/ubuntu/anaconda2/lib/python2.7/site-packages/graphlab/toolkits/_main.pyc\u001b[0m in \u001b[0;36mrun\u001b[1;34m(toolkit_name, options, verbose, show_progress)\u001b[0m\n\u001b[0;32m     87\u001b[0m         \u001b[0m_get_metric_tracker\u001b[0m\u001b[1;33m(\u001b[0m\u001b[1;33m)\u001b[0m\u001b[1;33m.\u001b[0m\u001b[0mtrack\u001b[0m\u001b[1;33m(\u001b[0m\u001b[0mmetric_name\u001b[0m\u001b[1;33m,\u001b[0m \u001b[0mvalue\u001b[0m\u001b[1;33m=\u001b[0m\u001b[1;36m1\u001b[0m\u001b[1;33m,\u001b[0m \u001b[0mproperties\u001b[0m\u001b[1;33m=\u001b[0m\u001b[0mtrack_props\u001b[0m\u001b[1;33m,\u001b[0m \u001b[0msend_sys_info\u001b[0m\u001b[1;33m=\u001b[0m\u001b[0mFalse\u001b[0m\u001b[1;33m)\u001b[0m\u001b[1;33m\u001b[0m\u001b[0m\n\u001b[0;32m     88\u001b[0m \u001b[1;33m\u001b[0m\u001b[0m\n\u001b[1;32m---> 89\u001b[1;33m         \u001b[1;32mraise\u001b[0m \u001b[0mToolkitError\u001b[0m\u001b[1;33m(\u001b[0m\u001b[0mstr\u001b[0m\u001b[1;33m(\u001b[0m\u001b[0mmessage\u001b[0m\u001b[1;33m)\u001b[0m\u001b[1;33m)\u001b[0m\u001b[1;33m\u001b[0m\u001b[0m\n\u001b[0m",
      "\u001b[1;31mToolkitError\u001b[0m: NN Iteration Cancelling."
     ]
    }
   ],
   "source": [
    "model_neuralnetclassifier_ispro = gl.neuralnet_classifier.create(images_train, target='user_is_pro',\n",
    "                                                                 features=['deep_.resized_image'],\n",
    "                                                                 network=custom_network, max_iterations=100,\n",
    "                                                                 validation_set=images_test, batch_size=1000,\n",
    "                                                                 model_checkpoint_path='neural_network_model',\n",
    "                                                                 model_checkpoint_interval=5\n",
    "                                                                 )"
   ]
  },
  {
   "cell_type": "code",
   "execution_count": null,
   "metadata": {
    "collapsed": true
   },
   "outputs": [],
   "source": [
    "model_neuralnetclassifier_ispro.extract_features() # WHAT IS THIS?!"
   ]
  },
  {
   "cell_type": "code",
   "execution_count": 116,
   "metadata": {
    "collapsed": true
   },
   "outputs": [],
   "source": [
    "neuralnetclassifier_results = model_neuralnetclassifier_ispro.evaluate(images_test)"
   ]
  },
  {
   "cell_type": "code",
   "execution_count": 117,
   "metadata": {
    "collapsed": false
   },
   "outputs": [
    {
     "data": {
      "text/plain": [
       "['confusion_matrix', 'accuracy']"
      ]
     },
     "execution_count": 117,
     "metadata": {},
     "output_type": "execute_result"
    }
   ],
   "source": [
    "neuralnetclassifier_results.keys()"
   ]
  },
  {
   "cell_type": "code",
   "execution_count": 119,
   "metadata": {
    "collapsed": false
   },
   "outputs": [
    {
     "data": {
      "text/plain": [
       "0.5663983821868896"
      ]
     },
     "execution_count": 119,
     "metadata": {},
     "output_type": "execute_result"
    }
   ],
   "source": [
    "neuralnetclassifier_results['accuracy']"
   ]
  },
  {
   "cell_type": "code",
   "execution_count": 118,
   "metadata": {
    "collapsed": false
   },
   "outputs": [
    {
     "data": {
      "text/html": [
       "<div style=\"max-height:1000px;max-width:1500px;overflow:auto;\"><table frame=\"box\" rules=\"cols\">\n",
       "    <tr>\n",
       "        <th style=\"padding-left: 1em; padding-right: 1em; text-align: center\">target_label</th>\n",
       "        <th style=\"padding-left: 1em; padding-right: 1em; text-align: center\">predicted_label</th>\n",
       "        <th style=\"padding-left: 1em; padding-right: 1em; text-align: center\">count</th>\n",
       "    </tr>\n",
       "    <tr>\n",
       "        <td style=\"padding-left: 1em; padding-right: 1em; text-align: center; vertical-align: top\">0</td>\n",
       "        <td style=\"padding-left: 1em; padding-right: 1em; text-align: center; vertical-align: top\">0</td>\n",
       "        <td style=\"padding-left: 1em; padding-right: 1em; text-align: center; vertical-align: top\">326</td>\n",
       "    </tr>\n",
       "    <tr>\n",
       "        <td style=\"padding-left: 1em; padding-right: 1em; text-align: center; vertical-align: top\">1</td>\n",
       "        <td style=\"padding-left: 1em; padding-right: 1em; text-align: center; vertical-align: top\">0</td>\n",
       "        <td style=\"padding-left: 1em; padding-right: 1em; text-align: center; vertical-align: top\">241</td>\n",
       "    </tr>\n",
       "    <tr>\n",
       "        <td style=\"padding-left: 1em; padding-right: 1em; text-align: center; vertical-align: top\">0</td>\n",
       "        <td style=\"padding-left: 1em; padding-right: 1em; text-align: center; vertical-align: top\">1</td>\n",
       "        <td style=\"padding-left: 1em; padding-right: 1em; text-align: center; vertical-align: top\">190</td>\n",
       "    </tr>\n",
       "    <tr>\n",
       "        <td style=\"padding-left: 1em; padding-right: 1em; text-align: center; vertical-align: top\">1</td>\n",
       "        <td style=\"padding-left: 1em; padding-right: 1em; text-align: center; vertical-align: top\">1</td>\n",
       "        <td style=\"padding-left: 1em; padding-right: 1em; text-align: center; vertical-align: top\">237</td>\n",
       "    </tr>\n",
       "</table>\n",
       "[4 rows x 3 columns]<br/>\n",
       "</div>"
      ],
      "text/plain": [
       "Columns:\n",
       "\ttarget_label\tint\n",
       "\tpredicted_label\tint\n",
       "\tcount\tint\n",
       "\n",
       "Rows: 4\n",
       "\n",
       "Data:\n",
       "+--------------+-----------------+-------+\n",
       "| target_label | predicted_label | count |\n",
       "+--------------+-----------------+-------+\n",
       "|      0       |        0        |  326  |\n",
       "|      1       |        0        |  241  |\n",
       "|      0       |        1        |  190  |\n",
       "|      1       |        1        |  237  |\n",
       "+--------------+-----------------+-------+\n",
       "[4 rows x 3 columns]"
      ]
     },
     "execution_count": 118,
     "metadata": {},
     "output_type": "execute_result"
    }
   ],
   "source": [
    "neuralnetclassifier_results['confusion_matrix']"
   ]
  },
  {
   "cell_type": "code",
   "execution_count": 120,
   "metadata": {
    "collapsed": false
   },
   "outputs": [],
   "source": [
    "nn_test_predictions = model_neuralnetclassifier_ispro.predict(images_test)"
   ]
  },
  {
   "cell_type": "code",
   "execution_count": 121,
   "metadata": {
    "collapsed": false
   },
   "outputs": [
    {
     "data": {
      "text/plain": [
       "graphlab.data_structures.sarray.SArray"
      ]
     },
     "execution_count": 121,
     "metadata": {},
     "output_type": "execute_result"
    }
   ],
   "source": [
    "type(nn_test_predictions)"
   ]
  },
  {
   "cell_type": "code",
   "execution_count": null,
   "metadata": {
    "collapsed": true
   },
   "outputs": [],
   "source": [
    "gl.deeplearning.get_builtin_neuralnet('imagenet')"
   ]
  }
 ],
 "metadata": {
  "kernelspec": {
   "display_name": "Python [Root]",
   "language": "python",
   "name": "Python [Root]"
  },
  "language_info": {
   "codemirror_mode": {
    "name": "ipython",
    "version": 2
   },
   "file_extension": ".py",
   "mimetype": "text/x-python",
   "name": "python",
   "nbconvert_exporter": "python",
   "pygments_lexer": "ipython2",
   "version": "2.7.12"
  }
 },
 "nbformat": 4,
 "nbformat_minor": 0
}
