{
 "cells": [
  {
   "cell_type": "code",
   "execution_count": 30,
   "metadata": {
    "collapsed": true
   },
   "outputs": [],
   "source": [
    "import pandas as pd\n",
    "import numpy as np\n",
    "from sklearn.ensemble import RandomForestClassifier, RandomForestRegressor, AdaBoostClassifier, GradientBoostingClassifier\n",
    "from sklearn.linear_model import LogisticRegression, LinearRegression, LogisticRegressionCV, Lasso, Ridge, RidgeClassifier, SGDClassifier\n",
    "from sklearn.cross_validation import train_test_split\n",
    "from sklearn.metrics import accuracy_score, precision_score, recall_score, precision_recall_curve, precision_recall_fscore_support, f1_score, r2_score \n",
    "from sklearn.preprocessing import StandardScaler\n",
    "import matplotlib.pyplot as plt\n",
    "%matplotlib inline\n",
    "from sklearn.svm import SVC\n",
    "from sklearn.tree import DecisionTreeClassifier\n",
    "from scipy.stats import randint as sp_randint, gamma as sp_gamma, expon as sp_expon\n",
    "from sklearn.grid_search import GridSearchCV, RandomizedSearchCV"
   ]
  },
  {
   "cell_type": "code",
   "execution_count": 15,
   "metadata": {
    "collapsed": true
   },
   "outputs": [],
   "source": [
    "df_features = pd.read_csv('../data/modeling/SPORTS/feature_data_SPORTS_21205.csv', sep='|')\n",
    "df_targets = pd.read_csv('../data/modeling/SPORTS/target_data_SPORTS_21205.csv', sep='|')\n",
    "\n",
    "df_features = df_features.set_index('owner').set_index(\"id\", append=True)\n",
    "\n",
    "df_targets = df_targets.set_index('owner').set_index(\"id\", append=True)\n",
    "\n",
    "df_targets = df_targets.drop('image_tags', axis=1)\n",
    "\n",
    "target_columns = list(df_targets.columns)\n",
    "target_columns.remove('image_ntags')\n",
    "target_columns\n",
    "\n",
    "df = df_features.join(df_targets, how='inner')\n",
    "\n",
    "df.dropna(axis=0, inplace=True)"
   ]
  },
  {
   "cell_type": "code",
   "execution_count": 16,
   "metadata": {
    "collapsed": true
   },
   "outputs": [],
   "source": [
    "def name_quantile(x, limits):\n",
    "    quantile_cats = range(1, len(limits)+1, 1)\n",
    "    for cat, limit in zip(quantile_cats, limits):\n",
    "        if x <= limit:\n",
    "            return cat\n",
    "\n",
    "def create_quantile_target_col(df_train, df_test, target_columns, col_name, n_quantiles=5):\n",
    "    \"\"\"\n",
    "    Create a new column in both DataFrames that bins a target column into categories.\n",
    "    \n",
    "    PARAMETERS\n",
    "    ----------\n",
    "    df_train : pandas.DataFrame\n",
    "        The training set data.\n",
    "        \n",
    "    df_test : pandas.DataFrame\n",
    "        The testint set data.\n",
    "    \n",
    "    n_quantiles : int\n",
    "        The number of bins. For 4 bins (0 to 0.25, 0.25 to 0.5, etc...), n_quantiles=4.\n",
    "        \n",
    "    col_name : str\n",
    "    \n",
    "    target_columns : list\n",
    "    \n",
    "    RETURNS\n",
    "    -------\n",
    "    df : DataFrame\n",
    "    \n",
    "    target_columns : list        \n",
    "    \"\"\"\n",
    "    min_value = df_train[col_name].min()\n",
    "    max_value = df_train[col_name].max()\n",
    "    limits = []\n",
    "    for i in range(1, n_quantiles+1):\n",
    "        limits.append(df_train[col_name].quantile(i/float(n_quantiles)))\n",
    "    \n",
    "    new_col_name = col_name+\"_quantile\"\n",
    "    target_columns.append(new_col_name)\n",
    "    \n",
    "    df_train.loc[:, new_col_name] = df_train[col_name].apply(lambda x: name_quantile(x, limits))\n",
    "    df_test.loc[:, new_col_name] = df_test[col_name].apply(lambda x: name_quantile(x, limits))\n",
    "    return df_train, df_test, target_columns\n",
    "\n",
    "def pop_columns(df, col_names):\n",
    "    for i, name in enumerate(list(col_names)):\n",
    "        if i == 0:\n",
    "            df_dropped_cols = df.pop(name)\n",
    "        else:\n",
    "            df_dropped_cols = pd.concat((df_dropped_cols, df.pop(name)), axis=1)\n",
    "    return df, df_dropped_cols"
   ]
  },
  {
   "cell_type": "code",
   "execution_count": 17,
   "metadata": {
    "collapsed": true
   },
   "outputs": [],
   "source": [
    "df_train, df_test = train_test_split(df, train_size=0.8, random_state=42)"
   ]
  },
  {
   "cell_type": "code",
   "execution_count": 18,
   "metadata": {
    "collapsed": false
   },
   "outputs": [
    {
     "name": "stderr",
     "output_type": "stream",
     "text": [
      "/home/ubuntu/anaconda2/lib/python2.7/site-packages/pandas/core/indexing.py:288: SettingWithCopyWarning: \n",
      "A value is trying to be set on a copy of a slice from a DataFrame.\n",
      "Try using .loc[row_indexer,col_indexer] = value instead\n",
      "\n",
      "See the caveats in the documentation: http://pandas.pydata.org/pandas-docs/stable/indexing.html#indexing-view-versus-copy\n",
      "  self.obj[key] = _infer_fill_value(value)\n",
      "/home/ubuntu/anaconda2/lib/python2.7/site-packages/pandas/core/indexing.py:465: SettingWithCopyWarning: \n",
      "A value is trying to be set on a copy of a slice from a DataFrame.\n",
      "Try using .loc[row_indexer,col_indexer] = value instead\n",
      "\n",
      "See the caveats in the documentation: http://pandas.pydata.org/pandas-docs/stable/indexing.html#indexing-view-versus-copy\n",
      "  self.obj[item] = s\n"
     ]
    }
   ],
   "source": [
    "df_train, df_test, target_columns = create_quantile_target_col(df_train, df_test, target_columns, 'image_views', 4)\n",
    "df_train, df_test, target_columns = create_quantile_target_col(df_train, df_test, target_columns, 'image_ncomments', 4)\n",
    "df_train, df_test, target_columns = create_quantile_target_col(df_train, df_test, target_columns, 'image_nfavs', 4)"
   ]
  },
  {
   "cell_type": "code",
   "execution_count": 21,
   "metadata": {
    "collapsed": true
   },
   "outputs": [],
   "source": [
    "X_train, y_train = pop_columns(df_train, target_columns)\n",
    "X_test, y_test = pop_columns(df_test, target_columns)"
   ]
  },
  {
   "cell_type": "code",
   "execution_count": 22,
   "metadata": {
    "collapsed": true
   },
   "outputs": [],
   "source": [
    "X_columns = X_train.columns\n",
    "y_columns = y_train.columns"
   ]
  },
  {
   "cell_type": "code",
   "execution_count": 23,
   "metadata": {
    "collapsed": true
   },
   "outputs": [],
   "source": [
    "scaler_mean_std = StandardScaler()\n",
    "X_train = scaler_mean_std.fit_transform(X_train)\n",
    "X_test = scaler_mean_std.transform(X_test)"
   ]
  },
  {
   "cell_type": "code",
   "execution_count": 24,
   "metadata": {
    "collapsed": true
   },
   "outputs": [],
   "source": [
    "X_train = pd.DataFrame(data=X_train, columns=X_columns)\n",
    "X_test = pd.DataFrame(data=X_test, columns=X_columns)"
   ]
  },
  {
   "cell_type": "code",
   "execution_count": 27,
   "metadata": {
    "collapsed": false
   },
   "outputs": [
    {
     "data": {
      "text/html": [
       "<div>\n",
       "<table border=\"1\" class=\"dataframe\">\n",
       "  <thead>\n",
       "    <tr style=\"text-align: right;\">\n",
       "      <th></th>\n",
       "      <th></th>\n",
       "      <th>user_is_pro</th>\n",
       "      <th>user_can_buy_pro</th>\n",
       "      <th>user_total_views</th>\n",
       "      <th>image_ncomments</th>\n",
       "      <th>image_nfavs</th>\n",
       "      <th>image_nsets</th>\n",
       "      <th>image_npools</th>\n",
       "      <th>image_views</th>\n",
       "      <th>image_views_quantile</th>\n",
       "      <th>image_ncomments_quantile</th>\n",
       "      <th>image_nfavs_quantile</th>\n",
       "    </tr>\n",
       "    <tr>\n",
       "      <th>owner</th>\n",
       "      <th>id</th>\n",
       "      <th></th>\n",
       "      <th></th>\n",
       "      <th></th>\n",
       "      <th></th>\n",
       "      <th></th>\n",
       "      <th></th>\n",
       "      <th></th>\n",
       "      <th></th>\n",
       "      <th></th>\n",
       "      <th></th>\n",
       "      <th></th>\n",
       "    </tr>\n",
       "  </thead>\n",
       "  <tbody>\n",
       "    <tr>\n",
       "      <th>12385792@N00</th>\n",
       "      <th>11378305226</th>\n",
       "      <td>1</td>\n",
       "      <td>0</td>\n",
       "      <td>7760</td>\n",
       "      <td>0</td>\n",
       "      <td>0</td>\n",
       "      <td>1</td>\n",
       "      <td>0</td>\n",
       "      <td>6</td>\n",
       "      <td>1</td>\n",
       "      <td>1</td>\n",
       "      <td>1</td>\n",
       "    </tr>\n",
       "  </tbody>\n",
       "</table>\n",
       "</div>"
      ],
      "text/plain": [
       "                          user_is_pro  user_can_buy_pro  user_total_views  \\\n",
       "owner        id                                                             \n",
       "12385792@N00 11378305226            1                 0              7760   \n",
       "\n",
       "                          image_ncomments  image_nfavs  image_nsets  \\\n",
       "owner        id                                                       \n",
       "12385792@N00 11378305226                0            0            1   \n",
       "\n",
       "                          image_npools  image_views  image_views_quantile  \\\n",
       "owner        id                                                             \n",
       "12385792@N00 11378305226             0            6                     1   \n",
       "\n",
       "                          image_ncomments_quantile  image_nfavs_quantile  \n",
       "owner        id                                                           \n",
       "12385792@N00 11378305226                         1                     1  "
      ]
     },
     "execution_count": 27,
     "metadata": {},
     "output_type": "execute_result"
    }
   ],
   "source": [
    "y_train.head(1)"
   ]
  },
  {
   "cell_type": "markdown",
   "metadata": {},
   "source": [
    "### GRID SEARCH - Image Views Quantile (IVQ)"
   ]
  },
  {
   "cell_type": "markdown",
   "metadata": {},
   "source": [
    "#### Set Search Parameters"
   ]
  },
  {
   "cell_type": "code",
   "execution_count": 79,
   "metadata": {
    "collapsed": true
   },
   "outputs": [],
   "source": [
    "param_distributions = {'Logistic': {\"C\": sp_expon(loc=0.001, scale=1),\n",
    "                                    \"fit_intercept\": [True, False],\n",
    "                                    \"intercept_scaling\": sp_randint(1, 5),\n",
    "                                    \"warm_start\": [False, True]\n",
    "                                    },\n",
    "                       'RandomForest': {\"max_depth\": sp_randint(2, 7),\n",
    "                                        \"max_features\": ['auto', None, sp_randint(5, 501)],\n",
    "                                        \"min_samples_split\": sp_randint(1, 201),\n",
    "                                        \"min_samples_leaf\": sp_randint(1, 201),\n",
    "                                        \"bootstrap\": [True, False],\n",
    "                                        \"criterion\": [\"gini\", \"entropy\"],\n",
    "                                        \"oob_score\": [False, True],\n",
    "                                        \"warm_start\": [False, True] \n",
    "                                        },\n",
    "                       'AdaBoost_DT': {\"learning_rate\": sp_expon(loc=0.001, scale=1.5),\n",
    "                                       \"algorithm\" : ['SAMME.R', 'SAMME']\n",
    "                                       },\n",
    "                       'GradientBoost': {},\n",
    "                       'SVC': {}\n",
    "                       }\n",
    "                       \n",
    "                       "
   ]
  },
  {
   "cell_type": "markdown",
   "metadata": {},
   "source": [
    "#### Build Models"
   ]
  },
  {
   "cell_type": "code",
   "execution_count": 80,
   "metadata": {
    "collapsed": false
   },
   "outputs": [],
   "source": [
    "DT = DecisionTreeClassifier(criterion='gini', splitter='best', max_depth=None, min_samples_split=2, min_samples_leaf=1,\n",
    "      min_weight_fraction_leaf=0.0, max_features=None, random_state=None, max_leaf_nodes=None, class_weight=None,\n",
    "      presort=False)\n",
    "\n",
    "model_ivq_LogitClassifier = LogisticRegression(penalty='l2', dual=False, tol=0.0001,\n",
    "                                               class_weight=None, random_state=25,\n",
    "                                               solver='liblinear', max_iter=1000, multi_class='ovr', verbose=1,\n",
    "                                               n_jobs=1)\n",
    "\n",
    "model_ivq_RandomForest = RandomForestClassifier(n_estimators=1000, min_weight_fraction_leaf=0.0, n_jobs=36,\n",
    "                                                random_state=42, verbose=1, class_weight=None)\n",
    "\n",
    "model_ivq_AdaBoost_DT = AdaBoostClassifier(base_estimator=DT, n_estimators=300, random_state=12)\n",
    "\n",
    "model_ivq_GBC = GradientBoostingClassifier(loss='deviance', learning_rate=0.1, n_estimators=100, subsample=1.0,\n",
    "                                           min_samples_split=2, min_samples_leaf=1, min_weight_fraction_leaf=0.0,\n",
    "                                           max_depth=3, init=None, random_state=None, max_features=None, verbose=0,\n",
    "                                           max_leaf_nodes=None, warm_start=False, presort='auto')\n",
    "\n",
    "model_ivq_SVC = SVC(C=1.0, kernel='rbf', degree=3, gamma='auto', coef0=0.0, shrinking=True, probability=False,\n",
    "                    tol=0.001, cache_size=200, class_weight=None, verbose=False, max_iter=-1,\n",
    "                    decision_function_shape=None, random_state=None)\n"
   ]
  },
  {
   "cell_type": "markdown",
   "metadata": {},
   "source": [
    "#### Logistic Random Search CV"
   ]
  },
  {
   "cell_type": "code",
   "execution_count": null,
   "metadata": {
    "collapsed": false
   },
   "outputs": [
    {
     "name": "stdout",
     "output_type": "stream",
     "text": [
      "Fitting 5 folds for each of 30 candidates, totalling 150 fits\n"
     ]
    }
   ],
   "source": [
    "n_iter_search = 30\n",
    "random_search_LogitClassifier = RandomizedSearchCV(estimator=model_ivq_LogitClassifier,\n",
    "                                                   param_distributions=param_distributions['Logistic'],\n",
    "                                                   n_iter=n_iter_search,\n",
    "                                                   n_jobs=36, cv=5, verbose=2, random_state=30, error_score='raise')\n",
    "random_search_LogitClassifier.fit(X_train, y_train['image_views_quantile'])"
   ]
  },
  {
   "cell_type": "code",
   "execution_count": null,
   "metadata": {
    "collapsed": true
   },
   "outputs": [],
   "source": [
    "random_search_LogitClassifier.grid_scores_"
   ]
  },
  {
   "cell_type": "code",
   "execution_count": null,
   "metadata": {
    "collapsed": true
   },
   "outputs": [],
   "source": [
    "random_search_LogitClassifier.best_score_"
   ]
  },
  {
   "cell_type": "code",
   "execution_count": null,
   "metadata": {
    "collapsed": true
   },
   "outputs": [],
   "source": [
    "best_LogitClassifier = random_search_LogitClassifier.best_estimator_\n",
    "y_pred = best_LogitClassifier.predict(X_test)\n",
    "print \"Best Logit Classifier F1 Score: \", f1_score(y_test['image_views_quantile'], y_pred, labels=None, pos_label=None, average='macro', sample_weight=None)"
   ]
  },
  {
   "cell_type": "markdown",
   "metadata": {},
   "source": [
    "#### Random Forest Random Search CV"
   ]
  },
  {
   "cell_type": "code",
   "execution_count": null,
   "metadata": {
    "collapsed": true
   },
   "outputs": [],
   "source": [
    "n_iter_search = 30\n",
    "random_search_RandomForest = RandomizedSearchCV(estimator=model_ivq_RandomForest,\n",
    "                                                   param_distributions=param_distributions['RandomForest'],\n",
    "                                                   n_iter=n_iter_search,\n",
    "                                                   n_jobs=36, cv=5, verbose=1, random_state=30, error_score='raise')\n",
    "random_search_RandomForest.fit(X_train, y_train['image_views_quantile'])"
   ]
  },
  {
   "cell_type": "code",
   "execution_count": null,
   "metadata": {
    "collapsed": true
   },
   "outputs": [],
   "source": [
    "random_search_RandomForest.best_score_"
   ]
  },
  {
   "cell_type": "code",
   "execution_count": null,
   "metadata": {
    "collapsed": true
   },
   "outputs": [],
   "source": [
    "best_RandomForest = random_search_RandomForest.best_estimator_\n",
    "y_pred = best_RandomForest.predict(X_test)\n",
    "print \"Best Random Forest Classifier F1 Score: \", f1_score(y_test['image_views_quantile'], y_pred, labels=None, pos_label=None, average='macro', sample_weight=None)"
   ]
  },
  {
   "cell_type": "markdown",
   "metadata": {},
   "source": [
    "#### AdaBoost DT Random Search CV"
   ]
  },
  {
   "cell_type": "code",
   "execution_count": null,
   "metadata": {
    "collapsed": true
   },
   "outputs": [],
   "source": [
    "n_iter_search = 30\n",
    "random_search_AdaBoost_DT = RandomizedSearchCV(estimator=model_ivq_AdaBoost_DT,\n",
    "                                                   param_distributions=param_distributions['RandomForest'],\n",
    "                                                   n_iter=n_iter_search,\n",
    "                                                   n_jobs=36, cv=5, verbose=1, random_state=30, error_score='raise')\n",
    "random_search_AdaBoost_DT.fit(X_train, y_train['image_views_quantile'])"
   ]
  },
  {
   "cell_type": "code",
   "execution_count": null,
   "metadata": {
    "collapsed": true
   },
   "outputs": [],
   "source": [
    "random_search_AdaBoost_DT.best_score_"
   ]
  },
  {
   "cell_type": "code",
   "execution_count": null,
   "metadata": {
    "collapsed": true
   },
   "outputs": [],
   "source": [
    "best_AdaBoost_DT = random_search_AdaBoost_DT.best_estimator_\n",
    "y_pred = best_AdaBoost_DT.predict(X_test)\n",
    "print \"Best AdaBoost DT F1 Score: \", f1_score(y_test['image_views_quantile'], y_pred, labels=None, pos_label=None, average='macro', sample_weight=None)"
   ]
  },
  {
   "cell_type": "markdown",
   "metadata": {},
   "source": [
    "#### Gradient Boost Classifier Random Search CV"
   ]
  },
  {
   "cell_type": "code",
   "execution_count": null,
   "metadata": {
    "collapsed": true
   },
   "outputs": [],
   "source": [
    "n_iter_search = 30\n",
    "random_search_GBC = RandomizedSearchCV(estimator=model_ivq_GBC,\n",
    "                                                   param_distributions=param_distributions['RandomForest'],\n",
    "                                                   n_iter=n_iter_search,\n",
    "                                                   n_jobs=36, cv=5, verbose=1, random_state=30, error_score='raise')\n",
    "random_search_GBC.fit(X_train, y_train['image_views_quantile'])"
   ]
  },
  {
   "cell_type": "code",
   "execution_count": null,
   "metadata": {
    "collapsed": true
   },
   "outputs": [],
   "source": [
    "random_search_GBC.best_score_"
   ]
  },
  {
   "cell_type": "code",
   "execution_count": null,
   "metadata": {
    "collapsed": true
   },
   "outputs": [],
   "source": [
    "best_GBC = random_search_GBC.best_estimator_\n",
    "y_pred = best_GBC.predict(X_test)\n",
    "print \"Best AdaBoost DT F1 Score: \", f1_score(y_test['image_views_quantile'], y_pred, labels=None, pos_label=None, average='macro', sample_weight=None)"
   ]
  },
  {
   "cell_type": "markdown",
   "metadata": {},
   "source": [
    "#### SVC Random Search CV"
   ]
  },
  {
   "cell_type": "code",
   "execution_count": null,
   "metadata": {
    "collapsed": true
   },
   "outputs": [],
   "source": [
    "n_iter_search = 30\n",
    "random_search_SVC = RandomizedSearchCV(estimator=model_ivq_SVC,\n",
    "                                                   param_distributions=param_distributions['RandomForest'],\n",
    "                                                   n_iter=n_iter_search,\n",
    "                                                   n_jobs=36, cv=5, verbose=1, random_state=30, error_score='raise')\n",
    "random_search_SVC.fit(X_train, y_train['image_views_quantile'])"
   ]
  },
  {
   "cell_type": "code",
   "execution_count": null,
   "metadata": {
    "collapsed": true
   },
   "outputs": [],
   "source": [
    "random_search_SVC.best_score_"
   ]
  },
  {
   "cell_type": "code",
   "execution_count": null,
   "metadata": {
    "collapsed": true
   },
   "outputs": [],
   "source": [
    "best_SVC = random_search_SVC.best_estimator_\n",
    "y_pred = best_SVC.predict(X_test)\n",
    "print \"Best AdaBoost DT F1 Score: \", f1_score(y_test['image_views_quantile'], y_pred, labels=None, pos_label=None, average='macro', sample_weight=None)"
   ]
  },
  {
   "cell_type": "markdown",
   "metadata": {},
   "source": [
    "### GRID SEARCH - Image nComments Quantile (InCQ)"
   ]
  },
  {
   "cell_type": "code",
   "execution_count": null,
   "metadata": {
    "collapsed": true
   },
   "outputs": [],
   "source": []
  },
  {
   "cell_type": "markdown",
   "metadata": {},
   "source": [
    "### GRID SEARCH - Image nFavs Quantile (InFQ)"
   ]
  },
  {
   "cell_type": "code",
   "execution_count": null,
   "metadata": {
    "collapsed": false
   },
   "outputs": [],
   "source": [
    "rv = sp_expon(loc=0.001, scale=1.5)"
   ]
  },
  {
   "cell_type": "code",
   "execution_count": null,
   "metadata": {
    "collapsed": false
   },
   "outputs": [],
   "source": [
    "plt.hist(rv.rvs(1000), bins=40)\n",
    "plt.plot()"
   ]
  },
  {
   "cell_type": "code",
   "execution_count": 75,
   "metadata": {
    "collapsed": true
   },
   "outputs": [],
   "source": [
    "nums = rv.rvs(1000)"
   ]
  },
  {
   "cell_type": "code",
   "execution_count": null,
   "metadata": {
    "collapsed": true
   },
   "outputs": [],
   "source": []
  }
 ],
 "metadata": {
  "kernelspec": {
   "display_name": "Python [Root]",
   "language": "python",
   "name": "Python [Root]"
  },
  "language_info": {
   "codemirror_mode": {
    "name": "ipython",
    "version": 2
   },
   "file_extension": ".py",
   "mimetype": "text/x-python",
   "name": "python",
   "nbconvert_exporter": "python",
   "pygments_lexer": "ipython2",
   "version": "2.7.12"
  }
 },
 "nbformat": 4,
 "nbformat_minor": 0
}
