{
 "cells": [
  {
   "cell_type": "code",
   "execution_count": 52,
   "metadata": {
    "collapsed": true
   },
   "outputs": [],
   "source": [
    "import pandas as pd\n",
    "import numpy as np\n",
    "from sklearn.ensemble import RandomForestClassifier, RandomForestRegressor, AdaBoostClassifier, GradientBoostingClassifier\n",
    "from sklearn.linear_model import LogisticRegression, LinearRegression, LogisticRegressionCV, Lasso, Ridge, RidgeClassifier, SGDClassifier\n",
    "from sklearn.cross_validation import train_test_split\n",
    "from sklearn.metrics import accuracy_score, precision_score, recall_score, precision_recall_curve, precision_recall_fscore_support, f1_score, r2_score \n",
    "from sklearn.preprocessing import StandardScaler\n",
    "import matplotlib.pyplot as plt\n",
    "%matplotlib inline\n",
    "from sklearn.svm import SVC\n",
    "from sklearn.tree import DecisionTreeClassifier\n",
    "from scipy.stats import randint as sp_randint, gamma as sp_gamma, expon as sp_expon, uniform as sp_uniform\n",
    "from sklearn.grid_search import GridSearchCV, RandomizedSearchCV\n",
    "import cPickle as pickle"
   ]
  },
  {
   "cell_type": "code",
   "execution_count": 2,
   "metadata": {
    "collapsed": true
   },
   "outputs": [],
   "source": [
    "df_features = pd.read_csv('../data/modeling/SPORTS/feature_data_SPORTS_21205.csv', sep='|')\n",
    "df_targets = pd.read_csv('../data/modeling/SPORTS/target_data_SPORTS_21205.csv', sep='|')\n",
    "\n",
    "df_features = df_features.set_index('owner').set_index(\"id\", append=True)\n",
    "\n",
    "df_targets = df_targets.set_index('owner').set_index(\"id\", append=True)\n",
    "\n",
    "df_targets = df_targets.drop('image_tags', axis=1)\n",
    "\n",
    "target_columns = list(df_targets.columns)\n",
    "target_columns.remove('image_ntags')\n",
    "target_columns\n",
    "\n",
    "df = df_features.join(df_targets, how='inner')\n",
    "\n",
    "df.dropna(axis=0, inplace=True)"
   ]
  },
  {
   "cell_type": "code",
   "execution_count": 3,
   "metadata": {
    "collapsed": true
   },
   "outputs": [],
   "source": [
    "def name_quantile(x, limits):\n",
    "    quantile_cats = range(1, len(limits)+1, 1)\n",
    "    for cat, limit in zip(quantile_cats, limits):\n",
    "        if x <= limit:\n",
    "            return cat\n",
    "\n",
    "def create_quantile_target_col(df_train, df_test, target_columns, col_name, n_quantiles=5):\n",
    "    \"\"\"\n",
    "    Create a new column in both DataFrames that bins a target column into equal size categories.\n",
    "    \n",
    "    PARAMETERS\n",
    "    ----------\n",
    "    df_train : pandas.DataFrame\n",
    "        The training set data.\n",
    "        \n",
    "    df_test : pandas.DataFrame\n",
    "        The testint set data.\n",
    "        \n",
    "    target_columns : list\n",
    "    \n",
    "    col_name : str\n",
    "    \n",
    "    n_quantiles : int\n",
    "        The number of bins. For 4 bins (0 to 0.25, 0.25 to 0.5, etc...), n_quantiles=4.\n",
    "\n",
    "    RETURNS\n",
    "    -------\n",
    "    df_train : pandas.DataFrame\n",
    "    \n",
    "    df_test : pandas.DataFrame\n",
    "    \n",
    "    target_columns : list        \n",
    "    \"\"\"\n",
    "    min_value = df_train[col_name].min()\n",
    "    limits = []\n",
    "    for i in range(1, n_quantiles+1):\n",
    "        limits.append(df_train[col_name].quantile(i/float(n_quantiles)))\n",
    "    \n",
    "    new_col_name = col_name+\"_quantile\"\n",
    "    target_columns.append(new_col_name)\n",
    "    \n",
    "    df_train.loc[:, new_col_name] = df_train[col_name].apply(lambda x: name_quantile(x, limits))\n",
    "    df_test.loc[:, new_col_name] = df_test[col_name].apply(lambda x: name_quantile(x, limits))\n",
    "    limits.insert(0, min_value)\n",
    "    return df_train, df_test, target_columns, limits\n",
    "\n",
    "def pop_columns(df, col_names):\n",
    "    for i, name in enumerate(list(col_names)):\n",
    "        if i == 0:\n",
    "            df_dropped_cols = df.pop(name)\n",
    "        else:\n",
    "            df_dropped_cols = pd.concat((df_dropped_cols, df.pop(name)), axis=1)\n",
    "    return df, df_dropped_cols\n",
    "\n",
    "def create_known_bins_target_col(df_train, df_test, target_columns, col_name, bin_seps):\n",
    "    \"\"\"\n",
    "    Create a new column in both DataFrames that bins a target column by designated boundaries.\n",
    "    \n",
    "    PARAMETERS\n",
    "    ----------\n",
    "    df_train : pandas.DataFrame\n",
    "        The training set data.\n",
    "        \n",
    "    df_test : pandas.DataFrame\n",
    "        The testint set data.\n",
    "        \n",
    "    target_columns : list\n",
    "    \n",
    "    col_name : str\n",
    "    \n",
    "    bin_seps : list\n",
    "        The inner dividing limits for bins. Outer limits max() and min() are calculated automatically.\n",
    "\n",
    "    \n",
    "    RETURNS\n",
    "    -------\n",
    "    df_train : pandas.DataFrame\n",
    "    \n",
    "    df_test : pandas.DataFrame\n",
    "    \n",
    "    target_columns : list\n",
    "    \n",
    "    bin_limits : list\n",
    "        Bin dividing limits inlcuding the max and min values from the column.\n",
    "    \"\"\"\n",
    "    bin_seps = list(bin_seps)\n",
    "    min_value = df_train[col_name].min()\n",
    "    max_value = df_train[col_name].max()\n",
    "    if bin_seps[-1] != max_value:\n",
    "        bin_seps.append(max_value)\n",
    "\n",
    "    new_col_name = col_name+\"_binning\"\n",
    "    target_columns.append(new_col_name)\n",
    "    \n",
    "    df_train.loc[:, new_col_name] = df_train[col_name].apply(lambda x: name_quantile(x, limits))\n",
    "    df_test.loc[:, new_col_name] = df_test[col_name].apply(lambda x: name_quantile(x, limits))\n",
    "    if bin_seps[0] != min_value:\n",
    "        limits.insert(0, min_value)\n",
    "    return df_train, df_test, target_columns, limits"
   ]
  },
  {
   "cell_type": "code",
   "execution_count": 87,
   "metadata": {
    "collapsed": false
   },
   "outputs": [
    {
     "data": {
      "image/png": "[encoded data removed]",
      "text/plain": [
       "<matplotlib.figure.Figure at 0x7f9ce2262a10>"
      ]
     },
     "metadata": {},
     "output_type": "display_data"
    }
   ],
   "source": [
    "plt.hist(df['image_views'][df['image_views']<1000], bins=40)\n",
    "plt.show()"
   ]
  },
  {
   "cell_type": "code",
   "execution_count": 83,
   "metadata": {
    "collapsed": false
   },
   "outputs": [
    {
     "data": {
      "image/png": "[encoded data removed]",
      "text/plain": [
       "<matplotlib.figure.Figure at 0x7f9ce27f5a10>"
      ]
     },
     "metadata": {},
     "output_type": "display_data"
    }
   ],
   "source": [
    "plt.hist(df['user_is_pro'], bins=40)\n",
    "plt.show()"
   ]
  },
  {
   "cell_type": "code",
   "execution_count": null,
   "metadata": {
    "collapsed": true
   },
   "outputs": [],
   "source": [
    "plt.hist(df['image_ncomments'], bins=40)\n",
    "plt.show()"
   ]
  },
  {
   "cell_type": "code",
   "execution_count": 4,
   "metadata": {
    "collapsed": true
   },
   "outputs": [],
   "source": [
    "df_train, df_test = train_test_split(df, train_size=0.8, random_state=42)"
   ]
  },
  {
   "cell_type": "code",
   "execution_count": 5,
   "metadata": {
    "collapsed": false
   },
   "outputs": [
    {
     "name": "stderr",
     "output_type": "stream",
     "text": [
      "/home/ubuntu/anaconda2/lib/python2.7/site-packages/pandas/core/indexing.py:288: SettingWithCopyWarning: \n",
      "A value is trying to be set on a copy of a slice from a DataFrame.\n",
      "Try using .loc[row_indexer,col_indexer] = value instead\n",
      "\n",
      "See the caveats in the documentation: http://pandas.pydata.org/pandas-docs/stable/indexing.html#indexing-view-versus-copy\n",
      "  self.obj[key] = _infer_fill_value(value)\n",
      "/home/ubuntu/anaconda2/lib/python2.7/site-packages/pandas/core/indexing.py:465: SettingWithCopyWarning: \n",
      "A value is trying to be set on a copy of a slice from a DataFrame.\n",
      "Try using .loc[row_indexer,col_indexer] = value instead\n",
      "\n",
      "See the caveats in the documentation: http://pandas.pydata.org/pandas-docs/stable/indexing.html#indexing-view-versus-copy\n",
      "  self.obj[item] = s\n"
     ]
    }
   ],
   "source": [
    "df_train, df_test, target_columns, image_views_limits = create_quantile_target_col(df_train, df_test, target_columns, 'image_views', 4)\n",
    "df_train, df_test, target_columns, image_views_limits = create_quantile_target_col(df_train, df_test, target_columns, 'image_views', 4)\n",
    "#df_train, df_test, target_columns = create_quantile_target_col(df_train, df_test, target_columns, 'image_ncomments', 4)\n",
    "#df_train, df_test, target_columns = create_quantile_target_col(df_train, df_test, target_columns, 'image_nfavs', 4)"
   ]
  },
  {
   "cell_type": "code",
   "execution_count": 6,
   "metadata": {
    "collapsed": true
   },
   "outputs": [],
   "source": [
    "X_train, y_train = pop_columns(df_train, target_columns)\n",
    "X_test, y_test = pop_columns(df_test, target_columns)"
   ]
  },
  {
   "cell_type": "code",
   "execution_count": 7,
   "metadata": {
    "collapsed": true
   },
   "outputs": [],
   "source": [
    "X_columns = X_train.columns\n",
    "y_columns = y_train.columns"
   ]
  },
  {
   "cell_type": "code",
   "execution_count": 8,
   "metadata": {
    "collapsed": true
   },
   "outputs": [],
   "source": [
    "scaler_mean_std = StandardScaler()\n",
    "X_train = scaler_mean_std.fit_transform(X_train)\n",
    "X_test = scaler_mean_std.transform(X_test)"
   ]
  },
  {
   "cell_type": "code",
   "execution_count": 9,
   "metadata": {
    "collapsed": true
   },
   "outputs": [],
   "source": [
    "X_train = pd.DataFrame(data=X_train, columns=X_columns)\n",
    "X_test = pd.DataFrame(data=X_test, columns=X_columns)"
   ]
  },
  {
   "cell_type": "code",
   "execution_count": 10,
   "metadata": {
    "collapsed": false
   },
   "outputs": [
    {
     "data": {
      "text/html": [
       "<div>\n",
       "<table border=\"1\" class=\"dataframe\">\n",
       "  <thead>\n",
       "    <tr style=\"text-align: right;\">\n",
       "      <th></th>\n",
       "      <th></th>\n",
       "      <th>user_is_pro</th>\n",
       "      <th>user_can_buy_pro</th>\n",
       "      <th>user_total_views</th>\n",
       "      <th>image_ncomments</th>\n",
       "      <th>image_nfavs</th>\n",
       "      <th>image_nsets</th>\n",
       "      <th>image_npools</th>\n",
       "      <th>image_views</th>\n",
       "      <th>image_views_quantile</th>\n",
       "      <th>image_ncomments_quantile</th>\n",
       "      <th>image_nfavs_quantile</th>\n",
       "    </tr>\n",
       "    <tr>\n",
       "      <th>owner</th>\n",
       "      <th>id</th>\n",
       "      <th></th>\n",
       "      <th></th>\n",
       "      <th></th>\n",
       "      <th></th>\n",
       "      <th></th>\n",
       "      <th></th>\n",
       "      <th></th>\n",
       "      <th></th>\n",
       "      <th></th>\n",
       "      <th></th>\n",
       "      <th></th>\n",
       "    </tr>\n",
       "  </thead>\n",
       "  <tbody>\n",
       "    <tr>\n",
       "      <th>12385792@N00</th>\n",
       "      <th>11378305226</th>\n",
       "      <td>1</td>\n",
       "      <td>0</td>\n",
       "      <td>7760</td>\n",
       "      <td>0</td>\n",
       "      <td>0</td>\n",
       "      <td>1</td>\n",
       "      <td>0</td>\n",
       "      <td>6</td>\n",
       "      <td>1</td>\n",
       "      <td>1</td>\n",
       "      <td>1</td>\n",
       "    </tr>\n",
       "  </tbody>\n",
       "</table>\n",
       "</div>"
      ],
      "text/plain": [
       "                          user_is_pro  user_can_buy_pro  user_total_views  \\\n",
       "owner        id                                                             \n",
       "12385792@N00 11378305226            1                 0              7760   \n",
       "\n",
       "                          image_ncomments  image_nfavs  image_nsets  \\\n",
       "owner        id                                                       \n",
       "12385792@N00 11378305226                0            0            1   \n",
       "\n",
       "                          image_npools  image_views  image_views_quantile  \\\n",
       "owner        id                                                             \n",
       "12385792@N00 11378305226             0            6                     1   \n",
       "\n",
       "                          image_ncomments_quantile  image_nfavs_quantile  \n",
       "owner        id                                                           \n",
       "12385792@N00 11378305226                         1                     1  "
      ]
     },
     "execution_count": 10,
     "metadata": {},
     "output_type": "execute_result"
    }
   ],
   "source": [
    "y_train.head(1)"
   ]
  },
  {
   "cell_type": "markdown",
   "metadata": {},
   "source": [
    "### GRID SEARCH - Image Views Quantile (IVQ)"
   ]
  },
  {
   "cell_type": "markdown",
   "metadata": {},
   "source": [
    "#### Set Search Parameters"
   ]
  },
  {
   "cell_type": "code",
   "execution_count": 107,
   "metadata": {
    "collapsed": false
   },
   "outputs": [],
   "source": [
    "param_distributions = {'Logistic': {\"C\": sp_expon(loc=0.001, scale=1),\n",
    "                                    \"fit_intercept\": [True, False],\n",
    "                                    \"intercept_scaling\": sp_randint(1, 5),\n",
    "                                    \"warm_start\": [False, True]\n",
    "                                    },\n",
    "                       'RandomForest': {\"max_depth\": [None],\n",
    "                                        \"max_features\": ['auto', None],\n",
    "                                        \"min_samples_split\": sp_randint(1, 201),\n",
    "                                        \"min_samples_leaf\": sp_randint(1, 201),\n",
    "                                        \"criterion\": [\"gini\", \"entropy\"],\n",
    "                                        \"oob_score\": [True],\n",
    "                                        \"warm_start\": [False, True] \n",
    "                                        },\n",
    "                       'AdaBoost_DT': {\"learning_rate\": sp_expon(loc=0.001, scale=1.5),\n",
    "                                       \"algorithm\" : ['SAMME.R', 'SAMME']\n",
    "                                       },\n",
    "                       'GBC': {\"learning_rate\": sp_expon(loc=0.001, scale=0.5),\n",
    "                               \"subsample\": sp_uniform(loc=0.2, scale=0.8),\n",
    "                               \"max_features\": [None, 'auto'],\n",
    "                               \"warm_start\": [True, False],\n",
    "                               \"max_depth\": [3, 4, 5],\n",
    "                               },\n",
    "                       'SVC': {\"C\": sp_expon(loc=0.001, scale=2),\n",
    "                               \"kernel\": ['rbf', 'poly'],\n",
    "                               \"degree\": sp_randint(2, 10),\n",
    "                               \"coef0\": [0, 1, 2],\n",
    "                               \"shrinking\": [True, False]\n",
    "                               }\n",
    "                       }"
   ]
  },
  {
   "cell_type": "markdown",
   "metadata": {},
   "source": [
    "#### Build Models (IVQ)"
   ]
  },
  {
   "cell_type": "code",
   "execution_count": 29,
   "metadata": {
    "collapsed": false
   },
   "outputs": [],
   "source": [
    "DT = DecisionTreeClassifier(criterion='gini', splitter='best', max_depth=4, min_samples_split=10, min_samples_leaf=10,\n",
    "      min_weight_fraction_leaf=0.0, max_features=300, random_state=30, max_leaf_nodes=20, class_weight=None,\n",
    "      presort=False)\n",
    "\n",
    "model_ivq_LogitClassifier = LogisticRegression(penalty='l2', dual=False, tol=0.0001,\n",
    "                                               class_weight=None, random_state=25,\n",
    "                                               solver='liblinear', max_iter=1000, multi_class='ovr', verbose=2,\n",
    "                                               n_jobs=36)\n",
    "\n",
    "model_ivq_RandomForest = RandomForestClassifier(n_estimators=1000, min_weight_fraction_leaf=0.0, n_jobs=36,\n",
    "                                                random_state=42, verbose=2, class_weight=None, bootstrap=True)\n",
    "\n",
    "model_ivq_AdaBoost_DT = AdaBoostClassifier(base_estimator=DT, n_estimators=300, random_state=12)\n",
    "\n",
    "model_ivq_GBC = GradientBoostingClassifier(loss='deviance', n_estimators=100,\n",
    "                                           min_samples_split=10, min_samples_leaf=10, min_weight_fraction_leaf=0.0,\n",
    "                                           random_state=21, verbose=0,\n",
    "                                           max_leaf_nodes=12, presort='auto')\n",
    "\n",
    "model_ivq_SVC = SVC(gamma='auto', probability=True,\n",
    "                    tol=0.001, cache_size=1000, class_weight=None, verbose=True, max_iter=-1,\n",
    "                    decision_function_shape='ovr', random_state=1)\n"
   ]
  },
  {
   "cell_type": "markdown",
   "metadata": {},
   "source": [
    "#### Logistic Random Search CV"
   ]
  },
  {
   "cell_type": "code",
   "execution_count": null,
   "metadata": {
    "collapsed": false
   },
   "outputs": [],
   "source": [
    "n_iter_search = 30\n",
    "random_search_LogitClassifier = RandomizedSearchCV(estimator=model_ivq_LogitClassifier,\n",
    "                                                   param_distributions=param_distributions['Logistic'],\n",
    "                                                   n_iter=n_iter_search,\n",
    "                                                   n_jobs=36, cv=5, verbose=2, random_state=30, error_score='raise')\n",
    "random_search_LogitClassifier.fit(X_train, y_train['image_views_quantile'])"
   ]
  },
  {
   "cell_type": "code",
   "execution_count": null,
   "metadata": {
    "collapsed": true
   },
   "outputs": [],
   "source": [
    "random_search_LogitClassifier.grid_scores_"
   ]
  },
  {
   "cell_type": "code",
   "execution_count": null,
   "metadata": {
    "collapsed": true
   },
   "outputs": [],
   "source": [
    "random_search_LogitClassifier.best_score_"
   ]
  },
  {
   "cell_type": "code",
   "execution_count": null,
   "metadata": {
    "collapsed": true
   },
   "outputs": [],
   "source": [
    "best_LogitClassifier = random_search_LogitClassifier.best_estimator_\n",
    "y_pred = best_LogitClassifier.predict(X_test)\n",
    "print \"Best Logit Classifier F1 Score: \", f1_score(y_test['image_views_quantile'], y_pred, labels=None, pos_label=None, average='macro', sample_weight=None)"
   ]
  },
  {
   "cell_type": "markdown",
   "metadata": {},
   "source": [
    "#### Random Forest Random Search CV"
   ]
  },
  {
   "cell_type": "code",
   "execution_count": null,
   "metadata": {
    "collapsed": true
   },
   "outputs": [],
   "source": [
    "n_iter_search = 30\n",
    "random_search_RandomForest = RandomizedSearchCV(estimator=model_ivq_RandomForest,\n",
    "                                                   param_distributions=param_distributions['RandomForest'],\n",
    "                                                   n_iter=n_iter_search,\n",
    "                                                   n_jobs=36, cv=5, verbose=2, random_state=30, error_score='raise')\n",
    "random_search_RandomForest.fit(X_train, y_train['image_views_quantile'])"
   ]
  },
  {
   "cell_type": "code",
   "execution_count": null,
   "metadata": {
    "collapsed": true
   },
   "outputs": [],
   "source": [
    "random_search_RandomForest.best_score_"
   ]
  },
  {
   "cell_type": "code",
   "execution_count": null,
   "metadata": {
    "collapsed": true
   },
   "outputs": [],
   "source": [
    "best_RandomForest = random_search_RandomForest.best_estimator_\n",
    "y_pred = best_RandomForest.predict(X_test)\n",
    "print \"Best Random Forest Classifier F1 Score: \", f1_score(y_test['image_views_quantile'], y_pred, labels=None, pos_label=None, average='macro', sample_weight=None)"
   ]
  },
  {
   "cell_type": "markdown",
   "metadata": {},
   "source": [
    "#### AdaBoost DT Random Search CV"
   ]
  },
  {
   "cell_type": "code",
   "execution_count": null,
   "metadata": {
    "collapsed": true
   },
   "outputs": [],
   "source": [
    "n_iter_search = 30\n",
    "random_search_AdaBoost_DT = RandomizedSearchCV(estimator=model_ivq_AdaBoost_DT,\n",
    "                                                   param_distributions=param_distributions['AdaBoost_DT'],\n",
    "                                                   n_iter=n_iter_search,\n",
    "                                                   n_jobs=36, cv=5, verbose=2, random_state=30, error_score='raise')\n",
    "random_search_AdaBoost_DT.fit(X_train, y_train['image_views_quantile'])"
   ]
  },
  {
   "cell_type": "code",
   "execution_count": null,
   "metadata": {
    "collapsed": true
   },
   "outputs": [],
   "source": [
    "random_search_AdaBoost_DT.best_score_"
   ]
  },
  {
   "cell_type": "code",
   "execution_count": null,
   "metadata": {
    "collapsed": true
   },
   "outputs": [],
   "source": [
    "best_AdaBoost_DT = random_search_AdaBoost_DT.best_estimator_\n",
    "y_pred = best_AdaBoost_DT.predict(X_test)\n",
    "print \"Best AdaBoost DT F1 Score: \", f1_score(y_test['image_views_quantile'], y_pred, labels=None, pos_label=None, average='macro', sample_weight=None)"
   ]
  },
  {
   "cell_type": "markdown",
   "metadata": {},
   "source": [
    "#### Gradient Boost Classifier Random Search CV"
   ]
  },
  {
   "cell_type": "code",
   "execution_count": 30,
   "metadata": {
    "collapsed": true
   },
   "outputs": [
    {
     "name": "stdout",
     "output_type": "stream",
     "text": [
      "Fitting 5 folds for each of 40 candidates, totalling 200 fits\n"
     ]
    },
    {
     "name": "stderr",
     "output_type": "stream",
     "text": [
      "[Parallel(n_jobs=36)]: Done 128 tasks      | elapsed: 67.9min\n",
      "[Parallel(n_jobs=36)]: Done 200 out of 200 | elapsed: 95.7min finished\n"
     ]
    },
    {
     "data": {
      "text/plain": [
       "RandomizedSearchCV(cv=5, error_score='raise',\n",
       "          estimator=GradientBoostingClassifier(init=None, learning_rate=0.1, loss='deviance',\n",
       "              max_depth=3, max_features=None, max_leaf_nodes=12,\n",
       "              min_samples_leaf=10, min_samples_split=10,\n",
       "              min_weight_fraction_leaf=0.0, n_estimators=100,\n",
       "              presort='auto', random_state=21, subsample=1.0, verbose=0,\n",
       "              warm_start=False),\n",
       "          fit_params={}, iid=True, n_iter=40, n_jobs=36,\n",
       "          param_distributions={'max_features': [None, 'auto'], 'subsample': <scipy.stats._distn_infrastructure.rv_frozen object at 0x7f9cf850c6d0>, 'learning_rate': <scipy.stats._distn_infrastructure.rv_frozen object at 0x7f9cf851b850>, 'warm_start': [True, False], 'max_depth': [3, 4, 5]},\n",
       "          pre_dispatch='2*n_jobs', random_state=30, refit=True,\n",
       "          scoring=None, verbose=1)"
      ]
     },
     "execution_count": 30,
     "metadata": {},
     "output_type": "execute_result"
    }
   ],
   "source": [
    "n_iter_search = 40\n",
    "random_search_GBC = RandomizedSearchCV(estimator=model_ivq_GBC,\n",
    "                                       param_distributions=param_distributions['GBC'],\n",
    "                                       n_iter=n_iter_search,\n",
    "                                       n_jobs=36, cv=5, verbose=1, random_state=30, error_score='raise')\n",
    "random_search_GBC.fit(X_train, y_train['image_views_quantile'])"
   ]
  },
  {
   "cell_type": "code",
   "execution_count": 31,
   "metadata": {
    "collapsed": false
   },
   "outputs": [
    {
     "data": {
      "text/plain": [
       "0.73614713510964391"
      ]
     },
     "execution_count": 31,
     "metadata": {},
     "output_type": "execute_result"
    }
   ],
   "source": [
    "random_search_GBC.best_score_"
   ]
  },
  {
   "cell_type": "code",
   "execution_count": 32,
   "metadata": {
    "collapsed": false
   },
   "outputs": [
    {
     "name": "stdout",
     "output_type": "stream",
     "text": [
      "Best AdaBoost DT F1 Score:  0.745162994441\n"
     ]
    }
   ],
   "source": [
    "best_GBC = random_search_GBC.best_estimator_\n",
    "y_pred = best_GBC.predict(X_test)\n",
    "print \"Best AdaBoost DT F1 Score: \", f1_score(y_test['image_views_quantile'], y_pred, labels=None, pos_label=None, average='macro', sample_weight=None)"
   ]
  },
  {
   "cell_type": "code",
   "execution_count": 43,
   "metadata": {
    "collapsed": false
   },
   "outputs": [],
   "source": [
    "new_params = best_GBC.get_params()\n",
    "new_params['n_estimators'] = 1000\n",
    "new_params['verbose'] = 2"
   ]
  },
  {
   "cell_type": "code",
   "execution_count": 44,
   "metadata": {
    "collapsed": true
   },
   "outputs": [],
   "source": [
    "new_model_ivq_GBC = GradientBoostingClassifier(**new_params)"
   ]
  },
  {
   "cell_type": "code",
   "execution_count": 45,
   "metadata": {
    "collapsed": true
   },
   "outputs": [
    {
     "name": "stdout",
     "output_type": "stream",
     "text": [
      "      1000          34.7412          -0.0128            0.00s\n"
     ]
    },
    {
     "data": {
      "text/plain": [
       "GradientBoostingClassifier(init=None, learning_rate=0.265159939001,\n",
       "              loss='deviance', max_depth=5, max_features=None,\n",
       "              max_leaf_nodes=12, min_samples_leaf=10, min_samples_split=10,\n",
       "              min_weight_fraction_leaf=0.0, n_estimators=1000,\n",
       "              presort='auto', random_state=21, subsample=0.884928788086,\n",
       "              verbose=2, warm_start=False)"
      ]
     },
     "execution_count": 45,
     "metadata": {},
     "output_type": "execute_result"
    }
   ],
   "source": [
    "new_model_ivq_GBC.fit(X_train, y_train['image_views_quantile'])"
   ]
  },
  {
   "cell_type": "code",
   "execution_count": 49,
   "metadata": {
    "collapsed": true
   },
   "outputs": [
    {
     "data": {
      "text/plain": [
       "{'init': None,\n",
       " 'learning_rate': 0.2651599390014479,\n",
       " 'loss': 'deviance',\n",
       " 'max_depth': 5,\n",
       " 'max_features': None,\n",
       " 'max_leaf_nodes': 12,\n",
       " 'min_samples_leaf': 10,\n",
       " 'min_samples_split': 10,\n",
       " 'min_weight_fraction_leaf': 0.0,\n",
       " 'n_estimators': 1000,\n",
       " 'presort': 'auto',\n",
       " 'random_state': 21,\n",
       " 'subsample': 0.8849287880855492,\n",
       " 'verbose': 2,\n",
       " 'warm_start': False}"
      ]
     },
     "execution_count": 49,
     "metadata": {},
     "output_type": "execute_result"
    }
   ],
   "source": [
    "new_model_ivq_GBC.get_params()"
   ]
  },
  {
   "cell_type": "code",
   "execution_count": 50,
   "metadata": {
    "collapsed": false
   },
   "outputs": [],
   "source": [
    "f1_scores = []\n",
    "num_estimators = new_model_ivq_GBC.get_params()['n_estimators']"
   ]
  },
  {
   "cell_type": "code",
   "execution_count": 51,
   "metadata": {
    "collapsed": false
   },
   "outputs": [
    {
     "data": {
      "text/plain": [
       "[<matplotlib.lines.Line2D at 0x7f9cf8236410>]"
      ]
     },
     "execution_count": 51,
     "metadata": {},
     "output_type": "execute_result"
    },
    {
     "data": {
      "image/png": "[encoded data removed]",
      "text/plain": [
       "<matplotlib.figure.Figure at 0x7f9cf8505150>"
      ]
     },
     "metadata": {},
     "output_type": "display_data"
    }
   ],
   "source": [
    "for i, y_pred in zip(range(1, num_estimators+1), new_model_ivq_GBC.staged_predict(X_test)):\n",
    "    f1_scores.append(f1_score(y_test['image_views_quantile'], y_pred, labels=None, pos_label=None, average='weighted', sample_weight=None))\n",
    "\n",
    "plt.plot(f1_scores, 'b')"
   ]
  },
  {
   "cell_type": "code",
   "execution_count": 53,
   "metadata": {
    "collapsed": true
   },
   "outputs": [],
   "source": [
    "with open('../models/model_GBC_IVQ_1000.pkl', 'w') as f:\n",
    "    pickle.dump(new_model_ivq_GBC, f)"
   ]
  },
  {
   "cell_type": "markdown",
   "metadata": {},
   "source": [
    "#### SVC Random Search CV"
   ]
  },
  {
   "cell_type": "code",
   "execution_count": null,
   "metadata": {
    "collapsed": true
   },
   "outputs": [],
   "source": [
    "n_iter_search = 30\n",
    "random_search_SVC = RandomizedSearchCV(estimator=model_ivq_SVC,\n",
    "                                                   param_distributions=param_distributions['SVC'],\n",
    "                                                   n_iter=n_iter_search,\n",
    "                                                   n_jobs=36, cv=5, verbose=2, random_state=30, error_score='raise')\n",
    "random_search_SVC.fit(X_train, y_train['image_views_quantile'])"
   ]
  },
  {
   "cell_type": "code",
   "execution_count": null,
   "metadata": {
    "collapsed": true
   },
   "outputs": [],
   "source": [
    "random_search_SVC.best_score_"
   ]
  },
  {
   "cell_type": "code",
   "execution_count": null,
   "metadata": {
    "collapsed": true
   },
   "outputs": [],
   "source": [
    "best_SVC = random_search_SVC.best_estimator_\n",
    "y_pred = best_SVC.predict(X_test)\n",
    "print \"Best AdaBoost DT F1 Score: \", f1_score(y_test['image_views_quantile'], y_pred, labels=None, pos_label=None, average='macro', sample_weight=None)"
   ]
  },
  {
   "cell_type": "markdown",
   "metadata": {},
   "source": [
    "### GRID SEARCH - User Is Pro (UiP)"
   ]
  },
  {
   "cell_type": "code",
   "execution_count": 108,
   "metadata": {
    "collapsed": true
   },
   "outputs": [],
   "source": [
    "param_distributions_uip = {'Logistic': {\"C\": sp_expon(loc=0.001, scale=1),\n",
    "                                    \"fit_intercept\": [True, False],\n",
    "                                    \"intercept_scaling\": sp_randint(1, 5),\n",
    "                                    \"warm_start\": [False, True]\n",
    "                                    },\n",
    "                       'RandomForest': {\"max_depth\": [None],\n",
    "                                        \"max_features\": ['auto', None],\n",
    "                                        \"min_samples_split\": sp_randint(1, 201),\n",
    "                                        \"min_samples_leaf\": sp_randint(1, 201),\n",
    "                                        \"criterion\": [\"gini\", \"entropy\"],\n",
    "                                        \"oob_score\": [True],\n",
    "                                        \"warm_start\": [False, True] \n",
    "                                        },\n",
    "                       'AdaBoost_DT': {\"learning_rate\": sp_expon(loc=0.001, scale=1.5),\n",
    "                                       \"algorithm\" : ['SAMME.R', 'SAMME']\n",
    "                                       },\n",
    "                       'GBC': {\"learning_rate\": sp_expon(loc=0.001, scale=0.5),\n",
    "                               \"subsample\": sp_uniform(loc=0.2, scale=0.8),\n",
    "                               \"max_features\": [None, 'auto'],\n",
    "                               \"warm_start\": [True, False],\n",
    "                               \"max_depth\": [3, 4, 5],\n",
    "                               },\n",
    "                       'SVC': {\"C\": sp_expon(loc=0.001, scale=2),\n",
    "                               \"kernel\": ['rbf', 'poly'],\n",
    "                               \"degree\": sp_randint(2, 10),\n",
    "                               \"coef0\": [0, 1, 2],\n",
    "                               \"shrinking\": [True, False]\n",
    "                               }\n",
    "                       }"
   ]
  },
  {
   "cell_type": "markdown",
   "metadata": {},
   "source": [
    "#### Build Models (UiP)"
   ]
  },
  {
   "cell_type": "code",
   "execution_count": 90,
   "metadata": {
    "collapsed": true
   },
   "outputs": [],
   "source": [
    "DT = DecisionTreeClassifier(criterion='gini', splitter='best', max_depth=4, min_samples_split=10, min_samples_leaf=10,\n",
    "      min_weight_fraction_leaf=0.0, max_features=300, random_state=30, max_leaf_nodes=20, class_weight=None,\n",
    "      presort=False)\n",
    "\n",
    "model_uip_LogitClassifier = LogisticRegression(penalty='l2', dual=False, tol=0.0001,\n",
    "                                               class_weight=None, random_state=25,\n",
    "                                               solver='liblinear', max_iter=1000, multi_class='ovr', verbose=2,\n",
    "                                               n_jobs=36)\n",
    "\n",
    "model_uip_RandomForest = RandomForestClassifier(n_estimators=1000, min_weight_fraction_leaf=0.0, n_jobs=36,\n",
    "                                                random_state=42, verbose=1, class_weight=None, bootstrap=True)\n",
    "\n",
    "model_uip_AdaBoost_DT = AdaBoostClassifier(base_estimator=DT, n_estimators=300, random_state=12)\n",
    "\n",
    "model_uip_GBC = GradientBoostingClassifier(loss='deviance', n_estimators=100,\n",
    "                                           min_samples_split=10, min_samples_leaf=10, min_weight_fraction_leaf=0.0,\n",
    "                                           random_state=21, verbose=0,\n",
    "                                           max_leaf_nodes=12, presort='auto')\n",
    "\n",
    "model_uip_SVC = SVC(gamma='auto', probability=True,\n",
    "                    tol=0.001, cache_size=1000, class_weight=None, verbose=True, max_iter=-1,\n",
    "                    decision_function_shape='ovr', random_state=1)\n"
   ]
  },
  {
   "cell_type": "markdown",
   "metadata": {},
   "source": [
    "#### GB Classifier Random Search (UIP)"
   ]
  },
  {
   "cell_type": "code",
   "execution_count": 91,
   "metadata": {
    "collapsed": true
   },
   "outputs": [
    {
     "name": "stdout",
     "output_type": "stream",
     "text": [
      "Fitting 3 folds for each of 20 candidates, totalling 60 fits\n"
     ]
    },
    {
     "name": "stderr",
     "output_type": "stream",
     "text": [
      "[Parallel(n_jobs=36)]: Done  60 out of  60 | elapsed:  6.6min finished\n"
     ]
    },
    {
     "data": {
      "text/plain": [
       "RandomizedSearchCV(cv=3, error_score=0,\n",
       "          estimator=GradientBoostingClassifier(init=None, learning_rate=0.1, loss='deviance',\n",
       "              max_depth=3, max_features=None, max_leaf_nodes=12,\n",
       "              min_samples_leaf=10, min_samples_split=10,\n",
       "              min_weight_fraction_leaf=0.0, n_estimators=100,\n",
       "              presort='auto', random_state=21, subsample=1.0, verbose=0,\n",
       "              warm_start=False),\n",
       "          fit_params={}, iid=True, n_iter=20, n_jobs=36,\n",
       "          param_distributions={'max_features': [None, 'auto'], 'subsample': <scipy.stats._distn_infrastructure.rv_frozen object at 0x7f9ce20456d0>, 'learning_rate': <scipy.stats._distn_infrastructure.rv_frozen object at 0x7f9ce2045610>, 'warm_start': [True, False], 'max_depth': [3, 4, 5]},\n",
       "          pre_dispatch='2*n_jobs', random_state=30, refit=True,\n",
       "          scoring=None, verbose=1)"
      ]
     },
     "execution_count": 91,
     "metadata": {},
     "output_type": "execute_result"
    }
   ],
   "source": [
    "n_iter_search = 20\n",
    "random_search_uip_GBC = RandomizedSearchCV(estimator=model_uip_GBC,\n",
    "                                       param_distributions=param_distributions_uip['GBC'],\n",
    "                                       n_iter=n_iter_search,\n",
    "                                       n_jobs=36, cv=3, verbose=1, random_state=30, error_score=0)\n",
    "random_search_uip_GBC.fit(X_train, y_train['user_is_pro'])"
   ]
  },
  {
   "cell_type": "code",
   "execution_count": 92,
   "metadata": {
    "collapsed": false
   },
   "outputs": [
    {
     "data": {
      "text/plain": [
       "0.89860881867484088"
      ]
     },
     "execution_count": 92,
     "metadata": {},
     "output_type": "execute_result"
    }
   ],
   "source": [
    "random_search_uip_GBC.best_score_"
   ]
  },
  {
   "cell_type": "code",
   "execution_count": 93,
   "metadata": {
    "collapsed": false
   },
   "outputs": [
    {
     "name": "stdout",
     "output_type": "stream",
     "text": [
      "Best AdaBoost DT F1 Score:  0.917800606676\n"
     ]
    }
   ],
   "source": [
    "best_uip_GBC = random_search_uip_GBC.best_estimator_\n",
    "y_pred = best_uip_GBC.predict(X_test)\n",
    "print \"Best AdaBoost DT F1 Score: \", f1_score(y_test['user_is_pro'], y_pred, labels=None, pos_label=None, average='macro', sample_weight=None)"
   ]
  },
  {
   "cell_type": "code",
   "execution_count": 94,
   "metadata": {
    "collapsed": true
   },
   "outputs": [],
   "source": [
    "new_params = best_uip_GBC.get_params()\n",
    "new_params['n_estimators'] = 1000\n",
    "new_params['verbose'] = 2"
   ]
  },
  {
   "cell_type": "code",
   "execution_count": 95,
   "metadata": {
    "collapsed": false
   },
   "outputs": [
    {
     "name": "stdout",
     "output_type": "stream",
     "text": [
      "      Iter       Train Loss      OOB Improve   Remaining Time \n",
      "       999           0.0020          -0.0000            2.13s\n",
      "      1000           0.0020           0.0000            0.00s\n"
     ]
    },
    {
     "data": {
      "text/plain": [
       "GradientBoostingClassifier(init=None, learning_rate=0.279348533753,\n",
       "              loss='deviance', max_depth=5, max_features=None,\n",
       "              max_leaf_nodes=12, min_samples_leaf=10, min_samples_split=10,\n",
       "              min_weight_fraction_leaf=0.0, n_estimators=1000,\n",
       "              presort='auto', random_state=21, subsample=0.87849357888,\n",
       "              verbose=2, warm_start=True)"
      ]
     },
     "execution_count": 95,
     "metadata": {},
     "output_type": "execute_result"
    }
   ],
   "source": [
    "new_model_uip_GBC = GradientBoostingClassifier(**new_params)\n",
    "new_model_uip_GBC.fit(X_train, y_train['user_is_pro'])"
   ]
  },
  {
   "cell_type": "code",
   "execution_count": 96,
   "metadata": {
    "collapsed": true
   },
   "outputs": [
    {
     "data": {
      "text/plain": [
       "{'init': None,\n",
       " 'learning_rate': 0.2793485337531958,\n",
       " 'loss': 'deviance',\n",
       " 'max_depth': 5,\n",
       " 'max_features': None,\n",
       " 'max_leaf_nodes': 12,\n",
       " 'min_samples_leaf': 10,\n",
       " 'min_samples_split': 10,\n",
       " 'min_weight_fraction_leaf': 0.0,\n",
       " 'n_estimators': 1000,\n",
       " 'presort': 'auto',\n",
       " 'random_state': 21,\n",
       " 'subsample': 0.8784935788800639,\n",
       " 'verbose': 2,\n",
       " 'warm_start': True}"
      ]
     },
     "execution_count": 96,
     "metadata": {},
     "output_type": "execute_result"
    }
   ],
   "source": [
    "new_model_uip_GBC.get_params()"
   ]
  },
  {
   "cell_type": "code",
   "execution_count": 97,
   "metadata": {
    "collapsed": false
   },
   "outputs": [
    {
     "data": {
      "text/plain": [
       "[<matplotlib.lines.Line2D at 0x7f9ce21d6490>]"
      ]
     },
     "execution_count": 97,
     "metadata": {},
     "output_type": "execute_result"
    },
    {
     "data": {
      "image/png": "[encoded data removed]",
      "text/plain": [
       "<matplotlib.figure.Figure at 0x7f9ce215ee90>"
      ]
     },
     "metadata": {},
     "output_type": "display_data"
    }
   ],
   "source": [
    "f1_scores = []\n",
    "num_estimators = new_model_uip_GBC.get_params()['n_estimators']\n",
    "for i, y_pred in zip(range(1, num_estimators+1), new_model_uip_GBC.staged_predict(X_test)):\n",
    "    f1_scores.append(f1_score(y_test['user_is_pro'], y_pred, labels=None, pos_label=None, average='weighted', sample_weight=None))\n",
    "\n",
    "plt.plot(f1_scores, 'b')"
   ]
  },
  {
   "cell_type": "markdown",
   "metadata": {},
   "source": [
    "#### Logistic Random Search CV (UiP)"
   ]
  },
  {
   "cell_type": "code",
   "execution_count": 99,
   "metadata": {
    "collapsed": true
   },
   "outputs": [
    {
     "name": "stdout",
     "output_type": "stream",
     "text": [
      "Fitting 5 folds for each of 30 candidates, totalling 150 fits\n",
      "[CV] warm_start=True, C=0.6945379214, intercept_scaling=2, fit_intercept=False \n",
      "[LibLinear][CV]  warm_start=False, C=2.85093119483, intercept_scaling=3, fit_intercept=False - 4.5min\n"
     ]
    },
    {
     "name": "stderr",
     "output_type": "stream",
     "text": [
      "[Parallel(n_jobs=36)]: Done 150 out of 150 | elapsed: 14.6min finished\n"
     ]
    },
    {
     "name": "stdout",
     "output_type": "stream",
     "text": [
      "[LibLinear]"
     ]
    },
    {
     "data": {
      "text/plain": [
       "RandomizedSearchCV(cv=5, error_score=0,\n",
       "          estimator=LogisticRegression(C=1.0, class_weight=None, dual=False, fit_intercept=True,\n",
       "          intercept_scaling=1, max_iter=1000, multi_class='ovr', n_jobs=36,\n",
       "          penalty='l2', random_state=25, solver='liblinear', tol=0.0001,\n",
       "          verbose=2, warm_start=False),\n",
       "          fit_params={}, iid=True, n_iter=30, n_jobs=36,\n",
       "          param_distributions={'warm_start': [False, True], 'C': <scipy.stats._distn_infrastructure.rv_frozen object at 0x7f9ce2039c10>, 'intercept_scaling': <scipy.stats._distn_infrastructure.rv_frozen object at 0x7f9ce2039e10>, 'fit_intercept': [True, False]},\n",
       "          pre_dispatch='2*n_jobs', random_state=30, refit=True,\n",
       "          scoring=None, verbose=2)"
      ]
     },
     "execution_count": 99,
     "metadata": {},
     "output_type": "execute_result"
    }
   ],
   "source": [
    "n_iter_search = 30\n",
    "random_search_uip_LogitClassifier = RandomizedSearchCV(estimator=model_uip_LogitClassifier,\n",
    "                                                   param_distributions=param_distributions_uip['Logistic'],\n",
    "                                                   n_iter=n_iter_search,\n",
    "                                                   n_jobs=36, cv=5, verbose=2, random_state=30, error_score=0)\n",
    "random_search_uip_LogitClassifier.fit(X_train, y_train['user_is_pro'])"
   ]
  },
  {
   "cell_type": "code",
   "execution_count": 100,
   "metadata": {
    "collapsed": false
   },
   "outputs": [
    {
     "data": {
      "text/plain": [
       "0.78277528884697001"
      ]
     },
     "execution_count": 100,
     "metadata": {},
     "output_type": "execute_result"
    }
   ],
   "source": [
    "random_search_uip_LogitClassifier.best_score_"
   ]
  },
  {
   "cell_type": "code",
   "execution_count": 101,
   "metadata": {
    "collapsed": false
   },
   "outputs": [
    {
     "name": "stdout",
     "output_type": "stream",
     "text": [
      "Best Logit Classifier F1 Score:  0.7903526626\n"
     ]
    }
   ],
   "source": [
    "best_uip_LogitClassifier = random_search_uip_LogitClassifier.best_estimator_\n",
    "y_pred = best_uip_LogitClassifier.predict(X_test)\n",
    "print \"Best Logit Classifier F1 Score: \", f1_score(y_test['user_is_pro'], y_pred, labels=None, pos_label=None, average='macro', sample_weight=None)"
   ]
  },
  {
   "cell_type": "markdown",
   "metadata": {},
   "source": [
    "#### Random Forest Search CV (UiP)"
   ]
  },
  {
   "cell_type": "code",
   "execution_count": 111,
   "metadata": {
    "collapsed": false
   },
   "outputs": [
    {
     "name": "stdout",
     "output_type": "stream",
     "text": [
      "building tree 1 of 1000\n",
      "building tree 524 of 1000\n",
      "building tree 486 of 1000\n",
      "building tree 242 of 1000\n",
      "building tree 682 of 1000\n"
     ]
    },
    {
     "ename": "KeyboardInterrupt",
     "evalue": "",
     "output_type": "error",
     "traceback": [
      "\u001b[1;31m---------------------------------------------------------------------------\u001b[0m",
      "\u001b[1;31mKeyboardInterrupt\u001b[0m                         Traceback (most recent call last)",
      "\u001b[1;32m<ipython-input-111-c583d343e43a>\u001b[0m in \u001b[0;36m<module>\u001b[1;34m()\u001b[0m\n\u001b[0;32m      4\u001b[0m                                                    \u001b[0mn_iter\u001b[0m\u001b[1;33m=\u001b[0m\u001b[0mn_iter_search\u001b[0m\u001b[1;33m,\u001b[0m\u001b[1;33m\u001b[0m\u001b[0m\n\u001b[0;32m      5\u001b[0m                                                    n_jobs=36, cv=5, verbose=0, random_state=30, error_score=0)\n\u001b[1;32m----> 6\u001b[1;33m \u001b[0mrandom_search_uip_RandomForest\u001b[0m\u001b[1;33m.\u001b[0m\u001b[0mfit\u001b[0m\u001b[1;33m(\u001b[0m\u001b[0mX_train\u001b[0m\u001b[1;33m,\u001b[0m \u001b[0my_train\u001b[0m\u001b[1;33m[\u001b[0m\u001b[1;34m'user_is_pro'\u001b[0m\u001b[1;33m]\u001b[0m\u001b[1;33m)\u001b[0m\u001b[1;33m\u001b[0m\u001b[0m\n\u001b[0m",
      "\u001b[1;32m/home/ubuntu/anaconda2/lib/python2.7/site-packages/sklearn/grid_search.pyc\u001b[0m in \u001b[0;36mfit\u001b[1;34m(self, X, y)\u001b[0m\n\u001b[0;32m    994\u001b[0m                                           \u001b[0mself\u001b[0m\u001b[1;33m.\u001b[0m\u001b[0mn_iter\u001b[0m\u001b[1;33m,\u001b[0m\u001b[1;33m\u001b[0m\u001b[0m\n\u001b[0;32m    995\u001b[0m                                           random_state=self.random_state)\n\u001b[1;32m--> 996\u001b[1;33m         \u001b[1;32mreturn\u001b[0m \u001b[0mself\u001b[0m\u001b[1;33m.\u001b[0m\u001b[0m_fit\u001b[0m\u001b[1;33m(\u001b[0m\u001b[0mX\u001b[0m\u001b[1;33m,\u001b[0m \u001b[0my\u001b[0m\u001b[1;33m,\u001b[0m \u001b[0msampled_params\u001b[0m\u001b[1;33m)\u001b[0m\u001b[1;33m\u001b[0m\u001b[0m\n\u001b[0m",
      "\u001b[1;32m/home/ubuntu/anaconda2/lib/python2.7/site-packages/sklearn/grid_search.pyc\u001b[0m in \u001b[0;36m_fit\u001b[1;34m(self, X, y, parameter_iterable)\u001b[0m\n\u001b[0;32m    551\u001b[0m                                     \u001b[0mself\u001b[0m\u001b[1;33m.\u001b[0m\u001b[0mfit_params\u001b[0m\u001b[1;33m,\u001b[0m \u001b[0mreturn_parameters\u001b[0m\u001b[1;33m=\u001b[0m\u001b[0mTrue\u001b[0m\u001b[1;33m,\u001b[0m\u001b[1;33m\u001b[0m\u001b[0m\n\u001b[0;32m    552\u001b[0m                                     error_score=self.error_score)\n\u001b[1;32m--> 553\u001b[1;33m                 \u001b[1;32mfor\u001b[0m \u001b[0mparameters\u001b[0m \u001b[1;32min\u001b[0m \u001b[0mparameter_iterable\u001b[0m\u001b[1;33m\u001b[0m\u001b[0m\n\u001b[0m\u001b[0;32m    554\u001b[0m                 for train, test in cv)\n\u001b[0;32m    555\u001b[0m \u001b[1;33m\u001b[0m\u001b[0m\n",
      "\u001b[1;32m/home/ubuntu/anaconda2/lib/python2.7/site-packages/sklearn/externals/joblib/parallel.pyc\u001b[0m in \u001b[0;36m__call__\u001b[1;34m(self, iterable)\u001b[0m\n\u001b[0;32m    808\u001b[0m                 \u001b[1;31m# consumption.\u001b[0m\u001b[1;33m\u001b[0m\u001b[1;33m\u001b[0m\u001b[0m\n\u001b[0;32m    809\u001b[0m                 \u001b[0mself\u001b[0m\u001b[1;33m.\u001b[0m\u001b[0m_iterating\u001b[0m \u001b[1;33m=\u001b[0m \u001b[0mFalse\u001b[0m\u001b[1;33m\u001b[0m\u001b[0m\n\u001b[1;32m--> 810\u001b[1;33m             \u001b[0mself\u001b[0m\u001b[1;33m.\u001b[0m\u001b[0mretrieve\u001b[0m\u001b[1;33m(\u001b[0m\u001b[1;33m)\u001b[0m\u001b[1;33m\u001b[0m\u001b[0m\n\u001b[0m\u001b[0;32m    811\u001b[0m             \u001b[1;31m# Make sure that we get a last message telling us we are done\u001b[0m\u001b[1;33m\u001b[0m\u001b[1;33m\u001b[0m\u001b[0m\n\u001b[0;32m    812\u001b[0m             \u001b[0melapsed_time\u001b[0m \u001b[1;33m=\u001b[0m \u001b[0mtime\u001b[0m\u001b[1;33m.\u001b[0m\u001b[0mtime\u001b[0m\u001b[1;33m(\u001b[0m\u001b[1;33m)\u001b[0m \u001b[1;33m-\u001b[0m \u001b[0mself\u001b[0m\u001b[1;33m.\u001b[0m\u001b[0m_start_time\u001b[0m\u001b[1;33m\u001b[0m\u001b[0m\n",
      "\u001b[1;32m/home/ubuntu/anaconda2/lib/python2.7/site-packages/sklearn/externals/joblib/parallel.pyc\u001b[0m in \u001b[0;36mretrieve\u001b[1;34m(self)\u001b[0m\n\u001b[0;32m    755\u001b[0m                     \u001b[1;31m# a working pool as they expect.\u001b[0m\u001b[1;33m\u001b[0m\u001b[1;33m\u001b[0m\u001b[0m\n\u001b[0;32m    756\u001b[0m                     \u001b[0mself\u001b[0m\u001b[1;33m.\u001b[0m\u001b[0m_initialize_pool\u001b[0m\u001b[1;33m(\u001b[0m\u001b[1;33m)\u001b[0m\u001b[1;33m\u001b[0m\u001b[0m\n\u001b[1;32m--> 757\u001b[1;33m                 \u001b[1;32mraise\u001b[0m \u001b[0mexception\u001b[0m\u001b[1;33m\u001b[0m\u001b[0m\n\u001b[0m\u001b[0;32m    758\u001b[0m \u001b[1;33m\u001b[0m\u001b[0m\n\u001b[0;32m    759\u001b[0m     \u001b[1;32mdef\u001b[0m \u001b[0m__call__\u001b[0m\u001b[1;33m(\u001b[0m\u001b[0mself\u001b[0m\u001b[1;33m,\u001b[0m \u001b[0miterable\u001b[0m\u001b[1;33m)\u001b[0m\u001b[1;33m:\u001b[0m\u001b[1;33m\u001b[0m\u001b[0m\n",
      "\u001b[1;31mKeyboardInterrupt\u001b[0m: "
     ]
    }
   ],
   "source": [
    "n_iter_search = 30\n",
    "random_search_uip_RandomForest = RandomizedSearchCV(estimator=model_uip_RandomForest,\n",
    "                                                   param_distributions=param_distributions_uip['RandomForest'],\n",
    "                                                   n_iter=n_iter_search,\n",
    "                                                   n_jobs=36, cv=5, verbose=0, random_state=30, error_score=0)\n",
    "random_search_uip_RandomForest.fit(X_train, y_train['user_is_pro'])"
   ]
  },
  {
   "cell_type": "code",
   "execution_count": 112,
   "metadata": {
    "collapsed": false
   },
   "outputs": [
    {
     "ename": "AttributeError",
     "evalue": "'RandomizedSearchCV' object has no attribute 'best_score_'",
     "output_type": "error",
     "traceback": [
      "\u001b[1;31m---------------------------------------------------------------------------\u001b[0m",
      "\u001b[1;31mAttributeError\u001b[0m                            Traceback (most recent call last)",
      "\u001b[1;32m<ipython-input-112-5c3b065f352e>\u001b[0m in \u001b[0;36m<module>\u001b[1;34m()\u001b[0m\n\u001b[1;32m----> 1\u001b[1;33m \u001b[0mrandom_search_uip_RandomForest\u001b[0m\u001b[1;33m.\u001b[0m\u001b[0mbest_score_\u001b[0m\u001b[1;33m\u001b[0m\u001b[0m\n\u001b[0m",
      "\u001b[1;31mAttributeError\u001b[0m: 'RandomizedSearchCV' object has no attribute 'best_score_'"
     ]
    }
   ],
   "source": [
    "random_search_uip_RandomForest.best_score_"
   ]
  },
  {
   "cell_type": "code",
   "execution_count": null,
   "metadata": {
    "collapsed": true
   },
   "outputs": [],
   "source": [
    "best_uip_RandomForest = random_search_uip_RandomForest.best_estimator_\n",
    "y_pred = best_uip_RandomForest.predict(X_test)\n",
    "print \"Best Random Forest Classifier F1 Score: \", f1_score(y_test['user_is_pro'], y_pred, labels=None, pos_label=None, average='macro', sample_weight=None)"
   ]
  },
  {
   "cell_type": "markdown",
   "metadata": {},
   "source": [
    "### GRID SEARCH - Image nComments Quantile (ICQ)"
   ]
  },
  {
   "cell_type": "code",
   "execution_count": null,
   "metadata": {
    "collapsed": true
   },
   "outputs": [],
   "source": [
    "param_distributions_icq = {'Logistic': {\"C\": sp_expon(loc=0.001, scale=1),\n",
    "                                    \"fit_intercept\": [True, False],\n",
    "                                    \"intercept_scaling\": sp_randint(1, 5),\n",
    "                                    \"warm_start\": [False, True]\n",
    "                                    },\n",
    "                       'RandomForest': {\"max_depth\": None,\n",
    "                                        \"max_features\": ['auto', None],\n",
    "                                        \"min_samples_split\": sp_randint(1, 201),\n",
    "                                        \"min_samples_leaf\": sp_randint(1, 201),\n",
    "                                        \"criterion\": [\"gini\", \"entropy\"],\n",
    "                                        \"oob_score\": True,\n",
    "                                        \"warm_start\": [False, True] \n",
    "                                        },\n",
    "                       'AdaBoost_DT': {\"learning_rate\": sp_expon(loc=0.001, scale=1.5),\n",
    "                                       \"algorithm\" : ['SAMME.R', 'SAMME']\n",
    "                                       },\n",
    "                       'GBC': {\"learning_rate\": sp_expon(loc=0.001, scale=0.5),\n",
    "                               \"subsample\": sp_uniform(loc=0.2, scale=0.8),\n",
    "                               \"max_features\": [None, 'auto'],\n",
    "                               \"warm_start\": [True, False],\n",
    "                               \"max_depth\": [3, 4, 5],\n",
    "                               },\n",
    "                       'SVC': {\"C\": sp_expon(loc=0.001, scale=2),\n",
    "                               \"kernel\": ['rbf', 'poly'],\n",
    "                               \"degree\": sp_randint(2, 10),\n",
    "                               \"coef0\": [0, 1, 2],\n",
    "                               \"shrinking\": [True, False]\n",
    "                               }\n",
    "                       }"
   ]
  },
  {
   "cell_type": "markdown",
   "metadata": {},
   "source": [
    "#### Build Models (ICQ)"
   ]
  },
  {
   "cell_type": "code",
   "execution_count": null,
   "metadata": {
    "collapsed": true
   },
   "outputs": [],
   "source": [
    "DT = DecisionTreeClassifier(criterion='gini', splitter='best', max_depth=4, min_samples_split=10, min_samples_leaf=10,\n",
    "      min_weight_fraction_leaf=0.0, max_features=300, random_state=30, max_leaf_nodes=20, class_weight=None,\n",
    "      presort=False)\n",
    "\n",
    "model_icq_LogitClassifier = LogisticRegression(penalty='l2', dual=False, tol=0.0001,\n",
    "                                               class_weight=None, random_state=25,\n",
    "                                               solver='liblinear', max_iter=1000, multi_class='ovr', verbose=2,\n",
    "                                               n_jobs=36)\n",
    "\n",
    "model_icq_RandomForest = RandomForestClassifier(n_estimators=1000, min_weight_fraction_leaf=0.0, n_jobs=36,\n",
    "                                                random_state=42, verbose=2, class_weight=None, bootstrap=True)\n",
    "\n",
    "model_icq_AdaBoost_DT = AdaBoostClassifier(base_estimator=DT, n_estimators=300, random_state=12)\n",
    "\n",
    "model_icq_GBC = GradientBoostingClassifier(loss='deviance', n_estimators=100,\n",
    "                                           min_samples_split=10, min_samples_leaf=10, min_weight_fraction_leaf=0.0,\n",
    "                                           random_state=21, verbose=0,\n",
    "                                           max_leaf_nodes=12, presort='auto')\n",
    "\n",
    "model_icq_SVC = SVC(gamma='auto', probability=True,\n",
    "                    tol=0.001, cache_size=1000, class_weight=None, verbose=True, max_iter=-1,\n",
    "                    decision_function_shape='ovr', random_state=1)\n"
   ]
  },
  {
   "cell_type": "markdown",
   "metadata": {},
   "source": [
    "#### Examine Image "
   ]
  },
  {
   "cell_type": "code",
   "execution_count": null,
   "metadata": {
    "collapsed": true
   },
   "outputs": [],
   "source": []
  },
  {
   "cell_type": "code",
   "execution_count": null,
   "metadata": {
    "collapsed": true
   },
   "outputs": [],
   "source": []
  },
  {
   "cell_type": "code",
   "execution_count": null,
   "metadata": {
    "collapsed": true
   },
   "outputs": [],
   "source": []
  }
 ],
 "metadata": {
  "kernelspec": {
   "display_name": "Python [Root]",
   "language": "python",
   "name": "Python [Root]"
  },
  "language_info": {
   "codemirror_mode": {
    "name": "ipython",
    "version": 2
   },
   "file_extension": ".py",
   "mimetype": "text/x-python",
   "name": "python",
   "nbconvert_exporter": "python",
   "pygments_lexer": "ipython2",
   "version": "2.7.12"
  }
 },
 "nbformat": 4,
 "nbformat_minor": 0
}
