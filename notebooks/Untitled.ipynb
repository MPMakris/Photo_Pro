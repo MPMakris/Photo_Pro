{
 "cells": [
  {
   "cell_type": "code",
   "execution_count": 1,
   "metadata": {
    "collapsed": true
   },
   "outputs": [],
   "source": [
    "import os"
   ]
  },
  {
   "cell_type": "code",
   "execution_count": 2,
   "metadata": {
    "collapsed": false
   },
   "outputs": [
    {
     "data": {
      "text/plain": [
       "u'/home/ubuntu/efs/GIT/Photo_Pro/notebooks'"
      ]
     },
     "execution_count": 2,
     "metadata": {},
     "output_type": "execute_result"
    }
   ],
   "source": [
    "pwd"
   ]
  },
  {
   "cell_type": "code",
   "execution_count": 3,
   "metadata": {
    "collapsed": false
   },
   "outputs": [
    {
     "name": "stdout",
     "output_type": "stream",
     "text": [
      "ALL-Categories Modeling.ipynb                 \u001b[0m\u001b[01;34mmodel_classifier_ispro\u001b[0m/\r\n",
      "\u001b[01;36mcommon\u001b[0m@                                       MODELING.ipynb\r\n",
      "\u001b[01;34mGL_BUILDINGS_MODELING_DATA\u001b[0m/                   \u001b[01;34mmodel_logitclassifier_ispro\u001b[0m/\r\n",
      "graph_lab_test.ipynb                          \u001b[01;34mmodel_svmclassifier_ispro\u001b[0m/\r\n",
      "Grid_Search_Models-Explore Dumb Models.ipynb  \u001b[01;34mneural_network_model\u001b[0m/\r\n",
      "Grid_Search_Models.ipynb                      \u001b[01;34mold_notebooks\u001b[0m/\r\n",
      "\u001b[01;35mimage_views_hist.png\u001b[0m                          unpickle testing.ipynb\r\n",
      "\u001b[01;34mLANDSCAPE_images_feature_and_target\u001b[0m/          Untitled.ipynb\r\n",
      "\u001b[01;34mLANDSCAPE_images_ready_to_model.save\u001b[0m/         Web_App Visuals.ipynb\r\n"
     ]
    }
   ],
   "source": [
    "ls"
   ]
  },
  {
   "cell_type": "code",
   "execution_count": 4,
   "metadata": {
    "collapsed": false
   },
   "outputs": [
    {
     "data": {
      "text/plain": [
       "['BUILDING', 'PORTRAIT', 'ANIMALS', 'SPORTS', 'LANDSCAPE']"
      ]
     },
     "execution_count": 4,
     "metadata": {},
     "output_type": "execute_result"
    }
   ],
   "source": [
    "os.listdir('../data/images')"
   ]
  },
  {
   "cell_type": "code",
   "execution_count": 11,
   "metadata": {
    "collapsed": false
   },
   "outputs": [
    {
     "data": {
      "text/plain": [
       "['100511038@N04_13004242823.jpg',\n",
       " '38134034@N04_26038055216.jpg',\n",
       " '50879678@N03_20927517356.jpg',\n",
       " '142413747@N06_26910294345.jpg',\n",
       " '49977858@N04_27193896424.jpg',\n",
       " '89932500@N00_20944833951.jpg',\n",
       " '31400835@N03_26846674770.jpg',\n",
       " '15992105@N08_15206820031.jpg',\n",
       " '13342549@N08_7539228342.jpg',\n",
       " '28527690@N07_26970099516.jpg',\n",
       " '26837230@N07_7858001944.jpg',\n",
       " '42661584@N04_8416844171.jpg',\n",
       " '66705137@N02_24900361132.jpg',\n",
       " '127415937@N03_19773806872.jpg',\n",
       " '69573851@N06_6977168033.jpg',\n",
       " '12520731@N06_10622884073.jpg',\n",
       " '69573851@N06_7482203440.jpg',\n",
       " '22717028@N05_14661137597.jpg',\n",
       " '50951911@N08_18806603922.jpg',\n",
       " '26837230@N07_18530931268.jpg']"
      ]
     },
     "execution_count": 11,
     "metadata": {},
     "output_type": "execute_result"
    }
   ],
   "source": [
    "os.listdir('../data/images/LANDSCAPE/')[:20]"
   ]
  },
  {
   "cell_type": "code",
   "execution_count": null,
   "metadata": {
    "collapsed": true
   },
   "outputs": [],
   "source": []
  }
 ],
 "metadata": {
  "kernelspec": {
   "display_name": "Python [Root]",
   "language": "python",
   "name": "Python [Root]"
  },
  "language_info": {
   "codemirror_mode": {
    "name": "ipython",
    "version": 2
   },
   "file_extension": ".py",
   "mimetype": "text/x-python",
   "name": "python",
   "nbconvert_exporter": "python",
   "pygments_lexer": "ipython2",
   "version": "2.7.12"
  }
 },
 "nbformat": 4,
 "nbformat_minor": 0
}
