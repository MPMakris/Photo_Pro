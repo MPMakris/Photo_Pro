{
 "cells": [
  {
   "cell_type": "code",
   "execution_count": 4,
   "metadata": {
    "collapsed": true
   },
   "outputs": [],
   "source": [
    "import pandas as pd"
   ]
  },
  {
   "cell_type": "code",
   "execution_count": 15,
   "metadata": {
    "collapsed": false
   },
   "outputs": [],
   "source": [
    "df = pd.read_csv('../data/modeling/LANDSCAPE/feature_data_LANDSCAPE_10.csv', sep='|')"
   ]
  },
  {
   "cell_type": "code",
   "execution_count": 16,
   "metadata": {
    "collapsed": false
   },
   "outputs": [
    {
     "data": {
      "text/html": [
       "<div>\n",
       "<table border=\"1\" class=\"dataframe\">\n",
       "  <thead>\n",
       "    <tr style=\"text-align: right;\">\n",
       "      <th></th>\n",
       "      <th>owner</th>\n",
       "      <th>id</th>\n",
       "      <th>red_bin1_nbins255</th>\n",
       "      <th>red_bin2_nbins255</th>\n",
       "      <th>red_bin3_nbins255</th>\n",
       "      <th>red_bin4_nbins255</th>\n",
       "      <th>red_bin5_nbins255</th>\n",
       "      <th>red_bin6_nbins255</th>\n",
       "      <th>red_bin7_nbins255</th>\n",
       "      <th>red_bin8_nbins255</th>\n",
       "      <th>...</th>\n",
       "      <th>bright_ctr2_numctrs3</th>\n",
       "      <th>bright_ctr3_numctrs3</th>\n",
       "      <th>bright_ctr1_numctrs8</th>\n",
       "      <th>bright_ctr2_numctrs8</th>\n",
       "      <th>bright_ctr3_numctrs8</th>\n",
       "      <th>bright_ctr4_numctrs8</th>\n",
       "      <th>bright_ctr5_numctrs8</th>\n",
       "      <th>bright_ctr6_numctrs8</th>\n",
       "      <th>bright_ctr7_numctrs8</th>\n",
       "      <th>bright_ctr8_numctrs8</th>\n",
       "    </tr>\n",
       "  </thead>\n",
       "  <tbody>\n",
       "    <tr>\n",
       "      <th>0</th>\n",
       "      <td>100088253@N05</td>\n",
       "      <td>19641239539</td>\n",
       "      <td>0.000018</td>\n",
       "      <td>0.000018</td>\n",
       "      <td>0.000036</td>\n",
       "      <td>0.000049</td>\n",
       "      <td>0.000057</td>\n",
       "      <td>0.000060</td>\n",
       "      <td>0.000072</td>\n",
       "      <td>0.000072</td>\n",
       "      <td>...</td>\n",
       "      <td>0.616540</td>\n",
       "      <td>0.479433</td>\n",
       "      <td>0.179093</td>\n",
       "      <td>0.228967</td>\n",
       "      <td>0.641009</td>\n",
       "      <td>0.578369</td>\n",
       "      <td>0.513746</td>\n",
       "      <td>0.441121</td>\n",
       "      <td>0.296489</td>\n",
       "      <td>0.115941</td>\n",
       "    </tr>\n",
       "    <tr>\n",
       "      <th>1</th>\n",
       "      <td>100088253@N05</td>\n",
       "      <td>20290148365</td>\n",
       "      <td>0.003228</td>\n",
       "      <td>0.001534</td>\n",
       "      <td>0.001659</td>\n",
       "      <td>0.001645</td>\n",
       "      <td>0.001516</td>\n",
       "      <td>0.001501</td>\n",
       "      <td>0.001510</td>\n",
       "      <td>0.001673</td>\n",
       "      <td>...</td>\n",
       "      <td>0.497363</td>\n",
       "      <td>0.795037</td>\n",
       "      <td>0.826112</td>\n",
       "      <td>0.297902</td>\n",
       "      <td>0.208479</td>\n",
       "      <td>0.487429</td>\n",
       "      <td>0.571248</td>\n",
       "      <td>0.392331</td>\n",
       "      <td>0.712488</td>\n",
       "      <td>0.104265</td>\n",
       "    </tr>\n",
       "    <tr>\n",
       "      <th>2</th>\n",
       "      <td>100088253@N05</td>\n",
       "      <td>22585455441</td>\n",
       "      <td>0.000000</td>\n",
       "      <td>0.000000</td>\n",
       "      <td>0.000000</td>\n",
       "      <td>0.000000</td>\n",
       "      <td>0.000000</td>\n",
       "      <td>0.000000</td>\n",
       "      <td>0.000000</td>\n",
       "      <td>0.000000</td>\n",
       "      <td>...</td>\n",
       "      <td>0.776236</td>\n",
       "      <td>0.588948</td>\n",
       "      <td>0.805138</td>\n",
       "      <td>0.382146</td>\n",
       "      <td>0.722192</td>\n",
       "      <td>0.327170</td>\n",
       "      <td>0.635722</td>\n",
       "      <td>0.439190</td>\n",
       "      <td>0.250806</td>\n",
       "      <td>0.507353</td>\n",
       "    </tr>\n",
       "    <tr>\n",
       "      <th>3</th>\n",
       "      <td>100169753@N05</td>\n",
       "      <td>19764581746</td>\n",
       "      <td>0.118869</td>\n",
       "      <td>0.044956</td>\n",
       "      <td>0.052860</td>\n",
       "      <td>0.042760</td>\n",
       "      <td>0.036547</td>\n",
       "      <td>0.030967</td>\n",
       "      <td>0.026726</td>\n",
       "      <td>0.023285</td>\n",
       "      <td>...</td>\n",
       "      <td>0.349819</td>\n",
       "      <td>0.692488</td>\n",
       "      <td>0.054397</td>\n",
       "      <td>0.126935</td>\n",
       "      <td>0.219735</td>\n",
       "      <td>0.328306</td>\n",
       "      <td>0.448262</td>\n",
       "      <td>0.574016</td>\n",
       "      <td>0.702688</td>\n",
       "      <td>0.848985</td>\n",
       "    </tr>\n",
       "    <tr>\n",
       "      <th>4</th>\n",
       "      <td>100477852@N05</td>\n",
       "      <td>19324811083</td>\n",
       "      <td>0.010725</td>\n",
       "      <td>0.002289</td>\n",
       "      <td>0.002263</td>\n",
       "      <td>0.002314</td>\n",
       "      <td>0.002301</td>\n",
       "      <td>0.002433</td>\n",
       "      <td>0.002484</td>\n",
       "      <td>0.002475</td>\n",
       "      <td>...</td>\n",
       "      <td>0.472174</td>\n",
       "      <td>0.774298</td>\n",
       "      <td>0.321795</td>\n",
       "      <td>0.407678</td>\n",
       "      <td>0.236185</td>\n",
       "      <td>0.500885</td>\n",
       "      <td>0.609090</td>\n",
       "      <td>0.113889</td>\n",
       "      <td>0.731845</td>\n",
       "      <td>0.888157</td>\n",
       "    </tr>\n",
       "  </tbody>\n",
       "</table>\n",
       "<p>5 rows × 2051 columns</p>\n",
       "</div>"
      ],
      "text/plain": [
       "           owner           id  red_bin1_nbins255  red_bin2_nbins255  \\\n",
       "0  100088253@N05  19641239539           0.000018           0.000018   \n",
       "1  100088253@N05  20290148365           0.003228           0.001534   \n",
       "2  100088253@N05  22585455441           0.000000           0.000000   \n",
       "3  100169753@N05  19764581746           0.118869           0.044956   \n",
       "4  100477852@N05  19324811083           0.010725           0.002289   \n",
       "\n",
       "   red_bin3_nbins255  red_bin4_nbins255  red_bin5_nbins255  red_bin6_nbins255  \\\n",
       "0           0.000036           0.000049           0.000057           0.000060   \n",
       "1           0.001659           0.001645           0.001516           0.001501   \n",
       "2           0.000000           0.000000           0.000000           0.000000   \n",
       "3           0.052860           0.042760           0.036547           0.030967   \n",
       "4           0.002263           0.002314           0.002301           0.002433   \n",
       "\n",
       "   red_bin7_nbins255  red_bin8_nbins255          ...           \\\n",
       "0           0.000072           0.000072          ...            \n",
       "1           0.001510           0.001673          ...            \n",
       "2           0.000000           0.000000          ...            \n",
       "3           0.026726           0.023285          ...            \n",
       "4           0.002484           0.002475          ...            \n",
       "\n",
       "   bright_ctr2_numctrs3  bright_ctr3_numctrs3  bright_ctr1_numctrs8  \\\n",
       "0              0.616540              0.479433              0.179093   \n",
       "1              0.497363              0.795037              0.826112   \n",
       "2              0.776236              0.588948              0.805138   \n",
       "3              0.349819              0.692488              0.054397   \n",
       "4              0.472174              0.774298              0.321795   \n",
       "\n",
       "   bright_ctr2_numctrs8  bright_ctr3_numctrs8  bright_ctr4_numctrs8  \\\n",
       "0              0.228967              0.641009              0.578369   \n",
       "1              0.297902              0.208479              0.487429   \n",
       "2              0.382146              0.722192              0.327170   \n",
       "3              0.126935              0.219735              0.328306   \n",
       "4              0.407678              0.236185              0.500885   \n",
       "\n",
       "   bright_ctr5_numctrs8  bright_ctr6_numctrs8  bright_ctr7_numctrs8  \\\n",
       "0              0.513746              0.441121              0.296489   \n",
       "1              0.571248              0.392331              0.712488   \n",
       "2              0.635722              0.439190              0.250806   \n",
       "3              0.448262              0.574016              0.702688   \n",
       "4              0.609090              0.113889              0.731845   \n",
       "\n",
       "   bright_ctr8_numctrs8  \n",
       "0              0.115941  \n",
       "1              0.104265  \n",
       "2              0.507353  \n",
       "3              0.848985  \n",
       "4              0.888157  \n",
       "\n",
       "[5 rows x 2051 columns]"
      ]
     },
     "execution_count": 16,
     "metadata": {},
     "output_type": "execute_result"
    }
   ],
   "source": [
    "df.head()"
   ]
  },
  {
   "cell_type": "code",
   "execution_count": 17,
   "metadata": {
    "collapsed": false
   },
   "outputs": [
    {
     "data": {
      "text/plain": [
       "0    0.0\n",
       "1    0.0\n",
       "2    0.0\n",
       "3    0.0\n",
       "4    0.0\n",
       "5    0.0\n",
       "6    0.0\n",
       "7    0.0\n",
       "8    0.0\n",
       "9    0.0\n",
       "Name: grey_bin4_nbins255, dtype: float64"
      ]
     },
     "execution_count": 17,
     "metadata": {},
     "output_type": "execute_result"
    }
   ],
   "source": [
    "df['grey_bin4_nbins255']"
   ]
  },
  {
   "cell_type": "code",
   "execution_count": 18,
   "metadata": {
    "collapsed": false
   },
   "outputs": [],
   "source": [
    "des = df.describe()"
   ]
  },
  {
   "cell_type": "code",
   "execution_count": 21,
   "metadata": {
    "collapsed": false
   },
   "outputs": [
    {
     "data": {
      "text/plain": [
       "blue_min_nbins255      0.0\n",
       "grey_bin2_nbins255     0.0\n",
       "grey_bin3_nbins255     0.0\n",
       "grey_bin4_nbins255     0.0\n",
       "grey_bin5_nbins255     0.0\n",
       "grey_bin6_nbins255     0.0\n",
       "grey_bin7_nbins255     0.0\n",
       "grey_bin8_nbins255     0.0\n",
       "grey_bin9_nbins255     0.0\n",
       "grey_bin10_nbins255    0.0\n",
       "grey_bin11_nbins255    0.0\n",
       "grey_bin12_nbins255    0.0\n",
       "grey_bin13_nbins255    0.0\n",
       "grey_bin14_nbins255    0.0\n",
       "grey_bin15_nbins255    0.0\n",
       "grey_bin16_nbins255    0.0\n",
       "grey_bin17_nbins255    0.0\n",
       "grey_bin18_nbins255    0.0\n",
       "grey_bin19_nbins255    0.0\n",
       "grey_bin20_nbins255    0.0\n",
       "grey_bin21_nbins255    0.0\n",
       "grey_bin22_nbins255    0.0\n",
       "grey_bin23_nbins255    0.0\n",
       "grey_bin24_nbins255    0.0\n",
       "grey_bin25_nbins255    0.0\n",
       "grey_bin26_nbins255    0.0\n",
       "grey_bin27_nbins255    0.0\n",
       "grey_bin28_nbins255    0.0\n",
       "grey_bin29_nbins255    0.0\n",
       "grey_bin30_nbins255    0.0\n",
       "                      ... \n",
       "grey_bin52_nbins60     0.0\n",
       "grey_bin53_nbins60     0.0\n",
       "grey_bin54_nbins60     0.0\n",
       "grey_bin55_nbins60     0.0\n",
       "grey_bin56_nbins60     0.0\n",
       "grey_bin57_nbins60     0.0\n",
       "grey_bin58_nbins60     0.0\n",
       "grey_bin59_nbins60     0.0\n",
       "grey_bin60_nbins60     0.0\n",
       "grey_min_nbins60       0.0\n",
       "grey_median_nbins60    0.0\n",
       "u_bin1_nbins50         0.0\n",
       "u_bin2_nbins50         0.0\n",
       "u_bin3_nbins50         0.0\n",
       "u_bin4_nbins50         0.0\n",
       "u_bin5_nbins50         0.0\n",
       "blue_min_nbins10       0.0\n",
       "grey_bin2_nbins10      0.0\n",
       "grey_bin3_nbins10      0.0\n",
       "grey_bin4_nbins10      0.0\n",
       "grey_bin5_nbins10      0.0\n",
       "grey_bin6_nbins10      0.0\n",
       "grey_bin7_nbins10      0.0\n",
       "grey_bin8_nbins10      0.0\n",
       "grey_bin9_nbins10      0.0\n",
       "grey_bin10_nbins10     0.0\n",
       "grey_min_nbins10       0.0\n",
       "grey_median_nbins10    0.0\n",
       "u_bin1_nbins12         0.0\n",
       "crisp_canny            0.0\n",
       "Name: mean, dtype: float64"
      ]
     },
     "execution_count": 21,
     "metadata": {},
     "output_type": "execute_result"
    }
   ],
   "source": [
    "des.loc['mean'][des.loc['mean']==0]"
   ]
  },
  {
   "cell_type": "code",
   "execution_count": 48,
   "metadata": {
    "collapsed": false
   },
   "outputs": [
    {
     "data": {
      "text/plain": [
       "337"
      ]
     },
     "execution_count": 48,
     "metadata": {},
     "output_type": "execute_result"
    }
   ],
   "source": [
    "sum(df.columns.str.contains(\"grey\")==True)"
   ]
  },
  {
   "cell_type": "code",
   "execution_count": 50,
   "metadata": {
    "collapsed": false
   },
   "outputs": [
    {
     "data": {
      "text/plain": [
       "(10, 337)"
      ]
     },
     "execution_count": 50,
     "metadata": {},
     "output_type": "execute_result"
    }
   ],
   "source": [
    "df.loc[:, list(df.columns.str.contains(\"grey\")==True)].shape"
   ]
  },
  {
   "cell_type": "code",
   "execution_count": 39,
   "metadata": {
    "collapsed": false
   },
   "outputs": [
    {
     "data": {
      "text/plain": [
       "337"
      ]
     },
     "execution_count": 39,
     "metadata": {},
     "output_type": "execute_result"
    }
   ],
   "source": [
    "sum(df.columns.str.contains('grey'))"
   ]
  },
  {
   "cell_type": "code",
   "execution_count": null,
   "metadata": {
    "collapsed": true
   },
   "outputs": [],
   "source": []
  }
 ],
 "metadata": {
  "kernelspec": {
   "display_name": "Python 2",
   "language": "python",
   "name": "python2"
  },
  "language_info": {
   "codemirror_mode": {
    "name": "ipython",
    "version": 2
   },
   "file_extension": ".py",
   "mimetype": "text/x-python",
   "name": "python",
   "nbconvert_exporter": "python",
   "pygments_lexer": "ipython2",
   "version": "2.7.12"
  }
 },
 "nbformat": 4,
 "nbformat_minor": 0
}
