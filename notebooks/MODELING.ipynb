{
 "cells": [
  {
   "cell_type": "code",
   "execution_count": null,
   "metadata": {
    "collapsed": false
   },
   "outputs": [],
   "source": [
    "import pandas as pd\n",
    "import numpy as np\n",
    "from sklearn.ensemble import RandomForestClassifier, RandomForestRegressor, AdaBoostClassifier, GradientBoostingClassifier\n",
    "from sklearn.linear_model import LogisticRegression, LinearRegression, LogisticRegressionCV, Lasso, Ridge, RidgeClassifier, SGDClassifier\n",
    "from sklearn.cross_validation import train_test_split\n",
    "from sklearn.metrics import accuracy_score, precision_score, recall_score, precision_recall_curve, precision_recall_fscore_support, f1_score, r2_score \n",
    "from sklearn.preprocessing import StandardScaler\n",
    "import matplotlib.pyplot as plt\n",
    "%matplotlib inline\n",
    "from sklearn.svm import SVC\n",
    "from sklearn.tree import DecisionTreeClassifier\n",
    "import cPickle as pickle"
   ]
  },
  {
   "cell_type": "markdown",
   "metadata": {},
   "source": [
    "### MODEL SPORTS DATA"
   ]
  },
  {
   "cell_type": "code",
   "execution_count": null,
   "metadata": {
    "collapsed": false
   },
   "outputs": [],
   "source": [
    "df_features = pd.read_csv('../data/modeling/SPORTS/feature_data_SPORTS_21205.csv', sep='|')\n",
    "df_targets = pd.read_csv('../data/modeling/SPORTS/target_data_SPORTS_21205.csv', sep='|')\n",
    "\n",
    "df_features = df_features.set_index('owner').set_index(\"id\", append=True)\n",
    "\n",
    "df_targets = df_targets.set_index('owner').set_index(\"id\", append=True)\n",
    "\n",
    "target_columns = list(df_targets.columns)\n",
    "target_columns.remove('image_ntags')\n",
    "target_columns\n",
    "\n",
    "df = df_features.join(df_targets, how='inner')\n",
    "\n",
    "df.dropna(axis=0, inplace=True)"
   ]
  },
  {
   "cell_type": "code",
   "execution_count": null,
   "metadata": {
    "collapsed": false
   },
   "outputs": [],
   "source": [
    "df.head(1)"
   ]
  },
  {
   "cell_type": "markdown",
   "metadata": {},
   "source": [
    "### EDA"
   ]
  },
  {
   "cell_type": "code",
   "execution_count": null,
   "metadata": {
    "collapsed": false
   },
   "outputs": [],
   "source": [
    "plt.hist(df['image_views'], bins=50)\n",
    "plt.show()"
   ]
  },
  {
   "cell_type": "code",
   "execution_count": null,
   "metadata": {
    "collapsed": false
   },
   "outputs": [],
   "source": [
    "plt.hist(df['image_views'][df['image_views']<=1000], bins=50)\n",
    "plt.show()"
   ]
  },
  {
   "cell_type": "markdown",
   "metadata": {},
   "source": [
    "### Create New Quartile Targets"
   ]
  },
  {
   "cell_type": "code",
   "execution_count": null,
   "metadata": {
    "collapsed": false
   },
   "outputs": [],
   "source": [
    "def name_quantile(x, limits):\n",
    "    quantile_cats = range(1, len(limits)+1, 1)\n",
    "    for cat, limit in zip(quantile_cats, limits):\n",
    "        if x <= limit:\n",
    "            return cat\n",
    "\n",
    "def create_quantile_target_col(df, target_columns, col_name, n_quantiles=5):\n",
    "    \"\"\"\n",
    "    Create a new column in the DataFrame that indicates which quantile the target column value falls into.\n",
    "    \n",
    "    PARAMETERS\n",
    "    ----------\n",
    "    df : DataFrame\n",
    "    \n",
    "    n_quantiles : int\n",
    "        The number of bins. For 4 bins (0 to 0.25, 0.25 to 0.5, etc...), n_quantiles=4.\n",
    "        \n",
    "    col_name : str\n",
    "    \n",
    "    target_columns : list\n",
    "    \n",
    "    RETURNS\n",
    "    -------\n",
    "    df : DataFrame\n",
    "    \n",
    "    target_columns : list        \n",
    "    \"\"\"\n",
    "    min_value = df[col_name].min()\n",
    "    max_value = df[col_name].max()\n",
    "    limits = []\n",
    "    for i in range(1, n_quantiles+1):\n",
    "        limits.append(df[col_name].quantile(i/float(n_quantiles)))\n",
    "    \n",
    "    new_col_name = col_name+\"_quantile\"\n",
    "    target_columns.append(new_col_name)\n",
    "    \n",
    "    df[new_col_name] = df[col_name].apply(lambda x: name_quantile(x, limits))\n",
    "    print limits\n",
    "    return df, target_columns"
   ]
  },
  {
   "cell_type": "code",
   "execution_count": null,
   "metadata": {
    "collapsed": false
   },
   "outputs": [],
   "source": [
    "df, target_columns = create_quantile_target_col(df, target_columns, 'image_views', 4)"
   ]
  },
  {
   "cell_type": "code",
   "execution_count": null,
   "metadata": {
    "collapsed": false
   },
   "outputs": [],
   "source": [
    "df_train, df_test = train_test_split(df, train_size=0.8, random_state=42)"
   ]
  },
  {
   "cell_type": "code",
   "execution_count": null,
   "metadata": {
    "collapsed": false
   },
   "outputs": [],
   "source": [
    "def pop_columns(df, col_names):\n",
    "    for i, name in enumerate(list(col_names)):\n",
    "        if i == 0:\n",
    "            df_dropped_cols = df.pop(name)\n",
    "        else:\n",
    "            df_dropped_cols = pd.concat((df_dropped_cols, df.pop(name)), axis=1)\n",
    "    return df, df_dropped_cols"
   ]
  },
  {
   "cell_type": "code",
   "execution_count": null,
   "metadata": {
    "collapsed": false
   },
   "outputs": [],
   "source": [
    "X_train, y_train = pop_columns(df_train, target_columns)\n",
    "X_test, y_test = pop_columns(df_test, target_columns)"
   ]
  },
  {
   "cell_type": "code",
   "execution_count": null,
   "metadata": {
    "collapsed": false
   },
   "outputs": [],
   "source": [
    "y_test.head(1)"
   ]
  },
  {
   "cell_type": "code",
   "execution_count": null,
   "metadata": {
    "collapsed": false
   },
   "outputs": [],
   "source": [
    "X_columns = X_train.columns\n",
    "y_columns = y_train.columns"
   ]
  },
  {
   "cell_type": "code",
   "execution_count": null,
   "metadata": {
    "collapsed": true
   },
   "outputs": [],
   "source": [
    "scaler_mean_std = StandardScaler()\n",
    "X_train = scaler_mean_std.fit_transform(X_train)\n",
    "X_test = scaler_mean_std.transform(X_test)"
   ]
  },
  {
   "cell_type": "code",
   "execution_count": null,
   "metadata": {
    "collapsed": false
   },
   "outputs": [],
   "source": [
    "X_train = pd.DataFrame(data=X_train, columns=X_columns)\n",
    "X_test = pd.DataFrame(data=X_test, columns=X_columns)"
   ]
  },
  {
   "cell_type": "markdown",
   "metadata": {},
   "source": [
    "### Predicting Image View Quantile (IVQ)"
   ]
  },
  {
   "cell_type": "markdown",
   "metadata": {},
   "source": [
    "#### LOGISTIC MODEL"
   ]
  },
  {
   "cell_type": "code",
   "execution_count": null,
   "metadata": {
    "collapsed": true
   },
   "outputs": [],
   "source": [
    "model_ivq_logitclassifier = LogisticRegression(multi_class='multinomial', solver='lbfgs', random_state=1,\n",
    "                                               class_weight='balanced', max_iter=10000, verbose=1, warm_start=True,\n",
    "                                               n_jobs=30, penalty='l2', C=1.0)"
   ]
  },
  {
   "cell_type": "code",
   "execution_count": null,
   "metadata": {
    "collapsed": false
   },
   "outputs": [],
   "source": [
    "model_ivq_logitclassifier.fit(X_train, y_train['image_views_quantile'])"
   ]
  },
  {
   "cell_type": "code",
   "execution_count": null,
   "metadata": {
    "collapsed": false
   },
   "outputs": [],
   "source": [
    "y_pred = model_ivq_logitclassifier.predict(X_test)\n",
    "y_probs = model_ivq_logitclassifier.predict_proba(X_test)"
   ]
  },
  {
   "cell_type": "code",
   "execution_count": null,
   "metadata": {
    "collapsed": false
   },
   "outputs": [],
   "source": [
    "f1_score(y_test['image_views_quantile'], y_pred, labels=None, pos_label=None, average='micro', sample_weight=None)"
   ]
  },
  {
   "cell_type": "code",
   "execution_count": null,
   "metadata": {
    "collapsed": false
   },
   "outputs": [],
   "source": [
    "f1_scores_int = []\n",
    "f1_scores_no_int = []\n",
    "f1_scores_cold_int = []\n",
    "f1_scores_cold_no_int = []\n",
    "C_values = [0.01, 0.02, 0.05, 0.1, 0.3, 0.6, 1.0, 2.0, 5.0, 10]\n",
    "for i in C_values:\n",
    "    model_ivq_logitclassifier = LogisticRegression(multi_class='multinomial', solver='lbfgs', random_state=1,\n",
    "                                               class_weight='balanced', max_iter=10000, verbose=1, warm_start=True,\n",
    "                                               n_jobs=30, penalty='l2', C=i)\n",
    "    model_ivq_logitclassifier.fit(X_train, y_train['image_views_quantile'])\n",
    "    y_pred = model_ivq_logitclassifier.predict(X_test)\n",
    "    # y_probs = model_ivq_logitclassifier.predict_proba(X_test)\n",
    "    f1_scores_int.append(f1_score(y_test['image_views_quantile'], y_pred, labels=None, pos_label=None, average='micro', sample_weight=None))\n",
    "for i in C_values:\n",
    "    model_ivq_logitclassifier = LogisticRegression(multi_class='multinomial', solver='lbfgs', random_state=1,\n",
    "                                               class_weight='balanced', max_iter=10000, verbose=1, warm_start=True,\n",
    "                                               n_jobs=30, penalty='l2', C=i, fit_intercept=False)\n",
    "    model_ivq_logitclassifier.fit(X_train, y_train['image_views_quantile'])\n",
    "    y_pred = model_ivq_logitclassifier.predict(X_test)\n",
    "    # y_probs = model_ivq_logitclassifier.predict_proba(X_test)\n",
    "    f1_scores_no_int.append(f1_score(y_test['image_views_quantile'], y_pred, labels=None, pos_label=None, average='micro', sample_weight=None))\n",
    "for i in C_values:\n",
    "    model_ivq_logitclassifier = LogisticRegression(multi_class='multinomial', solver='lbfgs', random_state=1,\n",
    "                                               class_weight='balanced', max_iter=10000, verbose=1, warm_start=False,\n",
    "                                               n_jobs=30, penalty='l2', C=i)\n",
    "    model_ivq_logitclassifier.fit(X_train, y_train['image_views_quantile'])\n",
    "    y_pred = model_ivq_logitclassifier.predict(X_test)\n",
    "    # y_probs = model_ivq_logitclassifier.predict_proba(X_test)\n",
    "    f1_scores_cold_int.append(f1_score(y_test['image_views_quantile'], y_pred, labels=None, pos_label=None, average='micro', sample_weight=None))\n",
    "for i in C_values:\n",
    "    model_ivq_logitclassifier = LogisticRegression(multi_class='multinomial', solver='lbfgs', random_state=1,\n",
    "                                               class_weight='balanced', max_iter=10000, verbose=1, warm_start=False,\n",
    "                                               n_jobs=30, penalty='l2', C=i,  fit_intercept=False)\n",
    "    model_ivq_logitclassifier.fit(X_train, y_train['image_views_quantile'])\n",
    "    y_pred = model_ivq_logitclassifier.predict(X_test)\n",
    "    # y_probs = model_ivq_logitclassifier.predict_proba(X_test)\n",
    "    f1_scores_cold_no_int.append(f1_score(y_test['image_views_quantile'], y_pred, labels=None, pos_label=None, average='micro', sample_weight=None))"
   ]
  },
  {
   "cell_type": "code",
   "execution_count": null,
   "metadata": {
    "collapsed": false
   },
   "outputs": [],
   "source": [
    "plt.plot(C_values, f1_scores_int, 'r')\n",
    "plt.plot(C_values, f1_scores_no_int, 'm')\n",
    "plt.plot(C_values, f1_scores_cold_int, 'b')\n",
    "plt.plot(C_values, f1_scores_cold_no_int, 'g')"
   ]
  },
  {
   "cell_type": "markdown",
   "metadata": {},
   "source": [
    "#### Random Forest Classifier"
   ]
  },
  {
   "cell_type": "code",
   "execution_count": null,
   "metadata": {
    "collapsed": false
   },
   "outputs": [],
   "source": [
    "f1_scores_gini = None\n",
    "model_ivq_randomforest = RandomForestClassifier(n_estimators=1000, criterion='gini', max_depth=None,\n",
    "                                                min_samples_split=2, min_samples_leaf=1, min_weight_fraction_leaf=0.0,\n",
    "                                                max_features='auto', max_leaf_nodes=None, bootstrap=True,\n",
    "                                                oob_score=False, n_jobs=30, random_state=5, verbose=1,\n",
    "                                                warm_start=False, class_weight=None)\n",
    "model_ivq_randomforest.fit(X_train, y_train['image_views_quantile'])\n",
    "y_pred = model_ivq_randomforest.predict(X_test)\n",
    "f1_scores_gini = f1_score(y_test['image_views_quantile'], y_pred, labels=None, pos_label=None, average='micro', sample_weight=None)"
   ]
  },
  {
   "cell_type": "code",
   "execution_count": null,
   "metadata": {
    "collapsed": false
   },
   "outputs": [],
   "source": [
    "f1_scores_entropy = None\n",
    "model_ivq_randomforest = RandomForestClassifier(n_estimators=1000, criterion='entropy', max_depth=None,\n",
    "                                                min_samples_split=2, min_samples_leaf=1, min_weight_fraction_leaf=0.0,\n",
    "                                                max_features='auto', max_leaf_nodes=None, bootstrap=True,\n",
    "                                                oob_score=False, n_jobs=30, random_state=5, verbose=1,\n",
    "                                                warm_start=False, class_weight=None)\n",
    "model_ivq_randomforest.fit(X_train, y_train['image_views_quantile'])\n",
    "y_pred = model_ivq_randomforest.predict(X_test)\n",
    "f1_scores_entropy = f1_score(y_test['image_views_quantile'], y_pred, labels=None, pos_label=None, average='micro', sample_weight=None)"
   ]
  },
  {
   "cell_type": "code",
   "execution_count": null,
   "metadata": {
    "collapsed": false
   },
   "outputs": [],
   "source": [
    "print \"GINI: \", f1_scores_gini\n",
    "print \"Entropy, \", f1_scores_entropy"
   ]
  },
  {
   "cell_type": "markdown",
   "metadata": {},
   "source": [
    "#### AdaBoostClassifier"
   ]
  },
  {
   "cell_type": "code",
   "execution_count": null,
   "metadata": {
    "collapsed": true
   },
   "outputs": [],
   "source": [
    "tree = DecisionTreeClassifier(criterion='gini', splitter='best', max_depth=2, min_samples_split=50,\n",
    "                              min_samples_leaf=20, min_weight_fraction_leaf=0.0, max_features=None,\n",
    "                              random_state=30, max_leaf_nodes=None, class_weight=None, presort=False)\n",
    "num_estimators = 300\n",
    "\n",
    "model_ivq_adaboost = AdaBoostClassifier(base_estimator=tree, n_estimators=num_estimators, learning_rate=1,\n",
    "                                        algorithm='SAMME.R', random_state=10)\n",
    "model_ivq_adaboost.fit(X_train, y_train['image_views_quantile'])"
   ]
  },
  {
   "cell_type": "code",
   "execution_count": null,
   "metadata": {
    "collapsed": false
   },
   "outputs": [],
   "source": [
    "f1_scores = []\n",
    "for i, y_pred in zip(range(1, num_estimators+1), model_ivq_adaboost.staged_predict(X_test)):\n",
    "    f1_scores.append(f1_score(y_test['image_views_quantile'], y_pred, labels=None, pos_label=None, average='macro', sample_weight=None))\n",
    "\n",
    "plt.plot(f1_scores, 'b')"
   ]
  },
  {
   "cell_type": "markdown",
   "metadata": {},
   "source": [
    "#### Gradient Boosted Decision Trees"
   ]
  },
  {
   "cell_type": "code",
   "execution_count": null,
   "metadata": {
    "collapsed": false
   },
   "outputs": [],
   "source": [
    "num_estimators = 300\n",
    "model_ivq_GBC = GradientBoostingClassifier(loss='deviance', learning_rate=0.1, n_estimators=300,\n",
    "                                           subsample=1.0, min_samples_split=2, min_samples_leaf=1,\n",
    "                                           min_weight_fraction_leaf=0.0, max_depth=3, init=None,\n",
    "                                           random_state=35, max_features=None, verbose=1, max_leaf_nodes=None,\n",
    "                                           warm_start=False, presort='auto')\n",
    "model_ivq_GBC.fit(X_train, y_train['image_views_quantile'])"
   ]
  },
  {
   "cell_type": "code",
   "execution_count": null,
   "metadata": {
    "collapsed": true
   },
   "outputs": [],
   "source": [
    "with open('../models/model_GBC_IVQ_300.pkl', 'w') as f:\n",
    "    pickle.dump(model_ivq_GBC, f)"
   ]
  },
  {
   "cell_type": "code",
   "execution_count": null,
   "metadata": {
    "collapsed": true
   },
   "outputs": [],
   "source": [
    "f1_scores = []\n",
    "y_predictions = None\n",
    "y_pred_probabilities = None\n",
    "for i, y_pred, y_pred_proba in zip(range(1, num_estimators+1), model_ivq_GBC.staged_predict(X_test), model_ivq_GBC.staged_predict_proba(X_test)):\n",
    "    f1_scores.append(f1_score(y_test['image_views_quantile'], y_pred, labels=None, pos_label=None, average='macro', sample_weight=None))\n",
    "    y_predictions = y_pred\n",
    "    y_pred_probabilities = y_pred_proba"
   ]
  },
  {
   "cell_type": "code",
   "execution_count": null,
   "metadata": {
    "collapsed": false
   },
   "outputs": [],
   "source": [
    "y_pred_probabilities[0]"
   ]
  },
  {
   "cell_type": "code",
   "execution_count": null,
   "metadata": {
    "collapsed": false
   },
   "outputs": [],
   "source": [
    "# [20.0, 43.0, 99.0, 20134.0]\n",
    "lefts = np.array([0, 20.0, 43.0, 99.0]).reshape((-1, 1))\n",
    "rights = np.array([20.0, 43.0, 99.0, 20134.0]).reshape((-1, 1))\n",
    "bin_names = np.array(['0-20', '21-43', '44-99', '100-20134']).reshape((-1, 1))\n",
    "widths = rights - lefts\n",
    "data = pd.DataFrame(data=lefts, columns=['lefts'])\n",
    "data['Image Views'] = bin_names\n",
    "data['Probability'] = y_pred_probabilities[0].reshape((-1, 1))"
   ]
  },
  {
   "cell_type": "code",
   "execution_count": null,
   "metadata": {
    "collapsed": false
   },
   "outputs": [],
   "source": [
    "data.info()"
   ]
  },
  {
   "cell_type": "code",
   "execution_count": null,
   "metadata": {
    "collapsed": false
   },
   "outputs": [],
   "source": [
    "palette = sns.cubehelix_palette(4, start=.5, rot=-.75)"
   ]
  },
  {
   "cell_type": "code",
   "execution_count": null,
   "metadata": {
    "collapsed": false
   },
   "outputs": [],
   "source": [
    "import seaborn as sns\n",
    "#sns.axes_style(style='darkgrid')\n",
    "with sns.plotting_context(context='poster', font_scale=1):\n",
    "    plt.figure(figsize=(8, 8))\n",
    "    ax = sns.barplot(x='Image Views', y='Probability', data=data, palette=palette, )\n",
    "#ax.set(xlabel='Image View Bins', ylabel='Probability')\n",
    "#ax.tick_params(axis='x', reset=True, which='major', direction=\"in\", length=10, width=2, bottom='on', labelbottom='on')\n",
    "#plt.xticks(range(1,6))\n",
    "# plt.title('PhotoPro Estimated Views')\n",
    "# plt.xlabel('Num Estimators')\n",
    "# plt.ylabel('Bin Probabilities')\n",
    "# plt.xscale('linear')\n",
    "# plt.xlim( 0, 150 )\n",
    "# plt.save()\n",
    "#ax.axes.axis('on')\n",
    "plt.ylabel(\"Probability\")\n",
    "plt.title('PhotoPro Predicted Image Views', fontsize=20)\n",
    "plt.show()"
   ]
  },
  {
   "cell_type": "code",
   "execution_count": null,
   "metadata": {
    "collapsed": false
   },
   "outputs": [],
   "source": [
    "plt.figure(figsize=(8, 8))\n",
    "plt.plot(f1_scores, 'b')\n",
    "plt.title('Gradient Descent Boosted Model:\\nF1 Score', fontsize=30)\n",
    "plt.xlabel('Num Estimators', fontsize=30)\n",
    "plt.ylabel('F1 Score', fontsize=30)\n",
    "#plt.save()"
   ]
  },
  {
   "cell_type": "code",
   "execution_count": null,
   "metadata": {
    "collapsed": true
   },
   "outputs": [],
   "source": [
    "y_"
   ]
  },
  {
   "cell_type": "code",
   "execution_count": null,
   "metadata": {
    "collapsed": false
   },
   "outputs": [],
   "source": [
    "num_estimators = 300\n",
    "model_ivq_GBC = GradientBoostingClassifier(loss='deviance', learning_rate=0.1, n_estimators=3000,\n",
    "                                           subsample=0.4, min_samples_split=10, min_samples_leaf=10,\n",
    "                                           min_weight_fraction_leaf=0.0, max_depth=3, init=None,\n",
    "                                           random_state=35, max_features='auto', verbose=1, max_leaf_nodes=None,\n",
    "                                           warm_start=False, presort='auto')\n",
    "model_ivq_GBC.fit(X_train, y_train['image_views_quantile'])"
   ]
  },
  {
   "cell_type": "code",
   "execution_count": null,
   "metadata": {
    "collapsed": false
   },
   "outputs": [],
   "source": [
    "f1_scores = []\n",
    "for i, y_pred in zip(range(1, num_estimators+1), model_ivq_GBC.staged_predict(X_test)):\n",
    "    f1_scores.append(f1_score(y_test['image_views_quantile'], y_pred, labels=None, pos_label=None, average='macro', sample_weight=None))\n",
    "\n",
    "plt.plot(f1_scores, 'b')"
   ]
  },
  {
   "cell_type": "code",
   "execution_count": null,
   "metadata": {
    "collapsed": true
   },
   "outputs": [],
   "source": []
  },
  {
   "cell_type": "code",
   "execution_count": null,
   "metadata": {
    "collapsed": true
   },
   "outputs": [],
   "source": []
  },
  {
   "cell_type": "code",
   "execution_count": null,
   "metadata": {
    "collapsed": true
   },
   "outputs": [],
   "source": []
  },
  {
   "cell_type": "markdown",
   "metadata": {},
   "source": [
    "#### SVM"
   ]
  },
  {
   "cell_type": "code",
   "execution_count": null,
   "metadata": {
    "collapsed": false
   },
   "outputs": [],
   "source": [
    "model_ivq_svc = SVC(C=1.0, kernel='rbf', degree=3, gamma='auto', coef0=0.0, shrinking=True, probability=False,\n",
    "                    tol=0.001, cache_size=200, class_weight=None, verbose=False, max_iter=-1,\n",
    "                    decision_function_shape=None, random_state=50)\n",
    "model_ivq_svc.fit(X_train, y_train['image_views_quantile'])\n",
    "y_pred = model_ivq_svc.predict(X_test)\n",
    "f1_score(y_test['image_views_quantile'], y_pred, labels=None, pos_label=None, average='macro', sample_weight=None)"
   ]
  },
  {
   "cell_type": "markdown",
   "metadata": {},
   "source": [
    "### PLOTLY"
   ]
  },
  {
   "cell_type": "code",
   "execution_count": null,
   "metadata": {
    "collapsed": false
   },
   "outputs": [],
   "source": [
    "import plotly\n",
    "import plotly.graph_objs as go\n",
    "plotly.offline.init_notebook_mode()"
   ]
  },
  {
   "cell_type": "code",
   "execution_count": null,
   "metadata": {
    "collapsed": false
   },
   "outputs": [],
   "source": [
    "x = ['0-20', '21-43', '44-99', '100-20k+']\n",
    "y = [10, 17, 85, 15]\n",
    "params = {'orientation':'v',\n",
    "          \"opacity\":0.5, \"marker\": {\"color\": [\"red\", \"red\", \"blue\", \"red\"]}}\n",
    "graph = go.Bar(x=x, y=y, **params)"
   ]
  },
  {
   "cell_type": "code",
   "execution_count": null,
   "metadata": {
    "collapsed": false
   },
   "outputs": [],
   "source": [
    "annotations=[{\"x\": xi,\n",
    "              \"y\": yi,\n",
    "              \"text\": str(yi),\n",
    "              \"xanchor\": 'center',\n",
    "              \"yanchor\": 'bottom',\n",
    "              \"showarrow\": False} for xi, yi in zip(x, y)]"
   ]
  },
  {
   "cell_type": "code",
   "execution_count": null,
   "metadata": {
    "collapsed": false
   },
   "outputs": [],
   "source": [
    "go.Layout().help('hovermode', return_help=False)"
   ]
  },
  {
   "cell_type": "code",
   "execution_count": null,
   "metadata": {
    "collapsed": false
   },
   "outputs": [],
   "source": [
    "xaxis = {\"title\": \"Range of Predicted Views\", \"titlefont\":{\"color\":\"#444\", \"size\":20}}\n",
    "yaxis = {\"title\": \"Predicted Probabilities\", \"titlefont\":{\"color\":\"#444\", \"size\":20}, \"range\":[0, 101],\n",
    "         \"showticksuffix\":\"all\", \"hoverformat\":\"\", \"ticksuffix\":\"%\", \"autorange\":False}\n",
    "\n",
    "layout_params = {\"titlefont\":{\"color\":\"#444\", \"family\":\"Open Sans, verdana, arial, sans-serif\", \"size\":26}, \"hovermode\":\"false\",\n",
    "                 \"font\":{\"color\":\"#444\", \"family\":\"Open Sans, verdana, arial, sans-serif\"}, \"autosize\":False, \"dragmode\":\"false\",\n",
    "                 \"margin\":{\"b\":100, \"l\":100, \"r\":80, \"pad\":12, \"t\":100, \"autoexpand\":False}}\n",
    "\n",
    "layout = go.Layout(title='PhotoPro Predicted View Bins Probabilities', annotations=annotations,\n",
    "                   height=600, width=800, paper_bgcolor='none', plot_bgcolor='light blue', xaxis=xaxis, yaxis=yaxis, **layout_params)\n",
    "data= [graph]\n",
    "fig = go.Figure(layout=layout, data=data)\n",
    "plotly.offline.iplot(figure_or_data=fig)"
   ]
  },
  {
   "cell_type": "code",
   "execution_count": null,
   "metadata": {
    "collapsed": false
   },
   "outputs": [],
   "source": [
    "url = plotly.plotly.plot(fig, filename=\"Test Plot 2\", sharing='public', fileopt='new', auto_open=False)"
   ]
  },
  {
   "cell_type": "code",
   "execution_count": null,
   "metadata": {
    "collapsed": false
   },
   "outputs": [],
   "source": [
    "url"
   ]
  },
  {
   "cell_type": "code",
   "execution_count": null,
   "metadata": {
    "collapsed": false
   },
   "outputs": [],
   "source": [
    "plotly.plotly.image.save_as(fig, '../web_app/static/plots/test_plotly', 'png', width=800, height=600, scale=3)"
   ]
  },
  {
   "cell_type": "code",
   "execution_count": null,
   "metadata": {
    "collapsed": false
   },
   "outputs": [],
   "source": [
    "pwd"
   ]
  }
 ],
 "metadata": {
  "kernelspec": {
   "display_name": "Python [Root]",
   "language": "python",
   "name": "Python [Root]"
  },
  "language_info": {
   "codemirror_mode": {
    "name": "ipython",
    "version": 2
   },
   "file_extension": ".py",
   "mimetype": "text/x-python",
   "name": "python",
   "nbconvert_exporter": "python",
   "pygments_lexer": "ipython2",
   "version": "2.7.12"
  }
 },
 "nbformat": 4,
 "nbformat_minor": 0
}
