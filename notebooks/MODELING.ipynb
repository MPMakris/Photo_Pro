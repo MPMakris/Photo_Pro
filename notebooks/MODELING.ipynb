{
 "cells": [
  {
   "cell_type": "code",
   "execution_count": 190,
   "metadata": {
    "collapsed": false
   },
   "outputs": [],
   "source": [
    "import pandas as pd\n",
    "import numpy as np\n",
    "from sklearn.ensemble import RandomForestClassifier, RandomForestRegressor, AdaBoostClassifier, GradientBoostingClassifier\n",
    "from sklearn.linear_model import LogisticRegression, LinearRegression, LogisticRegressionCV, Lasso, Ridge, RidgeClassifier, SGDClassifier\n",
    "from sklearn.cross_validation import train_test_split\n",
    "from sklearn.metrics import accuracy_score, precision_score, recall_score, precision_recall_curve, precision_recall_fscore_support, f1_score, r2_score \n",
    "from sklearn.preprocessing import StandardScaler\n",
    "import matplotlib.pyplot as plt\n",
    "%matplotlib inline\n",
    "from sklearn.svm import SVC\n",
    "from sklearn.tree import DecisionTreeClassifier"
   ]
  },
  {
   "cell_type": "markdown",
   "metadata": {},
   "source": [
    "### MODEL SPORTS DATA"
   ]
  },
  {
   "cell_type": "code",
   "execution_count": 191,
   "metadata": {
    "collapsed": false
   },
   "outputs": [],
   "source": [
    "df_features = pd.read_csv('../data/modeling/SPORTS/feature_data_SPORTS_21205.csv', sep='|')\n",
    "df_targets = pd.read_csv('../data/modeling/SPORTS/target_data_SPORTS_21205.csv', sep='|')\n",
    "\n",
    "df_features = df_features.set_index('owner').set_index(\"id\", append=True)\n",
    "\n",
    "df_targets = df_targets.set_index('owner').set_index(\"id\", append=True)\n",
    "\n",
    "target_columns = list(df_targets.columns)\n",
    "target_columns.remove('image_ntags')\n",
    "target_columns\n",
    "\n",
    "df = df_features.join(df_targets, how='inner')\n",
    "\n",
    "df.dropna(axis=0, inplace=True)"
   ]
  },
  {
   "cell_type": "code",
   "execution_count": 211,
   "metadata": {
    "collapsed": false
   },
   "outputs": [
    {
     "data": {
      "text/plain": [
       "Index([u'red_bin1_nbins120', u'red_bin2_nbins120', u'red_bin3_nbins120',\n",
       "       u'red_bin4_nbins120', u'red_bin5_nbins120', u'red_bin6_nbins120',\n",
       "       u'red_bin7_nbins120', u'red_bin8_nbins120', u'red_bin9_nbins120',\n",
       "       u'red_bin10_nbins120',\n",
       "       ...\n",
       "       u'user_can_buy_pro', u'user_total_views', u'image_ncomments',\n",
       "       u'image_nfavs', u'image_nsets', u'image_npools', u'image_views',\n",
       "       u'image_ntags', u'image_tags', u'image_views_quantile'],\n",
       "      dtype='object', length=1099)"
      ]
     },
     "execution_count": 211,
     "metadata": {},
     "output_type": "execute_result"
    }
   ],
   "source": [
    "df.columns"
   ]
  },
  {
   "cell_type": "markdown",
   "metadata": {},
   "source": [
    "### EDA"
   ]
  },
  {
   "cell_type": "code",
   "execution_count": 198,
   "metadata": {
    "collapsed": false
   },
   "outputs": [
    {
     "data": {
      "image/png": "[encoded data removed]",
      "text/plain": [
       "<matplotlib.figure.Figure at 0x7f30c65bae90>"
      ]
     },
     "metadata": {},
     "output_type": "display_data"
    }
   ],
   "source": [
    "plt.hist(df['image_views'], bins=50)\n",
    "plt.show()"
   ]
  },
  {
   "cell_type": "code",
   "execution_count": 199,
   "metadata": {
    "collapsed": false
   },
   "outputs": [
    {
     "data": {
      "image/png": "[encoded data removed]",
      "text/plain": [
       "<matplotlib.figure.Figure at 0x7f30c6169dd0>"
      ]
     },
     "metadata": {},
     "output_type": "display_data"
    }
   ],
   "source": [
    "plt.hist(df['image_views'][df['image_views']<=1000], bins=50)\n",
    "plt.show()"
   ]
  },
  {
   "cell_type": "markdown",
   "metadata": {},
   "source": [
    "### Create New Quartile Targets"
   ]
  },
  {
   "cell_type": "code",
   "execution_count": 200,
   "metadata": {
    "collapsed": false
   },
   "outputs": [],
   "source": [
    "def name_quantile(x, limits):\n",
    "    quantile_cats = range(1, len(limits)+1, 1)\n",
    "    for cat, limit in zip(quantile_cats, limits):\n",
    "        if x <= limit:\n",
    "            return cat\n",
    "\n",
    "def create_quantile_target_col(df, target_columns, col_name, n_quantiles=5):\n",
    "    \"\"\"\n",
    "    Create a new column in the DataFrame that indicates which quantile the target column value falls into.\n",
    "    \n",
    "    PARAMETERS\n",
    "    ----------\n",
    "    df : DataFrame\n",
    "    \n",
    "    n_quantiles : int\n",
    "        The number of bins. For 4 bins (0 to 0.25, 0.25 to 0.5, etc...), n_quantiles=4.\n",
    "        \n",
    "    col_name : str\n",
    "    \n",
    "    target_columns : list\n",
    "    \n",
    "    RETURNS\n",
    "    -------\n",
    "    df : DataFrame\n",
    "    \n",
    "    target_columns : list        \n",
    "    \"\"\"\n",
    "    min_value = df[col_name].min()\n",
    "    max_value = df[col_name].max()\n",
    "    limits = []\n",
    "    for i in range(1, n_quantiles+1):\n",
    "        limits.append(df[col_name].quantile(i/float(n_quantiles)))\n",
    "    \n",
    "    new_col_name = col_name+\"_quantile\"\n",
    "    target_columns.append(new_col_name)\n",
    "    \n",
    "    df[new_col_name] = df[col_name].apply(lambda x: name_quantile(x, limits))\n",
    "    return df, target_columns"
   ]
  },
  {
   "cell_type": "code",
   "execution_count": 201,
   "metadata": {
    "collapsed": true
   },
   "outputs": [],
   "source": [
    "df, target_columns = create_quantile_target_col(df, target_columns, 'image_views', 4)"
   ]
  },
  {
   "cell_type": "code",
   "execution_count": 202,
   "metadata": {
    "collapsed": false
   },
   "outputs": [],
   "source": [
    "df_train, df_test = train_test_split(df, train_size=0.8, random_state=42)"
   ]
  },
  {
   "cell_type": "code",
   "execution_count": 203,
   "metadata": {
    "collapsed": false
   },
   "outputs": [],
   "source": [
    "def pop_columns(df, col_names):\n",
    "    for i, name in enumerate(list(col_names)):\n",
    "        if i == 0:\n",
    "            df_dropped_cols = df.pop(name)\n",
    "        else:\n",
    "            df_dropped_cols = pd.concat((df_dropped_cols, df.pop(name)), axis=1)\n",
    "    return df, df_dropped_cols"
   ]
  },
  {
   "cell_type": "code",
   "execution_count": 204,
   "metadata": {
    "collapsed": false
   },
   "outputs": [],
   "source": [
    "X_train, y_train = pop_columns(df_train, target_columns)\n",
    "X_test, y_test = pop_columns(df_test, target_columns)"
   ]
  },
  {
   "cell_type": "code",
   "execution_count": 205,
   "metadata": {
    "collapsed": false
   },
   "outputs": [
    {
     "data": {
      "text/html": [
       "<div>\n",
       "<table border=\"1\" class=\"dataframe\">\n",
       "  <thead>\n",
       "    <tr style=\"text-align: right;\">\n",
       "      <th></th>\n",
       "      <th></th>\n",
       "      <th>user_is_pro</th>\n",
       "      <th>user_can_buy_pro</th>\n",
       "      <th>user_total_views</th>\n",
       "      <th>image_ncomments</th>\n",
       "      <th>image_nfavs</th>\n",
       "      <th>image_nsets</th>\n",
       "      <th>image_npools</th>\n",
       "      <th>image_views</th>\n",
       "      <th>image_tags</th>\n",
       "      <th>image_views_quantile</th>\n",
       "    </tr>\n",
       "    <tr>\n",
       "      <th>owner</th>\n",
       "      <th>id</th>\n",
       "      <th></th>\n",
       "      <th></th>\n",
       "      <th></th>\n",
       "      <th></th>\n",
       "      <th></th>\n",
       "      <th></th>\n",
       "      <th></th>\n",
       "      <th></th>\n",
       "      <th></th>\n",
       "      <th></th>\n",
       "    </tr>\n",
       "  </thead>\n",
       "  <tbody>\n",
       "    <tr>\n",
       "      <th>28142675@N05</th>\n",
       "      <th>21624681988</th>\n",
       "      <td>0</td>\n",
       "      <td>0</td>\n",
       "      <td>10801</td>\n",
       "      <td>0</td>\n",
       "      <td>0</td>\n",
       "      <td>1</td>\n",
       "      <td>0</td>\n",
       "      <td>60</td>\n",
       "      <td>[trailrunning, running, race, aae, otterbox, o...</td>\n",
       "      <td>3</td>\n",
       "    </tr>\n",
       "  </tbody>\n",
       "</table>\n",
       "</div>"
      ],
      "text/plain": [
       "                          user_is_pro  user_can_buy_pro  user_total_views  \\\n",
       "owner        id                                                             \n",
       "28142675@N05 21624681988            0                 0             10801   \n",
       "\n",
       "                          image_ncomments  image_nfavs  image_nsets  \\\n",
       "owner        id                                                       \n",
       "28142675@N05 21624681988                0            0            1   \n",
       "\n",
       "                          image_npools  image_views  \\\n",
       "owner        id                                       \n",
       "28142675@N05 21624681988             0           60   \n",
       "\n",
       "                                                                 image_tags  \\\n",
       "owner        id                                                               \n",
       "28142675@N05 21624681988  [trailrunning, running, race, aae, otterbox, o...   \n",
       "\n",
       "                          image_views_quantile  \n",
       "owner        id                                 \n",
       "28142675@N05 21624681988                     3  "
      ]
     },
     "execution_count": 205,
     "metadata": {},
     "output_type": "execute_result"
    }
   ],
   "source": [
    "y_test.head(1)"
   ]
  },
  {
   "cell_type": "code",
   "execution_count": 206,
   "metadata": {
    "collapsed": false
   },
   "outputs": [],
   "source": [
    "X_columns = X_train.columns\n",
    "y_columns = y_train.columns"
   ]
  },
  {
   "cell_type": "code",
   "execution_count": 207,
   "metadata": {
    "collapsed": true
   },
   "outputs": [],
   "source": [
    "scaler_mean_std = StandardScaler()\n",
    "X_train = scaler_mean_std.fit_transform(X_train)\n",
    "X_test = scaler_mean_std.transform(X_test)"
   ]
  },
  {
   "cell_type": "code",
   "execution_count": 208,
   "metadata": {
    "collapsed": false
   },
   "outputs": [],
   "source": [
    "X_train = pd.DataFrame(data=X_train, columns=X_columns)\n",
    "X_test = pd.DataFrame(data=X_test, columns=X_columns)"
   ]
  },
  {
   "cell_type": "markdown",
   "metadata": {},
   "source": [
    "### Predicting Image View Quantile (IVQ)"
   ]
  },
  {
   "cell_type": "markdown",
   "metadata": {},
   "source": [
    "#### LOGISTIC MODEL"
   ]
  },
  {
   "cell_type": "code",
   "execution_count": 142,
   "metadata": {
    "collapsed": true
   },
   "outputs": [],
   "source": [
    "model_ivq_logitclassifier = LogisticRegression(multi_class='multinomial', solver='lbfgs', random_state=1,\n",
    "                                               class_weight='balanced', max_iter=10000, verbose=1, warm_start=True,\n",
    "                                               n_jobs=30, penalty='l2', C=1.0)"
   ]
  },
  {
   "cell_type": "code",
   "execution_count": 143,
   "metadata": {
    "collapsed": false
   },
   "outputs": [
    {
     "name": "stderr",
     "output_type": "stream",
     "text": [
      "[Parallel(n_jobs=30)]: Done   1 out of   1 | elapsed:   40.8s finished\n"
     ]
    },
    {
     "data": {
      "text/plain": [
       "LogisticRegression(C=1.0, class_weight='balanced', dual=False,\n",
       "          fit_intercept=True, intercept_scaling=1, max_iter=10000,\n",
       "          multi_class='multinomial', n_jobs=30, penalty='l2',\n",
       "          random_state=1, solver='lbfgs', tol=0.0001, verbose=1,\n",
       "          warm_start=True)"
      ]
     },
     "execution_count": 143,
     "metadata": {},
     "output_type": "execute_result"
    }
   ],
   "source": [
    "model_ivq_logitclassifier.fit(X_train, y_train['image_views_quantile'])"
   ]
  },
  {
   "cell_type": "code",
   "execution_count": 144,
   "metadata": {
    "collapsed": false
   },
   "outputs": [],
   "source": [
    "y_pred = model_ivq_logitclassifier.predict(X_test)\n",
    "y_probs = model_ivq_logitclassifier.predict_proba(X_test)"
   ]
  },
  {
   "cell_type": "code",
   "execution_count": 145,
   "metadata": {
    "collapsed": false
   },
   "outputs": [
    {
     "data": {
      "text/plain": [
       "0.52110351332232963"
      ]
     },
     "execution_count": 145,
     "metadata": {},
     "output_type": "execute_result"
    }
   ],
   "source": [
    "f1_score(y_test['image_views_quantile'], y_pred, labels=None, pos_label=None, average='micro', sample_weight=None)"
   ]
  },
  {
   "cell_type": "code",
   "execution_count": 148,
   "metadata": {
    "collapsed": false
   },
   "outputs": [
    {
     "name": "stderr",
     "output_type": "stream",
     "text": [
      "[Parallel(n_jobs=30)]: Done   1 out of   1 | elapsed:    6.5s finished\n",
      "[Parallel(n_jobs=30)]: Done   1 out of   1 | elapsed:    9.7s finished\n",
      "[Parallel(n_jobs=30)]: Done   1 out of   1 | elapsed:   12.9s finished\n",
      "[Parallel(n_jobs=30)]: Done   1 out of   1 | elapsed:   16.3s finished\n",
      "[Parallel(n_jobs=30)]: Done   1 out of   1 | elapsed:   24.3s finished\n",
      "[Parallel(n_jobs=30)]: Done   1 out of   1 | elapsed:   35.3s finished\n",
      "[Parallel(n_jobs=30)]: Done   1 out of   1 | elapsed:   43.6s finished\n",
      "[Parallel(n_jobs=30)]: Done   1 out of   1 | elapsed:   48.0s finished\n",
      "[Parallel(n_jobs=30)]: Done   1 out of   1 | elapsed:  1.3min finished\n",
      "[Parallel(n_jobs=30)]: Done   1 out of   1 | elapsed:  1.6min finished\n",
      "[Parallel(n_jobs=30)]: Done   1 out of   1 | elapsed:    6.5s finished\n",
      "[Parallel(n_jobs=30)]: Done   1 out of   1 | elapsed:    9.4s finished\n",
      "[Parallel(n_jobs=30)]: Done   1 out of   1 | elapsed:   10.6s finished\n",
      "[Parallel(n_jobs=30)]: Done   1 out of   1 | elapsed:   15.5s finished\n",
      "[Parallel(n_jobs=30)]: Done   1 out of   1 | elapsed:   24.2s finished\n",
      "[Parallel(n_jobs=30)]: Done   1 out of   1 | elapsed:   30.6s finished\n",
      "[Parallel(n_jobs=30)]: Done   1 out of   1 | elapsed:   37.5s finished\n",
      "[Parallel(n_jobs=30)]: Done   1 out of   1 | elapsed:   46.8s finished\n",
      "[Parallel(n_jobs=30)]: Done   1 out of   1 | elapsed:  1.3min finished\n",
      "[Parallel(n_jobs=30)]: Done   1 out of   1 | elapsed:  1.5min finished\n",
      "[Parallel(n_jobs=30)]: Done   1 out of   1 | elapsed:    7.0s finished\n",
      "[Parallel(n_jobs=30)]: Done   1 out of   1 | elapsed:   10.3s finished\n",
      "[Parallel(n_jobs=30)]: Done   1 out of   1 | elapsed:   11.6s finished\n",
      "[Parallel(n_jobs=30)]: Done   1 out of   1 | elapsed:   16.8s finished\n",
      "[Parallel(n_jobs=30)]: Done   1 out of   1 | elapsed:   24.8s finished\n",
      "[Parallel(n_jobs=30)]: Done   1 out of   1 | elapsed:   34.4s finished\n",
      "[Parallel(n_jobs=30)]: Done   1 out of   1 | elapsed:   41.5s finished\n",
      "[Parallel(n_jobs=30)]: Done   1 out of   1 | elapsed:   51.1s finished\n",
      "[Parallel(n_jobs=30)]: Done   1 out of   1 | elapsed:  1.3min finished\n",
      "[Parallel(n_jobs=30)]: Done   1 out of   1 | elapsed:  1.7min finished\n",
      "[Parallel(n_jobs=30)]: Done   1 out of   1 | elapsed:    7.3s finished\n",
      "[Parallel(n_jobs=30)]: Done   1 out of   1 | elapsed:    8.1s finished\n",
      "[Parallel(n_jobs=30)]: Done   1 out of   1 | elapsed:   13.0s finished\n",
      "[Parallel(n_jobs=30)]: Done   1 out of   1 | elapsed:   16.5s finished\n",
      "[Parallel(n_jobs=30)]: Done   1 out of   1 | elapsed:   25.0s finished\n",
      "[Parallel(n_jobs=30)]: Done   1 out of   1 | elapsed:   32.6s finished\n",
      "[Parallel(n_jobs=30)]: Done   1 out of   1 | elapsed:   39.2s finished\n",
      "[Parallel(n_jobs=30)]: Done   1 out of   1 | elapsed:   47.7s finished\n",
      "[Parallel(n_jobs=30)]: Done   1 out of   1 | elapsed:  1.2min finished\n",
      "[Parallel(n_jobs=30)]: Done   1 out of   1 | elapsed:  1.6min finished\n"
     ]
    }
   ],
   "source": [
    "f1_scores_int = []\n",
    "f1_scores_no_int = []\n",
    "f1_scores_cold_int = []\n",
    "f1_scores_cold_no_int = []\n",
    "C_values = [0.01, 0.02, 0.05, 0.1, 0.3, 0.6, 1.0, 2.0, 5.0, 10]\n",
    "for i in C_values:\n",
    "    model_ivq_logitclassifier = LogisticRegression(multi_class='multinomial', solver='lbfgs', random_state=1,\n",
    "                                               class_weight='balanced', max_iter=10000, verbose=1, warm_start=True,\n",
    "                                               n_jobs=30, penalty='l2', C=i)\n",
    "    model_ivq_logitclassifier.fit(X_train, y_train['image_views_quantile'])\n",
    "    y_pred = model_ivq_logitclassifier.predict(X_test)\n",
    "    # y_probs = model_ivq_logitclassifier.predict_proba(X_test)\n",
    "    f1_scores_int.append(f1_score(y_test['image_views_quantile'], y_pred, labels=None, pos_label=None, average='micro', sample_weight=None))\n",
    "for i in C_values:\n",
    "    model_ivq_logitclassifier = LogisticRegression(multi_class='multinomial', solver='lbfgs', random_state=1,\n",
    "                                               class_weight='balanced', max_iter=10000, verbose=1, warm_start=True,\n",
    "                                               n_jobs=30, penalty='l2', C=i, fit_intercept=False)\n",
    "    model_ivq_logitclassifier.fit(X_train, y_train['image_views_quantile'])\n",
    "    y_pred = model_ivq_logitclassifier.predict(X_test)\n",
    "    # y_probs = model_ivq_logitclassifier.predict_proba(X_test)\n",
    "    f1_scores_no_int.append(f1_score(y_test['image_views_quantile'], y_pred, labels=None, pos_label=None, average='micro', sample_weight=None))\n",
    "for i in C_values:\n",
    "    model_ivq_logitclassifier = LogisticRegression(multi_class='multinomial', solver='lbfgs', random_state=1,\n",
    "                                               class_weight='balanced', max_iter=10000, verbose=1, warm_start=False,\n",
    "                                               n_jobs=30, penalty='l2', C=i)\n",
    "    model_ivq_logitclassifier.fit(X_train, y_train['image_views_quantile'])\n",
    "    y_pred = model_ivq_logitclassifier.predict(X_test)\n",
    "    # y_probs = model_ivq_logitclassifier.predict_proba(X_test)\n",
    "    f1_scores_cold_int.append(f1_score(y_test['image_views_quantile'], y_pred, labels=None, pos_label=None, average='micro', sample_weight=None))\n",
    "for i in C_values:\n",
    "    model_ivq_logitclassifier = LogisticRegression(multi_class='multinomial', solver='lbfgs', random_state=1,\n",
    "                                               class_weight='balanced', max_iter=10000, verbose=1, warm_start=False,\n",
    "                                               n_jobs=30, penalty='l2', C=i,  fit_intercept=False)\n",
    "    model_ivq_logitclassifier.fit(X_train, y_train['image_views_quantile'])\n",
    "    y_pred = model_ivq_logitclassifier.predict(X_test)\n",
    "    # y_probs = model_ivq_logitclassifier.predict_proba(X_test)\n",
    "    f1_scores_cold_no_int.append(f1_score(y_test['image_views_quantile'], y_pred, labels=None, pos_label=None, average='micro', sample_weight=None))"
   ]
  },
  {
   "cell_type": "code",
   "execution_count": 149,
   "metadata": {
    "collapsed": false
   },
   "outputs": [
    {
     "data": {
      "text/plain": [
       "[<matplotlib.lines.Line2D at 0x7f30e3821190>]"
      ]
     },
     "execution_count": 149,
     "metadata": {},
     "output_type": "execute_result"
    },
    {
     "data": {
      "image/png": "[encoded data removed]",
      "text/plain": [
       "<matplotlib.figure.Figure at 0x7f30e36206d0>"
      ]
     },
     "metadata": {},
     "output_type": "display_data"
    }
   ],
   "source": [
    "plt.plot(C_values, f1_scores_int, 'r')\n",
    "plt.plot(C_values, f1_scores_no_int, 'm')\n",
    "plt.plot(C_values, f1_scores_cold_int, 'b')\n",
    "plt.plot(C_values, f1_scores_cold_no_int, 'g')"
   ]
  },
  {
   "cell_type": "markdown",
   "metadata": {},
   "source": [
    "#### Random Forest Classifier"
   ]
  },
  {
   "cell_type": "code",
   "execution_count": 162,
   "metadata": {
    "collapsed": false
   },
   "outputs": [
    {
     "name": "stderr",
     "output_type": "stream",
     "text": [
      "[Parallel(n_jobs=30)]: Done 140 tasks      | elapsed:    3.9s\n",
      "[Parallel(n_jobs=30)]: Done 390 tasks      | elapsed:   10.0s\n",
      "[Parallel(n_jobs=30)]: Done 740 tasks      | elapsed:   18.5s\n",
      "[Parallel(n_jobs=30)]: Done 1000 out of 1000 | elapsed:   24.9s finished\n",
      "[Parallel(n_jobs=30)]: Done 140 tasks      | elapsed:    0.2s\n",
      "[Parallel(n_jobs=30)]: Done 390 tasks      | elapsed:    0.7s\n",
      "[Parallel(n_jobs=30)]: Done 740 tasks      | elapsed:    1.4s\n",
      "[Parallel(n_jobs=30)]: Done 1000 out of 1000 | elapsed:    2.0s finished\n"
     ]
    }
   ],
   "source": [
    "f1_scores_gini = None\n",
    "model_ivq_randomforest = RandomForestClassifier(n_estimators=1000, criterion='gini', max_depth=None,\n",
    "                                                min_samples_split=2, min_samples_leaf=1, min_weight_fraction_leaf=0.0,\n",
    "                                                max_features='auto', max_leaf_nodes=None, bootstrap=True,\n",
    "                                                oob_score=False, n_jobs=30, random_state=5, verbose=1,\n",
    "                                                warm_start=False, class_weight=None)\n",
    "model_ivq_randomforest.fit(X_train, y_train['image_views_quantile'])\n",
    "y_pred = model_ivq_randomforest.predict(X_test)\n",
    "f1_scores_gini = f1_score(y_test['image_views_quantile'], y_pred, labels=None, pos_label=None, average='micro', sample_weight=None)"
   ]
  },
  {
   "cell_type": "code",
   "execution_count": 163,
   "metadata": {
    "collapsed": false
   },
   "outputs": [
    {
     "name": "stderr",
     "output_type": "stream",
     "text": [
      "[Parallel(n_jobs=30)]: Done 140 tasks      | elapsed:   11.9s\n",
      "[Parallel(n_jobs=30)]: Done 390 tasks      | elapsed:   31.4s\n",
      "[Parallel(n_jobs=30)]: Done 740 tasks      | elapsed:   58.7s\n",
      "[Parallel(n_jobs=30)]: Done 1000 out of 1000 | elapsed:  1.3min finished\n",
      "[Parallel(n_jobs=30)]: Done 140 tasks      | elapsed:    0.1s\n",
      "[Parallel(n_jobs=30)]: Done 390 tasks      | elapsed:    0.4s\n",
      "[Parallel(n_jobs=30)]: Done 740 tasks      | elapsed:    1.2s\n",
      "[Parallel(n_jobs=30)]: Done 1000 out of 1000 | elapsed:    1.7s finished\n"
     ]
    }
   ],
   "source": [
    "f1_scores_entropy = None\n",
    "model_ivq_randomforest = RandomForestClassifier(n_estimators=1000, criterion='entropy', max_depth=None,\n",
    "                                                min_samples_split=2, min_samples_leaf=1, min_weight_fraction_leaf=0.0,\n",
    "                                                max_features='auto', max_leaf_nodes=None, bootstrap=True,\n",
    "                                                oob_score=False, n_jobs=30, random_state=5, verbose=1,\n",
    "                                                warm_start=False, class_weight=None)\n",
    "model_ivq_randomforest.fit(X_train, y_train['image_views_quantile'])\n",
    "y_pred = model_ivq_randomforest.predict(X_test)\n",
    "f1_scores_entropy = f1_score(y_test['image_views_quantile'], y_pred, labels=None, pos_label=None, average='micro', sample_weight=None)"
   ]
  },
  {
   "cell_type": "code",
   "execution_count": 164,
   "metadata": {
    "collapsed": false
   },
   "outputs": [
    {
     "name": "stdout",
     "output_type": "stream",
     "text": [
      "GINI:  0.73284602688\n",
      "Entropy,  0.728601744871\n"
     ]
    }
   ],
   "source": [
    "print \"GINI: \", f1_scores_gini\n",
    "print \"Entropy, \", f1_scores_entropy"
   ]
  },
  {
   "cell_type": "markdown",
   "metadata": {},
   "source": [
    "#### AdaBoostClassifier"
   ]
  },
  {
   "cell_type": "code",
   "execution_count": null,
   "metadata": {
    "collapsed": true
   },
   "outputs": [],
   "source": [
    "tree = DecisionTreeClassifier(criterion='gini', splitter='best', max_depth=2, min_samples_split=50,\n",
    "                              min_samples_leaf=20, min_weight_fraction_leaf=0.0, max_features=None,\n",
    "                              random_state=30, max_leaf_nodes=None, class_weight=None, presort=False)\n",
    "num_estimators = 300\n",
    "\n",
    "model_ivq_adaboost = AdaBoostClassifier(base_estimator=tree, n_estimators=num_estimators, learning_rate=1,\n",
    "                                        algorithm='SAMME.R', random_state=10)\n",
    "model_ivq_adaboost.fit(X_train, y_train['image_views_quantile'])"
   ]
  },
  {
   "cell_type": "code",
   "execution_count": 186,
   "metadata": {
    "collapsed": false
   },
   "outputs": [
    {
     "data": {
      "text/plain": [
       "[<matplotlib.lines.Line2D at 0x7f30cc015310>]"
      ]
     },
     "execution_count": 186,
     "metadata": {},
     "output_type": "execute_result"
    },
    {
     "data": {
      "image/png": "[encoded data removed]",
      "text/plain": [
       "<matplotlib.figure.Figure at 0x7f30e24a6350>"
      ]
     },
     "metadata": {},
     "output_type": "display_data"
    }
   ],
   "source": [
    "f1_scores = []\n",
    "for i, y_pred in zip(range(1, num_estimators+1), model_ivq_adaboost.staged_predict(X_test)):\n",
    "    f1_scores.append(f1_score(y_test['image_views_quantile'], y_pred, labels=None, pos_label=None, average='macro', sample_weight=None))\n",
    "\n",
    "plt.plot(f1_scores, 'b')"
   ]
  },
  {
   "cell_type": "markdown",
   "metadata": {},
   "source": [
    "#### Gradient Boosted Decision Trees"
   ]
  },
  {
   "cell_type": "code",
   "execution_count": 187,
   "metadata": {
    "collapsed": false
   },
   "outputs": [
    {
     "name": "stdout",
     "output_type": "stream",
     "text": [
      "      Iter       Train Loss   Remaining Time \n",
      "         1       22342.2990           34.73m\n",
      "         2       21393.6800           34.36m\n",
      "         3       20694.9202           33.96m\n",
      "         4       20040.5753           33.86m\n",
      "         5       19479.9283           33.66m\n",
      "         6       18959.9613           33.60m\n",
      "         7       18553.5964           33.53m\n",
      "         8       18199.7400           33.49m\n",
      "         9       17879.7918           33.64m\n",
      "        10       17550.2162           33.69m\n",
      "        20       15620.9339           32.45m\n",
      "        30       14527.6934           31.08m\n",
      "        40       13805.7350           29.52m\n",
      "        50       13247.1334           28.15m\n",
      "        60       12841.0003           26.79m\n",
      "        70       12453.0788           25.41m\n",
      "        80       12133.5278           24.06m\n",
      "        90       11847.3040           22.78m\n",
      "       100       11561.2053           21.56m\n",
      "       200        9621.7589           10.49m\n",
      "       300        8253.2905            0.00s\n"
     ]
    },
    {
     "data": {
      "text/plain": [
       "GradientBoostingClassifier(init=None, learning_rate=0.1, loss='deviance',\n",
       "              max_depth=3, max_features=None, max_leaf_nodes=None,\n",
       "              min_samples_leaf=1, min_samples_split=2,\n",
       "              min_weight_fraction_leaf=0.0, n_estimators=300,\n",
       "              presort='auto', random_state=35, subsample=1.0, verbose=1,\n",
       "              warm_start=False)"
      ]
     },
     "execution_count": 187,
     "metadata": {},
     "output_type": "execute_result"
    }
   ],
   "source": [
    "num_estimators = 300\n",
    "model_ivq_GBC = GradientBoostingClassifier(loss='deviance', learning_rate=0.1, n_estimators=300,\n",
    "                                           subsample=1.0, min_samples_split=2, min_samples_leaf=1,\n",
    "                                           min_weight_fraction_leaf=0.0, max_depth=3, init=None,\n",
    "                                           random_state=35, max_features=None, verbose=1, max_leaf_nodes=None,\n",
    "                                           warm_start=False, presort='auto')\n",
    "model_ivq_GBC.fit(X_train, y_train['image_views_quantile'])"
   ]
  },
  {
   "cell_type": "code",
   "execution_count": 188,
   "metadata": {
    "collapsed": false
   },
   "outputs": [
    {
     "data": {
      "text/plain": [
       "[<matplotlib.lines.Line2D at 0x7f30c65c92d0>]"
      ]
     },
     "execution_count": 188,
     "metadata": {},
     "output_type": "execute_result"
    },
    {
     "data": {
      "image/png": "[encoded data removed]",
      "text/plain": [
       "<matplotlib.figure.Figure at 0x7f30e2481fd0>"
      ]
     },
     "metadata": {},
     "output_type": "display_data"
    }
   ],
   "source": [
    "f1_scores = []\n",
    "for i, y_pred in zip(range(1, num_estimators+1), model_ivq_GBC.staged_predict(X_test)):\n",
    "    f1_scores.append(f1_score(y_test['image_views_quantile'], y_pred, labels=None, pos_label=None, average='macro', sample_weight=None))\n",
    "\n",
    "plt.plot(f1_scores, 'b')"
   ]
  },
  {
   "cell_type": "code",
   "execution_count": 209,
   "metadata": {
    "collapsed": false
   },
   "outputs": [
    {
     "name": "stdout",
     "output_type": "stream",
     "text": [
      "      Iter       Train Loss      OOB Improve   Remaining Time \n",
      "         1        8929.9698         692.3884          212.35m\n",
      "         2        8592.0809         510.5309          210.51m\n",
      "         3        8291.8852         430.0984          205.86m\n",
      "         4        7987.6999         393.4292          203.44m\n",
      "         5        7825.1266         301.0256          201.46m\n",
      "         6        7635.4841         255.8368          200.56m\n",
      "         7        7525.3905         238.5480          200.25m\n",
      "         8        7283.7590         261.4463          199.92m\n",
      "         9        7212.5903         178.9553          199.01m\n",
      "        10        7043.4740         157.2688          198.57m\n",
      "        20        6286.3965          75.9208          195.90m\n",
      "        30        5873.8636          23.2486          193.16m\n",
      "        40        5569.8596          17.1327          191.11m\n",
      "        50        5417.7838           7.2077          189.28m\n",
      "        60        5155.1465          11.4249          187.61m\n",
      "        70        5019.6607           5.7809          186.32m\n",
      "        80        4875.6303           4.6709          184.99m\n",
      "        90        4734.8795           3.6234          183.54m\n",
      "       100        4599.2672          -0.1275          182.41m\n",
      "       200        3898.2284           0.7866          172.97m\n",
      "       300        3327.0910          -1.5147          166.22m\n",
      "       400        2885.4070          -3.1207          159.92m\n",
      "       500        2518.6173          -2.6129          153.90m\n",
      "       600        2190.3117          -2.1300          148.76m\n",
      "       700        1925.1269          -2.0824          142.54m\n",
      "       800        1731.6596          -1.7431          136.62m\n",
      "       900        1492.5725          -1.8535          130.97m\n",
      "      1000        1296.3618          -1.5799          124.85m\n",
      "      2000         412.4623          -0.5425           62.98m\n",
      "      3000         153.9483          -0.1132            0.00s\n"
     ]
    },
    {
     "data": {
      "text/plain": [
       "GradientBoostingClassifier(init=None, learning_rate=0.1, loss='deviance',\n",
       "              max_depth=3, max_features='auto', max_leaf_nodes=None,\n",
       "              min_samples_leaf=10, min_samples_split=10,\n",
       "              min_weight_fraction_leaf=0.0, n_estimators=3000,\n",
       "              presort='auto', random_state=35, subsample=0.4, verbose=1,\n",
       "              warm_start=False)"
      ]
     },
     "execution_count": 209,
     "metadata": {},
     "output_type": "execute_result"
    }
   ],
   "source": [
    "num_estimators = 300\n",
    "model_ivq_GBC = GradientBoostingClassifier(loss='deviance', learning_rate=0.1, n_estimators=3000,\n",
    "                                           subsample=0.4, min_samples_split=10, min_samples_leaf=10,\n",
    "                                           min_weight_fraction_leaf=0.0, max_depth=3, init=None,\n",
    "                                           random_state=35, max_features='auto', verbose=1, max_leaf_nodes=None,\n",
    "                                           warm_start=False, presort='auto')\n",
    "model_ivq_GBC.fit(X_train, y_train['image_views_quantile'])"
   ]
  },
  {
   "cell_type": "code",
   "execution_count": 210,
   "metadata": {
    "collapsed": false
   },
   "outputs": [
    {
     "data": {
      "text/plain": [
       "[<matplotlib.lines.Line2D at 0x7f30d0bdb510>]"
      ]
     },
     "execution_count": 210,
     "metadata": {},
     "output_type": "execute_result"
    },
    {
     "data": {
      "image/png": "[encoded data removed]",
      "text/plain": [
       "<matplotlib.figure.Figure at 0x7f30c6143f90>"
      ]
     },
     "metadata": {},
     "output_type": "display_data"
    }
   ],
   "source": [
    "f1_scores = []\n",
    "for i, y_pred in zip(range(1, num_estimators+1), model_ivq_GBC.staged_predict(X_test)):\n",
    "    f1_scores.append(f1_score(y_test['image_views_quantile'], y_pred, labels=None, pos_label=None, average='macro', sample_weight=None))\n",
    "\n",
    "plt.plot(f1_scores, 'b')"
   ]
  },
  {
   "cell_type": "code",
   "execution_count": null,
   "metadata": {
    "collapsed": true
   },
   "outputs": [],
   "source": []
  },
  {
   "cell_type": "code",
   "execution_count": null,
   "metadata": {
    "collapsed": true
   },
   "outputs": [],
   "source": []
  },
  {
   "cell_type": "code",
   "execution_count": null,
   "metadata": {
    "collapsed": true
   },
   "outputs": [],
   "source": []
  },
  {
   "cell_type": "code",
   "execution_count": null,
   "metadata": {
    "collapsed": true
   },
   "outputs": [],
   "source": []
  },
  {
   "cell_type": "code",
   "execution_count": null,
   "metadata": {
    "collapsed": true
   },
   "outputs": [],
   "source": []
  },
  {
   "cell_type": "code",
   "execution_count": null,
   "metadata": {
    "collapsed": true
   },
   "outputs": [],
   "source": []
  },
  {
   "cell_type": "code",
   "execution_count": null,
   "metadata": {
    "collapsed": true
   },
   "outputs": [],
   "source": []
  },
  {
   "cell_type": "code",
   "execution_count": null,
   "metadata": {
    "collapsed": true
   },
   "outputs": [],
   "source": []
  },
  {
   "cell_type": "markdown",
   "metadata": {},
   "source": [
    "#### SVM"
   ]
  },
  {
   "cell_type": "code",
   "execution_count": 176,
   "metadata": {
    "collapsed": false
   },
   "outputs": [
    {
     "data": {
      "text/plain": [
       "0.64716507056800499"
      ]
     },
     "execution_count": 176,
     "metadata": {},
     "output_type": "execute_result"
    }
   ],
   "source": [
    "model_ivq_svc = SVC(C=1.0, kernel='rbf', degree=3, gamma='auto', coef0=0.0, shrinking=True, probability=False,\n",
    "                    tol=0.001, cache_size=200, class_weight=None, verbose=False, max_iter=-1,\n",
    "                    decision_function_shape=None, random_state=50)\n",
    "model_ivq_svc.fit(X_train, y_train['image_views_quantile'])\n",
    "y_pred = model_ivq_svc.predict(X_test)\n",
    "f1_score(y_test['image_views_quantile'], y_pred, labels=None, pos_label=None, average='macro', sample_weight=None)"
   ]
  },
  {
   "cell_type": "code",
   "execution_count": null,
   "metadata": {
    "collapsed": true
   },
   "outputs": [],
   "source": []
  }
 ],
 "metadata": {
  "kernelspec": {
   "display_name": "Python [Root]",
   "language": "python",
   "name": "Python [Root]"
  },
  "language_info": {
   "codemirror_mode": {
    "name": "ipython",
    "version": 2
   },
   "file_extension": ".py",
   "mimetype": "text/x-python",
   "name": "python",
   "nbconvert_exporter": "python",
   "pygments_lexer": "ipython2",
   "version": "2.7.12"
  }
 },
 "nbformat": 4,
 "nbformat_minor": 0
}
