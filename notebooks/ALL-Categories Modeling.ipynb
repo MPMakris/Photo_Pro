{
 "cells": [
  {
   "cell_type": "code",
   "execution_count": 20,
   "metadata": {
    "collapsed": true
   },
   "outputs": [],
   "source": [
    "import pandas as pd\n",
    "import numpy as np\n",
    "from sklearn.neighbors import KNeighborsClassifier\n",
    "from sklearn.ensemble import RandomForestClassifier, RandomForestRegressor, AdaBoostClassifier, GradientBoostingClassifier\n",
    "from sklearn.linear_model import LogisticRegression, LinearRegression, LogisticRegressionCV, Lasso, Ridge, RidgeClassifier, SGDClassifier\n",
    "from sklearn.cross_validation import train_test_split\n",
    "from sklearn.metrics import accuracy_score, precision_score, recall_score, precision_recall_curve, precision_recall_fscore_support, f1_score, r2_score \n",
    "from sklearn.preprocessing import StandardScaler\n",
    "import matplotlib.pyplot as plt\n",
    "%matplotlib inline\n",
    "from sklearn.svm import SVC\n",
    "from sklearn.tree import DecisionTreeClassifier\n",
    "from scipy.stats import randint as sp_randint, gamma as sp_gamma, expon as sp_expon, uniform as sp_uniform\n",
    "from sklearn.grid_search import GridSearchCV, RandomizedSearchCV\n",
    "import cPickle as pickle"
   ]
  },
  {
   "cell_type": "code",
   "execution_count": 2,
   "metadata": {
    "collapsed": false
   },
   "outputs": [
    {
     "name": "stdout",
     "output_type": "stream",
     "text": [
      "\u001b[1;33mWarning\u001b[0m: NaN found & filled in y_test.\n",
      "\n"
     ]
    }
   ],
   "source": [
    "def open_prepper(file_path):\n",
    "    \"\"\"Open the DataPrepper from pickled file.\"\"\"\n",
    "    with open(file_path) as f:\n",
    "        prepper = pickle.load(f)\n",
    "    return prepper\n",
    "\n",
    "file_path = '../data/store/data_prepper_ALL-CATEGORIES.pkl'\n",
    "prepper = open_prepper(file_path)\n",
    "\n",
    "X_train, y_train = prepper.return_training_data()\n",
    "X_test, y_test = prepper.return_testing_data()"
   ]
  },
  {
   "cell_type": "markdown",
   "metadata": {},
   "source": [
    "### IMAGE VIEW QUANTILES"
   ]
  },
  {
   "cell_type": "markdown",
   "metadata": {},
   "source": [
    "#### GBC"
   ]
  },
  {
   "cell_type": "code",
   "execution_count": 5,
   "metadata": {
    "collapsed": true
   },
   "outputs": [],
   "source": [
    "model_ivq_GBC = GradientBoostingClassifier(loss='deviance', learning_rate=0.2793, n_estimators=500, subsample=0.878,\n",
    "                                           min_samples_split=10, min_samples_leaf=10, min_weight_fraction_leaf=0.0,\n",
    "                                           max_depth=5, init=None, random_state=None, max_features='auto', verbose=1,\n",
    "                                           max_leaf_nodes=12, warm_start=True, presort='auto')"
   ]
  },
  {
   "cell_type": "code",
   "execution_count": 6,
   "metadata": {
    "collapsed": false
   },
   "outputs": [
    {
     "name": "stdout",
     "output_type": "stream",
     "text": [
      "      Iter       Train Loss      OOB Improve   Remaining Time \n",
      "         1      175577.5086        1545.6529         1117.02m\n",
      "         2      169624.4471         834.6579         1120.62m\n",
      "         3      165508.1553         532.6932         1098.15m\n",
      "         4      162650.7832         367.7260         1096.96m\n",
      "         5      160505.9044         279.5297         1100.38m\n",
      "         6      158584.9172         252.0923         1103.86m\n",
      "         7      157068.6581         172.5057         1101.86m\n",
      "         8      156045.1083         120.6247         1095.72m\n",
      "         9      154925.5663         114.5406         1090.68m\n",
      "        10      154021.7192         119.5260         1084.94m\n",
      "        20      147199.8696          35.3135         1047.69m\n",
      "        30      143770.3274          17.7463          991.35m\n",
      "        40      140833.7218           3.2083          936.78m\n",
      "        50      138466.6431           1.8888          891.19m\n",
      "        60      136399.5583           5.6201          850.81m\n",
      "        70      134441.8452           7.3769          816.94m\n",
      "        80      132325.5968           9.2803          782.37m\n",
      "        90      130668.2514           7.1731          750.35m\n",
      "       100      129257.3497          -0.2103          720.92m\n",
      "       200      115701.4755          -1.3832          502.49m\n",
      "       300      104742.2699           0.8751          319.52m\n",
      "       400       95498.6187          -1.4598          155.74m\n",
      "       500       87266.2503          -3.1948            0.00s\n"
     ]
    },
    {
     "data": {
      "text/plain": [
       "GradientBoostingClassifier(init=None, learning_rate=0.2793, loss='deviance',\n",
       "              max_depth=5, max_features='auto', max_leaf_nodes=12,\n",
       "              min_samples_leaf=10, min_samples_split=10,\n",
       "              min_weight_fraction_leaf=0.0, n_estimators=500,\n",
       "              presort='auto', random_state=None, subsample=0.878,\n",
       "              verbose=1, warm_start=True)"
      ]
     },
     "execution_count": 6,
     "metadata": {},
     "output_type": "execute_result"
    }
   ],
   "source": [
    "model_ivq_GBC.fit(X_train, y_train['image_views_quantized'])"
   ]
  },
  {
   "cell_type": "code",
   "execution_count": 8,
   "metadata": {
    "collapsed": false
   },
   "outputs": [
    {
     "data": {
      "text/plain": [
       "0.52645742622157721"
      ]
     },
     "execution_count": 8,
     "metadata": {},
     "output_type": "execute_result"
    }
   ],
   "source": [
    "model_ivq_GBC.score(X_test, y_test['image_views_quantized'])"
   ]
  },
  {
   "cell_type": "code",
   "execution_count": 12,
   "metadata": {
    "collapsed": false
   },
   "outputs": [],
   "source": [
    "with open('./classification_model_GBC_ALL-CATEGORIES_500.pkl', 'w') as f:\n",
    "    pickle.dump(model_ivq_GBC, f)"
   ]
  },
  {
   "cell_type": "code",
   "execution_count": 13,
   "metadata": {
    "collapsed": false
   },
   "outputs": [
    {
     "data": {
      "text/plain": [
       "[<matplotlib.lines.Line2D at 0x7fa8e014f9d0>]"
      ]
     },
     "execution_count": 13,
     "metadata": {},
     "output_type": "execute_result"
    },
    {
     "data": {
      "image/png": "[encoded data removed]",
      "text/plain": [
       "<matplotlib.figure.Figure at 0x7fa7fb6ed690>"
      ]
     },
     "metadata": {},
     "output_type": "display_data"
    }
   ],
   "source": [
    "f1_scores = []\n",
    "num_estimators = model_ivq_GBC.get_params()['n_estimators']\n",
    "for i, y_pred in zip(range(1, num_estimators+1), model_ivq_GBC.staged_predict(X_test)):\n",
    "    f1_scores.append(f1_score(y_test['image_views_quantized'], y_pred, labels=None, pos_label=None, average='weighted', sample_weight=None))\n",
    "plt.ylim((0,1.0))\n",
    "plt.plot(f1_scores, 'b')"
   ]
  },
  {
   "cell_type": "markdown",
   "metadata": {
    "collapsed": true
   },
   "source": [
    "#### AdaBoost Classifier"
   ]
  },
  {
   "cell_type": "code",
   "execution_count": 23,
   "metadata": {
    "collapsed": false
   },
   "outputs": [],
   "source": [
    "model_ivq_adaboost = AdaBoostClassifier(base_estimator=None, n_estimators=500, learning_rate=1.0,\n",
    "                                        algorithm='SAMME.R', random_state=None)"
   ]
  },
  {
   "cell_type": "code",
   "execution_count": 24,
   "metadata": {
    "collapsed": false
   },
   "outputs": [
    {
     "data": {
      "text/plain": [
       "AdaBoostClassifier(algorithm='SAMME.R', base_estimator=None,\n",
       "          learning_rate=1.0, n_estimators=500, random_state=None)"
      ]
     },
     "execution_count": 24,
     "metadata": {},
     "output_type": "execute_result"
    }
   ],
   "source": [
    "model_ivq_adaboost.fit(X_train, y_train['image_views_quantized'])"
   ]
  },
  {
   "cell_type": "code",
   "execution_count": 25,
   "metadata": {
    "collapsed": false
   },
   "outputs": [
    {
     "data": {
      "text/plain": [
       "0.39867561683599417"
      ]
     },
     "execution_count": 25,
     "metadata": {},
     "output_type": "execute_result"
    }
   ],
   "source": [
    "model_ivq_adaboost.score(X_test, y_test['image_views_quantized'])"
   ]
  },
  {
   "cell_type": "code",
   "execution_count": null,
   "metadata": {
    "collapsed": true
   },
   "outputs": [],
   "source": [
    "with open('./classification_model_adaboost_ALL-CATEGORIES_50.pkl', 'w') as f:\n",
    "    pickle.dump(model_ivq_GBC, f)"
   ]
  },
  {
   "cell_type": "markdown",
   "metadata": {
    "collapsed": true
   },
   "source": [
    "#### KNearest Neighbors"
   ]
  },
  {
   "cell_type": "code",
   "execution_count": 32,
   "metadata": {
    "collapsed": false
   },
   "outputs": [],
   "source": [
    "model_ivq_KNN = KNeighborsClassifier(n_neighbors=100, weights='uniform', algorithm='auto', leaf_size=30, p=2,\n",
    "                                     metric='minkowski', metric_params=None, n_jobs=20)"
   ]
  },
  {
   "cell_type": "code",
   "execution_count": 33,
   "metadata": {
    "collapsed": false
   },
   "outputs": [
    {
     "data": {
      "text/plain": [
       "KNeighborsClassifier(algorithm='auto', leaf_size=30, metric='minkowski',\n",
       "           metric_params=None, n_jobs=20, n_neighbors=100, p=2,\n",
       "           weights='uniform')"
      ]
     },
     "execution_count": 33,
     "metadata": {},
     "output_type": "execute_result"
    }
   ],
   "source": [
    "model_ivq_KNN.fit(X_train, y_train['image_views_quantized'])"
   ]
  },
  {
   "cell_type": "code",
   "execution_count": 34,
   "metadata": {
    "collapsed": false
   },
   "outputs": [
    {
     "data": {
      "text/plain": [
       "0.34781688437348812"
      ]
     },
     "execution_count": 34,
     "metadata": {},
     "output_type": "execute_result"
    }
   ],
   "source": [
    "model_ivq_KNN.score(X_test, y_test['image_views_quantized'])"
   ]
  },
  {
   "cell_type": "code",
   "execution_count": null,
   "metadata": {
    "collapsed": true
   },
   "outputs": [],
   "source": []
  }
 ],
 "metadata": {
  "kernelspec": {
   "display_name": "Python [Root]",
   "language": "python",
   "name": "Python [Root]"
  },
  "language_info": {
   "codemirror_mode": {
    "name": "ipython",
    "version": 2
   },
   "file_extension": ".py",
   "mimetype": "text/x-python",
   "name": "python",
   "nbconvert_exporter": "python",
   "pygments_lexer": "ipython2",
   "version": "2.7.12"
  }
 },
 "nbformat": 4,
 "nbformat_minor": 0
}
