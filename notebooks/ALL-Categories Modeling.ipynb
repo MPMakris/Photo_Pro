{
 "cells": [
  {
   "cell_type": "code",
   "execution_count": 1,
   "metadata": {
    "collapsed": true
   },
   "outputs": [],
   "source": [
    "import pandas as pd\n",
    "import numpy as np\n",
    "from sklearn.ensemble import RandomForestClassifier, RandomForestRegressor, AdaBoostClassifier, GradientBoostingClassifier\n",
    "from sklearn.linear_model import LogisticRegression, LinearRegression, LogisticRegressionCV, Lasso, Ridge, RidgeClassifier, SGDClassifier\n",
    "from sklearn.cross_validation import train_test_split\n",
    "from sklearn.metrics import accuracy_score, precision_score, recall_score, precision_recall_curve, precision_recall_fscore_support, f1_score, r2_score \n",
    "from sklearn.preprocessing import StandardScaler\n",
    "import matplotlib.pyplot as plt\n",
    "%matplotlib inline\n",
    "from sklearn.svm import SVC\n",
    "from sklearn.tree import DecisionTreeClassifier\n",
    "from scipy.stats import randint as sp_randint, gamma as sp_gamma, expon as sp_expon, uniform as sp_uniform\n",
    "from sklearn.grid_search import GridSearchCV, RandomizedSearchCV\n",
    "import cPickle as pickle"
   ]
  },
  {
   "cell_type": "code",
   "execution_count": 2,
   "metadata": {
    "collapsed": false
   },
   "outputs": [
    {
     "name": "stdout",
     "output_type": "stream",
     "text": [
      "\u001b[1;33mWarning\u001b[0m: NaN found & filled in y_test.\n",
      "\n"
     ]
    }
   ],
   "source": [
    "def open_prepper(file_path):\n",
    "    \"\"\"Open the DataPrepper from pickled file.\"\"\"\n",
    "    with open(file_path) as f:\n",
    "        prepper = pickle.load(f)\n",
    "    return prepper\n",
    "\n",
    "file_path = '../data/store/data_prepper_ALL-CATEGORIES.pkl'\n",
    "prepper = open_prepper(file_path)\n",
    "\n",
    "X_train, y_train = prepper.return_training_data()\n",
    "X_test, y_test = prepper.return_testing_data()"
   ]
  },
  {
   "cell_type": "markdown",
   "metadata": {},
   "source": [
    "### IMAGE VIEW QUANTILES"
   ]
  },
  {
   "cell_type": "code",
   "execution_count": 5,
   "metadata": {
    "collapsed": true
   },
   "outputs": [],
   "source": [
    "model_ivq_GBC = GradientBoostingClassifier(loss='deviance', learning_rate=0.2793, n_estimators=500, subsample=0.878,\n",
    "                                           min_samples_split=10, min_samples_leaf=10, min_weight_fraction_leaf=0.0,\n",
    "                                           max_depth=5, init=None, random_state=None, max_features='auto', verbose=1,\n",
    "                                           max_leaf_nodes=12, warm_start=True, presort='auto')"
   ]
  },
  {
   "cell_type": "code",
   "execution_count": 6,
   "metadata": {
    "collapsed": false
   },
   "outputs": [
    {
     "name": "stdout",
     "output_type": "stream",
     "text": [
      "      Iter       Train Loss      OOB Improve   Remaining Time \n",
      "         1      175577.5086        1545.6529         1117.02m\n",
      "         2      169624.4471         834.6579         1120.62m\n",
      "         3      165508.1553         532.6932         1098.15m\n",
      "         4      162650.7832         367.7260         1096.96m\n",
      "         5      160505.9044         279.5297         1100.38m\n",
      "         6      158584.9172         252.0923         1103.86m\n",
      "         7      157068.6581         172.5057         1101.86m\n",
      "         8      156045.1083         120.6247         1095.72m\n",
      "         9      154925.5663         114.5406         1090.68m\n",
      "        10      154021.7192         119.5260         1084.94m\n",
      "        20      147199.8696          35.3135         1047.69m\n",
      "        30      143770.3274          17.7463          991.35m\n",
      "        40      140833.7218           3.2083          936.78m\n",
      "        50      138466.6431           1.8888          891.19m\n",
      "        60      136399.5583           5.6201          850.81m\n",
      "        70      134441.8452           7.3769          816.94m\n",
      "        80      132325.5968           9.2803          782.37m\n",
      "        90      130668.2514           7.1731          750.35m\n",
      "       100      129257.3497          -0.2103          720.92m\n",
      "       200      115701.4755          -1.3832          502.49m\n",
      "       300      104742.2699           0.8751          319.52m\n",
      "       400       95498.6187          -1.4598          155.74m\n",
      "       500       87266.2503          -3.1948            0.00s\n"
     ]
    },
    {
     "data": {
      "text/plain": [
       "GradientBoostingClassifier(init=None, learning_rate=0.2793, loss='deviance',\n",
       "              max_depth=5, max_features='auto', max_leaf_nodes=12,\n",
       "              min_samples_leaf=10, min_samples_split=10,\n",
       "              min_weight_fraction_leaf=0.0, n_estimators=500,\n",
       "              presort='auto', random_state=None, subsample=0.878,\n",
       "              verbose=1, warm_start=True)"
      ]
     },
     "execution_count": 6,
     "metadata": {},
     "output_type": "execute_result"
    }
   ],
   "source": [
    "model_ivq_GBC.fit(X_train, y_train['image_views_quantized'])"
   ]
  },
  {
   "cell_type": "code",
   "execution_count": null,
   "metadata": {
    "collapsed": true
   },
   "outputs": [],
   "source": [
    "random_search_GBC.best_score_"
   ]
  },
  {
   "cell_type": "code",
   "execution_count": null,
   "metadata": {
    "collapsed": true
   },
   "outputs": [],
   "source": [
    "best_GBC = random_search_GBC.best_estimator_\n",
    "y_pred = best_GBC.predict(X_test)\n",
    "print \"Best AdaBoost DT F1 Score: \", f1_score(y_test['image_views_quantized'], y_pred, labels=None, pos_label=None, average='weighted', sample_weight=None)"
   ]
  },
  {
   "cell_type": "code",
   "execution_count": null,
   "metadata": {
    "collapsed": true
   },
   "outputs": [],
   "source": [
    "new_params = best_GBC.get_params()\n",
    "new_params['n_estimators'] = 1000\n",
    "new_params['verbose'] = 2\n",
    "new_model_ivq_GBC = GradientBoostingClassifier(**new_params)\n",
    "new_model_ivq_GBC.fit(X_train, y_train['image_views_quantized'])"
   ]
  },
  {
   "cell_type": "code",
   "execution_count": null,
   "metadata": {
    "collapsed": true
   },
   "outputs": [],
   "source": [
    "new_model_ivq_GBC.get_params()"
   ]
  },
  {
   "cell_type": "code",
   "execution_count": null,
   "metadata": {
    "collapsed": true
   },
   "outputs": [],
   "source": [
    "f1_scores = []\n",
    "num_estimators = new_model_ivq_GBC.get_params()['n_estimators']\n",
    "for i, y_pred in zip(range(1, num_estimators+1), new_model_ivq_GBC.staged_predict(X_test)):\n",
    "    f1_scores.append(f1_score(y_test['image_views_quantized'], y_pred, labels=None, pos_label=None, average='weighted', sample_weight=None))\n",
    "\n",
    "plt.plot(f1_scores, 'b')"
   ]
  },
  {
   "cell_type": "code",
   "execution_count": null,
   "metadata": {
    "collapsed": true
   },
   "outputs": [],
   "source": []
  },
  {
   "cell_type": "code",
   "execution_count": null,
   "metadata": {
    "collapsed": true
   },
   "outputs": [],
   "source": []
  },
  {
   "cell_type": "code",
   "execution_count": null,
   "metadata": {
    "collapsed": true
   },
   "outputs": [],
   "source": []
  },
  {
   "cell_type": "code",
   "execution_count": null,
   "metadata": {
    "collapsed": true
   },
   "outputs": [],
   "source": []
  },
  {
   "cell_type": "code",
   "execution_count": null,
   "metadata": {
    "collapsed": true
   },
   "outputs": [],
   "source": []
  },
  {
   "cell_type": "code",
   "execution_count": null,
   "metadata": {
    "collapsed": true
   },
   "outputs": [],
   "source": []
  }
 ],
 "metadata": {
  "kernelspec": {
   "display_name": "Python [Root]",
   "language": "python",
   "name": "Python [Root]"
  },
  "language_info": {
   "codemirror_mode": {
    "name": "ipython",
    "version": 2
   },
   "file_extension": ".py",
   "mimetype": "text/x-python",
   "name": "python",
   "nbconvert_exporter": "python",
   "pygments_lexer": "ipython2",
   "version": "2.7.12"
  }
 },
 "nbformat": 4,
 "nbformat_minor": 0
}
