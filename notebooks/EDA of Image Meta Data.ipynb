{
 "cells": [
  {
   "cell_type": "code",
   "execution_count": 31,
   "metadata": {
    "collapsed": false
   },
   "outputs": [],
   "source": [
    "import pandas as pd\n",
    "import numpy as np\n",
    "import matplotlib.pyplot as plt\n",
    "%matplotlib inline\n",
    "import requests\n",
    "import shutil"
   ]
  },
  {
   "cell_type": "code",
   "execution_count": 12,
   "metadata": {
    "collapsed": false
   },
   "outputs": [],
   "source": [
    "df = pd.read_csv('data/tables/flickr_image_search_for_LANDSCAPE_100.csv')"
   ]
  },
  {
   "cell_type": "code",
   "execution_count": 13,
   "metadata": {
    "collapsed": false
   },
   "outputs": [
    {
     "name": "stdout",
     "output_type": "stream",
     "text": [
      "<class 'pandas.core.frame.DataFrame'>\n",
      "Int64Index: 49999 entries, 0 to 49998\n",
      "Data columns (total 24 columns):\n",
      "geo_is_public     48566 non-null float64\n",
      "place_id          48561 non-null object\n",
      "owner             49999 non-null object\n",
      "id                49999 non-null int64\n",
      "title             49892 non-null object\n",
      "woeid             48561 non-null float64\n",
      "views             49999 non-null int64\n",
      "geo_is_friend     48566 non-null float64\n",
      "geo_is_contact    48566 non-null float64\n",
      "farm              49999 non-null int64\n",
      "secret            49999 non-null object\n",
      "ownername         49999 non-null object\n",
      "latitude          49999 non-null float64\n",
      "accuracy          49999 non-null int64\n",
      "isfamily          49999 non-null int64\n",
      "machine_tags      2110 non-null object\n",
      "tags              49999 non-null object\n",
      "isfriend          49999 non-null int64\n",
      "geo_is_family     48566 non-null float64\n",
      "license           49999 non-null int64\n",
      "ispublic          49999 non-null int64\n",
      "longitude         49999 non-null float64\n",
      "server            49999 non-null int64\n",
      "context           49999 non-null int64\n",
      "dtypes: float64(7), int64(10), object(7)\n",
      "memory usage: 9.5+ MB\n"
     ]
    }
   ],
   "source": [
    "df.info()"
   ]
  },
  {
   "cell_type": "code",
   "execution_count": 14,
   "metadata": {
    "collapsed": false
   },
   "outputs": [],
   "source": [
    "df = df[['id','title','owner','farm','server','secret','context','views']]"
   ]
  },
  {
   "cell_type": "code",
   "execution_count": 15,
   "metadata": {
    "collapsed": false
   },
   "outputs": [
    {
     "data": {
      "text/html": [
       "<div>\n",
       "<table border=\"1\" class=\"dataframe\">\n",
       "  <thead>\n",
       "    <tr style=\"text-align: right;\">\n",
       "      <th></th>\n",
       "      <th>id</th>\n",
       "      <th>title</th>\n",
       "      <th>owner</th>\n",
       "      <th>farm</th>\n",
       "      <th>server</th>\n",
       "      <th>secret</th>\n",
       "      <th>context</th>\n",
       "      <th>views</th>\n",
       "    </tr>\n",
       "  </thead>\n",
       "  <tbody>\n",
       "    <tr>\n",
       "      <th>0</th>\n",
       "      <td>28063510442</td>\n",
       "      <td>Twisted Sisters</td>\n",
       "      <td>79852347@N06</td>\n",
       "      <td>8</td>\n",
       "      <td>7411</td>\n",
       "      <td>cb63c00787</td>\n",
       "      <td>0</td>\n",
       "      <td>4672</td>\n",
       "    </tr>\n",
       "    <tr>\n",
       "      <th>1</th>\n",
       "      <td>27847929020</td>\n",
       "      <td>sea, Vieste, sky</td>\n",
       "      <td>14279081@N08</td>\n",
       "      <td>8</td>\n",
       "      <td>7519</td>\n",
       "      <td>b5b87102dd</td>\n",
       "      <td>0</td>\n",
       "      <td>3353</td>\n",
       "    </tr>\n",
       "    <tr>\n",
       "      <th>2</th>\n",
       "      <td>27782494500</td>\n",
       "      <td>Sea Of Misery</td>\n",
       "      <td>135954718@N02</td>\n",
       "      <td>8</td>\n",
       "      <td>7360</td>\n",
       "      <td>554fcbb696</td>\n",
       "      <td>0</td>\n",
       "      <td>54639</td>\n",
       "    </tr>\n",
       "    <tr>\n",
       "      <th>3</th>\n",
       "      <td>27914750402</td>\n",
       "      <td>Marjal Reflections III. [Explored &amp; FP 07-01-2...</td>\n",
       "      <td>112711738@N06</td>\n",
       "      <td>8</td>\n",
       "      <td>7520</td>\n",
       "      <td>c6b1314767</td>\n",
       "      <td>0</td>\n",
       "      <td>35634</td>\n",
       "    </tr>\n",
       "    <tr>\n",
       "      <th>4</th>\n",
       "      <td>27719697940</td>\n",
       "      <td>Just passing by...</td>\n",
       "      <td>62118446@N03</td>\n",
       "      <td>8</td>\n",
       "      <td>7617</td>\n",
       "      <td>28a96624d4</td>\n",
       "      <td>0</td>\n",
       "      <td>6161</td>\n",
       "    </tr>\n",
       "  </tbody>\n",
       "</table>\n",
       "</div>"
      ],
      "text/plain": [
       "            id                                              title  \\\n",
       "0  28063510442                                    Twisted Sisters   \n",
       "1  27847929020                                   sea, Vieste, sky   \n",
       "2  27782494500                                      Sea Of Misery   \n",
       "3  27914750402  Marjal Reflections III. [Explored & FP 07-01-2...   \n",
       "4  27719697940                                 Just passing by...   \n",
       "\n",
       "           owner  farm  server      secret  context  views  \n",
       "0   79852347@N06     8    7411  cb63c00787        0   4672  \n",
       "1   14279081@N08     8    7519  b5b87102dd        0   3353  \n",
       "2  135954718@N02     8    7360  554fcbb696        0  54639  \n",
       "3  112711738@N06     8    7520  c6b1314767        0  35634  \n",
       "4   62118446@N03     8    7617  28a96624d4        0   6161  "
      ]
     },
     "execution_count": 15,
     "metadata": {},
     "output_type": "execute_result"
    }
   ],
   "source": [
    "df.head()"
   ]
  },
  {
   "cell_type": "code",
   "execution_count": 37,
   "metadata": {
    "collapsed": true
   },
   "outputs": [],
   "source": [
    "url = 'https://farm{farm_id}.staticflickr.com/{server_id}/{ID}_{secret}_o.jpg'\n",
    "url_list = [url.format(farm_id=df['farm'][i], server_id=df['server'][i], ID=df['id'][i], secret=df['secret'][i]) for i in range(len(df))]"
   ]
  },
  {
   "cell_type": "code",
   "execution_count": 38,
   "metadata": {
    "collapsed": true
   },
   "outputs": [],
   "source": [
    "df['url'] = url_list"
   ]
  },
  {
   "cell_type": "code",
   "execution_count": 39,
   "metadata": {
    "collapsed": false
   },
   "outputs": [
    {
     "data": {
      "text/html": [
       "<div>\n",
       "<table border=\"1\" class=\"dataframe\">\n",
       "  <thead>\n",
       "    <tr style=\"text-align: right;\">\n",
       "      <th></th>\n",
       "      <th>id</th>\n",
       "      <th>title</th>\n",
       "      <th>owner</th>\n",
       "      <th>farm</th>\n",
       "      <th>server</th>\n",
       "      <th>secret</th>\n",
       "      <th>context</th>\n",
       "      <th>views</th>\n",
       "      <th>url</th>\n",
       "    </tr>\n",
       "  </thead>\n",
       "  <tbody>\n",
       "    <tr>\n",
       "      <th>0</th>\n",
       "      <td>28063510442</td>\n",
       "      <td>Twisted Sisters</td>\n",
       "      <td>79852347@N06</td>\n",
       "      <td>8</td>\n",
       "      <td>7411</td>\n",
       "      <td>cb63c00787</td>\n",
       "      <td>0</td>\n",
       "      <td>4672</td>\n",
       "      <td>https://farm8.staticflickr.com/7411/2806351044...</td>\n",
       "    </tr>\n",
       "    <tr>\n",
       "      <th>1</th>\n",
       "      <td>27847929020</td>\n",
       "      <td>sea, Vieste, sky</td>\n",
       "      <td>14279081@N08</td>\n",
       "      <td>8</td>\n",
       "      <td>7519</td>\n",
       "      <td>b5b87102dd</td>\n",
       "      <td>0</td>\n",
       "      <td>3353</td>\n",
       "      <td>https://farm8.staticflickr.com/7519/2784792902...</td>\n",
       "    </tr>\n",
       "    <tr>\n",
       "      <th>2</th>\n",
       "      <td>27782494500</td>\n",
       "      <td>Sea Of Misery</td>\n",
       "      <td>135954718@N02</td>\n",
       "      <td>8</td>\n",
       "      <td>7360</td>\n",
       "      <td>554fcbb696</td>\n",
       "      <td>0</td>\n",
       "      <td>54639</td>\n",
       "      <td>https://farm8.staticflickr.com/7360/2778249450...</td>\n",
       "    </tr>\n",
       "    <tr>\n",
       "      <th>3</th>\n",
       "      <td>27914750402</td>\n",
       "      <td>Marjal Reflections III. [Explored &amp; FP 07-01-2...</td>\n",
       "      <td>112711738@N06</td>\n",
       "      <td>8</td>\n",
       "      <td>7520</td>\n",
       "      <td>c6b1314767</td>\n",
       "      <td>0</td>\n",
       "      <td>35634</td>\n",
       "      <td>https://farm8.staticflickr.com/7520/2791475040...</td>\n",
       "    </tr>\n",
       "    <tr>\n",
       "      <th>4</th>\n",
       "      <td>27719697940</td>\n",
       "      <td>Just passing by...</td>\n",
       "      <td>62118446@N03</td>\n",
       "      <td>8</td>\n",
       "      <td>7617</td>\n",
       "      <td>28a96624d4</td>\n",
       "      <td>0</td>\n",
       "      <td>6161</td>\n",
       "      <td>https://farm8.staticflickr.com/7617/2771969794...</td>\n",
       "    </tr>\n",
       "  </tbody>\n",
       "</table>\n",
       "</div>"
      ],
      "text/plain": [
       "            id                                              title  \\\n",
       "0  28063510442                                    Twisted Sisters   \n",
       "1  27847929020                                   sea, Vieste, sky   \n",
       "2  27782494500                                      Sea Of Misery   \n",
       "3  27914750402  Marjal Reflections III. [Explored & FP 07-01-2...   \n",
       "4  27719697940                                 Just passing by...   \n",
       "\n",
       "           owner  farm  server      secret  context  views  \\\n",
       "0   79852347@N06     8    7411  cb63c00787        0   4672   \n",
       "1   14279081@N08     8    7519  b5b87102dd        0   3353   \n",
       "2  135954718@N02     8    7360  554fcbb696        0  54639   \n",
       "3  112711738@N06     8    7520  c6b1314767        0  35634   \n",
       "4   62118446@N03     8    7617  28a96624d4        0   6161   \n",
       "\n",
       "                                                 url  \n",
       "0  https://farm8.staticflickr.com/7411/2806351044...  \n",
       "1  https://farm8.staticflickr.com/7519/2784792902...  \n",
       "2  https://farm8.staticflickr.com/7360/2778249450...  \n",
       "3  https://farm8.staticflickr.com/7520/2791475040...  \n",
       "4  https://farm8.staticflickr.com/7617/2771969794...  "
      ]
     },
     "execution_count": 39,
     "metadata": {},
     "output_type": "execute_result"
    }
   ],
   "source": [
    "df.head()"
   ]
  },
  {
   "cell_type": "code",
   "execution_count": null,
   "metadata": {
    "collapsed": true
   },
   "outputs": [],
   "source": []
  },
  {
   "cell_type": "code",
   "execution_count": null,
   "metadata": {
    "collapsed": true
   },
   "outputs": [],
   "source": []
  },
  {
   "cell_type": "code",
   "execution_count": null,
   "metadata": {
    "collapsed": true
   },
   "outputs": [],
   "source": []
  },
  {
   "cell_type": "code",
   "execution_count": 40,
   "metadata": {
    "collapsed": true
   },
   "outputs": [],
   "source": [
    "def get_picture(ID, owner, search_term, url):\n",
    "    file_name = 'data/images/{}/{}_{}.jpg'.format(search_term, owner, ID)\n",
    "    r = requests.get(url, stream=True)\n",
    "    with open(file_name, 'wb') as out_file:\n",
    "        shutil.copyfileobj(r.raw, out_file)\n",
    "    del r"
   ]
  },
  {
   "cell_type": "code",
   "execution_count": 41,
   "metadata": {
    "collapsed": false
   },
   "outputs": [],
   "source": [
    "for i in range(5):\n",
    "    ID = df['id'][i]\n",
    "    owner = df['owner'][i]\n",
    "    search_term = 'LANDSCAPE'\n",
    "    url = df['url'][i]\n",
    "    get_picture(ID, owner, search_term, url)"
   ]
  },
  {
   "cell_type": "code",
   "execution_count": null,
   "metadata": {
    "collapsed": true
   },
   "outputs": [],
   "source": []
  },
  {
   "cell_type": "code",
   "execution_count": null,
   "metadata": {
    "collapsed": true
   },
   "outputs": [],
   "source": []
  },
  {
   "cell_type": "code",
   "execution_count": 7,
   "metadata": {
    "collapsed": false
   },
   "outputs": [
    {
     "data": {
      "text/plain": [
       "array([[<matplotlib.axes._subplots.AxesSubplot object at 0x106339ed0>]], dtype=object)"
      ]
     },
     "execution_count": 7,
     "metadata": {},
     "output_type": "execute_result"
    },
    {
     "data": {
      "image/png": "[encoded data removed]",
      "text/plain": [
       "<matplotlib.figure.Figure at 0x117bf7810>"
      ]
     },
     "metadata": {},
     "output_type": "display_data"
    }
   ],
   "source": [
    "df.hist('views', bins=200)"
   ]
  },
  {
   "cell_type": "code",
   "execution_count": 19,
   "metadata": {
    "collapsed": false
   },
   "outputs": [
    {
     "data": {
      "text/plain": [
       "2128"
      ]
     },
     "execution_count": 19,
     "metadata": {},
     "output_type": "execute_result"
    }
   ],
   "source": [
    "df['views'].min()"
   ]
  },
  {
   "cell_type": "code",
   "execution_count": null,
   "metadata": {
    "collapsed": true
   },
   "outputs": [],
   "source": []
  }
 ],
 "metadata": {
  "kernelspec": {
   "display_name": "Python 2",
   "language": "python",
   "name": "python2"
  },
  "language_info": {
   "codemirror_mode": {
    "name": "ipython",
    "version": 2
   },
   "file_extension": ".py",
   "mimetype": "text/x-python",
   "name": "python",
   "nbconvert_exporter": "python",
   "pygments_lexer": "ipython2",
   "version": "2.7.12"
  }
 },
 "nbformat": 4,
 "nbformat_minor": 0
}
