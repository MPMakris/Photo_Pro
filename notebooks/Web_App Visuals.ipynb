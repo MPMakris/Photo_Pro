{
 "cells": [
  {
   "cell_type": "code",
   "execution_count": 1,
   "metadata": {
    "collapsed": false
   },
   "outputs": [],
   "source": [
    "import cPickle as pickle\n",
    "import pandas as pd\n",
    "import numpy as np\n",
    "import matplotlib.pyplot as plt\n",
    "%matplotlib inline\n",
    "#import seaborn"
   ]
  },
  {
   "cell_type": "code",
   "execution_count": 2,
   "metadata": {
    "collapsed": true
   },
   "outputs": [],
   "source": [
    "def open_prepper(file_path):\n",
    "    \"\"\"Open the DataPrepper from pickled file.\"\"\"\n",
    "    with open(file_path) as f:\n",
    "        prepper = pickle.load(f)\n",
    "    return prepper"
   ]
  },
  {
   "cell_type": "code",
   "execution_count": 3,
   "metadata": {
    "collapsed": true
   },
   "outputs": [],
   "source": [
    "def custom_hist(array, lower, upper, nbins):\n",
    "    \"\"\"Get histogram of values.\n",
    "\n",
    "    PARAMETERS\n",
    "    ----------\n",
    "    channel_array : 1D or 2D numpy array\n",
    "        Raw data values.\n",
    "\n",
    "    lower : int\n",
    "        Lower limit of data values allowed.\n",
    "\n",
    "    upper : int\n",
    "        Upper limit of data values allowed.\n",
    "\n",
    "    nbins : int\n",
    "        Number of bins to put data into.\n",
    "\n",
    "    RETURNS\n",
    "    -------\n",
    "    counts : list\n",
    "        A list of the counts of values in each bin.\n",
    "    \"\"\"\n",
    "    values = array.astype(int).flatten()\n",
    "    data = np.round(values, decimals=0).astype(float)\n",
    "    bin_width = ((upper+1) - lower)/float(nbins)\n",
    "    steps = np.arange(lower, upper+1+bin_width, bin_width)[0:nbins+1]\n",
    "    hist, edges = np.histogram(data, bins=steps)\n",
    "    return list(hist)"
   ]
  },
  {
   "cell_type": "code",
   "execution_count": 4,
   "metadata": {
    "collapsed": false
   },
   "outputs": [],
   "source": [
    "file_path = '../data/store/data_prepper_ALL-CATEGORIES.pkl'\n",
    "prepper = open_prepper(file_path)"
   ]
  },
  {
   "cell_type": "code",
   "execution_count": 5,
   "metadata": {
    "collapsed": true
   },
   "outputs": [],
   "source": [
    "X_train, y_train = prepper.return_training_data()"
   ]
  },
  {
   "cell_type": "code",
   "execution_count": 6,
   "metadata": {
    "collapsed": false
   },
   "outputs": [
    {
     "name": "stdout",
     "output_type": "stream",
     "text": [
      "\u001b[1;33mWarning\u001b[0m: NaN found & filled in y_test.\n",
      "\n"
     ]
    }
   ],
   "source": [
    "X_test, y_test = prepper.return_testing_data()"
   ]
  },
  {
   "cell_type": "code",
   "execution_count": null,
   "metadata": {
    "collapsed": false
   },
   "outputs": [],
   "source": [
    "X_train.shape"
   ]
  },
  {
   "cell_type": "code",
   "execution_count": null,
   "metadata": {
    "collapsed": false
   },
   "outputs": [],
   "source": [
    "X_test.shape"
   ]
  },
  {
   "cell_type": "code",
   "execution_count": 7,
   "metadata": {
    "collapsed": true
   },
   "outputs": [],
   "source": [
    "X_combined = pd.concat((X_train, X_test), axis=0)"
   ]
  },
  {
   "cell_type": "code",
   "execution_count": 8,
   "metadata": {
    "collapsed": false
   },
   "outputs": [],
   "source": [
    "y_combined = pd.concat((y_train, y_test), axis=0)"
   ]
  },
  {
   "cell_type": "code",
   "execution_count": null,
   "metadata": {
    "collapsed": false
   },
   "outputs": [],
   "source": [
    "views = y_train['image_views']\n",
    "views_hist,bins,_ = plt.hist(views, bins=1000, range=(0, 1000), normed=True)"
   ]
  },
  {
   "cell_type": "code",
   "execution_count": null,
   "metadata": {
    "collapsed": false
   },
   "outputs": [],
   "source": [
    "views_hist.shape"
   ]
  },
  {
   "cell_type": "code",
   "execution_count": null,
   "metadata": {
    "collapsed": false
   },
   "outputs": [],
   "source": [
    "bins.shape"
   ]
  },
  {
   "cell_type": "code",
   "execution_count": null,
   "metadata": {
    "collapsed": true
   },
   "outputs": [],
   "source": [
    "i = 21\n",
    "j = 40"
   ]
  },
  {
   "cell_type": "code",
   "execution_count": null,
   "metadata": {
    "collapsed": true
   },
   "outputs": [],
   "source": [
    "cmap = ['skyblue','tomato','mediumseagreen','lightslategrey', 'y']"
   ]
  },
  {
   "cell_type": "code",
   "execution_count": null,
   "metadata": {
    "collapsed": false
   },
   "outputs": [],
   "source": [
    "plt.figure(figsize=(6, 4))\n",
    "for i, j, color in zip(limits[:-1], limits[1:], cmap):\n",
    "    div = (bins[:-1]<=j) & (bins[:-1]>i)\n",
    "    plt.fill_between(bins[:-1][div], 0, views_hist[div], color=color)\n",
    "plt.title('20% View Quantiles', fontsize=20)\n",
    "plt.ylabel(\"Image PDF\", fontsize=15)\n",
    "plt.xlabel(\"Total Views\", fontsize=15)\n",
    "# plt.tick_params(\n",
    "#     axis='y',          # changes apply to the x-axis\n",
    "#     which='both',      # both major and minor ticks are affected\n",
    "#     left='off',      # ticks along the bottom edge are off\n",
    "#     right='off',         # ticks along the top edge are off\n",
    "#     labelleft='off') # labels along the bottom edge are off\n",
    "plt.xlim((0, 800))\n",
    "plt.savefig('visuals/20PercentHist.jpg', dpi=300)"
   ]
  },
  {
   "cell_type": "code",
   "execution_count": null,
   "metadata": {
    "collapsed": false
   },
   "outputs": [],
   "source": [
    "plt.figure(figsize=(6, 4))\n",
    "for i, j, color in zip(limits[:-1], limits[1:], cmap):\n",
    "    div = (bins[:-1]<=j) & (bins[:-1]>i)\n",
    "    plt.fill_between(np.log(bins)[:-1][div], 0, views_hist[div], color=color)\n",
    "plt.title('20% View Quantiles', fontsize=20)\n",
    "plt.ylabel(\"Image PDF\", fontsize=15)\n",
    "plt.xlabel(\"Log(Total Views)\", fontsize=15)\n",
    "# plt.tick_params(\n",
    "#     axis='y',          # changes apply to the x-axis\n",
    "#     which='both',      # both major and minor ticks are affected\n",
    "#     left='off',      # ticks along the bottom edge are off\n",
    "#     right='off',         # ticks along the top edge are off\n",
    "#     labelleft='off') # labels along the bottom edge are off\n",
    "# plt.xlim((0, 800))\n",
    "plt.savefig('visuals/Log20PercentHist.jpg', dpi=300)"
   ]
  },
  {
   "cell_type": "code",
   "execution_count": null,
   "metadata": {
    "collapsed": true
   },
   "outputs": [],
   "source": []
  },
  {
   "cell_type": "code",
   "execution_count": null,
   "metadata": {
    "collapsed": true
   },
   "outputs": [],
   "source": []
  },
  {
   "cell_type": "code",
   "execution_count": null,
   "metadata": {
    "collapsed": false
   },
   "outputs": [],
   "source": [
    "limits = []\n",
    "n=5\n",
    "quantiles = np.arange(0, n+1)/float(n)\n",
    "for i, quant in enumerate(quantiles):\n",
    "    limits.append(views.quantile(quant))\n",
    "limits\n",
    "# log_limits = np.log(limits)"
   ]
  },
  {
   "cell_type": "code",
   "execution_count": null,
   "metadata": {
    "collapsed": false
   },
   "outputs": [],
   "source": [
    "limits"
   ]
  },
  {
   "cell_type": "code",
   "execution_count": null,
   "metadata": {
    "collapsed": true
   },
   "outputs": [],
   "source": [
    "log_views = np.log(views)\n",
    "hist_views = np.hist"
   ]
  },
  {
   "cell_type": "code",
   "execution_count": null,
   "metadata": {
    "collapsed": false
   },
   "outputs": [],
   "source": [
    "for i, lim in enumerate(limits[:-1]):\n",
    "    plt.hist(log_views[(views>limits[i]) & (views<=limits[i+1])], bins=(np.round(limits[i+1]-limits[i])))\n",
    "plt.show()"
   ]
  },
  {
   "cell_type": "code",
   "execution_count": null,
   "metadata": {
    "collapsed": true
   },
   "outputs": [],
   "source": []
  },
  {
   "cell_type": "markdown",
   "metadata": {
    "collapsed": true
   },
   "source": [
    "### ALL-CATEGORIES MODELING"
   ]
  },
  {
   "cell_type": "code",
   "execution_count": 9,
   "metadata": {
    "collapsed": true
   },
   "outputs": [],
   "source": [
    "model_class_all_cats = open_prepper('classification_model_GBC_ALL-CATEGORIES_500.pkl')"
   ]
  },
  {
   "cell_type": "code",
   "execution_count": 10,
   "metadata": {
    "collapsed": false
   },
   "outputs": [
    {
     "data": {
      "text/plain": [
       "0.52645742622157721"
      ]
     },
     "execution_count": 10,
     "metadata": {},
     "output_type": "execute_result"
    }
   ],
   "source": [
    "model_class_all_cats.score(X_test, y_test['image_views_quantized'])"
   ]
  },
  {
   "cell_type": "code",
   "execution_count": 13,
   "metadata": {
    "collapsed": false
   },
   "outputs": [],
   "source": [
    "feature_im = model_class_all_cats.feature_importances_\n",
    "feature_names = X_train.columns"
   ]
  },
  {
   "cell_type": "code",
   "execution_count": 25,
   "metadata": {
    "collapsed": false
   },
   "outputs": [],
   "source": [
    "idx_sort = np.argsort(feature_im)[::-1][:20]"
   ]
  },
  {
   "cell_type": "code",
   "execution_count": 26,
   "metadata": {
    "collapsed": false
   },
   "outputs": [
    {
     "data": {
      "image/png": "[encoded data removed]",
      "text/plain": [
       "<matplotlib.figure.Figure at 0x7f7ff948f110>"
      ]
     },
     "metadata": {},
     "output_type": "display_data"
    },
    {
     "name": "stdout",
     "output_type": "stream",
     "text": [
      "Index([u'image_ntags', u'aspect_ratio', u'script', u'crisp_sobel',\n",
      "       u'bright_ctr8_numctrs8', u'u_bin51_nbins100', u'bright_ctr7_numctrs8',\n",
      "       u'red_bin1_nbins120.1', u'red_bin1_nbins120', u'u_bin49_nbins100',\n",
      "       u'bright_ctr6_numctrs8', u'bright_ctr3_numctrs3',\n",
      "       u'bright_ctr5_numctrs8', u'v_bin49_nbins100', u'blue_bin1_nbins120',\n",
      "       u'v_bin51_nbins100', u'v_bin52_nbins100', u'bright_ctr1_numctrs8',\n",
      "       u'bright_ctr3_numctrs8', u'u_bin52_nbins100'],\n",
      "      dtype='object')\n"
     ]
    }
   ],
   "source": [
    "plt.plot(feature_im[idx_sort])\n",
    "plt.show()\n",
    "print feature_names[idx_sort]"
   ]
  },
  {
   "cell_type": "code",
   "execution_count": 218,
   "metadata": {
    "collapsed": false
   },
   "outputs": [],
   "source": [
    "def plot_features(model, X_train, n=10, title=None, savename='FeaturePlot.png', color_p='custom', figsize=(10, 8)):\n",
    "    feature_im = model_class_all_cats.feature_importances_\n",
    "    feature_names = X_train.columns.values\n",
    "    # Rename Laplace Feature as Neccessary:\n",
    "    feature_names[feature_names == 'script']='crisp_laplace'\n",
    "    idx_sort = np.argsort(feature_im)[::-1][:n]\n",
    "    plt.figure(figsize=figsize, dpi=300)\n",
    "    \n",
    "    vals = feature_im[idx_sort]\n",
    "    pos = range(1,n+1,1)\n",
    "    pos_ticks = [i-0.1 for i in pos]\n",
    "    \n",
    "    if color_p != 'plain':\n",
    "        color=[np.array([255., 51., 153.]),\n",
    "               np.array([255., 51., 255.]),\n",
    "               np.array([153., 51., 255.]),\n",
    "               np.array([51., 51., 255.]),\n",
    "               np.array([51., 153., 255.]),\n",
    "               np.array([51., 255., 255.]),\n",
    "               np.array([51., 255., 153]),\n",
    "               np.array([51., 255., 51.]),\n",
    "               np.array([153., 255., 51.]),\n",
    "               np.array([255., 255., 51.])]\n",
    "\n",
    "        color = [tuple(arr/255) for arr in color]\n",
    "    else:\n",
    "        color = (51./255, 51./255, 255./255)\n",
    "\n",
    "    plt.bar(pos, vals, 0.5, 0, color=color)\n",
    "\n",
    "    if n <=15:\n",
    "        x_ticks = plt.xticks(pos_ticks, feature_names[idx_sort], rotation=70, fontsize=15)\n",
    "        ticks = plt.gca().get_xticklabels()\n",
    "#     [i.set_color(j) for i, j in zip(ticks, color)]\n",
    "\n",
    "    plt.title('Feature Importances', fontsize=30)\n",
    "    plt.xlabel(\"Features\", fontsize=20)\n",
    "    plt.ylabel(\"Feature Importances (%)\", fontsize=20)\n",
    "    plt.xlim((0, n+1))\n",
    "\n",
    "    if title is not None:\n",
    "        plt.title(title, fontsize=16)\n",
    "    plt.tight_layout()\n",
    "    plt.savefig(savename, frameon=True, transparent=False, format='png')"
   ]
  },
  {
   "cell_type": "code",
   "execution_count": 219,
   "metadata": {
    "collapsed": false
   },
   "outputs": [
    {
     "data": {
      "image/png": "[encoded data removed]",
      "text/plain": [
       "<matplotlib.figure.Figure at 0x7f7ff2f12710>"
      ]
     },
     "metadata": {},
     "output_type": "display_data"
    }
   ],
   "source": [
    "plot_features(model_class_all_cats, X_train, savename='visuals/All_Categories_Classification_Feature_Importances.png')"
   ]
  },
  {
   "cell_type": "code",
   "execution_count": 221,
   "metadata": {
    "collapsed": false
   },
   "outputs": [
    {
     "data": {
      "image/png": "[encoded data removed]",
      "text/plain": [
       "<matplotlib.figure.Figure at 0x7f7ff8e75cd0>"
      ]
     },
     "metadata": {},
     "output_type": "display_data"
    }
   ],
   "source": [
    "plot_features(model_class_all_cats, X_train, n=100, color_p='plain', figsize=(10, 6), savename='visuals/All_Categories_Classification_Feature_Importances_all.png')"
   ]
  },
  {
   "cell_type": "code",
   "execution_count": null,
   "metadata": {
    "collapsed": true
   },
   "outputs": [],
   "source": []
  }
 ],
 "metadata": {
  "kernelspec": {
   "display_name": "Python [Root]",
   "language": "python",
   "name": "Python [Root]"
  },
  "language_info": {
   "codemirror_mode": {
    "name": "ipython",
    "version": 2
   },
   "file_extension": ".py",
   "mimetype": "text/x-python",
   "name": "python",
   "nbconvert_exporter": "python",
   "pygments_lexer": "ipython2",
   "version": "2.7.12"
  }
 },
 "nbformat": 4,
 "nbformat_minor": 0
}
