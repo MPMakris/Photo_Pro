{
 "cells": [
  {
   "cell_type": "code",
   "execution_count": 1,
   "metadata": {
    "collapsed": false
   },
   "outputs": [],
   "source": [
    "import cPickle as pickle\n",
    "import pandas as pd\n",
    "import numpy as np\n",
    "import matplotlib.pyplot as plt\n",
    "%matplotlib inline\n",
    "import seaborn"
   ]
  },
  {
   "cell_type": "code",
   "execution_count": 2,
   "metadata": {
    "collapsed": true
   },
   "outputs": [],
   "source": [
    "def open_prepper(file_path):\n",
    "    \"\"\"Open the DataPrepper from pickled file.\"\"\"\n",
    "    with open(file_path) as f:\n",
    "        prepper = pickle.load(f)\n",
    "    return prepper"
   ]
  },
  {
   "cell_type": "code",
   "execution_count": 3,
   "metadata": {
    "collapsed": true
   },
   "outputs": [],
   "source": [
    "def custom_hist(array, lower, upper, nbins):\n",
    "    \"\"\"Get histogram of values.\n",
    "\n",
    "    PARAMETERS\n",
    "    ----------\n",
    "    channel_array : 1D or 2D numpy array\n",
    "        Raw data values.\n",
    "\n",
    "    lower : int\n",
    "        Lower limit of data values allowed.\n",
    "\n",
    "    upper : int\n",
    "        Upper limit of data values allowed.\n",
    "\n",
    "    nbins : int\n",
    "        Number of bins to put data into.\n",
    "\n",
    "    RETURNS\n",
    "    -------\n",
    "    counts : list\n",
    "        A list of the counts of values in each bin.\n",
    "    \"\"\"\n",
    "    values = array.astype(int).flatten()\n",
    "    data = np.round(values, decimals=0).astype(float)\n",
    "    bin_width = ((upper+1) - lower)/float(nbins)\n",
    "    steps = np.arange(lower, upper+1+bin_width, bin_width)[0:nbins+1]\n",
    "    hist, edges = np.histogram(data, bins=steps)\n",
    "    return list(hist)"
   ]
  },
  {
   "cell_type": "code",
   "execution_count": 4,
   "metadata": {
    "collapsed": false
   },
   "outputs": [],
   "source": [
    "file_path = '../data/store/data_prepper_ALL-CATEGORIES.pkl'\n",
    "prepper = open_prepper(file_path)"
   ]
  },
  {
   "cell_type": "code",
   "execution_count": 5,
   "metadata": {
    "collapsed": true
   },
   "outputs": [],
   "source": [
    "X_train, y_train = prepper.return_training_data()"
   ]
  },
  {
   "cell_type": "code",
   "execution_count": 6,
   "metadata": {
    "collapsed": false
   },
   "outputs": [
    {
     "name": "stdout",
     "output_type": "stream",
     "text": [
      "\u001b[1;33mWarning\u001b[0m: NaN found & filled in y_test.\n",
      "\n"
     ]
    }
   ],
   "source": [
    "X_test, y_test = prepper.return_testing_data()"
   ]
  },
  {
   "cell_type": "code",
   "execution_count": 7,
   "metadata": {
    "collapsed": false
   },
   "outputs": [
    {
     "data": {
      "text/plain": [
       "(132286, 1089)"
      ]
     },
     "execution_count": 7,
     "metadata": {},
     "output_type": "execute_result"
    }
   ],
   "source": [
    "X_train.shape"
   ]
  },
  {
   "cell_type": "code",
   "execution_count": 8,
   "metadata": {
    "collapsed": false
   },
   "outputs": [
    {
     "data": {
      "text/plain": [
       "(33072, 1089)"
      ]
     },
     "execution_count": 8,
     "metadata": {},
     "output_type": "execute_result"
    }
   ],
   "source": [
    "X_test.shape"
   ]
  },
  {
   "cell_type": "code",
   "execution_count": 9,
   "metadata": {
    "collapsed": true
   },
   "outputs": [],
   "source": [
    "X_combined = pd.concat((X_train, X_test), axis=0)"
   ]
  },
  {
   "cell_type": "code",
   "execution_count": 10,
   "metadata": {
    "collapsed": false
   },
   "outputs": [],
   "source": [
    "y_combined = pd.concat((y_train, y_test), axis=0)"
   ]
  },
  {
   "cell_type": "code",
   "execution_count": 60,
   "metadata": {
    "collapsed": false
   },
   "outputs": [
    {
     "data": {
      "image/png": "[encoded data removed]",
      "text/plain": [
       "<matplotlib.figure.Figure at 0x7fad9a483290>"
      ]
     },
     "metadata": {},
     "output_type": "display_data"
    }
   ],
   "source": [
    "views = y_train['image_views']\n",
    "views_hist,bins,_ = plt.hist(views, bins=1000, range=(0, 1000), normed=True)"
   ]
  },
  {
   "cell_type": "code",
   "execution_count": 61,
   "metadata": {
    "collapsed": false
   },
   "outputs": [
    {
     "data": {
      "text/plain": [
       "(1000,)"
      ]
     },
     "execution_count": 61,
     "metadata": {},
     "output_type": "execute_result"
    }
   ],
   "source": [
    "views_hist.shape"
   ]
  },
  {
   "cell_type": "code",
   "execution_count": 62,
   "metadata": {
    "collapsed": false
   },
   "outputs": [
    {
     "data": {
      "text/plain": [
       "(1001,)"
      ]
     },
     "execution_count": 62,
     "metadata": {},
     "output_type": "execute_result"
    }
   ],
   "source": [
    "bins.shape"
   ]
  },
  {
   "cell_type": "code",
   "execution_count": 63,
   "metadata": {
    "collapsed": true
   },
   "outputs": [],
   "source": [
    "i = 21\n",
    "j = 40"
   ]
  },
  {
   "cell_type": "code",
   "execution_count": 64,
   "metadata": {
    "collapsed": true
   },
   "outputs": [],
   "source": [
    "cmap = ['skyblue','tomato','mediumseagreen','lightslategrey', 'y']"
   ]
  },
  {
   "cell_type": "code",
   "execution_count": 80,
   "metadata": {
    "collapsed": false
   },
   "outputs": [
    {
     "data": {
      "image/png": "[encoded data removed]",
      "text/plain": [
       "<matplotlib.figure.Figure at 0x7fac95043fd0>"
      ]
     },
     "metadata": {},
     "output_type": "display_data"
    }
   ],
   "source": [
    "plt.figure(figsize=(12, 8))\n",
    "for i, j, color in zip(limits[:-1], limits[1:], cmap):\n",
    "    div = (bins[:-1]<=j) & (bins[:-1]>i)\n",
    "    plt.fill_between(bins[:-1][div], 0, views_hist[div], color=color)\n",
    "plt.title('20% View Quantiles', fontsize=20)\n",
    "plt.ylabel(\"Image PDF\", fontsize=15)\n",
    "plt.xlabel(\"Total Views\", fontsize=15)\n",
    "# plt.tick_params(\n",
    "#     axis='y',          # changes apply to the x-axis\n",
    "#     which='both',      # both major and minor ticks are affected\n",
    "#     left='off',      # ticks along the bottom edge are off\n",
    "#     right='off',         # ticks along the top edge are off\n",
    "#     labelleft='off') # labels along the bottom edge are off\n",
    "plt.xlim((0, 800))\n",
    "plt.savefig('visuals/20PercentHist.jpg')"
   ]
  },
  {
   "cell_type": "code",
   "execution_count": null,
   "metadata": {
    "collapsed": true
   },
   "outputs": [],
   "source": []
  },
  {
   "cell_type": "code",
   "execution_count": null,
   "metadata": {
    "collapsed": true
   },
   "outputs": [],
   "source": []
  },
  {
   "cell_type": "code",
   "execution_count": null,
   "metadata": {
    "collapsed": true
   },
   "outputs": [],
   "source": []
  },
  {
   "cell_type": "code",
   "execution_count": 17,
   "metadata": {
    "collapsed": false
   },
   "outputs": [
    {
     "data": {
      "text/plain": [
       "[0.0, 21.0, 38.0, 63.0, 188.0, 83589.0]"
      ]
     },
     "execution_count": 17,
     "metadata": {},
     "output_type": "execute_result"
    }
   ],
   "source": [
    "limits = []\n",
    "n=5\n",
    "quantiles = np.arange(0, n+1)/float(n)\n",
    "for i, quant in enumerate(quantiles):\n",
    "    limits.append(views.quantile(quant))\n",
    "limits\n",
    "# log_limits = np.log(limits)"
   ]
  },
  {
   "cell_type": "code",
   "execution_count": 14,
   "metadata": {
    "collapsed": false
   },
   "outputs": [
    {
     "data": {
      "text/plain": [
       "array([  0.00000000e+00,   2.10000000e+01,   3.80000000e+01,\n",
       "         6.30000000e+01,   1.88000000e+02,   8.35890000e+04])"
      ]
     },
     "execution_count": 14,
     "metadata": {},
     "output_type": "execute_result"
    }
   ],
   "source": [
    "limits"
   ]
  },
  {
   "cell_type": "code",
   "execution_count": null,
   "metadata": {
    "collapsed": true
   },
   "outputs": [],
   "source": [
    "log_views = np.log(views)\n",
    "hist_views = np.hist"
   ]
  },
  {
   "cell_type": "code",
   "execution_count": null,
   "metadata": {
    "collapsed": false
   },
   "outputs": [],
   "source": [
    "for i, lim in enumerate(limits[:-1]):\n",
    "    plt.hist(log_views[(views>limits[i]) & (views<=limits[i+1])], bins=(np.round(limits[i+1]-limits[i])))\n",
    "plt.show()"
   ]
  },
  {
   "cell_type": "code",
   "execution_count": null,
   "metadata": {
    "collapsed": true
   },
   "outputs": [],
   "source": []
  },
  {
   "cell_type": "code",
   "execution_count": null,
   "metadata": {
    "collapsed": true
   },
   "outputs": [],
   "source": []
  },
  {
   "cell_type": "code",
   "execution_count": null,
   "metadata": {
    "collapsed": true
   },
   "outputs": [],
   "source": []
  },
  {
   "cell_type": "code",
   "execution_count": null,
   "metadata": {
    "collapsed": true
   },
   "outputs": [],
   "source": [
    "model = open_prepper('../data/store/GBC_model_image_views_quantized_BUILDING.pkl')"
   ]
  },
  {
   "cell_type": "code",
   "execution_count": null,
   "metadata": {
    "collapsed": false
   },
   "outputs": [],
   "source": [
    "model.predict_proba(X_combined.loc['27672924@N03'].loc[3311374123].reshape((1, -1))).reshape((-1,))"
   ]
  },
  {
   "cell_type": "code",
   "execution_count": null,
   "metadata": {
    "collapsed": true
   },
   "outputs": [],
   "source": []
  },
  {
   "cell_type": "code",
   "execution_count": null,
   "metadata": {
    "collapsed": false
   },
   "outputs": [],
   "source": [
    "plt.figure(figsize=(12, 7))\n",
    "plt.title(\"Distribution of Image Total Views\", fontsize=20)\n",
    "plt.xlabel(\"Image Views\", fontsize=15)\n",
    "plt.ylabel(\"Users\", fontsize=15)\n",
    "\n",
    "\n",
    "plt.hist(y_train['user_total_views'], bins=1000, histtype='step', lw=5)\n",
    "plt.show()"
   ]
  },
  {
   "cell_type": "code",
   "execution_count": null,
   "metadata": {
    "collapsed": false
   },
   "outputs": [],
   "source": [
    "ownwer_views = np.array(list(y_train[['user_total_views']].groupby(level=0).mean().values))"
   ]
  },
  {
   "cell_type": "code",
   "execution_count": null,
   "metadata": {
    "collapsed": false
   },
   "outputs": [],
   "source": [
    "counts = custom_hist(ownwer_views, 0, 1000, 1000)"
   ]
  },
  {
   "cell_type": "code",
   "execution_count": null,
   "metadata": {
    "collapsed": false
   },
   "outputs": [],
   "source": [
    "plt.plot(counts)"
   ]
  },
  {
   "cell_type": "code",
   "execution_count": null,
   "metadata": {
    "collapsed": false
   },
   "outputs": [],
   "source": [
    "views = np.array(list(y_train['image_views'][y_train['image_views']<=300]))"
   ]
  },
  {
   "cell_type": "code",
   "execution_count": null,
   "metadata": {
    "collapsed": false
   },
   "outputs": [],
   "source": [
    "counts = custom_hist(views, 0, 300, 300)"
   ]
  },
  {
   "cell_type": "code",
   "execution_count": null,
   "metadata": {
    "collapsed": false
   },
   "outputs": [],
   "source": [
    "plt.plot(counts)"
   ]
  },
  {
   "cell_type": "code",
   "execution_count": null,
   "metadata": {
    "collapsed": true
   },
   "outputs": [],
   "source": [
    "data = []\n",
    "for i, count in enumerate(counts):\n",
    "    data.append([i, count])"
   ]
  },
  {
   "cell_type": "code",
   "execution_count": null,
   "metadata": {
    "collapsed": false
   },
   "outputs": [],
   "source": [
    "X_train.values.tolist()[0]"
   ]
  },
  {
   "cell_type": "code",
   "execution_count": null,
   "metadata": {
    "collapsed": false
   },
   "outputs": [],
   "source": [
    "plt.hist(y_train['image_views_quantized'])"
   ]
  },
  {
   "cell_type": "code",
   "execution_count": null,
   "metadata": {
    "collapsed": false
   },
   "outputs": [],
   "source": [
    "prepper.column_limits"
   ]
  },
  {
   "cell_type": "code",
   "execution_count": null,
   "metadata": {
    "collapsed": false
   },
   "outputs": [],
   "source": [
    "dir_for_app_plots = '../app/static/analytics/img/'\n",
    "plt.figure(figsize=(12, 7))\n",
    "plt.title(\"Distribution of Image Views\", fontsize=30)\n",
    "plt.xlabel(\"Image Views\", fontsize=20)\n",
    "# seaborn.set_style(style='darkgrid')\n",
    "seaborn.kdeplot(y_train['image_views'], gridsize=50000)\n",
    "plt.xlim(0, 300)\n",
    "plt.legend(fontsize=20)\n",
    "plt.tight_layout()\n",
    "plt.savefig(dir_for_app_plots+'image_views_hist.png')"
   ]
  },
  {
   "cell_type": "code",
   "execution_count": null,
   "metadata": {
    "collapsed": true
   },
   "outputs": [],
   "source": []
  },
  {
   "cell_type": "code",
   "execution_count": null,
   "metadata": {
    "collapsed": true
   },
   "outputs": [],
   "source": []
  },
  {
   "cell_type": "code",
   "execution_count": null,
   "metadata": {
    "collapsed": true
   },
   "outputs": [],
   "source": []
  },
  {
   "cell_type": "code",
   "execution_count": null,
   "metadata": {
    "collapsed": false
   },
   "outputs": [],
   "source": [
    "from IPython.display import Image\n",
    "Image(filename='../../Photo_Pro/data/store/GBC_model_user_is_pro_ANIMALS_plot.png') "
   ]
  },
  {
   "cell_type": "code",
   "execution_count": null,
   "metadata": {
    "collapsed": true
   },
   "outputs": [],
   "source": []
  }
 ],
 "metadata": {
  "kernelspec": {
   "display_name": "Python [Root]",
   "language": "python",
   "name": "Python [Root]"
  },
  "language_info": {
   "codemirror_mode": {
    "name": "ipython",
    "version": 2
   },
   "file_extension": ".py",
   "mimetype": "text/x-python",
   "name": "python",
   "nbconvert_exporter": "python",
   "pygments_lexer": "ipython2",
   "version": "2.7.12"
  }
 },
 "nbformat": 4,
 "nbformat_minor": 0
}
