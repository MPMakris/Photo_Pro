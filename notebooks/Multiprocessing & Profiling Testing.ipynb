{
 "cells": [
  {
   "cell_type": "code",
   "execution_count": 1,
   "metadata": {
    "collapsed": false
   },
   "outputs": [],
   "source": [
    "import cProfile\n",
    "import re\n",
    "import os\n",
    "import sys\n",
    "import time"
   ]
  },
  {
   "cell_type": "code",
   "execution_count": 2,
   "metadata": {
    "collapsed": false
   },
   "outputs": [],
   "source": [
    "module_path = os.path.abspath(os.path.join('..'))\n",
    "if module_path not in sys.path:\n",
    "    sys.path.append(module_path)"
   ]
  },
  {
   "cell_type": "code",
   "execution_count": 3,
   "metadata": {
    "collapsed": false
   },
   "outputs": [],
   "source": [
    "from src.analyze.build_image_features import set_feature_controls\n",
    "from src.analyze.read_image import analyze_image"
   ]
  },
  {
   "cell_type": "code",
   "execution_count": null,
   "metadata": {
    "collapsed": false
   },
   "outputs": [],
   "source": [
    "picture = '\"../data/images/ANIMALS/100605515@N02_19999462253.jpg\"'\n",
    "command = 'analyze_image({}, set_feature_controls())'.format(picture)\n",
    "t_start = time.clock()\n",
    "num_processes = 20\n",
    "for i in range(20):\n",
    "    cProfile.run(command, 'restats')\n",
    "print \"Time Per Process: \", (time.clock() - t_start)/float(num_processes)"
   ]
  },
  {
   "cell_type": "markdown",
   "metadata": {},
   "source": [
    "### Multithreading"
   ]
  },
  {
   "cell_type": "code",
   "execution_count": 4,
   "metadata": {
    "collapsed": true
   },
   "outputs": [],
   "source": [
    "from sys import argv\n",
    "from math import floor, sqrt\n",
    "from multiprocessing import Process, Queue"
   ]
  },
  {
   "cell_type": "code",
   "execution_count": 5,
   "metadata": {
    "collapsed": false
   },
   "outputs": [],
   "source": [
    "t_start = time.clock()\n",
    "directory = '../data/images/ANIMALS/'\n",
    "files = os.listdir(directory)[:5]\n",
    "controls = set_feature_controls()"
   ]
  },
  {
   "cell_type": "code",
   "execution_count": 47,
   "metadata": {
    "collapsed": false
   },
   "outputs": [
    {
     "name": "stdout",
     "output_type": "stream",
     "text": [
      "ALIVE?  [True, True, True, True, True]\n",
      "function done\n",
      "# Features:  1\n",
      "function done\n",
      "# Features:  2\n",
      "function done\n",
      "# Features:  3\n",
      "function done\n",
      "# Features:  4\n",
      "function done\n",
      "# Features:  5\n",
      "Time Per Call:  0.840526\n"
     ]
    }
   ],
   "source": [
    "queue = Queue()\n",
    "processes = []\n",
    "\n",
    "for i in files:\n",
    "    processes.append(Process(target=analyze_image, args=(directory +i, controls, queue, False, )))\n",
    "\n",
    "for t in processes:\n",
    "    t.start()\n",
    "    \n",
    "features = []\n",
    "\n",
    "print \"ALIVE? \", [a.is_alive() for a in processes]\n",
    "check = True\n",
    "while check:\n",
    "    if sum([a.is_alive() for a in processes]) == 0:\n",
    "        check = False    \n",
    "    if (sum([a.is_alive() for a in processes]) == 0) and (queue.empty()):\n",
    "        check = False\n",
    "    try:\n",
    "        features.append(queue.get(block=True, timeout=3))\n",
    "    except:\n",
    "        continue\n",
    "    print \"# Features: \", len(features)\n",
    "    \n",
    "# for t in processes:\n",
    "#     print \"join now\"\n",
    "#     t.join()\n",
    "#print features\n",
    "\n",
    "\n",
    "print \"Time Per Call: \", (time.clock() - t_start)/float(len(files))\n",
    "# print len(features)"
   ]
  },
  {
   "cell_type": "code",
   "execution_count": null,
   "metadata": {
    "collapsed": false
   },
   "outputs": [],
   "source": [
    "len(features)"
   ]
  },
  {
   "cell_type": "code",
   "execution_count": 28,
   "metadata": {
    "collapsed": false
   },
   "outputs": [],
   "source": [
    "a = processes[0]"
   ]
  },
  {
   "cell_type": "code",
   "execution_count": 29,
   "metadata": {
    "collapsed": false
   },
   "outputs": [
    {
     "data": {
      "text/plain": [
       "True"
      ]
     },
     "execution_count": 29,
     "metadata": {},
     "output_type": "execute_result"
    }
   ],
   "source": [
    "a.is_alive()"
   ]
  },
  {
   "cell_type": "code",
   "execution_count": 38,
   "metadata": {
    "collapsed": false
   },
   "outputs": [
    {
     "data": {
      "text/plain": [
       "5"
      ]
     },
     "execution_count": 38,
     "metadata": {},
     "output_type": "execute_result"
    }
   ],
   "source": [
    "sum([a.is_alive() for a in processes])"
   ]
  },
  {
   "cell_type": "code",
   "execution_count": 45,
   "metadata": {
    "collapsed": false
   },
   "outputs": [
    {
     "ename": "NameError",
     "evalue": "name 'm' is not defined",
     "output_type": "error",
     "traceback": [
      "\u001b[0;31m---------------------------------------------------------------------------\u001b[0m",
      "\u001b[0;31mNameError\u001b[0m                                 Traceback (most recent call last)",
      "\u001b[0;32m<ipython-input-45-436da75b6858>\u001b[0m in \u001b[0;36m<module>\u001b[0;34m()\u001b[0m\n\u001b[0;32m----> 1\u001b[0;31m \u001b[0mm\u001b[0m\u001b[0;34m.\u001b[0m\u001b[0mappend\u001b[0m\u001b[0;34m(\u001b[0m\u001b[0ml\u001b[0m\u001b[0;34m)\u001b[0m\u001b[0;34m\u001b[0m\u001b[0m\n\u001b[0m",
      "\u001b[0;31mNameError\u001b[0m: name 'm' is not defined"
     ]
    }
   ],
   "source": [
    "m.append(l)"
   ]
  },
  {
   "cell_type": "code",
   "execution_count": null,
   "metadata": {
    "collapsed": true
   },
   "outputs": [],
   "source": []
  }
 ],
 "metadata": {
  "kernelspec": {
   "display_name": "Python 2",
   "language": "python",
   "name": "python2"
  },
  "language_info": {
   "codemirror_mode": {
    "name": "ipython",
    "version": 2
   },
   "file_extension": ".py",
   "mimetype": "text/x-python",
   "name": "python",
   "nbconvert_exporter": "python",
   "pygments_lexer": "ipython2",
   "version": "2.7.12"
  }
 },
 "nbformat": 4,
 "nbformat_minor": 0
}
