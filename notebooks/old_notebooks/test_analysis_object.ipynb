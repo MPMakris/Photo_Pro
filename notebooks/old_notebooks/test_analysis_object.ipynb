{
 "cells": [
  {
   "cell_type": "code",
   "execution_count": 17,
   "metadata": {
    "collapsed": true
   },
   "outputs": [],
   "source": [
    "import os, sys\n",
    "import pandas as pd"
   ]
  },
  {
   "cell_type": "code",
   "execution_count": 18,
   "metadata": {
    "collapsed": true
   },
   "outputs": [],
   "source": [
    "module_path = os.path.abspath(os.path.join('..'))\n",
    "if module_path not in sys.path:\n",
    "    sys.path.append(module_path)"
   ]
  },
  {
   "cell_type": "code",
   "execution_count": 21,
   "metadata": {
    "collapsed": false
   },
   "outputs": [],
   "source": [
    "from src.analyze.read_image import ImageFeaturizer\n",
    "from src.analyze.run_image_featurization import set_feature_controls"
   ]
  },
  {
   "cell_type": "code",
   "execution_count": 22,
   "metadata": {
    "collapsed": true
   },
   "outputs": [],
   "source": [
    "controls = set_feature_controls()"
   ]
  },
  {
   "cell_type": "code",
   "execution_count": null,
   "metadata": {
    "collapsed": false
   },
   "outputs": [],
   "source": [
    "image = ImageFeaturizer('../data/images/PORTRAIT/100163283@N07_19385438686.jpg', controls, columns_out=True)"
   ]
  },
  {
   "cell_type": "code",
   "execution_count": 14,
   "metadata": {
    "collapsed": false
   },
   "outputs": [
    {
     "data": {
      "text/plain": [
       "1090"
      ]
     },
     "execution_count": 14,
     "metadata": {},
     "output_type": "execute_result"
    }
   ],
   "source": [
    "len(image.feature_data)"
   ]
  },
  {
   "cell_type": "code",
   "execution_count": 15,
   "metadata": {
    "collapsed": false
   },
   "outputs": [
    {
     "data": {
      "text/plain": [
       "1090"
      ]
     },
     "execution_count": 15,
     "metadata": {},
     "output_type": "execute_result"
    }
   ],
   "source": [
    "len(image.column_names)"
   ]
  },
  {
   "cell_type": "code",
   "execution_count": 16,
   "metadata": {
    "collapsed": false
   },
   "outputs": [
    {
     "ename": "TypeError",
     "evalue": "_get_channel_data() takes exactly 5 arguments (1 given)",
     "output_type": "error",
     "traceback": [
      "\u001b[0;31m---------------------------------------------------------------------------\u001b[0m",
      "\u001b[0;31mTypeError\u001b[0m                                 Traceback (most recent call last)",
      "\u001b[0;32m<ipython-input-16-c161ea86f48b>\u001b[0m in \u001b[0;36m<module>\u001b[0;34m()\u001b[0m\n\u001b[0;32m----> 1\u001b[0;31m \u001b[0mimage\u001b[0m\u001b[0;34m.\u001b[0m\u001b[0m_get_channel_data\u001b[0m\u001b[0;34m(\u001b[0m\u001b[0;34m)\u001b[0m\u001b[0;34m\u001b[0m\u001b[0m\n\u001b[0m",
      "\u001b[0;31mTypeError\u001b[0m: _get_channel_data() takes exactly 5 arguments (1 given)"
     ]
    }
   ],
   "source": [
    "image._get_channel_data()"
   ]
  },
  {
   "cell_type": "code",
   "execution_count": 54,
   "metadata": {
    "collapsed": true
   },
   "outputs": [],
   "source": [
    "a = image.feature_data\n",
    "b = image.column_names"
   ]
  },
  {
   "cell_type": "code",
   "execution_count": 28,
   "metadata": {
    "collapsed": false
   },
   "outputs": [],
   "source": [
    "a.extend(b)"
   ]
  },
  {
   "cell_type": "code",
   "execution_count": 32,
   "metadata": {
    "collapsed": true
   },
   "outputs": [],
   "source": [
    "[a].append(b)"
   ]
  },
  {
   "cell_type": "code",
   "execution_count": 33,
   "metadata": {
    "collapsed": false
   },
   "outputs": [
    {
     "data": {
      "text/plain": [
       "2181"
      ]
     },
     "execution_count": 33,
     "metadata": {},
     "output_type": "execute_result"
    }
   ],
   "source": [
    "len(a)"
   ]
  },
  {
   "cell_type": "code",
   "execution_count": 47,
   "metadata": {
    "collapsed": false
   },
   "outputs": [],
   "source": [
    "[a,b].append(b)"
   ]
  },
  {
   "cell_type": "code",
   "execution_count": 48,
   "metadata": {
    "collapsed": false
   },
   "outputs": [
    {
     "data": {
      "text/plain": [
       "2"
      ]
     },
     "execution_count": 48,
     "metadata": {},
     "output_type": "execute_result"
    }
   ],
   "source": [
    "_"
   ]
  },
  {
   "cell_type": "code",
   "execution_count": 55,
   "metadata": {
    "collapsed": true
   },
   "outputs": [],
   "source": [
    "c = [a]"
   ]
  },
  {
   "cell_type": "code",
   "execution_count": 57,
   "metadata": {
    "collapsed": false
   },
   "outputs": [],
   "source": [
    "c.append(b)"
   ]
  },
  {
   "cell_type": "code",
   "execution_count": 58,
   "metadata": {
    "collapsed": false
   },
   "outputs": [
    {
     "data": {
      "text/plain": [
       "2"
      ]
     },
     "execution_count": 58,
     "metadata": {},
     "output_type": "execute_result"
    }
   ],
   "source": [
    "len(c)\n"
   ]
  },
  {
   "cell_type": "code",
   "execution_count": 60,
   "metadata": {
    "collapsed": false
   },
   "outputs": [
    {
     "data": {
      "text/html": [
       "<div>\n",
       "<table border=\"1\" class=\"dataframe\">\n",
       "  <thead>\n",
       "    <tr style=\"text-align: right;\">\n",
       "      <th></th>\n",
       "      <th>0</th>\n",
       "      <th>1</th>\n",
       "      <th>2</th>\n",
       "      <th>3</th>\n",
       "      <th>4</th>\n",
       "      <th>5</th>\n",
       "      <th>6</th>\n",
       "      <th>7</th>\n",
       "      <th>8</th>\n",
       "      <th>9</th>\n",
       "      <th>...</th>\n",
       "      <th>2171</th>\n",
       "      <th>2172</th>\n",
       "      <th>2173</th>\n",
       "      <th>2174</th>\n",
       "      <th>2175</th>\n",
       "      <th>2176</th>\n",
       "      <th>2177</th>\n",
       "      <th>2178</th>\n",
       "      <th>2179</th>\n",
       "      <th>2180</th>\n",
       "    </tr>\n",
       "  </thead>\n",
       "  <tbody>\n",
       "    <tr>\n",
       "      <th>0</th>\n",
       "      <td>100163283@N07</td>\n",
       "      <td>19385438686</td>\n",
       "      <td>0.000255193</td>\n",
       "      <td>0.000890431</td>\n",
       "      <td>0.00170046</td>\n",
       "      <td>0.00260763</td>\n",
       "      <td>0.00279258</td>\n",
       "      <td>0.00348681</td>\n",
       "      <td>0.00373816</td>\n",
       "      <td>0.00656532</td>\n",
       "      <td>...</td>\n",
       "      <td>bright_ctr2_numctrs3</td>\n",
       "      <td>bright_ctr3_numctrs3</td>\n",
       "      <td>bright_ctr1_numctrs8</td>\n",
       "      <td>bright_ctr2_numctrs8</td>\n",
       "      <td>bright_ctr3_numctrs8</td>\n",
       "      <td>bright_ctr4_numctrs8</td>\n",
       "      <td>bright_ctr5_numctrs8</td>\n",
       "      <td>bright_ctr6_numctrs8</td>\n",
       "      <td>bright_ctr7_numctrs8</td>\n",
       "      <td>bright_ctr8_numctrs8</td>\n",
       "    </tr>\n",
       "    <tr>\n",
       "      <th>1</th>\n",
       "      <td>owner</td>\n",
       "      <td>id</td>\n",
       "      <td>red_bin1_nbins120</td>\n",
       "      <td>red_bin2_nbins120</td>\n",
       "      <td>red_bin3_nbins120</td>\n",
       "      <td>red_bin4_nbins120</td>\n",
       "      <td>red_bin5_nbins120</td>\n",
       "      <td>red_bin6_nbins120</td>\n",
       "      <td>red_bin7_nbins120</td>\n",
       "      <td>red_bin8_nbins120</td>\n",
       "      <td>...</td>\n",
       "      <td>None</td>\n",
       "      <td>None</td>\n",
       "      <td>None</td>\n",
       "      <td>None</td>\n",
       "      <td>None</td>\n",
       "      <td>None</td>\n",
       "      <td>None</td>\n",
       "      <td>None</td>\n",
       "      <td>None</td>\n",
       "      <td>None</td>\n",
       "    </tr>\n",
       "  </tbody>\n",
       "</table>\n",
       "<p>2 rows × 2181 columns</p>\n",
       "</div>"
      ],
      "text/plain": [
       "            0            1                  2                  3     \\\n",
       "0  100163283@N07  19385438686        0.000255193        0.000890431   \n",
       "1          owner           id  red_bin1_nbins120  red_bin2_nbins120   \n",
       "\n",
       "                4                  5                  6                  7     \\\n",
       "0         0.00170046         0.00260763         0.00279258         0.00348681   \n",
       "1  red_bin3_nbins120  red_bin4_nbins120  red_bin5_nbins120  red_bin6_nbins120   \n",
       "\n",
       "                8                  9             ...           \\\n",
       "0         0.00373816         0.00656532          ...            \n",
       "1  red_bin7_nbins120  red_bin8_nbins120          ...            \n",
       "\n",
       "                   2171                  2172                  2173  \\\n",
       "0  bright_ctr2_numctrs3  bright_ctr3_numctrs3  bright_ctr1_numctrs8   \n",
       "1                  None                  None                  None   \n",
       "\n",
       "                   2174                  2175                  2176  \\\n",
       "0  bright_ctr2_numctrs8  bright_ctr3_numctrs8  bright_ctr4_numctrs8   \n",
       "1                  None                  None                  None   \n",
       "\n",
       "                   2177                  2178                  2179  \\\n",
       "0  bright_ctr5_numctrs8  bright_ctr6_numctrs8  bright_ctr7_numctrs8   \n",
       "1                  None                  None                  None   \n",
       "\n",
       "                   2180  \n",
       "0  bright_ctr8_numctrs8  \n",
       "1                  None  \n",
       "\n",
       "[2 rows x 2181 columns]"
      ]
     },
     "execution_count": 60,
     "metadata": {},
     "output_type": "execute_result"
    }
   ],
   "source": [
    "pd.DataFrame(c)"
   ]
  },
  {
   "cell_type": "code",
   "execution_count": null,
   "metadata": {
    "collapsed": true
   },
   "outputs": [],
   "source": []
  }
 ],
 "metadata": {
  "kernelspec": {
   "display_name": "Python [Root]",
   "language": "python",
   "name": "Python [Root]"
  },
  "language_info": {
   "codemirror_mode": {
    "name": "ipython",
    "version": 2
   },
   "file_extension": ".py",
   "mimetype": "text/x-python",
   "name": "python",
   "nbconvert_exporter": "python",
   "pygments_lexer": "ipython2",
   "version": "2.7.12"
  }
 },
 "nbformat": 4,
 "nbformat_minor": 0
}
