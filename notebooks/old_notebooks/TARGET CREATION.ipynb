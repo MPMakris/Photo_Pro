{
 "cells": [
  {
   "cell_type": "code",
   "execution_count": 42,
   "metadata": {
    "collapsed": true
   },
   "outputs": [],
   "source": [
    "import pandas as pd\n",
    "import requests\n",
    "from bs4 import BeautifulSoup\n",
    "import numpy as np"
   ]
  },
  {
   "cell_type": "code",
   "execution_count": 21,
   "metadata": {
    "collapsed": false
   },
   "outputs": [],
   "source": [
    "df_meta = pd.read_csv('../data/modeling/BUILDING/feature_data_BUILDING_2.csv', sep='|')"
   ]
  },
  {
   "cell_type": "code",
   "execution_count": null,
   "metadata": {
    "collapsed": true
   },
   "outputs": [],
   "source": [
    "def get_more_image_info(ID):\n",
    "    url = ''\n",
    "    # Get Picture Num Favorites\n",
    "    r = requests"
   ]
  },
  {
   "cell_type": "code",
   "execution_count": 22,
   "metadata": {
    "collapsed": false
   },
   "outputs": [
    {
     "data": {
      "text/html": [
       "<div>\n",
       "<table border=\"1\" class=\"dataframe\">\n",
       "  <thead>\n",
       "    <tr style=\"text-align: right;\">\n",
       "      <th></th>\n",
       "      <th>owner</th>\n",
       "      <th>id</th>\n",
       "      <th>red_bin1_nbins255</th>\n",
       "      <th>red_bin2_nbins255</th>\n",
       "      <th>red_bin3_nbins255</th>\n",
       "      <th>red_bin4_nbins255</th>\n",
       "      <th>red_bin5_nbins255</th>\n",
       "      <th>red_bin6_nbins255</th>\n",
       "      <th>red_bin7_nbins255</th>\n",
       "      <th>red_bin8_nbins255</th>\n",
       "      <th>...</th>\n",
       "      <th>bright_ctr2_numctrs3</th>\n",
       "      <th>bright_ctr3_numctrs3</th>\n",
       "      <th>bright_ctr1_numctrs8</th>\n",
       "      <th>bright_ctr2_numctrs8</th>\n",
       "      <th>bright_ctr3_numctrs8</th>\n",
       "      <th>bright_ctr4_numctrs8</th>\n",
       "      <th>bright_ctr5_numctrs8</th>\n",
       "      <th>bright_ctr6_numctrs8</th>\n",
       "      <th>bright_ctr7_numctrs8</th>\n",
       "      <th>bright_ctr8_numctrs8</th>\n",
       "    </tr>\n",
       "  </thead>\n",
       "  <tbody>\n",
       "    <tr>\n",
       "      <th>0</th>\n",
       "      <td>100477852@N05</td>\n",
       "      <td>22334842890</td>\n",
       "      <td>0.049714</td>\n",
       "      <td>0.007710</td>\n",
       "      <td>0.004919</td>\n",
       "      <td>0.004460</td>\n",
       "      <td>0.004275</td>\n",
       "      <td>0.004307</td>\n",
       "      <td>0.004183</td>\n",
       "      <td>0.004269</td>\n",
       "      <td>...</td>\n",
       "      <td>180.156076</td>\n",
       "      <td>121.404213</td>\n",
       "      <td>65.621626</td>\n",
       "      <td>45.136088</td>\n",
       "      <td>156.713228</td>\n",
       "      <td>180.494681</td>\n",
       "      <td>129.341803</td>\n",
       "      <td>98.223681</td>\n",
       "      <td>203.314016</td>\n",
       "      <td>16.978573</td>\n",
       "    </tr>\n",
       "    <tr>\n",
       "      <th>1</th>\n",
       "      <td>10075702@N00</td>\n",
       "      <td>27207215286</td>\n",
       "      <td>0.020037</td>\n",
       "      <td>0.010178</td>\n",
       "      <td>0.009991</td>\n",
       "      <td>0.009921</td>\n",
       "      <td>0.009359</td>\n",
       "      <td>0.008085</td>\n",
       "      <td>0.006747</td>\n",
       "      <td>0.005709</td>\n",
       "      <td>...</td>\n",
       "      <td>119.609792</td>\n",
       "      <td>38.601534</td>\n",
       "      <td>184.079172</td>\n",
       "      <td>158.257146</td>\n",
       "      <td>106.486092</td>\n",
       "      <td>132.946391</td>\n",
       "      <td>214.015711</td>\n",
       "      <td>76.576349</td>\n",
       "      <td>13.408659</td>\n",
       "      <td>45.902885</td>\n",
       "    </tr>\n",
       "  </tbody>\n",
       "</table>\n",
       "<p>2 rows × 2051 columns</p>\n",
       "</div>"
      ],
      "text/plain": [
       "           owner           id  red_bin1_nbins255  red_bin2_nbins255  \\\n",
       "0  100477852@N05  22334842890           0.049714           0.007710   \n",
       "1   10075702@N00  27207215286           0.020037           0.010178   \n",
       "\n",
       "   red_bin3_nbins255  red_bin4_nbins255  red_bin5_nbins255  red_bin6_nbins255  \\\n",
       "0           0.004919           0.004460           0.004275           0.004307   \n",
       "1           0.009991           0.009921           0.009359           0.008085   \n",
       "\n",
       "   red_bin7_nbins255  red_bin8_nbins255          ...           \\\n",
       "0           0.004183           0.004269          ...            \n",
       "1           0.006747           0.005709          ...            \n",
       "\n",
       "   bright_ctr2_numctrs3  bright_ctr3_numctrs3  bright_ctr1_numctrs8  \\\n",
       "0            180.156076            121.404213             65.621626   \n",
       "1            119.609792             38.601534            184.079172   \n",
       "\n",
       "   bright_ctr2_numctrs8  bright_ctr3_numctrs8  bright_ctr4_numctrs8  \\\n",
       "0             45.136088            156.713228            180.494681   \n",
       "1            158.257146            106.486092            132.946391   \n",
       "\n",
       "   bright_ctr5_numctrs8  bright_ctr6_numctrs8  bright_ctr7_numctrs8  \\\n",
       "0            129.341803             98.223681            203.314016   \n",
       "1            214.015711             76.576349             13.408659   \n",
       "\n",
       "   bright_ctr8_numctrs8  \n",
       "0             16.978573  \n",
       "1             45.902885  \n",
       "\n",
       "[2 rows x 2051 columns]"
      ]
     },
     "execution_count": 22,
     "metadata": {},
     "output_type": "execute_result"
    }
   ],
   "source": [
    "df_meta.head()"
   ]
  },
  {
   "cell_type": "code",
   "execution_count": 35,
   "metadata": {
    "collapsed": false
   },
   "outputs": [
    {
     "data": {
      "text/html": [
       "<div>\n",
       "<table border=\"1\" class=\"dataframe\">\n",
       "  <thead>\n",
       "    <tr style=\"text-align: right;\">\n",
       "      <th></th>\n",
       "      <th>owner</th>\n",
       "      <th>id</th>\n",
       "    </tr>\n",
       "  </thead>\n",
       "  <tbody>\n",
       "    <tr>\n",
       "      <th>0</th>\n",
       "      <td>100477852@N05</td>\n",
       "      <td>22334842890</td>\n",
       "    </tr>\n",
       "    <tr>\n",
       "      <th>1</th>\n",
       "      <td>10075702@N00</td>\n",
       "      <td>27207215286</td>\n",
       "    </tr>\n",
       "  </tbody>\n",
       "</table>\n",
       "</div>"
      ],
      "text/plain": [
       "           owner           id\n",
       "0  100477852@N05  22334842890\n",
       "1   10075702@N00  27207215286"
      ]
     },
     "execution_count": 35,
     "metadata": {},
     "output_type": "execute_result"
    }
   ],
   "source": [
    "df = df_meta[['owner', 'id']]\n",
    "df"
   ]
  },
  {
   "cell_type": "code",
   "execution_count": 39,
   "metadata": {
    "collapsed": true
   },
   "outputs": [],
   "source": [
    "def get_flickr_keys(filename='../flickr.keys'):\n",
    "    \"\"\"Get the Ficker user and app keys from the private .keys file.\"\"\"\n",
    "    flickr_keys = {}\n",
    "    with open(filename) as f_open:\n",
    "        key_list = f_open.read().split('\\n')[0:2]\n",
    "    for key in key_list:\n",
    "        pair = key.split(\":\")\n",
    "        flickr_keys[pair[0]] = pair[1]\n",
    "    return flickr_keys"
   ]
  },
  {
   "cell_type": "code",
   "execution_count": 102,
   "metadata": {
    "collapsed": true
   },
   "outputs": [],
   "source": [
    "def get_user_data(user_id):\n",
    "    \"\"\"\n",
    "    Get data from Flickr API about the user.\n",
    "\n",
    "    INPUTS:\n",
    "    user_id | A user NSID number. (string)\n",
    "\n",
    "    OUTPUTS:\n",
    "    user_stats | A 1D Numpy Array of the following user statistics:\n",
    "                 is_pro (int bool)\n",
    "                 can_buy_pro (int bool)\n",
    "                 gender (string)\n",
    "                 total_views (int)\n",
    "    \"\"\"\n",
    "    url = 'https://api.flickr.com/services/rest/'\n",
    "    api_keys = get_flickr_keys()\n",
    "    # Method: flickr.people.getInfo\n",
    "    params = {'method': 'flickr.people.getInfo',\n",
    "              'api_key': api_keys['Key'],\n",
    "              'user_id': user_id\n",
    "              } \n",
    "    soup = BeautifulSoup(requests.get(url, params=params).content, 'lxml')\n",
    "    is_pro = int(soup.person.get('ispro'))\n",
    "    can_buy_pro = int(soup.person.get('can_buy_pro'))\n",
    "    total_views = int(soup.count.contents[0])\n",
    "    return pd.Series(data=[is_pro, can_buy_pro, total_views])\n",
    "\n",
    "def get_image_data(image_id):\n",
    "    \"\"\"\n",
    "    Get data from Flickr API about the image.\n",
    "\n",
    "    INPUTS:\n",
    "    image_id | An image ID number. (string)\n",
    "\n",
    "    OUTPUTS:\n",
    "    image_stats | A 1D Numpy Array of the following user statistics:\n",
    "                 is_pro (int bool)\n",
    "                 can_buy_pro (int bool)\n",
    "                 gender (string)\n",
    "                 total_views (int)\n",
    "    \"\"\"\n",
    "    url = 'https://api.flickr.com/services/rest/'\n",
    "    api_keys = get_flickr_keys()\n",
    "    params = {'method': None,\n",
    "              'api_key': api_keys['Key'],\n",
    "              'photo_id': image_id\n",
    "              }\n",
    "    # Method: flickr.photos.comments.getList\n",
    "    params['method'] = 'flickr.photos.comments.getList'\n",
    "    soup = BeautifulSoup(requests.get(url, params=params).content, 'lxml')\n",
    "    image_ncomments = len(soup.findAll('comment'))\n",
    "    # Method: flickr.photos.getFavorites\n",
    "    params['method'] = 'flickr.photos.getFavorites'\n",
    "    soup = BeautifulSoup(requests.get(url, params=params).content, 'lxml')\n",
    "    image_nfavs = soup.photo.get('total')\n",
    "    # Method: flickr.photos.getAllContexts\n",
    "    params['method'] = 'flickr.photos.getAllContexts'\n",
    "    soup = BeautifulSoup(requests.get(url, params=params).content, 'lxml')\n",
    "    image_nsets = len(soup.findAll('set'))\n",
    "    image_npools = len(soup.findAll('pool'))\n",
    "    return pd.Series(data=[image_ncomments, image_nfavs, image_nsets, image_npools])"
   ]
  },
  {
   "cell_type": "code",
   "execution_count": 78,
   "metadata": {
    "collapsed": false
   },
   "outputs": [],
   "source": [
    "new = df['owner'].apply(get_user_data)"
   ]
  },
  {
   "cell_type": "code",
   "execution_count": 80,
   "metadata": {
    "collapsed": false
   },
   "outputs": [],
   "source": [
    "new.columns = ['user_is_pro', 'user_can_buy_pro', 'user_total_views']"
   ]
  },
  {
   "cell_type": "code",
   "execution_count": 97,
   "metadata": {
    "collapsed": false
   },
   "outputs": [
    {
     "data": {
      "text/html": [
       "<div>\n",
       "<table border=\"1\" class=\"dataframe\">\n",
       "  <thead>\n",
       "    <tr style=\"text-align: right;\">\n",
       "      <th></th>\n",
       "      <th>owner</th>\n",
       "      <th>id</th>\n",
       "      <th>user_is_pro</th>\n",
       "      <th>user_can_buy_pro</th>\n",
       "      <th>user_total_views</th>\n",
       "    </tr>\n",
       "  </thead>\n",
       "  <tbody>\n",
       "    <tr>\n",
       "      <th>0</th>\n",
       "      <td>100477852@N05</td>\n",
       "      <td>22334842890</td>\n",
       "      <td>0</td>\n",
       "      <td>0</td>\n",
       "      <td>417</td>\n",
       "    </tr>\n",
       "    <tr>\n",
       "      <th>1</th>\n",
       "      <td>10075702@N00</td>\n",
       "      <td>27207215286</td>\n",
       "      <td>1</td>\n",
       "      <td>0</td>\n",
       "      <td>3379</td>\n",
       "    </tr>\n",
       "  </tbody>\n",
       "</table>\n",
       "</div>"
      ],
      "text/plain": [
       "           owner           id  user_is_pro  user_can_buy_pro  user_total_views\n",
       "0  100477852@N05  22334842890            0                 0               417\n",
       "1   10075702@N00  27207215286            1                 0              3379"
      ]
     },
     "execution_count": 97,
     "metadata": {},
     "output_type": "execute_result"
    }
   ],
   "source": [
    "pd.concat((df, new), axis=1)"
   ]
  },
  {
   "cell_type": "code",
   "execution_count": 103,
   "metadata": {
    "collapsed": false
   },
   "outputs": [
    {
     "data": {
      "text/plain": [
       "0     168\n",
       "1    3866\n",
       "2       0\n",
       "3      13\n",
       "dtype: object"
      ]
     },
     "execution_count": 103,
     "metadata": {},
     "output_type": "execute_result"
    }
   ],
   "source": [
    "get_image_data('22094071913')"
   ]
  },
  {
   "cell_type": "code",
   "execution_count": null,
   "metadata": {
    "collapsed": true
   },
   "outputs": [],
   "source": []
  }
 ],
 "metadata": {
  "kernelspec": {
   "display_name": "Python [Root]",
   "language": "python",
   "name": "Python [Root]"
  },
  "language_info": {
   "codemirror_mode": {
    "name": "ipython",
    "version": 2
   },
   "file_extension": ".py",
   "mimetype": "text/x-python",
   "name": "python",
   "nbconvert_exporter": "python",
   "pygments_lexer": "ipython2",
   "version": "2.7.12"
  }
 },
 "nbformat": 4,
 "nbformat_minor": 0
}
