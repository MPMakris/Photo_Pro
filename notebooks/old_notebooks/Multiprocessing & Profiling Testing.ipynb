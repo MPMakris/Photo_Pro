{
 "cells": [
  {
   "cell_type": "code",
   "execution_count": 14,
   "metadata": {
    "collapsed": false
   },
   "outputs": [],
   "source": [
    "import cProfile\n",
    "import re\n",
    "import os\n",
    "import sys\n",
    "import time\n",
    "import pandas as pd\n",
    "import numpy as np"
   ]
  },
  {
   "cell_type": "code",
   "execution_count": 7,
   "metadata": {
    "collapsed": false
   },
   "outputs": [],
   "source": [
    "module_path = os.path.abspath(os.path.join('..'))\n",
    "if module_path not in sys.path:\n",
    "    sys.path.append(module_path)"
   ]
  },
  {
   "cell_type": "code",
   "execution_count": 8,
   "metadata": {
    "collapsed": false
   },
   "outputs": [],
   "source": [
    "from src.analyze.run_image_featurization import set_feature_controls\n",
    "from src.analyze.read_image import ImageFeaturizer"
   ]
  },
  {
   "cell_type": "markdown",
   "metadata": {},
   "source": [
    "### Multithreading"
   ]
  },
  {
   "cell_type": "code",
   "execution_count": 9,
   "metadata": {
    "collapsed": true
   },
   "outputs": [],
   "source": [
    "# from sys import argv\n",
    "# from math import floor, sqrt\n",
    "from multiprocessing import Process, Queue"
   ]
  },
  {
   "cell_type": "code",
   "execution_count": 28,
   "metadata": {
    "collapsed": false
   },
   "outputs": [],
   "source": [
    "# t_start = time.clock()\n",
    "directory = '../data/images/ANIMALS/'\n",
    "files = os.listdir(directory)[:40]\n",
    "controls = set_feature_controls()"
   ]
  },
  {
   "cell_type": "code",
   "execution_count": 65,
   "metadata": {
    "collapsed": true
   },
   "outputs": [],
   "source": [
    "def analyze_images(directory, path_names, controls, nqueue, fqueue):\n",
    "    for path in list(path_names):\n",
    "        image = ImageFeaturizer(directory+path, controls, boo)\n",
    "        fqueue.put(image.feature_data) \n",
    "    \n",
    "def get_names(path_name, controls, boo):\n",
    "    image = ImageFeaturizer(path_name, controls, boo)\n",
    "    return image.feature_data, image.column_names"
   ]
  },
  {
   "cell_type": "code",
   "execution_count": 66,
   "metadata": {
    "collapsed": false
   },
   "outputs": [
    {
     "name": "stdout",
     "output_type": "stream",
     "text": [
      "['100605515@N02_19999462253.jpg' '100800343@N02_21512116828.jpg'\n",
      " '101060945@N07_25461431500.jpg' '101490213@N04_21243059074.jpg'\n",
      " '101490213@N04_21647768240.jpg' '101490213@N04_21704525758.jpg']\n",
      "['101490213@N04_23028987803.jpg' '10159247@N04_19339712121.jpg'\n",
      " '102837055@N06_15387389749.jpg' '102837055@N06_18209573174.jpg'\n",
      " '102837055@N06_18832151285.jpg' '102837055@N06_18965344049.jpg']\n",
      "['102837055@N06_19065009011.jpg' '102837055@N06_21485601725.jpg'\n",
      " '102837055@N06_23599971784.jpg' '102837055@N06_23714110169.jpg'\n",
      " '102837055@N06_23714130569.jpg' '102837055@N06_23852602480.jpg']\n",
      "['102837055@N06_23897661752.jpg' '102837055@N06_24120139482.jpg'\n",
      " '102837055@N06_25271196945.jpg' '102837055@N06_27275561481.jpg'\n",
      " '102837055@N06_27345904145.jpg' '102837055@N06_28293942676.jpg']\n",
      "['103579181@N02_24207437726.jpg' '103579181@N02_26589301174.jpg'\n",
      " '10390578@N04_4616321078.jpg' '10407404@N00_21978896266.jpg'\n",
      " '104298555@N07_26497767141.jpg' '104323526@N05_22501627175.jpg']\n",
      "['104879414@N07_23345727576.jpg' '104879414@N07_23371910805.jpg'\n",
      " '105738673@N02_19132646234.jpg' '105830224@N07_23871569559.jpg'\n",
      " '107937702@N04_23073804511.jpg' '109142737@N06_24222936896.jpg']\n",
      "ALIVE?  [True, True, True, True, True, True]\n",
      "Looping, # Features: 37COMPLETE\n"
     ]
    }
   ],
   "source": [
    "nqueue = Queue()\n",
    "fqueue = Queue()\n",
    "processes = []\n",
    "\n",
    "features_1, names = get_names(directory+files[0], controls, True)\n",
    "\n",
    "stuff = np.array(files[1:])\n",
    "idx = len(stuff)%6\n",
    "remaining_names = np.split(stuff[:-idx], 6)\n",
    "\n",
    "for paths in remaining_names:\n",
    "    print paths\n",
    "    processes.append(Process(target=analyze_images, args=(directory, paths, controls, nqueue, fqueue, )))\n",
    "\n",
    "for t in processes:\n",
    "    t.start()\n",
    "    \n",
    "features = [features_1]\n",
    "#names = []\n",
    "\n",
    "print \"ALIVE? \", [a.is_alive() for a in processes]\n",
    "check = True\n",
    "while check:\n",
    "    if sum([a.is_alive() for a in processes]) == 0:\n",
    "        check = False    \n",
    "#     if (sum([a.is_alive() for a in processes]) == 0) and (nqueue.empty() and fqueue.isempty()):\n",
    "#         check = False\n",
    "    try:\n",
    "        features.append(fqueue.get(block=True, timeout=2))\n",
    "    except:\n",
    "#         print \"Loop now\"\n",
    "        pass\n",
    "#     try:\n",
    "#         names.append(nqueue.get(block=True, timeout=0.5))\n",
    "#     except:\n",
    "#         print \"Loop Now\"\n",
    "    sys.stdout.write(\"\\rLooping, # Features: {}\".format(len(features)))\n",
    "#     sys.stdout.write(\"\\r# Names: \".format(len(names)))\n",
    "print \"COMPLETE\"\n",
    "    \n",
    "    "
   ]
  },
  {
   "cell_type": "code",
   "execution_count": 69,
   "metadata": {
    "collapsed": false
   },
   "outputs": [
    {
     "name": "stderr",
     "output_type": "stream",
     "text": [
      "[autoreload of src.analyze.run_image_featurization failed: Traceback (most recent call last):\n",
      "  File \"/Users/RedQueen/anaconda/lib/python2.7/site-packages/IPython/extensions/autoreload.py\", line 247, in check\n",
      "    superreload(m, reload, self.old_objects)\n",
      "  File \"/Users/RedQueen/GIT/Photo_Pro/src/analyze/run_image_featurization.py\", line 97\n",
      "    idx = len(names_array) % 6 !!!\n",
      "                               ^\n",
      "SyntaxError: invalid syntax\n",
      "]\n"
     ]
    },
    {
     "data": {
      "text/plain": [
       "37"
      ]
     },
     "execution_count": 69,
     "metadata": {},
     "output_type": "execute_result"
    }
   ],
   "source": [
    "len(features)"
   ]
  },
  {
   "cell_type": "code",
   "execution_count": 70,
   "metadata": {
    "collapsed": false
   },
   "outputs": [
    {
     "data": {
      "text/html": [
       "<div>\n",
       "<table border=\"1\" class=\"dataframe\">\n",
       "  <thead>\n",
       "    <tr style=\"text-align: right;\">\n",
       "      <th></th>\n",
       "      <th>owner</th>\n",
       "      <th>id</th>\n",
       "      <th>red_bin1_nbins120</th>\n",
       "      <th>red_bin2_nbins120</th>\n",
       "      <th>red_bin3_nbins120</th>\n",
       "      <th>red_bin4_nbins120</th>\n",
       "      <th>red_bin5_nbins120</th>\n",
       "      <th>red_bin6_nbins120</th>\n",
       "      <th>red_bin7_nbins120</th>\n",
       "      <th>red_bin8_nbins120</th>\n",
       "      <th>...</th>\n",
       "      <th>bright_ctr2_numctrs3</th>\n",
       "      <th>bright_ctr3_numctrs3</th>\n",
       "      <th>bright_ctr1_numctrs8</th>\n",
       "      <th>bright_ctr2_numctrs8</th>\n",
       "      <th>bright_ctr3_numctrs8</th>\n",
       "      <th>bright_ctr4_numctrs8</th>\n",
       "      <th>bright_ctr5_numctrs8</th>\n",
       "      <th>bright_ctr6_numctrs8</th>\n",
       "      <th>bright_ctr7_numctrs8</th>\n",
       "      <th>bright_ctr8_numctrs8</th>\n",
       "    </tr>\n",
       "  </thead>\n",
       "  <tbody>\n",
       "    <tr>\n",
       "      <th>0</th>\n",
       "      <td>100605515@N02</td>\n",
       "      <td>19999462253</td>\n",
       "      <td>0.0002442789483</td>\n",
       "      <td>0.000293245396601</td>\n",
       "      <td>0.000422716005666</td>\n",
       "      <td>0.0005369710517</td>\n",
       "      <td>0.000423822592068</td>\n",
       "      <td>0.000427695644476</td>\n",
       "      <td>0.000411373495042</td>\n",
       "      <td>0.000636563827904</td>\n",
       "      <td>...</td>\n",
       "      <td>132.391156642</td>\n",
       "      <td>72.4958769502</td>\n",
       "      <td>160.946886822</td>\n",
       "      <td>141.415983822</td>\n",
       "      <td>179.717759686</td>\n",
       "      <td>118.407131057</td>\n",
       "      <td>92.2725994784</td>\n",
       "      <td>65.730926253</td>\n",
       "      <td>207.054203232</td>\n",
       "      <td>27.6647983884</td>\n",
       "    </tr>\n",
       "    <tr>\n",
       "      <th>1</th>\n",
       "      <td>103579181@N02</td>\n",
       "      <td>24207437726</td>\n",
       "      <td>0.00146814170966</td>\n",
       "      <td>0.00151513763485</td>\n",
       "      <td>0.00217857718691</td>\n",
       "      <td>0.00324546713766</td>\n",
       "      <td>0.00442064009733</td>\n",
       "      <td>0.00544685521224</td>\n",
       "      <td>0.00606989475844</td>\n",
       "      <td>0.00958387077861</td>\n",
       "      <td>...</td>\n",
       "      <td>105.690205903</td>\n",
       "      <td>193.730454726</td>\n",
       "      <td>66.9004888031</td>\n",
       "      <td>17.447971153</td>\n",
       "      <td>41.6160360506</td>\n",
       "      <td>93.897133578</td>\n",
       "      <td>122.830056443</td>\n",
       "      <td>189.570408251</td>\n",
       "      <td>220.850338171</td>\n",
       "      <td>156.045153981</td>\n",
       "    </tr>\n",
       "    <tr>\n",
       "      <th>2</th>\n",
       "      <td>101490213@N04</td>\n",
       "      <td>23028987803</td>\n",
       "      <td>0.0163641219749</td>\n",
       "      <td>0.00662924400846</td>\n",
       "      <td>0.00675893224272</td>\n",
       "      <td>0.00694011028548</td>\n",
       "      <td>0.0069932521734</td>\n",
       "      <td>0.00705355307213</td>\n",
       "      <td>0.00715570664944</td>\n",
       "      <td>0.0102445444666</td>\n",
       "      <td>...</td>\n",
       "      <td>113.963461467</td>\n",
       "      <td>187.766136293</td>\n",
       "      <td>9.63916003337</td>\n",
       "      <td>34.2871083077</td>\n",
       "      <td>158.087788916</td>\n",
       "      <td>186.666597331</td>\n",
       "      <td>129.094000464</td>\n",
       "      <td>99.6789775301</td>\n",
       "      <td>66.9895002895</td>\n",
       "      <td>220.336437719</td>\n",
       "    </tr>\n",
       "    <tr>\n",
       "      <th>3</th>\n",
       "      <td>102837055@N06</td>\n",
       "      <td>23897661752</td>\n",
       "      <td>0.0027460196477</td>\n",
       "      <td>0.00385834815379</td>\n",
       "      <td>0.00458402142615</td>\n",
       "      <td>0.00502466548103</td>\n",
       "      <td>0.00558202066396</td>\n",
       "      <td>0.00614334561314</td>\n",
       "      <td>0.00659510501355</td>\n",
       "      <td>0.0105196159383</td>\n",
       "      <td>...</td>\n",
       "      <td>83.3255121798</td>\n",
       "      <td>173.378681456</td>\n",
       "      <td>34.3914536861</td>\n",
       "      <td>14.3928896243</td>\n",
       "      <td>55.9914204052</td>\n",
       "      <td>74.9906949562</td>\n",
       "      <td>97.0752721057</td>\n",
       "      <td>128.434028185</td>\n",
       "      <td>164.629871639</td>\n",
       "      <td>210.313972163</td>\n",
       "    </tr>\n",
       "    <tr>\n",
       "      <th>4</th>\n",
       "      <td>104879414@N07</td>\n",
       "      <td>23345727576</td>\n",
       "      <td>1.923809803e-06</td>\n",
       "      <td>1.09931988743e-06</td>\n",
       "      <td>1.64897983114e-06</td>\n",
       "      <td>6.59591932458e-06</td>\n",
       "      <td>7.42040924015e-06</td>\n",
       "      <td>1.09931988743e-05</td>\n",
       "      <td>1.56653083959e-05</td>\n",
       "      <td>3.13306167917e-05</td>\n",
       "      <td>...</td>\n",
       "      <td>96.7113331852</td>\n",
       "      <td>208.128851622</td>\n",
       "      <td>142.83408828</td>\n",
       "      <td>103.133102142</td>\n",
       "      <td>123.701212528</td>\n",
       "      <td>85.2014950541</td>\n",
       "      <td>161.825064291</td>\n",
       "      <td>188.511774201</td>\n",
       "      <td>228.336477559</td>\n",
       "      <td>44.5607344105</td>\n",
       "    </tr>\n",
       "  </tbody>\n",
       "</table>\n",
       "<p>5 rows × 1090 columns</p>\n",
       "</div>"
      ],
      "text/plain": [
       "           owner           id red_bin1_nbins120  red_bin2_nbins120  \\\n",
       "0  100605515@N02  19999462253   0.0002442789483  0.000293245396601   \n",
       "1  103579181@N02  24207437726  0.00146814170966   0.00151513763485   \n",
       "2  101490213@N04  23028987803   0.0163641219749   0.00662924400846   \n",
       "3  102837055@N06  23897661752   0.0027460196477   0.00385834815379   \n",
       "4  104879414@N07  23345727576   1.923809803e-06  1.09931988743e-06   \n",
       "\n",
       "   red_bin3_nbins120  red_bin4_nbins120  red_bin5_nbins120  red_bin6_nbins120  \\\n",
       "0  0.000422716005666    0.0005369710517  0.000423822592068  0.000427695644476   \n",
       "1   0.00217857718691   0.00324546713766   0.00442064009733   0.00544685521224   \n",
       "2   0.00675893224272   0.00694011028548    0.0069932521734   0.00705355307213   \n",
       "3   0.00458402142615   0.00502466548103   0.00558202066396   0.00614334561314   \n",
       "4  1.64897983114e-06  6.59591932458e-06  7.42040924015e-06  1.09931988743e-05   \n",
       "\n",
       "   red_bin7_nbins120  red_bin8_nbins120         ...           \\\n",
       "0  0.000411373495042  0.000636563827904         ...            \n",
       "1   0.00606989475844   0.00958387077861         ...            \n",
       "2   0.00715570664944    0.0102445444666         ...            \n",
       "3   0.00659510501355    0.0105196159383         ...            \n",
       "4  1.56653083959e-05  3.13306167917e-05         ...            \n",
       "\n",
       "  bright_ctr2_numctrs3 bright_ctr3_numctrs3 bright_ctr1_numctrs8  \\\n",
       "0        132.391156642        72.4958769502        160.946886822   \n",
       "1        105.690205903        193.730454726        66.9004888031   \n",
       "2        113.963461467        187.766136293        9.63916003337   \n",
       "3        83.3255121798        173.378681456        34.3914536861   \n",
       "4        96.7113331852        208.128851622         142.83408828   \n",
       "\n",
       "  bright_ctr2_numctrs8 bright_ctr3_numctrs8 bright_ctr4_numctrs8  \\\n",
       "0        141.415983822        179.717759686        118.407131057   \n",
       "1         17.447971153        41.6160360506         93.897133578   \n",
       "2        34.2871083077        158.087788916        186.666597331   \n",
       "3        14.3928896243        55.9914204052        74.9906949562   \n",
       "4        103.133102142        123.701212528        85.2014950541   \n",
       "\n",
       "  bright_ctr5_numctrs8 bright_ctr6_numctrs8 bright_ctr7_numctrs8  \\\n",
       "0        92.2725994784         65.730926253        207.054203232   \n",
       "1        122.830056443        189.570408251        220.850338171   \n",
       "2        129.094000464        99.6789775301        66.9895002895   \n",
       "3        97.0752721057        128.434028185        164.629871639   \n",
       "4        161.825064291        188.511774201        228.336477559   \n",
       "\n",
       "  bright_ctr8_numctrs8  \n",
       "0        27.6647983884  \n",
       "1        156.045153981  \n",
       "2        220.336437719  \n",
       "3        210.313972163  \n",
       "4        44.5607344105  \n",
       "\n",
       "[5 rows x 1090 columns]"
      ]
     },
     "execution_count": 70,
     "metadata": {},
     "output_type": "execute_result"
    }
   ],
   "source": [
    "df = pd.DataFrame(np.array(features), columns=names)\n",
    "# for t in processes:\n",
    "#     print \"join now\"\n",
    "#     t.join()\n",
    "#print features\n",
    "\n",
    "df.head()\n",
    "# print \"Time Per Call: \", (time.clock() - t_start)/float(len(files))\n",
    "# print len(features)"
   ]
  },
  {
   "cell_type": "code",
   "execution_count": 72,
   "metadata": {
    "collapsed": false
   },
   "outputs": [
    {
     "data": {
      "text/plain": [
       "0     False\n",
       "1     False\n",
       "2     False\n",
       "3     False\n",
       "4     False\n",
       "5      True\n",
       "6     False\n",
       "7     False\n",
       "8     False\n",
       "9     False\n",
       "10    False\n",
       "11    False\n",
       "12    False\n",
       "13    False\n",
       "14    False\n",
       "15    False\n",
       "16    False\n",
       "17    False\n",
       "18    False\n",
       "19    False\n",
       "20    False\n",
       "21    False\n",
       "22    False\n",
       "23    False\n",
       "24    False\n",
       "25    False\n",
       "26    False\n",
       "27    False\n",
       "28    False\n",
       "29    False\n",
       "30    False\n",
       "31    False\n",
       "32    False\n",
       "33    False\n",
       "34    False\n",
       "35    False\n",
       "36    False\n",
       "dtype: bool"
      ]
     },
     "execution_count": 72,
     "metadata": {},
     "output_type": "execute_result"
    }
   ],
   "source": [
    "df[['owner', 'id']].duplicated()"
   ]
  },
  {
   "cell_type": "code",
   "execution_count": 16,
   "metadata": {
    "collapsed": true
   },
   "outputs": [],
   "source": [
    "a = []\n",
    "b = [1,2,3]"
   ]
  },
  {
   "cell_type": "code",
   "execution_count": 17,
   "metadata": {
    "collapsed": false
   },
   "outputs": [
    {
     "data": {
      "text/plain": [
       "[[1, 2, 3]]"
      ]
     },
     "execution_count": 17,
     "metadata": {},
     "output_type": "execute_result"
    }
   ],
   "source": [
    "a.append(b)\n",
    "a"
   ]
  },
  {
   "cell_type": "code",
   "execution_count": 18,
   "metadata": {
    "collapsed": false
   },
   "outputs": [
    {
     "data": {
      "text/plain": [
       "[1, 2, 3]"
      ]
     },
     "execution_count": 18,
     "metadata": {},
     "output_type": "execute_result"
    }
   ],
   "source": [
    "a[0]"
   ]
  },
  {
   "cell_type": "code",
   "execution_count": 21,
   "metadata": {
    "collapsed": false
   },
   "outputs": [
    {
     "name": "stdout",
     "output_type": "stream",
     "text": [
      "go\n"
     ]
    }
   ],
   "source": [
    "try:\n",
    "    print \"go\"\n",
    "except:\n",
    "    pass"
   ]
  },
  {
   "cell_type": "code",
   "execution_count": 36,
   "metadata": {
    "collapsed": false
   },
   "outputs": [
    {
     "name": "stdout",
     "output_type": "stream",
     "text": [
      "\r",
      "try me now\r",
      "try me now\r",
      "try me now\n",
      "try me now"
     ]
    }
   ],
   "source": [
    "sys.stdout.write('\\rtry me now')\n",
    "sys.stdout.write('\\rtry me now')\n",
    "sys.stdout.write('\\rtry me now\\n')\n",
    "sys.stdout.write('try me now')"
   ]
  },
  {
   "cell_type": "code",
   "execution_count": 47,
   "metadata": {
    "collapsed": false
   },
   "outputs": [
    {
     "data": {
      "text/plain": [
       "[array([1, 2]), array([3, 4]), array([5, 6]), array([7, 8])]"
      ]
     },
     "execution_count": 47,
     "metadata": {},
     "output_type": "execute_result"
    }
   ],
   "source": [
    "stuff = np.array([1,2,3,4,5,6,7,8,9])\n",
    "idx = len(stuff)%4\n",
    "np.split(stuff[:-idx], 4)"
   ]
  },
  {
   "cell_type": "code",
   "execution_count": null,
   "metadata": {
    "collapsed": true
   },
   "outputs": [],
   "source": []
  }
 ],
 "metadata": {
  "kernelspec": {
   "display_name": "Python [Root]",
   "language": "python",
   "name": "Python [Root]"
  },
  "language_info": {
   "codemirror_mode": {
    "name": "ipython",
    "version": 2
   },
   "file_extension": ".py",
   "mimetype": "text/x-python",
   "name": "python",
   "nbconvert_exporter": "python",
   "pygments_lexer": "ipython2",
   "version": "2.7.12"
  }
 },
 "nbformat": 4,
 "nbformat_minor": 0
}
