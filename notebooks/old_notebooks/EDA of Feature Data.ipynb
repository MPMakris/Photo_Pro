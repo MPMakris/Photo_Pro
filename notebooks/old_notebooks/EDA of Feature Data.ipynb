{
 "cells": [
  {
   "cell_type": "code",
   "execution_count": 8,
   "metadata": {
    "collapsed": true
   },
   "outputs": [],
   "source": [
    "import pandas as pdf\n",
    "import os, sys"
   ]
  },
  {
   "cell_type": "code",
   "execution_count": 9,
   "metadata": {
    "collapsed": false
   },
   "outputs": [],
   "source": [
    "module_path = os.path.abspath(os.path.join('..'))\n",
    "if module_path not in sys.path:\n",
    "    sys.path.append(module_path)"
   ]
  },
  {
   "cell_type": "code",
   "execution_count": 19,
   "metadata": {
    "collapsed": true
   },
   "outputs": [],
   "source": [
    "from common.img_data_functions import read_image, get_channel_data"
   ]
  },
  {
   "cell_type": "code",
   "execution_count": 17,
   "metadata": {
    "collapsed": false
   },
   "outputs": [],
   "source": [
    "path = '../data/images/ANIMALS/100605515@N02_19999462253.jpg'\n",
    "rgb, grey, luv = read_image(path)"
   ]
  },
  {
   "cell_type": "code",
   "execution_count": 20,
   "metadata": {
    "collapsed": false
   },
   "outputs": [],
   "source": [
    "u_counts, u_metrics = get_channel_data(luv[:,:,1], -100, 100, 120)"
   ]
  },
  {
   "cell_type": "code",
   "execution_count": null,
   "metadata": {
    "collapsed": true
   },
   "outputs": [],
   "source": []
  },
  {
   "cell_type": "code",
   "execution_count": 2,
   "metadata": {
    "collapsed": false
   },
   "outputs": [],
   "source": [
    "df = pd.read_csv('../data/modeling/ANIMALS/feature_data_ANIMALS_4.csv', sep='|')"
   ]
  },
  {
   "cell_type": "code",
   "execution_count": 3,
   "metadata": {
    "collapsed": false
   },
   "outputs": [
    {
     "data": {
      "text/html": [
       "<div>\n",
       "<table border=\"1\" class=\"dataframe\">\n",
       "  <thead>\n",
       "    <tr style=\"text-align: right;\">\n",
       "      <th></th>\n",
       "      <th>owner</th>\n",
       "      <th>id</th>\n",
       "      <th>red_bin1_nbins120</th>\n",
       "      <th>red_bin2_nbins120</th>\n",
       "      <th>red_bin3_nbins120</th>\n",
       "      <th>red_bin4_nbins120</th>\n",
       "      <th>red_bin5_nbins120</th>\n",
       "      <th>red_bin6_nbins120</th>\n",
       "      <th>red_bin7_nbins120</th>\n",
       "      <th>red_bin8_nbins120</th>\n",
       "      <th>...</th>\n",
       "      <th>bright_ctr2_numctrs3</th>\n",
       "      <th>bright_ctr3_numctrs3</th>\n",
       "      <th>bright_ctr1_numctrs8</th>\n",
       "      <th>bright_ctr2_numctrs8</th>\n",
       "      <th>bright_ctr3_numctrs8</th>\n",
       "      <th>bright_ctr4_numctrs8</th>\n",
       "      <th>bright_ctr5_numctrs8</th>\n",
       "      <th>bright_ctr6_numctrs8</th>\n",
       "      <th>bright_ctr7_numctrs8</th>\n",
       "      <th>bright_ctr8_numctrs8</th>\n",
       "    </tr>\n",
       "  </thead>\n",
       "  <tbody>\n",
       "    <tr>\n",
       "      <th>0</th>\n",
       "      <td>100605515@N02</td>\n",
       "      <td>19999462253</td>\n",
       "      <td>0.000244</td>\n",
       "      <td>0.000293</td>\n",
       "      <td>0.000423</td>\n",
       "      <td>0.000537</td>\n",
       "      <td>0.000424</td>\n",
       "      <td>0.000428</td>\n",
       "      <td>0.000411</td>\n",
       "      <td>0.000637</td>\n",
       "      <td>...</td>\n",
       "      <td>132.391157</td>\n",
       "      <td>72.495877</td>\n",
       "      <td>160.946887</td>\n",
       "      <td>141.415984</td>\n",
       "      <td>179.717760</td>\n",
       "      <td>118.407131</td>\n",
       "      <td>92.272599</td>\n",
       "      <td>65.730926</td>\n",
       "      <td>207.054203</td>\n",
       "      <td>27.664798</td>\n",
       "    </tr>\n",
       "    <tr>\n",
       "      <th>1</th>\n",
       "      <td>100800343@N02</td>\n",
       "      <td>21512116828</td>\n",
       "      <td>0.088410</td>\n",
       "      <td>0.029761</td>\n",
       "      <td>0.029698</td>\n",
       "      <td>0.026579</td>\n",
       "      <td>0.019042</td>\n",
       "      <td>0.014168</td>\n",
       "      <td>0.011318</td>\n",
       "      <td>0.014404</td>\n",
       "      <td>...</td>\n",
       "      <td>79.970688</td>\n",
       "      <td>165.491822</td>\n",
       "      <td>7.089126</td>\n",
       "      <td>25.436780</td>\n",
       "      <td>50.491444</td>\n",
       "      <td>144.106716</td>\n",
       "      <td>78.064360</td>\n",
       "      <td>110.018065</td>\n",
       "      <td>225.626808</td>\n",
       "      <td>184.850845</td>\n",
       "    </tr>\n",
       "    <tr>\n",
       "      <th>2</th>\n",
       "      <td>101060945@N07</td>\n",
       "      <td>25461431500</td>\n",
       "      <td>0.000172</td>\n",
       "      <td>0.000121</td>\n",
       "      <td>0.000155</td>\n",
       "      <td>0.000142</td>\n",
       "      <td>0.000133</td>\n",
       "      <td>0.000142</td>\n",
       "      <td>0.000142</td>\n",
       "      <td>0.000231</td>\n",
       "      <td>...</td>\n",
       "      <td>172.405738</td>\n",
       "      <td>67.022591</td>\n",
       "      <td>138.535131</td>\n",
       "      <td>118.492347</td>\n",
       "      <td>159.498118</td>\n",
       "      <td>96.414225</td>\n",
       "      <td>182.956821</td>\n",
       "      <td>69.891409</td>\n",
       "      <td>36.120068</td>\n",
       "      <td>214.672020</td>\n",
       "    </tr>\n",
       "    <tr>\n",
       "      <th>3</th>\n",
       "      <td>101490213@N04</td>\n",
       "      <td>21243059074</td>\n",
       "      <td>0.002619</td>\n",
       "      <td>0.000839</td>\n",
       "      <td>0.000943</td>\n",
       "      <td>0.001170</td>\n",
       "      <td>0.001345</td>\n",
       "      <td>0.001644</td>\n",
       "      <td>0.002165</td>\n",
       "      <td>0.004800</td>\n",
       "      <td>...</td>\n",
       "      <td>46.313195</td>\n",
       "      <td>193.466078</td>\n",
       "      <td>97.789594</td>\n",
       "      <td>119.798726</td>\n",
       "      <td>74.999894</td>\n",
       "      <td>215.193568</td>\n",
       "      <td>49.435258</td>\n",
       "      <td>21.030286</td>\n",
       "      <td>146.232218</td>\n",
       "      <td>176.122988</td>\n",
       "    </tr>\n",
       "  </tbody>\n",
       "</table>\n",
       "<p>4 rows × 1090 columns</p>\n",
       "</div>"
      ],
      "text/plain": [
       "           owner           id  red_bin1_nbins120  red_bin2_nbins120  \\\n",
       "0  100605515@N02  19999462253           0.000244           0.000293   \n",
       "1  100800343@N02  21512116828           0.088410           0.029761   \n",
       "2  101060945@N07  25461431500           0.000172           0.000121   \n",
       "3  101490213@N04  21243059074           0.002619           0.000839   \n",
       "\n",
       "   red_bin3_nbins120  red_bin4_nbins120  red_bin5_nbins120  red_bin6_nbins120  \\\n",
       "0           0.000423           0.000537           0.000424           0.000428   \n",
       "1           0.029698           0.026579           0.019042           0.014168   \n",
       "2           0.000155           0.000142           0.000133           0.000142   \n",
       "3           0.000943           0.001170           0.001345           0.001644   \n",
       "\n",
       "   red_bin7_nbins120  red_bin8_nbins120          ...           \\\n",
       "0           0.000411           0.000637          ...            \n",
       "1           0.011318           0.014404          ...            \n",
       "2           0.000142           0.000231          ...            \n",
       "3           0.002165           0.004800          ...            \n",
       "\n",
       "   bright_ctr2_numctrs3  bright_ctr3_numctrs3  bright_ctr1_numctrs8  \\\n",
       "0            132.391157             72.495877            160.946887   \n",
       "1             79.970688            165.491822              7.089126   \n",
       "2            172.405738             67.022591            138.535131   \n",
       "3             46.313195            193.466078             97.789594   \n",
       "\n",
       "   bright_ctr2_numctrs8  bright_ctr3_numctrs8  bright_ctr4_numctrs8  \\\n",
       "0            141.415984            179.717760            118.407131   \n",
       "1             25.436780             50.491444            144.106716   \n",
       "2            118.492347            159.498118             96.414225   \n",
       "3            119.798726             74.999894            215.193568   \n",
       "\n",
       "   bright_ctr5_numctrs8  bright_ctr6_numctrs8  bright_ctr7_numctrs8  \\\n",
       "0             92.272599             65.730926            207.054203   \n",
       "1             78.064360            110.018065            225.626808   \n",
       "2            182.956821             69.891409             36.120068   \n",
       "3             49.435258             21.030286            146.232218   \n",
       "\n",
       "   bright_ctr8_numctrs8  \n",
       "0             27.664798  \n",
       "1            184.850845  \n",
       "2            214.672020  \n",
       "3            176.122988  \n",
       "\n",
       "[4 rows x 1090 columns]"
      ]
     },
     "execution_count": 3,
     "metadata": {},
     "output_type": "execute_result"
    }
   ],
   "source": [
    "df.head()"
   ]
  },
  {
   "cell_type": "code",
   "execution_count": 5,
   "metadata": {
    "collapsed": false
   },
   "outputs": [],
   "source": [
    "des = df.describe()"
   ]
  },
  {
   "cell_type": "code",
   "execution_count": 25,
   "metadata": {
    "collapsed": false
   },
   "outputs": [
    {
     "data": {
      "text/plain": [
       "red_min_nbins120      0.0\n",
       "green_min_nbins120    0.0\n",
       "blue_min_nbins120     0.0\n",
       "grey_min_nbins120     0.0\n",
       "l_min_nbins50         0.0\n",
       "u_bin1_nbins100       0.0\n",
       "u_bin2_nbins100       0.0\n",
       "u_bin3_nbins100       0.0\n",
       "u_bin4_nbins100       0.0\n",
       "u_bin5_nbins100       0.0\n",
       "u_bin6_nbins100       0.0\n",
       "u_bin7_nbins100       0.0\n",
       "u_bin8_nbins100       0.0\n",
       "u_bin9_nbins100       0.0\n",
       "u_bin10_nbins100      0.0\n",
       "u_bin11_nbins100      0.0\n",
       "u_bin12_nbins100      0.0\n",
       "u_bin13_nbins100      0.0\n",
       "u_bin14_nbins100      0.0\n",
       "u_bin15_nbins100      0.0\n",
       "u_bin16_nbins100      0.0\n",
       "u_bin17_nbins100      0.0\n",
       "u_bin18_nbins100      0.0\n",
       "u_bin19_nbins100      0.0\n",
       "u_bin20_nbins100      0.0\n",
       "u_bin21_nbins100      0.0\n",
       "u_bin22_nbins100      0.0\n",
       "u_bin23_nbins100      0.0\n",
       "u_bin24_nbins100      0.0\n",
       "u_bin25_nbins100      0.0\n",
       "                     ... \n",
       "v_bin8_nbins100       0.0\n",
       "v_bin9_nbins100       0.0\n",
       "v_bin10_nbins100      0.0\n",
       "v_bin11_nbins100      0.0\n",
       "v_bin12_nbins100      0.0\n",
       "v_bin13_nbins100      0.0\n",
       "v_bin14_nbins100      0.0\n",
       "red_min_nbins30       0.0\n",
       "green_min_nbins30     0.0\n",
       "blue_min_nbins30      0.0\n",
       "grey_min_nbins30      0.0\n",
       "l_min_nbins15         0.0\n",
       "u_bin1_nbins25        0.0\n",
       "u_bin2_nbins25        0.0\n",
       "u_bin3_nbins25        0.0\n",
       "u_bin4_nbins25        0.0\n",
       "u_bin5_nbins25        0.0\n",
       "u_bin6_nbins25        0.0\n",
       "v_bin1_nbins25        0.0\n",
       "v_bin2_nbins25        0.0\n",
       "v_bin3_nbins25        0.0\n",
       "red_min_nbins12       0.0\n",
       "green_min_nbins12     0.0\n",
       "blue_min_nbins12      0.0\n",
       "grey_min_nbins12      0.0\n",
       "l_min_nbins6          0.0\n",
       "u_bin1_nbins10        0.0\n",
       "u_bin2_nbins10        0.0\n",
       "v_bin1_nbins10        0.0\n",
       "crisp_canny           0.0\n",
       "Name: mean, dtype: float64"
      ]
     },
     "execution_count": 25,
     "metadata": {},
     "output_type": "execute_result"
    }
   ],
   "source": [
    "des.loc['mean'][des.loc['mean']==0]"
   ]
  },
  {
   "cell_type": "code",
   "execution_count": 26,
   "metadata": {
    "collapsed": false
   },
   "outputs": [
    {
     "data": {
      "text/plain": [
       "174"
      ]
     },
     "execution_count": 26,
     "metadata": {},
     "output_type": "execute_result"
    }
   ],
   "source": [
    "sum(df.columns.str.contains(\"grey\")==True)"
   ]
  },
  {
   "cell_type": "code",
   "execution_count": 27,
   "metadata": {
    "collapsed": false
   },
   "outputs": [
    {
     "data": {
      "text/plain": [
       "(4, 174)"
      ]
     },
     "execution_count": 27,
     "metadata": {},
     "output_type": "execute_result"
    }
   ],
   "source": [
    "df.loc[:, list(df.columns.str.contains(\"grey\")==True)].shape"
   ]
  },
  {
   "cell_type": "code",
   "execution_count": 28,
   "metadata": {
    "collapsed": false
   },
   "outputs": [
    {
     "data": {
      "text/plain": [
       "174"
      ]
     },
     "execution_count": 28,
     "metadata": {},
     "output_type": "execute_result"
    }
   ],
   "source": [
    "sum(df.columns.str.contains('grey'))"
   ]
  },
  {
   "cell_type": "code",
   "execution_count": null,
   "metadata": {
    "collapsed": true
   },
   "outputs": [],
   "source": []
  }
 ],
 "metadata": {
  "kernelspec": {
   "display_name": "Python [Root]",
   "language": "python",
   "name": "Python [Root]"
  },
  "language_info": {
   "codemirror_mode": {
    "name": "ipython",
    "version": 2
   },
   "file_extension": ".py",
   "mimetype": "text/x-python",
   "name": "python",
   "nbconvert_exporter": "python",
   "pygments_lexer": "ipython2",
   "version": "2.7.12"
  }
 },
 "nbformat": 4,
 "nbformat_minor": 0
}
