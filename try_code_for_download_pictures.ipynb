{
 "cells": [
  {
   "cell_type": "code",
   "execution_count": 1,
   "metadata": {
    "collapsed": true
   },
   "outputs": [],
   "source": [
    "import shutil\n",
    "import requests\n",
    "from bs4 import BeautifulSoup\n",
    "import pandas as pd\n",
    "import numpy as np\n",
    "import os"
   ]
  },
  {
   "cell_type": "markdown",
   "metadata": {},
   "source": [
    "## Read Meta Data"
   ]
  },
  {
   "cell_type": "code",
   "execution_count": 2,
   "metadata": {
    "collapsed": false
   },
   "outputs": [],
   "source": [
    "df = pd.read_csv('data/tables/LANDSCAPE/flickr_image_search_for_LANDSCAPE_100.csv')"
   ]
  },
  {
   "cell_type": "markdown",
   "metadata": {},
   "source": [
    "#### Check for Duplicates"
   ]
  },
  {
   "cell_type": "code",
   "execution_count": 3,
   "metadata": {
    "collapsed": false
   },
   "outputs": [
    {
     "name": "stdout",
     "output_type": "stream",
     "text": [
      "Num Records: 50000\n"
     ]
    }
   ],
   "source": [
    "print \"Num Records: {}\".format(len(df))"
   ]
  },
  {
   "cell_type": "code",
   "execution_count": 4,
   "metadata": {
    "collapsed": false
   },
   "outputs": [
    {
     "name": "stdout",
     "output_type": "stream",
     "text": [
      "Num Irrelevant: 45654\n"
     ]
    }
   ],
   "source": [
    "print \"Num Irrelevant: {}\".format(sum(df.duplicated()))"
   ]
  },
  {
   "cell_type": "markdown",
   "metadata": {},
   "source": [
    "**Result: Need to narrow meta data search to smaller windows of time. See this [link](<http://stackoverflow.com/questions/1994037/flickr-api-returning-duplicate-photos>) for better implementation. See last post.**"
   ]
  },
  {
   "cell_type": "markdown",
   "metadata": {},
   "source": [
    "## Download Photos"
   ]
  },
  {
   "cell_type": "code",
   "execution_count": 5,
   "metadata": {
    "collapsed": false
   },
   "outputs": [],
   "source": [
    "df = df[-df.duplicated()].reset_index()"
   ]
  },
  {
   "cell_type": "code",
   "execution_count": 6,
   "metadata": {
    "collapsed": false
   },
   "outputs": [
    {
     "name": "stdout",
     "output_type": "stream",
     "text": [
      "Unique Photos: 4346\n"
     ]
    }
   ],
   "source": [
    "print \"Unique Photos: {}\".format(len(df))"
   ]
  },
  {
   "cell_type": "markdown",
   "metadata": {},
   "source": [
    "**Need to implement a check for if the image that comes back is the Flickr Image Unavailable result. One way is to check the r.text for a json object with 'alt' or 'src' fields that contain the text 'photo_unavailable'.**"
   ]
  },
  {
   "cell_type": "code",
   "execution_count": 7,
   "metadata": {
    "collapsed": true
   },
   "outputs": [],
   "source": [
    "def check_image_returned(r):\n",
    "    return not r.url.find('photo_unavailable') > 0"
   ]
  },
  {
   "cell_type": "code",
   "execution_count": 10,
   "metadata": {
    "collapsed": false
   },
   "outputs": [],
   "source": [
    "def download_pic(df, i, size, destination):\n",
    "    url = \"https://farm{0}.staticflickr.com/{1}/{2}_{3}_{4}.{5}\".format(df.loc[i,:]['farm'],\n",
    "                                                                    df.loc[i,:]['server'],\n",
    "                                                                    df.loc[i,:]['id'],\n",
    "                                                                    df.loc[i,:]['secret'],\n",
    "                                                                    size,\n",
    "                                                                    df.loc[i,:]['originalformat'])\n",
    "    print url\n",
    "    dest_folder = 'data/images/{}/'.format(destination)\n",
    "    file_name = '{}_{}.jpg'.format(df.loc[i,:]['owner'], df.loc[i,:]['id'])\n",
    "    path_name = dest_folder + file_name\n",
    "    r = requests.get(url, stream=True)\n",
    "    if not check_image_returned(r):\n",
    "        print \"Image [{}] Not Downloaded, Photo Unavailable\".format(file_name)\n",
    "        return\n",
    "    if not os.path.exists(dest_folder):\n",
    "        os.makedirs(dest_folder)\n",
    "    with open(path_name, 'wb') as out_file:\n",
    "        shutil.copyfileobj(r.raw, out_file)\n",
    "    del r"
   ]
  },
  {
   "cell_type": "code",
   "execution_count": 11,
   "metadata": {
    "collapsed": false
   },
   "outputs": [
    {
     "name": "stdout",
     "output_type": "stream",
     "text": [
      "https://farm9.staticflickr.com/8860/27856460874_df39141730_h.jpg\n"
     ]
    }
   ],
   "source": [
    "for i in xrange(1):\n",
    "    download_pic(df, i, 'h', 'LANDSCAPE')"
   ]
  },
  {
   "cell_type": "code",
   "execution_count": 83,
   "metadata": {
    "collapsed": false
   },
   "outputs": [],
   "source": [
    "short_df = df[df['owner']=='45703960@N07'][df[df['owner']=='45703960@N07']['id']==28210474191]"
   ]
  },
  {
   "cell_type": "code",
   "execution_count": 84,
   "metadata": {
    "collapsed": false
   },
   "outputs": [],
   "source": [
    "short_df = short_df.reset_index()"
   ]
  },
  {
   "cell_type": "code",
   "execution_count": 85,
   "metadata": {
    "collapsed": false
   },
   "outputs": [
    {
     "data": {
      "text/html": [
       "<div>\n",
       "<table border=\"1\" class=\"dataframe\">\n",
       "  <thead>\n",
       "    <tr style=\"text-align: right;\">\n",
       "      <th></th>\n",
       "      <th>level_0</th>\n",
       "      <th>index</th>\n",
       "      <th>height_o</th>\n",
       "      <th>originalformat</th>\n",
       "      <th>o_height</th>\n",
       "      <th>owner</th>\n",
       "      <th>id</th>\n",
       "      <th>datetakengranularity</th>\n",
       "      <th>tags</th>\n",
       "      <th>datetaken</th>\n",
       "      <th>...</th>\n",
       "      <th>farm</th>\n",
       "      <th>dateupload</th>\n",
       "      <th>width_o</th>\n",
       "      <th>originalsecret</th>\n",
       "      <th>license</th>\n",
       "      <th>datetakenunknown</th>\n",
       "      <th>ispublic</th>\n",
       "      <th>server</th>\n",
       "      <th>url_o</th>\n",
       "      <th>title</th>\n",
       "    </tr>\n",
       "  </thead>\n",
       "  <tbody>\n",
       "    <tr>\n",
       "      <th>0</th>\n",
       "      <td>52</td>\n",
       "      <td>52</td>\n",
       "      <td>2600</td>\n",
       "      <td>jpg</td>\n",
       "      <td>2600.0</td>\n",
       "      <td>45703960@N07</td>\n",
       "      <td>28210474191</td>\n",
       "      <td>0</td>\n",
       "      <td>españa nature wow landscape spain nikon nikkor...</td>\n",
       "      <td>2016-06-14 13:40:02</td>\n",
       "      <td>...</td>\n",
       "      <td>9</td>\n",
       "      <td>1468433852</td>\n",
       "      <td>4500</td>\n",
       "      <td>6297f9be88</td>\n",
       "      <td>1</td>\n",
       "      <td>0</td>\n",
       "      <td>1</td>\n",
       "      <td>8676</td>\n",
       "      <td>https://farm9.staticflickr.com/8676/2821047419...</td>\n",
       "      <td>Picos de Europa National Park</td>\n",
       "    </tr>\n",
       "  </tbody>\n",
       "</table>\n",
       "<p>1 rows × 26 columns</p>\n",
       "</div>"
      ],
      "text/plain": [
       "   level_0  index  height_o originalformat  o_height         owner  \\\n",
       "0       52     52      2600            jpg    2600.0  45703960@N07   \n",
       "\n",
       "            id  datetakengranularity  \\\n",
       "0  28210474191                     0   \n",
       "\n",
       "                                                tags            datetaken  \\\n",
       "0  españa nature wow landscape spain nikon nikkor...  2016-06-14 13:40:02   \n",
       "\n",
       "               ...                farm  dateupload width_o  originalsecret  \\\n",
       "0              ...                   9  1468433852    4500      6297f9be88   \n",
       "\n",
       "   license  datetakenunknown  ispublic  server  \\\n",
       "0        1                 0         1    8676   \n",
       "\n",
       "                                               url_o  \\\n",
       "0  https://farm9.staticflickr.com/8676/2821047419...   \n",
       "\n",
       "                           title  \n",
       "0  Picos de Europa National Park  \n",
       "\n",
       "[1 rows x 26 columns]"
      ]
     },
     "execution_count": 85,
     "metadata": {},
     "output_type": "execute_result"
    }
   ],
   "source": [
    "short_df.head()"
   ]
  },
  {
   "cell_type": "code",
   "execution_count": 144,
   "metadata": {
    "collapsed": false
   },
   "outputs": [
    {
     "name": "stdout",
     "output_type": "stream",
     "text": [
      "Image [45703960@N07_28210474191.jpg] Not Downloaded, Photo Unavailable\n"
     ]
    }
   ],
   "source": [
    "download_pic(short_df, 0, 'h', 'TEST')"
   ]
  },
  {
   "cell_type": "code",
   "execution_count": 153,
   "metadata": {
    "collapsed": true
   },
   "outputs": [],
   "source": [
    "result = [0,1,2,3]"
   ]
  },
  {
   "cell_type": "code",
   "execution_count": 157,
   "metadata": {
    "collapsed": false
   },
   "outputs": [
    {
     "data": {
      "text/plain": [
       "[1]"
      ]
     },
     "execution_count": 157,
     "metadata": {},
     "output_type": "execute_result"
    }
   ],
   "source": [
    "[1 for res in result if res == 0]"
   ]
  },
  {
   "cell_type": "code",
   "execution_count": 155,
   "metadata": {
    "collapsed": false
   },
   "outputs": [
    {
     "data": {
      "text/plain": [
       "[[0, 1, 2, 3]]"
      ]
     },
     "execution_count": 155,
     "metadata": {},
     "output_type": "execute_result"
    }
   ],
   "source": [
    "[result]"
   ]
  },
  {
   "cell_type": "code",
   "execution_count": null,
   "metadata": {
    "collapsed": true
   },
   "outputs": [],
   "source": []
  }
 ],
 "metadata": {
  "kernelspec": {
   "display_name": "Python 2",
   "language": "python",
   "name": "python2"
  },
  "language_info": {
   "codemirror_mode": {
    "name": "ipython",
    "version": 2
   },
   "file_extension": ".py",
   "mimetype": "text/x-python",
   "name": "python",
   "nbconvert_exporter": "python",
   "pygments_lexer": "ipython2",
   "version": "2.7.12"
  }
 },
 "nbformat": 4,
 "nbformat_minor": 0
}
