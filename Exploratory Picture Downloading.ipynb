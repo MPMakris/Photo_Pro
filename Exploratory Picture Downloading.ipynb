{
 "cells": [
  {
   "cell_type": "code",
   "execution_count": 65,
   "metadata": {
    "collapsed": true
   },
   "outputs": [],
   "source": [
    "import shutil\n",
    "import requests\n",
    "from bs4 import BeautifulSoup\n",
    "import pandas as pd\n",
    "import numpy as np"
   ]
  },
  {
   "cell_type": "markdown",
   "metadata": {},
   "source": [
    "### DOWNLOAD PHOTO"
   ]
  },
  {
   "cell_type": "code",
   "execution_count": 2,
   "metadata": {
    "collapsed": true
   },
   "outputs": [],
   "source": [
    "url = 'https://c1.staticflickr.com/9/8094/8534020390_ee8b1b9e67_h.jpg'\n",
    "file_name = 'data/images/pro/test.jpg'\n",
    "r = requests.get(url, stream=True)\n",
    "with open(file_name, 'wb') as out_file:\n",
    "    shutil.copyfileobj(response.raw, out_file)\n",
    "del r"
   ]
  },
  {
   "cell_type": "markdown",
   "metadata": {},
   "source": [
    "### SEARACH PHOTOS"
   ]
  },
  {
   "cell_type": "code",
   "execution_count": 51,
   "metadata": {
    "collapsed": false
   },
   "outputs": [],
   "source": [
    "landscape_search_url = 'https://www.flickr.com/search/'\n",
    "landscape_search_kwds = {'dimension_search_mode': 'min&height=1024&width=1024',\n",
    "                         'media': 'photos',\n",
    "                         'advanced': '1',\n",
    "                         'text': 'landscape pro'}\n",
    "headers = {'user-agent': 'Mozilla/5.0'}\n",
    "r = requests.get(landscape_search_url, params=landscape_search_kwds, headers=headers)\n",
    "soup = BeautifulSoup(r.text, 'html.parser')"
   ]
  },
  {
   "cell_type": "code",
   "execution_count": 52,
   "metadata": {
    "collapsed": false
   },
   "outputs": [
    {
     "data": {
      "text/plain": [
       "[]"
      ]
     },
     "execution_count": 52,
     "metadata": {},
     "output_type": "execute_result"
    }
   ],
   "source": [
    "soup.select('div.content')"
   ]
  },
  {
   "cell_type": "code",
   "execution_count": 53,
   "metadata": {
    "collapsed": false
   },
   "outputs": [
    {
     "data": {
      "text/plain": [
       "[]"
      ]
     },
     "execution_count": 53,
     "metadata": {},
     "output_type": "execute_result"
    }
   ],
   "source": [
    "soup.find_all('div', class_='photo-list-photo-interaction')"
   ]
  },
  {
   "cell_type": "markdown",
   "metadata": {
    "collapsed": true
   },
   "source": [
    "### SEARCH PEOPLE"
   ]
  },
  {
   "cell_type": "code",
   "execution_count": 57,
   "metadata": {
    "collapsed": true
   },
   "outputs": [],
   "source": [
    "people_search_url = 'https://www.flickr.com/photos/12037949754@N01/'\n",
    "# people_search_kwds = {'username': 'pro'}\n",
    "headers = {'user-agent': 'Mozilla/5.0'}\n",
    "r = requests.get(landscape_search_url)\n",
    "soup = BeautifulSoup(r.text, 'html.parser')"
   ]
  },
  {
   "cell_type": "markdown",
   "metadata": {
    "collapsed": true
   },
   "source": [
    "### FLICKR API PHOTO SEARCH"
   ]
  },
  {
   "cell_type": "code",
   "execution_count": 10,
   "metadata": {
    "collapsed": false
   },
   "outputs": [],
   "source": [
    "keys_list = []\n",
    "keys = {}\n",
    "with open('flickr.keys') as f_open:\n",
    "    for line in f_open:\n",
    "        keys_list.append(line.strip('\\n'))"
   ]
  },
  {
   "cell_type": "code",
   "execution_count": 14,
   "metadata": {
    "collapsed": false
   },
   "outputs": [],
   "source": [
    "for key in keys_list:\n",
    "    pair = key.split(\":\")\n",
    "    keys[pair[0]] = pair[1]"
   ]
  },
  {
   "cell_type": "code",
   "execution_count": 15,
   "metadata": {
    "collapsed": false
   },
   "outputs": [
    {
     "data": {
      "text/plain": [
       "{'Key': '933b26674bf1f7a00109f2f8eda30b52', 'Secret': '1bd86a22b5ea95bf'}"
      ]
     },
     "execution_count": 15,
     "metadata": {},
     "output_type": "execute_result"
    }
   ],
   "source": [
    "keys"
   ]
  },
  {
   "cell_type": "code",
   "execution_count": 54,
   "metadata": {
    "collapsed": false
   },
   "outputs": [],
   "source": [
    "def search_flickr(search_tag_term, page_num=1):\n",
    "    search_url = 'https://api.flickr.com/services/rest/'\n",
    "    search_kwds = {'method':'flickr.photos.search',\n",
    "                   'api_key':keys['Key'],\n",
    "                   'tags':search_tag_term,\n",
    "                   'sort':'relavance',\n",
    "                   'content_type':'1',\n",
    "                   'per_page':'500',\n",
    "                   'page':page_num}\n",
    "    r = requests.get(search_url, params=search_kwds)\n",
    "    soup = BeautifulSoup(r.text, 'lxml')\n",
    "    return soup, r.status_code"
   ]
  },
  {
   "cell_type": "code",
   "execution_count": 56,
   "metadata": {
    "collapsed": false
   },
   "outputs": [
    {
     "name": "stdout",
     "output_type": "stream",
     "text": [
      "Stats: 200\n"
     ]
    }
   ],
   "source": [
    "search_tag_term = 'landscape'\n",
    "soup, status= search_flickr(search_tag_term)\n",
    "total_pages = int(soup.photos.get('pages'))\n",
    "print 'Status: {}'.format(status)"
   ]
  },
  {
   "cell_type": "code",
   "execution_count": 60,
   "metadata": {
    "collapsed": false
   },
   "outputs": [
    {
     "name": "stdout",
     "output_type": "stream",
     "text": [
      "50 Pages Complete\n",
      "100 Pages Complete\n",
      "150 Pages Complete\n",
      "200 Pages Complete\n",
      "250 Pages Complete\n",
      "300 Pages Complete\n",
      "350 Pages Complete\n",
      "400 Pages Complete\n",
      "450 Pages Complete\n",
      "500 Pages Complete\n",
      "550 Pages Complete\n",
      "600 Pages Complete\n",
      "650 Pages Complete\n",
      "700 Pages Complete\n",
      "750 Pages Complete\n",
      "800 Pages Complete\n",
      "850 Pages Complete\n",
      "900 Pages Complete\n",
      "950 Pages Complete\n"
     ]
    }
   ],
   "source": [
    "pictures = []\n",
    "for i in range(1, total_pages+1):\n",
    "    soup, status = search_flickr(search_tag_term, page_num=i)\n",
    "    if int(status) != 200:\n",
    "        print \"Error on Page {}: Status Code {}\".format(i, status)\n",
    "        print \"Print soup to determine problem.\"\n",
    "        break\n",
    "    if i == 1:\n",
    "        print \"Begining Search for '{}': {} Pages Found\".format(search_tag_term, total_pages)\n",
    "    pictures.extend(soup.findAll('photo'))\n",
    "    if i%50==0:\n",
    "        print \"{} Pages Complete\".format(i)\n",
    "    if i == total_pages:\n",
    "        print \"Search Complete\"\n",
    "        print \"-\"*30"
   ]
  },
  {
   "cell_type": "code",
   "execution_count": 61,
   "metadata": {
    "collapsed": false
   },
   "outputs": [
    {
     "data": {
      "text/plain": [
       "495965"
      ]
     },
     "execution_count": 61,
     "metadata": {},
     "output_type": "execute_result"
    }
   ],
   "source": [
    "len(pictures)"
   ]
  },
  {
   "cell_type": "code",
   "execution_count": 64,
   "metadata": {
    "collapsed": false
   },
   "outputs": [
    {
     "name": "stdout",
     "output_type": "stream",
     "text": [
      "27797327313\n"
     ]
    }
   ],
   "source": [
    "for picture in pictures[:1]:\n",
    "    print picture.get('id')"
   ]
  },
  {
   "cell_type": "code",
   "execution_count": 33,
   "metadata": {
    "collapsed": false
   },
   "outputs": [
    {
     "data": {
      "text/plain": [
       "<photo farm=\"8\" id=\"27796858203\" isfamily=\"0\" isfriend=\"0\" ispublic=\"1\" owner=\"69573851@N06\" secret=\"fa18e51459\" server=\"7513\" title=\"COLLARED FINCH-BILLED BULBUL\"></photo>"
      ]
     },
     "execution_count": 33,
     "metadata": {},
     "output_type": "execute_result"
    }
   ],
   "source": [
    "soup.findAll(\"photo\")[0]"
   ]
  },
  {
   "cell_type": "code",
   "execution_count": 5,
   "metadata": {
    "collapsed": false
   },
   "outputs": [
    {
     "ename": "NameError",
     "evalue": "name 'farm_id' is not defined",
     "output_type": "error",
     "traceback": [
      "\u001b[0;31m---------------------------------------------------------------------------\u001b[0m",
      "\u001b[0;31mNameError\u001b[0m                                 Traceback (most recent call last)",
      "\u001b[0;32m<ipython-input-5-76f958c14cb2>\u001b[0m in \u001b[0;36m<module>\u001b[0;34m()\u001b[0m\n\u001b[1;32m      1\u001b[0m \u001b[0murl\u001b[0m \u001b[0;34m=\u001b[0m \u001b[0;34m'https://farm{farm_id}.staticflickr.com/{server_id}/{ID}_{secret}_{mstzb}.jpg'\u001b[0m\u001b[0;34m\u001b[0m\u001b[0m\n\u001b[0;32m----> 2\u001b[0;31m \u001b[0murl_full\u001b[0m \u001b[0;34m=\u001b[0m \u001b[0murl\u001b[0m\u001b[0;34m.\u001b[0m\u001b[0mformat\u001b[0m\u001b[0;34m(\u001b[0m\u001b[0mfarm_id\u001b[0m\u001b[0;34m=\u001b[0m\u001b[0mfarm_id\u001b[0m\u001b[0;34m,\u001b[0m \u001b[0mserver_id\u001b[0m\u001b[0;34m=\u001b[0m\u001b[0mserver_id\u001b[0m\u001b[0;34m,\u001b[0m \u001b[0mID\u001b[0m\u001b[0;34m=\u001b[0m\u001b[0mID\u001b[0m\u001b[0;34m,\u001b[0m \u001b[0msecret\u001b[0m\u001b[0;34m=\u001b[0m\u001b[0msecret\u001b[0m\u001b[0;34m,\u001b[0m \u001b[0mmstzb\u001b[0m\u001b[0;34m=\u001b[0m\u001b[0mmstzb\u001b[0m\u001b[0;34m)\u001b[0m\u001b[0;34m\u001b[0m\u001b[0m\n\u001b[0m",
      "\u001b[0;31mNameError\u001b[0m: name 'farm_id' is not defined"
     ]
    }
   ],
   "source": [
    "url = 'https://farm{farm_id}.staticflickr.com/{server_id}/{ID}_{secret}_{mstzb}.jpg'\n",
    "url_full = url.format(farm_id=farm_id, server_id=server_id, ID=ID, secret=secret, mstzb=mstzb)"
   ]
  },
  {
   "cell_type": "code",
   "execution_count": null,
   "metadata": {
    "collapsed": true
   },
   "outputs": [],
   "source": []
  }
 ],
 "metadata": {
  "kernelspec": {
   "display_name": "Python 2",
   "language": "python",
   "name": "python2"
  },
  "language_info": {
   "codemirror_mode": {
    "name": "ipython",
    "version": 2
   },
   "file_extension": ".py",
   "mimetype": "text/x-python",
   "name": "python",
   "nbconvert_exporter": "python",
   "pygments_lexer": "ipython2",
   "version": "2.7.11"
  }
 },
 "nbformat": 4,
 "nbformat_minor": 0
}
