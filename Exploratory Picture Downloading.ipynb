{
 "cells": [
  {
   "cell_type": "code",
   "execution_count": 65,
   "metadata": {
    "collapsed": true
   },
   "outputs": [],
   "source": [
    "import shutil\n",
    "import requests\n",
    "from bs4 import BeautifulSoup\n",
    "import pandas as pd\n",
    "import numpy as np"
   ]
  },
  {
   "cell_type": "code",
   "execution_count": 88,
   "metadata": {
    "collapsed": true
   },
   "outputs": [],
   "source": [
    "from IPython.core.display import clear_output"
   ]
  },
  {
   "cell_type": "markdown",
   "metadata": {},
   "source": [
    "### DOWNLOAD PHOTO"
   ]
  },
  {
   "cell_type": "code",
   "execution_count": 2,
   "metadata": {
    "collapsed": true
   },
   "outputs": [],
   "source": [
    "url = 'https://c1.staticflickr.com/9/8094/8534020390_ee8b1b9e67_h.jpg'\n",
    "file_name = 'data/images/pro/test.jpg'\n",
    "r = requests.get(url, stream=True)\n",
    "with open(file_name, 'wb') as out_file:\n",
    "    shutil.copyfileobj(response.raw, out_file)\n",
    "del r"
   ]
  },
  {
   "cell_type": "markdown",
   "metadata": {},
   "source": [
    "### SEARACH PHOTOS"
   ]
  },
  {
   "cell_type": "code",
   "execution_count": 51,
   "metadata": {
    "collapsed": false
   },
   "outputs": [],
   "source": [
    "landscape_search_url = 'https://www.flickr.com/search/'\n",
    "landscape_search_kwds = {'dimension_search_mode': 'min&height=1024&width=1024',\n",
    "                         'media': 'photos',\n",
    "                         'advanced': '1',\n",
    "                         'text': 'landscape pro'}\n",
    "headers = {'user-agent': 'Mozilla/5.0'}\n",
    "r = requests.get(landscape_search_url, params=landscape_search_kwds, headers=headers)\n",
    "soup = BeautifulSoup(r.text, 'html.parser')"
   ]
  },
  {
   "cell_type": "code",
   "execution_count": 52,
   "metadata": {
    "collapsed": false
   },
   "outputs": [
    {
     "data": {
      "text/plain": [
       "[]"
      ]
     },
     "execution_count": 52,
     "metadata": {},
     "output_type": "execute_result"
    }
   ],
   "source": [
    "soup.select('div.content')"
   ]
  },
  {
   "cell_type": "code",
   "execution_count": 53,
   "metadata": {
    "collapsed": false
   },
   "outputs": [
    {
     "data": {
      "text/plain": [
       "[]"
      ]
     },
     "execution_count": 53,
     "metadata": {},
     "output_type": "execute_result"
    }
   ],
   "source": [
    "soup.find_all('div', class_='photo-list-photo-interaction')"
   ]
  },
  {
   "cell_type": "markdown",
   "metadata": {
    "collapsed": true
   },
   "source": [
    "### SEARCH PEOPLE"
   ]
  },
  {
   "cell_type": "code",
   "execution_count": 57,
   "metadata": {
    "collapsed": true
   },
   "outputs": [],
   "source": [
    "people_search_url = 'https://www.flickr.com/photos/12037949754@N01/'\n",
    "# people_search_kwds = {'username': 'pro'}\n",
    "headers = {'user-agent': 'Mozilla/5.0'}\n",
    "r = requests.get(landscape_search_url)\n",
    "soup = BeautifulSoup(r.text, 'html.parser')"
   ]
  },
  {
   "cell_type": "markdown",
   "metadata": {
    "collapsed": true
   },
   "source": [
    "### FLICKR API PHOTO SEARCH"
   ]
  },
  {
   "cell_type": "code",
   "execution_count": 10,
   "metadata": {
    "collapsed": false
   },
   "outputs": [],
   "source": [
    "keys_list = []\n",
    "keys = {}\n",
    "with open('flickr.keys') as f_open:\n",
    "    for line in f_open:\n",
    "        keys_list.append(line.strip('\\n'))"
   ]
  },
  {
   "cell_type": "code",
   "execution_count": 14,
   "metadata": {
    "collapsed": false
   },
   "outputs": [],
   "source": [
    "for key in keys_list:\n",
    "    pair = key.split(\":\")\n",
    "    keys[pair[0]] = pair[1]"
   ]
  },
  {
   "cell_type": "code",
   "execution_count": 15,
   "metadata": {
    "collapsed": false
   },
   "outputs": [
    {
     "data": {
      "text/plain": [
       "{'Key': '933b26674bf1f7a00109f2f8eda30b52', 'Secret': '1bd86a22b5ea95bf'}"
      ]
     },
     "execution_count": 15,
     "metadata": {},
     "output_type": "execute_result"
    }
   ],
   "source": [
    "keys"
   ]
  },
  {
   "cell_type": "code",
   "execution_count": 127,
   "metadata": {
    "collapsed": false
   },
   "outputs": [],
   "source": [
    "def search_flickr(search_tag_term, page_num=1):\n",
    "    search_url = 'https://api.flickr.com/services/rest/'\n",
    "    search_kwds = {'method':'flickr.photos.search',\n",
    "                   'api_key':keys['Key'],\n",
    "                   'tags':search_tag_term,\n",
    "                   'sort':'relavance',\n",
    "                   'content_type':'1',\n",
    "                   'per_page':'500',\n",
    "                   'page':page_num,\n",
    "                   'extras': 'license, date_upload, date_taken, owner_name, original_format, last_update, geo, tags, machine_tags, o_dims, views, media, path_alias, url_o'\n",
    "                  }\n",
    "    r = requests.get(search_url, params=search_kwds)\n",
    "    soup = BeautifulSoup(r.text, 'lxml')\n",
    "    return soup, r.status_code"
   ]
  },
  {
   "cell_type": "code",
   "execution_count": 128,
   "metadata": {
    "collapsed": false
   },
   "outputs": [
    {
     "name": "stdout",
     "output_type": "stream",
     "text": [
      "Status: 200\n"
     ]
    }
   ],
   "source": [
    "search_tag_term = 'landscape'\n",
    "soup, status= search_flickr(search_tag_term)\n",
    "total_pages = int(soup.photos.get('pages'))\n",
    "print 'Status: {}'.format(status)"
   ]
  },
  {
   "cell_type": "code",
   "execution_count": null,
   "metadata": {
    "collapsed": false
   },
   "outputs": [
    {
     "name": "stdout",
     "output_type": "stream",
     "text": [
      "Begining Search for 'landscape': 980 Pages Found\n"
     ]
    }
   ],
   "source": [
    "picture_soup_data = []\n",
    "for i in range(1, total_pages+1):\n",
    "    soup, status = search_flickr(search_tag_term, page_num=i)\n",
    "    if int(status) != 200:\n",
    "        print \"Error on Page {}: Status Code {}\".format(i, status)\n",
    "        print \"Print soup to determine problem.\"\n",
    "        break\n",
    "    if i == 1:\n",
    "        print \"Begining Search for '{}': {} Pages Found\".format(search_tag_term, total_pages)\n",
    "    picture_soup_data.extend(soup.findAll('photo'))\n",
    "    if i%50==0:\n",
    "        print \"{} Pages Complete\".format(i)\n",
    "    if i == total_pages:\n",
    "        print \"Search Complete\"\n",
    "        print \"-\"*30"
   ]
  },
  {
   "cell_type": "code",
   "execution_count": null,
   "metadata": {
    "collapsed": false
   },
   "outputs": [],
   "source": [
    "len(picture_soup_data)"
   ]
  },
  {
   "cell_type": "code",
   "execution_count": 107,
   "metadata": {
    "collapsed": true
   },
   "outputs": [],
   "source": [
    "columns = ['id', 'title', 'owner', 'secret', 'farm', 'server', 'ispublic']\n",
    "int_columns = ['id', 'farm', 'server', 'ispublic']"
   ]
  },
  {
   "cell_type": "code",
   "execution_count": 112,
   "metadata": {
    "collapsed": false
   },
   "outputs": [
    {
     "name": "stdout",
     "output_type": "stream",
     "text": [
      "0.0  percent complete\n",
      "10.0813565473  percent complete\n",
      "20.1627130947  percent complete\n",
      "30.244069642  percent complete\n",
      "40.3254261893  percent complete\n",
      "50.4067827367  percent complete\n",
      "60.488139284  percent complete\n",
      "70.5694958314  percent complete\n",
      "80.6508523787  percent complete\n",
      "90.732208926  percent complete\n"
     ]
    }
   ],
   "source": [
    "picture_data = []\n",
    "for i, picture in enumerate(pictures):\n",
    "    picture_data.append([int(picture.get(name)) if name in int_columns else picture.get(name) for name in columns])\n",
    "    if i%50000==0:\n",
    "        print float(i)/len(pictures)*100,\" percent complete\""
   ]
  },
  {
   "cell_type": "code",
   "execution_count": 114,
   "metadata": {
    "collapsed": false
   },
   "outputs": [],
   "source": [
    "df = pd.DataFrame(data=picture_data, columns=columns)"
   ]
  },
  {
   "cell_type": "code",
   "execution_count": 117,
   "metadata": {
    "collapsed": false
   },
   "outputs": [
    {
     "name": "stdout",
     "output_type": "stream",
     "text": [
      "<class 'pandas.core.frame.DataFrame'>\n",
      "RangeIndex: 495965 entries, 0 to 495964\n",
      "Data columns (total 7 columns):\n",
      "id          495965 non-null int64\n",
      "title       495965 non-null object\n",
      "owner       495965 non-null object\n",
      "secret      495965 non-null object\n",
      "farm        495965 non-null int64\n",
      "server      495965 non-null int64\n",
      "ispublic    495965 non-null int64\n",
      "dtypes: int64(4), object(3)\n",
      "memory usage: 26.5+ MB\n"
     ]
    }
   ],
   "source": [
    "df.info()"
   ]
  },
  {
   "cell_type": "code",
   "execution_count": 118,
   "metadata": {
    "collapsed": false
   },
   "outputs": [
    {
     "data": {
      "text/html": [
       "<div>\n",
       "<table border=\"1\" class=\"dataframe\">\n",
       "  <thead>\n",
       "    <tr style=\"text-align: right;\">\n",
       "      <th></th>\n",
       "      <th>id</th>\n",
       "      <th>title</th>\n",
       "      <th>owner</th>\n",
       "      <th>secret</th>\n",
       "      <th>farm</th>\n",
       "      <th>server</th>\n",
       "      <th>ispublic</th>\n",
       "    </tr>\n",
       "  </thead>\n",
       "  <tbody>\n",
       "    <tr>\n",
       "      <th>0</th>\n",
       "      <td>27797327313</td>\n",
       "      <td>Mr. Tanaka｜田中先生</td>\n",
       "      <td>67186028@N06</td>\n",
       "      <td>677ebd93b4</td>\n",
       "      <td>9</td>\n",
       "      <td>8700</td>\n",
       "      <td>1</td>\n",
       "    </tr>\n",
       "    <tr>\n",
       "      <th>1</th>\n",
       "      <td>27774358924</td>\n",
       "      <td>The Church on the Hill</td>\n",
       "      <td>16946718@N05</td>\n",
       "      <td>eed93a7b61</td>\n",
       "      <td>9</td>\n",
       "      <td>8769</td>\n",
       "      <td>1</td>\n",
       "    </tr>\n",
       "    <tr>\n",
       "      <th>2</th>\n",
       "      <td>27796175404</td>\n",
       "      <td>N160718_022.jpg</td>\n",
       "      <td>61301115@N03</td>\n",
       "      <td>ba41305f68</td>\n",
       "      <td>9</td>\n",
       "      <td>8273</td>\n",
       "      <td>1</td>\n",
       "    </tr>\n",
       "    <tr>\n",
       "      <th>3</th>\n",
       "      <td>28130293950</td>\n",
       "      <td>DP2M0766_edited-1.jpg</td>\n",
       "      <td>142536946@N03</td>\n",
       "      <td>12e891a9bf</td>\n",
       "      <td>8</td>\n",
       "      <td>7622</td>\n",
       "      <td>1</td>\n",
       "    </tr>\n",
       "    <tr>\n",
       "      <th>4</th>\n",
       "      <td>27797281933</td>\n",
       "      <td>kale</td>\n",
       "      <td>145189424@N02</td>\n",
       "      <td>d1189a576b</td>\n",
       "      <td>8</td>\n",
       "      <td>7470</td>\n",
       "      <td>1</td>\n",
       "    </tr>\n",
       "  </tbody>\n",
       "</table>\n",
       "</div>"
      ],
      "text/plain": [
       "            id                   title          owner      secret  farm  \\\n",
       "0  27797327313         Mr. Tanaka｜田中先生   67186028@N06  677ebd93b4     9   \n",
       "1  27774358924  The Church on the Hill   16946718@N05  eed93a7b61     9   \n",
       "2  27796175404         N160718_022.jpg   61301115@N03  ba41305f68     9   \n",
       "3  28130293950   DP2M0766_edited-1.jpg  142536946@N03  12e891a9bf     8   \n",
       "4  27797281933                    kale  145189424@N02  d1189a576b     8   \n",
       "\n",
       "   server  ispublic  \n",
       "0    8700         1  \n",
       "1    8769         1  \n",
       "2    8273         1  \n",
       "3    7622         1  \n",
       "4    7470         1  "
      ]
     },
     "execution_count": 118,
     "metadata": {},
     "output_type": "execute_result"
    }
   ],
   "source": [
    "df.head()"
   ]
  },
  {
   "cell_type": "code",
   "execution_count": null,
   "metadata": {
    "collapsed": true
   },
   "outputs": [],
   "source": []
  },
  {
   "cell_type": "code",
   "execution_count": 5,
   "metadata": {
    "collapsed": false
   },
   "outputs": [
    {
     "ename": "NameError",
     "evalue": "name 'farm_id' is not defined",
     "output_type": "error",
     "traceback": [
      "\u001b[0;31m---------------------------------------------------------------------------\u001b[0m",
      "\u001b[0;31mNameError\u001b[0m                                 Traceback (most recent call last)",
      "\u001b[0;32m<ipython-input-5-76f958c14cb2>\u001b[0m in \u001b[0;36m<module>\u001b[0;34m()\u001b[0m\n\u001b[1;32m      1\u001b[0m \u001b[0murl\u001b[0m \u001b[0;34m=\u001b[0m \u001b[0;34m'https://farm{farm_id}.staticflickr.com/{server_id}/{ID}_{secret}_{mstzb}.jpg'\u001b[0m\u001b[0;34m\u001b[0m\u001b[0m\n\u001b[0;32m----> 2\u001b[0;31m \u001b[0murl_full\u001b[0m \u001b[0;34m=\u001b[0m \u001b[0murl\u001b[0m\u001b[0;34m.\u001b[0m\u001b[0mformat\u001b[0m\u001b[0;34m(\u001b[0m\u001b[0mfarm_id\u001b[0m\u001b[0;34m=\u001b[0m\u001b[0mfarm_id\u001b[0m\u001b[0;34m,\u001b[0m \u001b[0mserver_id\u001b[0m\u001b[0;34m=\u001b[0m\u001b[0mserver_id\u001b[0m\u001b[0;34m,\u001b[0m \u001b[0mID\u001b[0m\u001b[0;34m=\u001b[0m\u001b[0mID\u001b[0m\u001b[0;34m,\u001b[0m \u001b[0msecret\u001b[0m\u001b[0;34m=\u001b[0m\u001b[0msecret\u001b[0m\u001b[0;34m,\u001b[0m \u001b[0mmstzb\u001b[0m\u001b[0;34m=\u001b[0m\u001b[0mmstzb\u001b[0m\u001b[0;34m)\u001b[0m\u001b[0;34m\u001b[0m\u001b[0m\n\u001b[0m",
      "\u001b[0;31mNameError\u001b[0m: name 'farm_id' is not defined"
     ]
    }
   ],
   "source": [
    "url = 'https://farm{farm_id}.staticflickr.com/{server_id}/{ID}_{secret}_{mstzb}.jpg'\n",
    "url_full = url.format(farm_id=farm_id, server_id=server_id, ID=ID, secret=secret, mstzb=mstzb)"
   ]
  },
  {
   "cell_type": "code",
   "execution_count": null,
   "metadata": {
    "collapsed": true
   },
   "outputs": [],
   "source": []
  }
 ],
 "metadata": {
  "kernelspec": {
   "display_name": "Python 2",
   "language": "python",
   "name": "python2"
  },
  "language_info": {
   "codemirror_mode": {
    "name": "ipython",
    "version": 2
   },
   "file_extension": ".py",
   "mimetype": "text/x-python",
   "name": "python",
   "nbconvert_exporter": "python",
   "pygments_lexer": "ipython2",
   "version": "2.7.11"
  }
 },
 "nbformat": 4,
 "nbformat_minor": 0
}
