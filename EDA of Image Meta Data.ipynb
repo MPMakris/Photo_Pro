{
 "cells": [
  {
   "cell_type": "code",
   "execution_count": 10,
   "metadata": {
    "collapsed": true
   },
   "outputs": [],
   "source": [
    "import pandas as pd\n",
    "import numpy as np\n",
    "import matplotlib.pyplot as plt\n",
    "%matplotlib inline"
   ]
  },
  {
   "cell_type": "code",
   "execution_count": 15,
   "metadata": {
    "collapsed": false
   },
   "outputs": [],
   "source": [
    "df = pd.read_csv('data/tables/flickr_image_search_for_LANDSCAPE_100.csv')"
   ]
  },
  {
   "cell_type": "code",
   "execution_count": 16,
   "metadata": {
    "collapsed": false
   },
   "outputs": [
    {
     "name": "stdout",
     "output_type": "stream",
     "text": [
      "<class 'pandas.core.frame.DataFrame'>\n",
      "Int64Index: 49999 entries, 0 to 49998\n",
      "Data columns (total 24 columns):\n",
      "geo_is_public     48566 non-null float64\n",
      "place_id          48561 non-null object\n",
      "owner             49999 non-null object\n",
      "id                49999 non-null int64\n",
      "title             49892 non-null object\n",
      "woeid             48561 non-null float64\n",
      "views             49999 non-null int64\n",
      "geo_is_friend     48566 non-null float64\n",
      "geo_is_contact    48566 non-null float64\n",
      "farm              49999 non-null int64\n",
      "secret            49999 non-null object\n",
      "ownername         49999 non-null object\n",
      "latitude          49999 non-null float64\n",
      "accuracy          49999 non-null int64\n",
      "isfamily          49999 non-null int64\n",
      "machine_tags      2110 non-null object\n",
      "tags              49999 non-null object\n",
      "isfriend          49999 non-null int64\n",
      "geo_is_family     48566 non-null float64\n",
      "license           49999 non-null int64\n",
      "ispublic          49999 non-null int64\n",
      "longitude         49999 non-null float64\n",
      "server            49999 non-null int64\n",
      "context           49999 non-null int64\n",
      "dtypes: float64(7), int64(10), object(7)\n",
      "memory usage: 9.5+ MB\n"
     ]
    }
   ],
   "source": [
    "df.info()"
   ]
  },
  {
   "cell_type": "code",
   "execution_count": 17,
   "metadata": {
    "collapsed": false
   },
   "outputs": [
    {
     "data": {
      "text/plain": [
       "array([[<matplotlib.axes._subplots.AxesSubplot object at 0x11f32a250>]], dtype=object)"
      ]
     },
     "execution_count": 17,
     "metadata": {},
     "output_type": "execute_result"
    },
    {
     "data": {
      "image/png": "[encoded data removed]",
      "text/plain": [
       "<matplotlib.figure.Figure at 0x11955fb90>"
      ]
     },
     "metadata": {},
     "output_type": "display_data"
    }
   ],
   "source": [
    "df.hist('views', bins=20)"
   ]
  },
  {
   "cell_type": "code",
   "execution_count": 19,
   "metadata": {
    "collapsed": false
   },
   "outputs": [
    {
     "data": {
      "text/plain": [
       "2128"
      ]
     },
     "execution_count": 19,
     "metadata": {},
     "output_type": "execute_result"
    }
   ],
   "source": [
    "df['views'].min()"
   ]
  },
  {
   "cell_type": "code",
   "execution_count": null,
   "metadata": {
    "collapsed": true
   },
   "outputs": [],
   "source": []
  }
 ],
 "metadata": {
  "kernelspec": {
   "display_name": "Python 2",
   "language": "python",
   "name": "python2"
  },
  "language_info": {
   "codemirror_mode": {
    "name": "ipython",
    "version": 2
   },
   "file_extension": ".py",
   "mimetype": "text/x-python",
   "name": "python",
   "nbconvert_exporter": "python",
   "pygments_lexer": "ipython2",
   "version": "2.7.11"
  }
 },
 "nbformat": 4,
 "nbformat_minor": 0
}
